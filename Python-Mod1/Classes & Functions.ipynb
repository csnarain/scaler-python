{
 "cells": [
  {
   "cell_type": "code",
   "id": "initial_id",
   "metadata": {
    "collapsed": true,
    "ExecuteTime": {
     "end_time": "2024-04-05T05:35:48.025382Z",
     "start_time": "2024-04-05T05:35:48.000887Z"
    }
   },
   "source": [
    "class MyClass:\n",
    "    language = 'Python'\n",
    "    version = '3.6'\n",
    "\n",
    "    def display(self, name):\n",
    "        print(f\"Hello {name}, welcome to {self.language} {self.version} world!\")"
   ],
   "outputs": [],
   "execution_count": 3
  },
  {
   "cell_type": "code",
   "source": [
    "p = MyClass()"
   ],
   "metadata": {
    "collapsed": false,
    "ExecuteTime": {
     "end_time": "2024-04-05T05:35:54.655912Z",
     "start_time": "2024-04-05T05:35:54.632164Z"
    }
   },
   "id": "1c150ea915e48b71",
   "outputs": [],
   "execution_count": 4
  },
  {
   "cell_type": "code",
   "outputs": [],
   "source": [
    "p.__dict__"
   ],
   "metadata": {
    "collapsed": false
   },
   "id": "3a75b73acaa69ddf",
   "execution_count": null
  },
  {
   "cell_type": "code",
   "outputs": [],
   "source": [
    "MyClass.__dict__"
   ],
   "metadata": {
    "collapsed": false
   },
   "id": "50f3742d4a4aa98f",
   "execution_count": null
  },
  {
   "cell_type": "code",
   "outputs": [],
   "source": [
    "a = 'l'"
   ],
   "metadata": {
    "collapsed": false
   },
   "id": "4c4844e2b9bd7ffb",
   "execution_count": null
  },
  {
   "cell_type": "code",
   "outputs": [],
   "source": [
    "MyClass.display(p, 'laks')"
   ],
   "metadata": {
    "collapsed": false
   },
   "id": "fb4e5e162540de8f",
   "execution_count": null
  },
  {
   "cell_type": "code",
   "outputs": [],
   "source": [
    "type(MyClass.display)"
   ],
   "metadata": {
    "collapsed": false
   },
   "id": "932562f10b4312a7",
   "execution_count": null
  },
  {
   "cell_type": "code",
   "outputs": [],
   "source": [
    "hex(id(p))"
   ],
   "metadata": {
    "collapsed": false
   },
   "id": "f9a71bb3ec477ab5",
   "execution_count": null
  },
  {
   "cell_type": "code",
   "outputs": [],
   "source": [
    "p.display"
   ],
   "metadata": {
    "collapsed": false
   },
   "id": "cf08f7becaa49f46",
   "execution_count": null
  },
  {
   "cell_type": "code",
   "outputs": [],
   "source": [
    "type(p.display)"
   ],
   "metadata": {
    "collapsed": false
   },
   "id": "9ea216a5d84266e7",
   "execution_count": null
  },
  {
   "cell_type": "code",
   "outputs": [],
   "source": [
    "type(MyClass.display)"
   ],
   "metadata": {
    "collapsed": false
   },
   "id": "1802799078a29e4b",
   "execution_count": null
  },
  {
   "cell_type": "code",
   "outputs": [],
   "source": [
    "amount = 0\n",
    "units = 150\n",
    "count = 0"
   ],
   "metadata": {
    "collapsed": false
   },
   "id": "a97a174df7e7dd9e",
   "execution_count": null
  },
  {
   "cell_type": "code",
   "outputs": [],
   "source": [
    "charges"
   ],
   "metadata": {
    "collapsed": false
   },
   "id": "298ee22a5727fe42",
   "execution_count": null
  },
  {
   "cell_type": "code",
   "outputs": [],
   "source": [
    "if units >= 200:\n",
    "    amount = 100 * 3.5 + 100 * 5 + (units - 200) * 8 + 150\n",
    "elif units >= 100:\n",
    "    amount = 100 * 3.5 + (units - 100) * 5 + 150\n",
    "else:\n",
    "    amount = units * 3.5 + 150"
   ],
   "metadata": {
    "collapsed": false
   },
   "id": "95c379caa106dc53",
   "execution_count": null
  },
  {
   "cell_type": "code",
   "outputs": [],
   "source": [
    "amount"
   ],
   "metadata": {
    "collapsed": false
   },
   "id": "fd75c35c64e051e",
   "execution_count": null
  },
  {
   "cell_type": "code",
   "outputs": [],
   "source": [
    "class A:\n",
    "    def one(self):\n",
    "        return self.two()\n",
    "\n",
    "    def two(self):\n",
    "        return 'A'\n",
    "\n",
    "\n",
    "class B(A):\n",
    "    def two(self):\n",
    "        return 'B'\n",
    "\n",
    "\n",
    "obj = B()\n",
    "print(obj.one())"
   ],
   "metadata": {
    "collapsed": false
   },
   "id": "8f271333d2b09965",
   "execution_count": null
  },
  {
   "cell_type": "code",
   "outputs": [],
   "source": [
    "class A:\n",
    "    def __init__(self, name, sound=\"Grrrr\"):\n",
    "        self.name = name\n",
    "        self.sound = sound\n",
    "\n",
    "    def make_noise(self):\n",
    "        print(\"{} says, {}\".format(self.name, self.sound))\n",
    "\n",
    "\n",
    "class B(A):\n",
    "    def __init__(self, name=\"Rachel\"):\n",
    "        super().__init__(name, \"Meow!\")\n",
    "\n",
    "    def make_noise(self, sound=\"Grrrr!\"):\n",
    "        print(\"{} says, {}\".format(self.name, sound))\n",
    "\n",
    "\n",
    "pet_cat = B()\n",
    "pet_cat.make_noise()"
   ],
   "metadata": {
    "collapsed": false
   },
   "id": "4e12f17e29a629f",
   "execution_count": null
  },
  {
   "cell_type": "code",
   "outputs": [],
   "source": [
    "class A:\n",
    "\n",
    "    def __init__(self, x, y):\n",
    "        self.x = x\n",
    "        self.y = y\n",
    "\n",
    "    def __str__(self):\n",
    "        return 1\n",
    "\n",
    "    def __eq__(self, other):\n",
    "        return self.x * self.y == other.x * other.y\n",
    "\n",
    "\n",
    "obj1 = A(9, 8)\n",
    "obj2 = A(8, 9)\n",
    "print(obj1 == obj2)"
   ],
   "metadata": {
    "collapsed": false
   },
   "id": "30f3d9a86ffbd988",
   "execution_count": null
  },
  {
   "cell_type": "code",
   "outputs": [],
   "source": [
    "class Person:\n",
    "    def __init__(self, name):\n",
    "        self.name = name\n",
    "        print(f'Person with {self} called')\n",
    "\n",
    "    def say_hello2(self):\n",
    "        print(\"hello2\")"
   ],
   "metadata": {
    "collapsed": false
   },
   "id": "9df74d7f92232ef0",
   "execution_count": null
  },
  {
   "cell_type": "code",
   "outputs": [],
   "source": [
    "p1 = Person('laks')"
   ],
   "metadata": {
    "collapsed": false
   },
   "id": "694c2befcc28510f",
   "execution_count": null
  },
  {
   "cell_type": "code",
   "outputs": [],
   "source": [
    "p1.__dict__"
   ],
   "metadata": {
    "collapsed": false
   },
   "id": "95ac4b9044264193",
   "execution_count": null
  },
  {
   "cell_type": "code",
   "outputs": [],
   "source": [
    "Person.__dict__"
   ],
   "metadata": {
    "collapsed": false
   },
   "id": "7ba06e1d66fac60c",
   "execution_count": null
  },
  {
   "cell_type": "code",
   "outputs": [],
   "source": [
    "p1.section = '9th'"
   ],
   "metadata": {
    "collapsed": false
   },
   "id": "5c3eb671f6f02c9b",
   "execution_count": null
  },
  {
   "cell_type": "code",
   "outputs": [],
   "source": [
    "p1.__dict__"
   ],
   "metadata": {
    "collapsed": false
   },
   "id": "b930b151995d7857",
   "execution_count": null
  },
  {
   "cell_type": "code",
   "outputs": [],
   "source": [
    "s = lambda: self"
   ],
   "metadata": {
    "collapsed": false
   },
   "id": "2ae6740a875590e1",
   "execution_count": null
  },
  {
   "cell_type": "code",
   "outputs": [],
   "source": [
    "p1.say_hello = s"
   ],
   "metadata": {
    "collapsed": false
   },
   "id": "7a4af05bf0d0ae66",
   "execution_count": null
  },
  {
   "cell_type": "code",
   "outputs": [],
   "source": [
    "p1.__dict__"
   ],
   "metadata": {
    "collapsed": false
   },
   "id": "881c9d7bf8ca4209",
   "execution_count": null
  },
  {
   "cell_type": "code",
   "outputs": [],
   "source": [
    "type(p1.say_hello)"
   ],
   "metadata": {
    "collapsed": false
   },
   "id": "5029a9213705f946",
   "execution_count": null
  },
  {
   "cell_type": "code",
   "outputs": [],
   "source": [
    "p1.say_hello()"
   ],
   "metadata": {
    "collapsed": false
   },
   "id": "e8a0ce886b358b5a",
   "execution_count": null
  },
  {
   "cell_type": "code",
   "outputs": [],
   "source": [
    "class Student:\n",
    "    section: 'A'"
   ],
   "metadata": {
    "collapsed": false
   },
   "id": "8875fae12824369b",
   "execution_count": null
  },
  {
   "cell_type": "code",
   "outputs": [],
   "source": [
    "s1 = Student()"
   ],
   "metadata": {
    "collapsed": false
   },
   "id": "9bb178d087ffc9ac",
   "execution_count": null
  },
  {
   "cell_type": "code",
   "outputs": [],
   "source": [
    "from types import MethodType"
   ],
   "metadata": {
    "collapsed": false
   },
   "id": "caba69e91da956a9",
   "execution_count": null
  },
  {
   "cell_type": "code",
   "outputs": [],
   "source": [
    "s1.say_hello = MethodType(lambda self: print('hello'), s1)"
   ],
   "metadata": {
    "collapsed": false
   },
   "id": "dfd0bae43f1e2d86",
   "execution_count": null
  },
  {
   "cell_type": "code",
   "outputs": [],
   "source": [
    "s1.say_hello2 = lambda: {'hello2'}"
   ],
   "metadata": {
    "collapsed": false
   },
   "id": "6ccbd2b7d73d65c4",
   "execution_count": null
  },
  {
   "cell_type": "code",
   "outputs": [],
   "source": [
    "s1.say_hello = MethodType(s1.say_hello2, s1)"
   ],
   "metadata": {
    "collapsed": false
   },
   "id": "c9f2440682197e9a",
   "execution_count": null
  },
  {
   "cell_type": "code",
   "outputs": [],
   "source": [
    "s1.say_hello2()"
   ],
   "metadata": {
    "collapsed": false
   },
   "id": "9a7d67a905aa6b3e",
   "execution_count": null
  },
  {
   "cell_type": "code",
   "outputs": [],
   "source": [
    "getattr(s1, 'say_hello')"
   ],
   "metadata": {
    "collapsed": false
   },
   "id": "be0a0a86f8ac1575",
   "execution_count": null
  },
  {
   "cell_type": "code",
   "outputs": [],
   "source": [
    "def say_hello(self):\n",
    "    return f'{self.name} says hello'"
   ],
   "metadata": {
    "collapsed": false
   },
   "id": "516df218ec52798b",
   "execution_count": null
  },
  {
   "cell_type": "code",
   "outputs": [],
   "source": [
    "s1.name = 'laks'"
   ],
   "metadata": {
    "collapsed": false
   },
   "id": "af88ffa1d25af5d4",
   "execution_count": null
  },
  {
   "cell_type": "code",
   "outputs": [],
   "source": [
    "s1.say_hello = MethodType(say_hello, s1)"
   ],
   "metadata": {
    "collapsed": false
   },
   "id": "8b30caebe1ac9055",
   "execution_count": null
  },
  {
   "cell_type": "code",
   "outputs": [],
   "source": [
    "getattr(s1, 'say_hello')()"
   ],
   "metadata": {
    "collapsed": false
   },
   "id": "d872617ecb7be44e",
   "execution_count": null
  },
  {
   "cell_type": "code",
   "outputs": [],
   "source": [
    "s1.say_hello()"
   ],
   "metadata": {
    "collapsed": false
   },
   "id": "13d66a450bcbe5bd",
   "execution_count": null
  },
  {
   "cell_type": "code",
   "outputs": [],
   "source": [
    "class A:\n",
    "    def __init__(self):\n",
    "        pass\n",
    "\n",
    "    def marks(self):\n",
    "        return \"marks\"\n",
    "\n",
    "    def __add__(self, other):\n",
    "        return \"hello\""
   ],
   "metadata": {
    "collapsed": false
   },
   "id": "9362c6f049613295",
   "execution_count": null
  },
  {
   "cell_type": "code",
   "outputs": [],
   "source": [
    "class B:\n",
    "    def __init__(self):\n",
    "        pass\n",
    "\n",
    "    def marks(self):\n",
    "        return \"marks\"\n",
    "\n",
    "    def __add__(self, other):\n",
    "        return \"world\""
   ],
   "metadata": {
    "collapsed": false
   },
   "id": "2e10433969c8ea61",
   "execution_count": null
  },
  {
   "cell_type": "code",
   "outputs": [],
   "source": [
    "p3 = A()\n",
    "p4 = B()"
   ],
   "metadata": {
    "collapsed": false
   },
   "id": "6260a5cc6bc066b3",
   "execution_count": null
  },
  {
   "cell_type": "code",
   "outputs": [],
   "source": [
    "p3 + p4"
   ],
   "metadata": {
    "collapsed": false
   },
   "id": "d1a77a24fc7922fe",
   "execution_count": null
  },
  {
   "cell_type": "code",
   "outputs": [],
   "source": [
    "x = [1, 2, 3]\n",
    "y = x"
   ],
   "metadata": {
    "collapsed": false
   },
   "id": "6ae84f93dcc3ee3b",
   "execution_count": null
  },
  {
   "cell_type": "code",
   "outputs": [],
   "source": [
    "y.append(4)"
   ],
   "metadata": {
    "collapsed": false
   },
   "id": "6fa44ac0c669e93d",
   "execution_count": null
  },
  {
   "cell_type": "code",
   "outputs": [],
   "source": [
    "y"
   ],
   "metadata": {
    "collapsed": false
   },
   "id": "8bccb4c376ffea88",
   "execution_count": null
  },
  {
   "cell_type": "code",
   "outputs": [],
   "source": [
    "x"
   ],
   "metadata": {
    "collapsed": false
   },
   "id": "c1a6b0ae7e6b19e8",
   "execution_count": null
  },
  {
   "cell_type": "code",
   "outputs": [],
   "source": [
    "isinstance(float, object)"
   ],
   "metadata": {
    "collapsed": false
   },
   "id": "8b810a93db8dc2ee",
   "execution_count": null
  },
  {
   "cell_type": "code",
   "outputs": [],
   "source": [
    "10 / 3"
   ],
   "metadata": {
    "collapsed": false
   },
   "id": "c22f2d0580719b6b",
   "execution_count": null
  },
  {
   "cell_type": "code",
   "outputs": [],
   "source": [
    "10 // 3"
   ],
   "metadata": {
    "collapsed": false
   },
   "id": "d725a268c28c702f",
   "execution_count": null
  },
  {
   "cell_type": "code",
   "outputs": [],
   "source": [
    "-8 // 3"
   ],
   "metadata": {
    "collapsed": false
   },
   "id": "1d4baa10e90eb84e",
   "execution_count": null
  },
  {
   "cell_type": "code",
   "outputs": [],
   "source": [
    "-8 / 3"
   ],
   "metadata": {
    "collapsed": false
   },
   "id": "dd633760be11aa44",
   "execution_count": null
  },
  {
   "cell_type": "code",
   "outputs": [],
   "source": [
    "_ = 2"
   ],
   "metadata": {
    "collapsed": false
   },
   "id": "c63169fcd0082873",
   "execution_count": null
  },
  {
   "cell_type": "code",
   "outputs": [],
   "source": [
    "_"
   ],
   "metadata": {
    "collapsed": false
   },
   "id": "9ca11d8cda231537",
   "execution_count": null
  },
  {
   "cell_type": "code",
   "outputs": [],
   "source": [
    "a = 10"
   ],
   "metadata": {
    "collapsed": false
   },
   "id": "b213df5e4eb37ab0",
   "execution_count": null
  },
  {
   "cell_type": "code",
   "outputs": [],
   "source": [
    "id(a)"
   ],
   "metadata": {
    "collapsed": false
   },
   "id": "c6deadedcc230539",
   "execution_count": null
  },
  {
   "cell_type": "code",
   "outputs": [],
   "source": [
    "b = 10"
   ],
   "metadata": {
    "collapsed": false
   },
   "id": "d770983991b1467b",
   "execution_count": null
  },
  {
   "cell_type": "code",
   "outputs": [],
   "source": [
    "id(b)"
   ],
   "metadata": {
    "collapsed": false
   },
   "id": "1f6ffe46aaa28ac9",
   "execution_count": null
  },
  {
   "cell_type": "code",
   "outputs": [],
   "source": [
    "c = 10"
   ],
   "metadata": {
    "collapsed": false
   },
   "id": "5f60a564ef092497",
   "execution_count": null
  },
  {
   "cell_type": "code",
   "outputs": [],
   "source": [
    "id(c)"
   ],
   "metadata": {
    "collapsed": false
   },
   "id": "11f0f084aac0705f",
   "execution_count": null
  },
  {
   "cell_type": "code",
   "outputs": [],
   "source": [
    "d = 5 + 5"
   ],
   "metadata": {
    "collapsed": false
   },
   "id": "8780ecc9c3767f34",
   "execution_count": null
  },
  {
   "cell_type": "code",
   "outputs": [],
   "source": [
    "id(d)"
   ],
   "metadata": {
    "collapsed": false
   },
   "id": "283e334765f395e3",
   "execution_count": null
  },
  {
   "cell_type": "code",
   "outputs": [],
   "source": [
    "e = \"10\""
   ],
   "metadata": {
    "collapsed": false
   },
   "id": "b675cf92ffdcbe41",
   "execution_count": null
  },
  {
   "cell_type": "code",
   "outputs": [],
   "source": [
    "id(e)"
   ],
   "metadata": {
    "collapsed": false
   },
   "id": "9ae9812ba4e6378c",
   "execution_count": null
  },
  {
   "cell_type": "code",
   "outputs": [],
   "source": [
    "id(a)"
   ],
   "metadata": {
    "collapsed": false
   },
   "id": "fd05895df6793f1",
   "execution_count": null
  },
  {
   "cell_type": "code",
   "outputs": [],
   "source": [
    "a = 21"
   ],
   "metadata": {
    "collapsed": false
   },
   "id": "78d09d03f4268398",
   "execution_count": null
  },
  {
   "cell_type": "code",
   "outputs": [],
   "source": [
    "del a"
   ],
   "metadata": {
    "collapsed": false
   },
   "id": "6348f582ca609e2c",
   "execution_count": null
  },
  {
   "cell_type": "code",
   "outputs": [],
   "source": [
    "del b, c, d, e"
   ],
   "metadata": {
    "collapsed": false
   },
   "id": "1a4636e962aaec66",
   "execution_count": null
  },
  {
   "cell_type": "code",
   "outputs": [],
   "source": [
    "5 + 6\n"
   ],
   "metadata": {
    "collapsed": false
   },
   "id": "63b10f42202a16e9",
   "execution_count": null
  },
  {
   "cell_type": "code",
   "outputs": [],
   "source": [
    "6 + 7\n"
   ],
   "metadata": {
    "collapsed": false
   },
   "id": "843d8ae9d921dd0a",
   "execution_count": null
  },
  {
   "cell_type": "code",
   "outputs": [],
   "source": [
    "_"
   ],
   "metadata": {
    "collapsed": false
   },
   "id": "96fd5f5ef232d525",
   "execution_count": null
  },
  {
   "cell_type": "code",
   "outputs": [],
   "source": [
    "for i in 'Laks':\n",
    "    print(i)"
   ],
   "metadata": {
    "collapsed": false
   },
   "id": "41911837c73ed5ea",
   "execution_count": null
  },
  {
   "cell_type": "code",
   "outputs": [],
   "source": [
    "*range(0, 10)"
   ],
   "metadata": {
    "collapsed": false
   },
   "id": "e301f03ebf7d38fe",
   "execution_count": null
  },
  {
   "cell_type": "code",
   "outputs": [],
   "source": [
    "print(*'101')"
   ],
   "metadata": {
    "collapsed": false
   },
   "id": "90c7a3cd3c123b22",
   "execution_count": null
  },
  {
   "cell_type": "code",
   "outputs": [],
   "source": [
    "it = iter(\"12\")"
   ],
   "metadata": {
    "collapsed": false
   },
   "id": "546818c348aa5a59",
   "execution_count": null
  },
  {
   "cell_type": "code",
   "outputs": [],
   "source": [
    "next(it)"
   ],
   "metadata": {
    "collapsed": false
   },
   "id": "7cfe8ebe4a57e962",
   "execution_count": null
  },
  {
   "cell_type": "code",
   "outputs": [],
   "source": [
    "next(it)"
   ],
   "metadata": {
    "collapsed": false
   },
   "id": "a2d9adb16d84c221",
   "execution_count": null
  },
  {
   "cell_type": "code",
   "outputs": [],
   "source": [
    "next(it)"
   ],
   "metadata": {
    "collapsed": false
   },
   "id": "ee8e7f08dd3c9637",
   "execution_count": null
  },
  {
   "cell_type": "code",
   "outputs": [],
   "source": [
    "a = [1, 2, 3, 4, 5]"
   ],
   "metadata": {
    "collapsed": false
   },
   "id": "8a3c08cb5810911d",
   "execution_count": null
  },
  {
   "cell_type": "code",
   "outputs": [],
   "source": [
    "a[-3:1:1]"
   ],
   "metadata": {
    "collapsed": false
   },
   "id": "59964106ba7f986",
   "execution_count": null
  },
  {
   "cell_type": "code",
   "outputs": [],
   "source": [
    "a[::1]"
   ],
   "metadata": {
    "collapsed": false
   },
   "id": "b27ec4177fed54a7",
   "execution_count": null
  },
  {
   "cell_type": "code",
   "outputs": [],
   "source": [
    "a[-2:0:-1]"
   ],
   "metadata": {
    "collapsed": false
   },
   "id": "8b0f8b0e567f1272",
   "execution_count": null
  },
  {
   "cell_type": "code",
   "outputs": [],
   "source": [
    "[1, 2, 3] * 2"
   ],
   "metadata": {
    "collapsed": false
   },
   "id": "86537b611d1b3440",
   "execution_count": null
  },
  {
   "cell_type": "code",
   "outputs": [],
   "source": [
    "a = [1, 2, 3]"
   ],
   "metadata": {
    "collapsed": false
   },
   "id": "10329bf104edf33f",
   "execution_count": null
  },
  {
   "cell_type": "code",
   "outputs": [],
   "source": [
    "id(a)"
   ],
   "metadata": {
    "collapsed": false
   },
   "id": "a0331abf50756016",
   "execution_count": null
  },
  {
   "cell_type": "code",
   "outputs": [],
   "source": [
    "a[0] = 4"
   ],
   "metadata": {
    "collapsed": false
   },
   "id": "639dcb348698881c",
   "execution_count": null
  },
  {
   "cell_type": "code",
   "outputs": [],
   "source": [
    "id(a)"
   ],
   "metadata": {
    "collapsed": false
   },
   "id": "98e32f1e89a425b7",
   "execution_count": null
  },
  {
   "cell_type": "code",
   "outputs": [],
   "source": [
    "2 in a"
   ],
   "metadata": {
    "collapsed": false
   },
   "id": "d6c582e74e3b8bb9",
   "execution_count": null
  },
  {
   "cell_type": "code",
   "outputs": [],
   "source": [
    "a = (1, 2, 3) + (4,)"
   ],
   "metadata": {
    "collapsed": false
   },
   "id": "a565460ed88b7355",
   "execution_count": null
  },
  {
   "cell_type": "code",
   "outputs": [],
   "source": [
    "a += (5,)"
   ],
   "metadata": {
    "collapsed": false
   },
   "id": "18db2906ab0456da",
   "execution_count": null
  },
  {
   "cell_type": "code",
   "outputs": [],
   "source": [
    "a"
   ],
   "metadata": {
    "collapsed": false
   },
   "id": "204911921ce4b9cb",
   "execution_count": null
  },
  {
   "cell_type": "code",
   "outputs": [],
   "source": [
    "id(a)"
   ],
   "metadata": {
    "collapsed": false
   },
   "id": "4893c348d60d79b",
   "execution_count": null
  },
  {
   "cell_type": "code",
   "outputs": [],
   "source": [
    "a = {\"orange\": 1, \"apple\": 2, \"banana\": 3}"
   ],
   "metadata": {
    "collapsed": false
   },
   "id": "1a4306f4db10649c",
   "execution_count": null
  },
  {
   "cell_type": "code",
   "outputs": [],
   "source": [
    "a['apple']"
   ],
   "metadata": {
    "collapsed": false
   },
   "id": "3f4cbad83d0fbccb",
   "execution_count": null
  },
  {
   "cell_type": "code",
   "outputs": [],
   "source": [
    "id(a)"
   ],
   "metadata": {
    "collapsed": false
   },
   "id": "63c61f3da0fb5962",
   "execution_count": null
  },
  {
   "cell_type": "code",
   "outputs": [],
   "source": [
    "a['apple'] = 4"
   ],
   "metadata": {
    "collapsed": false
   },
   "id": "aa9133ae183708b1",
   "execution_count": null
  },
  {
   "cell_type": "code",
   "outputs": [],
   "source": [
    "id(a)"
   ],
   "metadata": {
    "collapsed": false
   },
   "id": "a0da02823a078b4b",
   "execution_count": null
  },
  {
   "cell_type": "code",
   "outputs": [],
   "source": [
    "a.update({'apple': 5})"
   ],
   "metadata": {
    "collapsed": false
   },
   "id": "c286cad350e0a1c1",
   "execution_count": null
  },
  {
   "cell_type": "code",
   "outputs": [],
   "source": [
    "for i, j in a.items():\n",
    "    print(i, j)"
   ],
   "metadata": {
    "collapsed": false
   },
   "id": "ac2b619f86ebad3",
   "execution_count": null
  },
  {
   "cell_type": "code",
   "outputs": [],
   "source": [
    "print(range(0, 10))"
   ],
   "metadata": {
    "collapsed": false
   },
   "id": "5dc5879034ea33f",
   "execution_count": null
  },
  {
   "cell_type": "code",
   "outputs": [],
   "source": [
    "type(a.get('ap', 'Not Found'))"
   ],
   "metadata": {
    "collapsed": false
   },
   "id": "4601aa08b0f7e6d6",
   "execution_count": null
  },
  {
   "cell_type": "code",
   "outputs": [],
   "source": [
    "b = {1: 1, 2: 1}"
   ],
   "metadata": {
    "collapsed": false
   },
   "id": "aabc120fe5161d2a",
   "execution_count": null
  },
  {
   "cell_type": "code",
   "outputs": [],
   "source": [
    "type(b)"
   ],
   "metadata": {
    "collapsed": false
   },
   "id": "6fe79de92c4babde",
   "execution_count": null
  },
  {
   "cell_type": "code",
   "outputs": [],
   "source": [
    "b.values()"
   ],
   "metadata": {
    "collapsed": false
   },
   "id": "c84460d2f00386f3",
   "execution_count": null
  },
  {
   "cell_type": "code",
   "outputs": [],
   "source": [
    "c = {1, 2, 2}"
   ],
   "metadata": {
    "collapsed": false
   },
   "id": "caa107864e10a2a",
   "execution_count": null
  },
  {
   "cell_type": "code",
   "outputs": [],
   "source": [
    "c"
   ],
   "metadata": {
    "collapsed": false
   },
   "id": "83b6638ed835c6b0",
   "execution_count": null
  },
  {
   "cell_type": "code",
   "outputs": [],
   "source": [
    "c.add(1)"
   ],
   "metadata": {
    "collapsed": false
   },
   "id": "55148a0290b30cd0",
   "execution_count": null
  },
  {
   "cell_type": "code",
   "outputs": [],
   "source": [
    "c.add((4, 1))"
   ],
   "metadata": {
    "collapsed": false
   },
   "id": "dfc420a7946daac5",
   "execution_count": null
  },
  {
   "cell_type": "code",
   "outputs": [],
   "source": [
    "c"
   ],
   "metadata": {
    "collapsed": false
   },
   "id": "d1a4e03b93626e5f",
   "execution_count": null
  },
  {
   "cell_type": "code",
   "outputs": [],
   "source": [
    "i = 1\n",
    "for i in range(0, 1000, i * 100):\n",
    "    print(i)"
   ],
   "metadata": {
    "collapsed": false
   },
   "id": "221374249a3898d6",
   "execution_count": null
  },
  {
   "cell_type": "code",
   "outputs": [],
   "source": [
    "i = 1\n",
    "a = iter(range(0, 10, i * 2))"
   ],
   "metadata": {
    "collapsed": false
   },
   "id": "5af5b81c0a7c30a0",
   "execution_count": null
  },
  {
   "cell_type": "code",
   "outputs": [],
   "source": [
    "print(a)"
   ],
   "metadata": {
    "collapsed": false
   },
   "id": "fc943ea8c0ce71f7",
   "execution_count": null
  },
  {
   "cell_type": "code",
   "outputs": [],
   "source": [
    "print(*a)"
   ],
   "metadata": {
    "collapsed": false
   },
   "id": "b8192d5a579fc0ea",
   "execution_count": null
  },
  {
   "cell_type": "code",
   "outputs": [],
   "source": [
    "count = 0\n",
    "n = 3\n",
    "loop_exec = 0\n",
    "for i in range(n + 1):\n",
    "    j = 1\n",
    "    for j in range(1, n + 1, j * 2):\n",
    "        loop_exec += 1\n",
    "print(loop_exec)"
   ],
   "metadata": {
    "collapsed": false
   },
   "id": "2dd5367c06cd0b7a",
   "execution_count": null
  },
  {
   "cell_type": "code",
   "outputs": [],
   "source": [
    "n = 4\n",
    "loop_exec = 0\n",
    "for j in range(1, n + 1, j * 2):\n",
    "    loop_exec += 1\n",
    "print(loop_exec)"
   ],
   "metadata": {
    "collapsed": false
   },
   "id": "dbf6963516e5ae04",
   "execution_count": null
  },
  {
   "cell_type": "code",
   "outputs": [],
   "source": [
    "print(*iter(range(1, 5, 6)))"
   ],
   "metadata": {
    "collapsed": false
   },
   "id": "49e672ecf23fef9c",
   "execution_count": null
  },
  {
   "cell_type": "code",
   "outputs": [],
   "source": [
    "k = 1\n",
    "for k in range(1, 15, 2 * k):\n",
    "    print(k)"
   ],
   "metadata": {
    "collapsed": false
   },
   "id": "840a4e55aba21993",
   "execution_count": null
  },
  {
   "cell_type": "code",
   "outputs": [],
   "source": [
    "k"
   ],
   "metadata": {
    "collapsed": false
   },
   "id": "b491b6224cb226aa",
   "execution_count": null
  },
  {
   "cell_type": "code",
   "outputs": [],
   "source": [
    "def func(N):\n",
    "    i = 1\n",
    "    s = 0\n",
    "    for i in range(1, N, i * 2):\n",
    "        s += i\n",
    "    return s"
   ],
   "metadata": {
    "collapsed": false
   },
   "id": "3d1aafffa942ffa7",
   "execution_count": null
  },
  {
   "cell_type": "code",
   "outputs": [],
   "source": [
    "func(15)"
   ],
   "metadata": {
    "collapsed": false
   },
   "id": "c4177a25fe124958",
   "execution_count": null
  },
  {
   "cell_type": "code",
   "outputs": [],
   "source": [
    "def bubble_sort(arr):\n",
    "    n = len(arr)\n",
    "    for elem in reversed(range(n)):\n",
    "        for index in range(elem):\n",
    "            if arr[index + 1] < arr[index]:\n",
    "                arr[index], arr[index + 1] = arr[index + 1], arr[index]\n",
    "    return arr"
   ],
   "metadata": {
    "collapsed": false
   },
   "id": "e0bb4ba7b0c6fce2",
   "execution_count": null
  },
  {
   "cell_type": "code",
   "outputs": [],
   "source": [
    "sorted_arr = bubble_sort([1, 3, 2, 0, 4, 5, -1, 4])"
   ],
   "metadata": {
    "collapsed": false
   },
   "id": "5cf24fbce16e8829",
   "execution_count": null
  },
  {
   "cell_type": "code",
   "outputs": [],
   "source": [
    "sorted_arr"
   ],
   "metadata": {
    "collapsed": false
   },
   "id": "3da1f1c866add0a5",
   "execution_count": null
  },
  {
   "cell_type": "code",
   "outputs": [],
   "source": [
    "arr"
   ],
   "metadata": {
    "collapsed": false
   },
   "id": "67b8cb8fa3952349",
   "execution_count": null
  },
  {
   "cell_type": "code",
   "outputs": [],
   "source": [
    "next(reversed(range(len(arr))))"
   ],
   "metadata": {
    "collapsed": false
   },
   "id": "aa53872c5ba7a313",
   "execution_count": null
  },
  {
   "cell_type": "code",
   "outputs": [],
   "source": [
    "a = iter(reversed(range(len(arr))))"
   ],
   "metadata": {
    "collapsed": false
   },
   "id": "b17c5dfff36d04db",
   "execution_count": null
  },
  {
   "cell_type": "code",
   "outputs": [],
   "source": [
    "print(*a)"
   ],
   "metadata": {
    "collapsed": false
   },
   "id": "d13d82ed04d02576",
   "execution_count": null
  },
  {
   "cell_type": "code",
   "outputs": [],
   "source": [
    "class Props:\n",
    "    def __init__(self, x, y):\n",
    "        self.x = x\n",
    "        self.y = y"
   ],
   "metadata": {
    "collapsed": false
   },
   "id": "8376b0d162403da8",
   "execution_count": null
  },
  {
   "cell_type": "code",
   "outputs": [],
   "source": [
    "class Ball(Props):\n",
    "    def __init__(self, x, y):\n",
    "        super().__init__(x, y)\n",
    "        self.shape = \"o\"\n",
    "        self.number = 1\n",
    "        self.vely = 0\n",
    "        self.velx = 0\n",
    "\n",
    "    def get_x(self):\n",
    "        return self.x\n",
    "\n",
    "    def get_y(self):\n",
    "        return self.y\n",
    "\n",
    "    def get_velx(self):\n",
    "        return self.velx\n",
    "\n",
    "    def get_vely(self):\n",
    "        return self.vely\n",
    "\n",
    "    def inc_velx(self):\n",
    "        self.velx = self.velx + 2\n",
    "\n",
    "    def inc_vely(self):\n",
    "        self.vely = self.vely + 1"
   ],
   "metadata": {
    "collapsed": false
   },
   "id": "e09487f59fe193d5",
   "execution_count": null
  },
  {
   "cell_type": "code",
   "outputs": [],
   "source": [
    "obj_ball = Ball(27, 3)\n",
    "\n",
    "bx = obj_ball.get_x()\n",
    "by = obj_ball.get_y()\n",
    "b_velx = obj_ball.get_velx()\n",
    "b_vely = obj_ball.get_vely()\n",
    "\n",
    "print(bx, by, b_velx, b_vely)"
   ],
   "metadata": {
    "collapsed": false
   },
   "id": "1e71e9205cda195b",
   "execution_count": null
  },
  {
   "cell_type": "code",
   "outputs": [],
   "source": [
    "class A:\n",
    "\n",
    "    def __init__(self, x, y):\n",
    "        self.x = x\n",
    "        self.y = y\n",
    "\n",
    "    def __str__(self):\n",
    "        return 1\n",
    "\n",
    "    def __eq__(self, other):\n",
    "        return self.x * self.y == other.x * other.y\n",
    "\n",
    "\n",
    "obj1 = A(9, 8)\n",
    "obj2 = A(8, 9)\n",
    "print(obj1 == obj2)"
   ],
   "metadata": {
    "collapsed": false
   },
   "id": "1d729d1dea00d599",
   "execution_count": null
  },
  {
   "cell_type": "code",
   "outputs": [],
   "source": [
    "T = int(input())\n",
    "\n",
    "for i in range(T):\n",
    "    A = input()\n",
    "    count = 0\n",
    "    for j in A:\n",
    "        count += int(j) % 10\n",
    "    print(count)"
   ],
   "metadata": {
    "collapsed": false
   },
   "id": "f01ea9636a9196b7",
   "execution_count": null
  },
  {
   "cell_type": "code",
   "outputs": [],
   "source": [
    "num = int(input())\n",
    "while num > 1:\n",
    "    num = num // 3\n",
    "print(num)"
   ],
   "metadata": {
    "collapsed": false
   },
   "id": "9ea59afabe0573c6",
   "execution_count": null
  },
  {
   "cell_type": "code",
   "outputs": [],
   "source": [
    "89 // 3"
   ],
   "metadata": {
    "collapsed": false
   },
   "id": "1372c20d363d542a",
   "execution_count": null
  },
  {
   "cell_type": "code",
   "outputs": [],
   "source": [
    "29 // 3"
   ],
   "metadata": {
    "collapsed": false
   },
   "id": "f540ff72e4db84e4",
   "execution_count": null
  },
  {
   "cell_type": "code",
   "outputs": [],
   "source": [
    "9 // 3"
   ],
   "metadata": {
    "collapsed": false
   },
   "id": "288127df4c10d228",
   "execution_count": null
  },
  {
   "cell_type": "code",
   "outputs": [],
   "source": [
    "3 // 3"
   ],
   "metadata": {
    "collapsed": false
   },
   "id": "1f031bf19556699c",
   "execution_count": null
  },
  {
   "cell_type": "code",
   "outputs": [],
   "source": [
    "check_prime(4)"
   ],
   "metadata": {
    "collapsed": false
   },
   "id": "98bc9fb441045ec8",
   "execution_count": null
  },
  {
   "cell_type": "code",
   "outputs": [],
   "source": [
    "def check_prime(num):\n",
    "    for j in range(2, num):\n",
    "        if num % j == 0:\n",
    "            return False\n",
    "    return True"
   ],
   "metadata": {
    "collapsed": false
   },
   "id": "46b87c1a06b46408",
   "execution_count": null
  },
  {
   "cell_type": "code",
   "outputs": [],
   "source": [
    "sum_of_primes(11)"
   ],
   "metadata": {
    "collapsed": false
   },
   "id": "db507357f327e14b",
   "execution_count": null
  },
  {
   "cell_type": "code",
   "outputs": [],
   "source": [
    "class Student:\n",
    "    def __init__(self, age):\n",
    "        self.age = age\n",
    "\n",
    "    def study(self):\n",
    "        print(\"Study man\")"
   ],
   "metadata": {
    "collapsed": false
   },
   "id": "26adf8066c829937",
   "execution_count": null
  },
  {
   "cell_type": "code",
   "outputs": [],
   "source": [
    "s1 = Student(1)"
   ],
   "metadata": {
    "collapsed": false
   },
   "id": "8841e9808a9e0e3b",
   "execution_count": null
  },
  {
   "cell_type": "code",
   "outputs": [],
   "source": [
    "s1.study()"
   ],
   "metadata": {
    "collapsed": false
   },
   "id": "31b2dbfd08b55038",
   "execution_count": null
  },
  {
   "cell_type": "code",
   "outputs": [],
   "source": [
    "Student.__init__(s1, 2)"
   ],
   "metadata": {
    "collapsed": false
   },
   "id": "1965ead4a6e146d8",
   "execution_count": null
  },
  {
   "cell_type": "code",
   "outputs": [],
   "source": [
    "s1.age"
   ],
   "metadata": {
    "collapsed": false
   },
   "id": "a18ee663749bdb3",
   "execution_count": null
  },
  {
   "cell_type": "code",
   "outputs": [],
   "source": [
    "s2 = Student(10)"
   ],
   "metadata": {
    "collapsed": false
   },
   "id": "266539c3d1ebf883",
   "execution_count": null
  },
  {
   "cell_type": "code",
   "outputs": [],
   "source": [
    "s2.age"
   ],
   "metadata": {
    "collapsed": false
   },
   "id": "844cccf7c4e4e97c",
   "execution_count": null
  },
  {
   "cell_type": "code",
   "outputs": [],
   "source": [
    "type(s1.study)"
   ],
   "metadata": {
    "collapsed": false
   },
   "id": "c1362adbaae768ca",
   "execution_count": null
  },
  {
   "cell_type": "code",
   "outputs": [],
   "source": [
    "class Car:\n",
    "    wheel = 41\n",
    "    door = 5\n",
    "\n",
    "    def __init__(self, wheel, door):\n",
    "        self.door = door"
   ],
   "metadata": {
    "collapsed": false
   },
   "id": "5cd53b10e85a515e",
   "execution_count": null
  },
  {
   "cell_type": "code",
   "outputs": [],
   "source": [
    "maruti = Car(4, 5)"
   ],
   "metadata": {
    "collapsed": false
   },
   "id": "95d7bdcd5afcac47",
   "execution_count": null
  },
  {
   "cell_type": "code",
   "outputs": [],
   "source": [
    "tata = Car(4, 5)"
   ],
   "metadata": {
    "collapsed": false
   },
   "id": "dff0d98c01e6993a",
   "execution_count": null
  },
  {
   "cell_type": "code",
   "outputs": [],
   "source": [
    "tata.wheel = 3"
   ],
   "metadata": {
    "collapsed": false
   },
   "id": "c8c8dcca903e304f",
   "execution_count": null
  },
  {
   "cell_type": "code",
   "outputs": [],
   "source": [
    "tata.wheel"
   ],
   "metadata": {
    "collapsed": false
   },
   "id": "1c47209efc3fc81d",
   "execution_count": null
  },
  {
   "cell_type": "code",
   "outputs": [],
   "source": [
    "maruti.wheel"
   ],
   "metadata": {
    "collapsed": false
   },
   "id": "9b1cd833947c1d5c",
   "execution_count": null
  },
  {
   "cell_type": "code",
   "outputs": [],
   "source": [
    "maruti.wheel = 4"
   ],
   "metadata": {
    "collapsed": false
   },
   "id": "a12f251c2d7f32e1",
   "execution_count": null
  },
  {
   "cell_type": "code",
   "outputs": [],
   "source": [
    "maruti.wheel"
   ],
   "metadata": {
    "collapsed": false
   },
   "id": "c11cd3f078e99ee3",
   "execution_count": null
  },
  {
   "cell_type": "code",
   "outputs": [],
   "source": [
    "tata.wheel"
   ],
   "metadata": {
    "collapsed": false
   },
   "id": "3e54a318745707a5",
   "execution_count": null
  },
  {
   "cell_type": "code",
   "outputs": [],
   "source": [
    "Car.__dict__"
   ],
   "metadata": {
    "collapsed": false
   },
   "id": "9205e3e0cde2c8dc",
   "execution_count": null
  },
  {
   "cell_type": "code",
   "outputs": [],
   "source": [
    "a = [2, 3, 4, 5]"
   ],
   "metadata": {
    "collapsed": false
   },
   "id": "c4143750834e3235",
   "execution_count": null
  },
  {
   "cell_type": "code",
   "outputs": [],
   "source": [
    "type(a[2:2])"
   ],
   "metadata": {
    "collapsed": false
   },
   "id": "f577785921fde74c",
   "execution_count": null
  },
  {
   "cell_type": "code",
   "outputs": [],
   "source": [
    "a[2:2] = 1"
   ],
   "metadata": {
    "collapsed": false
   },
   "id": "620575663689b645",
   "execution_count": null
  },
  {
   "cell_type": "code",
   "outputs": [],
   "source": [
    "a[2:3] = iter(range(3))"
   ],
   "metadata": {
    "collapsed": false
   },
   "id": "92fc8d792a1edbc5",
   "execution_count": null
  },
  {
   "cell_type": "code",
   "outputs": [],
   "source": [
    "a[2:3]"
   ],
   "metadata": {
    "collapsed": false
   },
   "id": "c81ff813f370bf8e",
   "execution_count": null
  },
  {
   "cell_type": "code",
   "outputs": [],
   "source": [
    "a"
   ],
   "metadata": {
    "collapsed": false
   },
   "id": "672c6422d2d438a6",
   "execution_count": null
  },
  {
   "cell_type": "code",
   "outputs": [],
   "source": [
    "1 = 2"
   ],
   "metadata": {
    "collapsed": false
   },
   "id": "4876cc6832beddc3",
   "execution_count": null
  },
  {
   "cell_type": "code",
   "outputs": [],
   "source": [
    "class MYClass:\n",
    "    def __init__(self, marks):\n",
    "        self.marks = marks\n",
    "        return\n",
    "\n",
    "    def __str__(self):\n",
    "        return \"Hello\"\n",
    "\n",
    "    def __add__(self, other):\n",
    "        return self.marks + other.marks\n",
    "\n",
    "    def __lt__(self, other):\n",
    "        return self.marks < other.marks\n",
    "\n",
    "    def __gt__(self, other):\n",
    "        return self.marks > other.marks"
   ],
   "metadata": {
    "collapsed": false
   },
   "id": "6da7186a7fd06747",
   "execution_count": null
  },
  {
   "cell_type": "code",
   "outputs": [],
   "source": [
    "p1 = MYClass(81)"
   ],
   "metadata": {
    "collapsed": false
   },
   "id": "8676acd79da4efcd",
   "execution_count": null
  },
  {
   "cell_type": "code",
   "outputs": [],
   "source": [
    "p2 = MYClass(91)"
   ],
   "metadata": {
    "collapsed": false
   },
   "id": "7f96d0b73bf49845",
   "execution_count": null
  },
  {
   "cell_type": "code",
   "outputs": [],
   "source": [
    "p1 > p2"
   ],
   "metadata": {
    "collapsed": false
   },
   "id": "13870100fafd57a6",
   "execution_count": null
  },
  {
   "cell_type": "code",
   "outputs": [],
   "source": [
    "type(p1.marks)"
   ],
   "metadata": {
    "collapsed": false
   },
   "id": "618a2ea7136c9ec6",
   "execution_count": null
  },
  {
   "cell_type": "code",
   "outputs": [],
   "source": [
    "p3 = MYClass"
   ],
   "metadata": {
    "collapsed": false
   },
   "id": "9717ba047582c0fb",
   "execution_count": null
  },
  {
   "cell_type": "code",
   "outputs": [],
   "source": [
    "p1 = p3(81)"
   ],
   "metadata": {
    "collapsed": false
   },
   "id": "b426ba16a988a650",
   "execution_count": null
  },
  {
   "cell_type": "code",
   "outputs": [],
   "source": [
    "type(p1)"
   ],
   "metadata": {
    "collapsed": false
   },
   "id": "b1918f280510db22",
   "execution_count": null
  },
  {
   "cell_type": "code",
   "outputs": [],
   "source": [
    "print(p1)"
   ],
   "metadata": {
    "collapsed": false
   },
   "id": "44f092ca6cc5b687",
   "execution_count": null
  },
  {
   "cell_type": "code",
   "outputs": [],
   "source": [
    "print(p2)"
   ],
   "metadata": {
    "collapsed": false
   },
   "id": "875b6b9aa8208491",
   "execution_count": null
  },
  {
   "cell_type": "code",
   "outputs": [],
   "source": [
    "\"a\".__str__()"
   ],
   "metadata": {
    "collapsed": false
   },
   "id": "ad5fdfd561b9b15d",
   "execution_count": null
  },
  {
   "cell_type": "code",
   "outputs": [],
   "source": [
    "p1 + p1"
   ],
   "metadata": {
    "collapsed": false
   },
   "id": "93cb1c17dd964375",
   "execution_count": null
  },
  {
   "cell_type": "code",
   "outputs": [],
   "source": [
    "class Person:\n",
    "    def say_hello(self):\n",
    "        print(\"Hello\")"
   ],
   "metadata": {
    "collapsed": false
   },
   "id": "7ba51487ca95b401",
   "execution_count": null
  },
  {
   "cell_type": "code",
   "outputs": [],
   "source": [
    "Person.say_hello(\"ajs\")"
   ],
   "metadata": {
    "collapsed": false
   },
   "id": "cb9bf76a2a6c9da6",
   "execution_count": null
  },
  {
   "cell_type": "code",
   "outputs": [],
   "source": [
    "p1 = Person()"
   ],
   "metadata": {
    "collapsed": false
   },
   "id": "67c2080e39616a2d",
   "execution_count": null
  },
  {
   "cell_type": "code",
   "outputs": [],
   "source": [
    "p1.say_hello()"
   ],
   "metadata": {
    "collapsed": false
   },
   "id": "93a73c03ce5eb7f8",
   "execution_count": null
  },
  {
   "cell_type": "code",
   "outputs": [],
   "source": [
    "class BankAccount:\n",
    "    def __init__(self, balance):\n",
    "        self.__balance = balance\n",
    "\n",
    "    def deposit(self, amount):\n",
    "        self.__balance += amount\n",
    "\n",
    "    def withdraw(self, amount):\n",
    "        if amount > self.__balance:\n",
    "            print(\"Insufficient balance\")\n",
    "        else:\n",
    "            self.__balance -= amount\n",
    "\n",
    "    def check_balance(self):\n",
    "        return self.__balance"
   ],
   "metadata": {
    "collapsed": false
   },
   "id": "2e09c1b5dc48169c",
   "execution_count": null
  },
  {
   "cell_type": "code",
   "outputs": [],
   "source": [
    "laks = BankAccount(100)"
   ],
   "metadata": {
    "collapsed": false
   },
   "id": "fe68f915d5cab4ce",
   "execution_count": null
  },
  {
   "cell_type": "code",
   "outputs": [],
   "source": [
    "laks.withdraw(50)"
   ],
   "metadata": {
    "collapsed": false
   },
   "id": "6423c6b99690b705",
   "execution_count": null
  },
  {
   "cell_type": "code",
   "outputs": [],
   "source": [
    "laks.check_balance()"
   ],
   "metadata": {
    "collapsed": false
   },
   "id": "9639b6c6ca5fcd2b",
   "execution_count": null
  },
  {
   "cell_type": "code",
   "outputs": [],
   "source": [
    "laks.withdraw(50)"
   ],
   "metadata": {
    "collapsed": false
   },
   "id": "42af09835557f057",
   "execution_count": null
  },
  {
   "cell_type": "code",
   "outputs": [],
   "source": [
    "laks.check_balance()"
   ],
   "metadata": {
    "collapsed": false
   },
   "id": "39e52529f700197f",
   "execution_count": null
  },
  {
   "cell_type": "code",
   "outputs": [],
   "source": [
    "laks.withdraw(10)"
   ],
   "metadata": {
    "collapsed": false
   },
   "id": "c8bb24d0474e4313",
   "execution_count": null
  },
  {
   "cell_type": "code",
   "outputs": [],
   "source": [
    "laks.__dict__"
   ],
   "metadata": {
    "collapsed": false
   },
   "id": "b6de92c21902f767",
   "execution_count": null
  },
  {
   "cell_type": "code",
   "outputs": [],
   "source": [
    "laks._BankAccount__balance = 1000"
   ],
   "metadata": {
    "collapsed": false
   },
   "id": "40762692f370a2d4",
   "execution_count": null
  },
  {
   "cell_type": "code",
   "outputs": [],
   "source": [
    "laks.withdraw(250)"
   ],
   "metadata": {
    "collapsed": false
   },
   "id": "aee83b4236425055",
   "execution_count": null
  },
  {
   "cell_type": "code",
   "outputs": [],
   "source": [
    "laks.balance"
   ],
   "metadata": {
    "collapsed": false
   },
   "id": "8bf874fe082b284b",
   "execution_count": null
  },
  {
   "cell_type": "code",
   "source": [
    "class SchoolMember:\n",
    "    def __init__(self, name):\n",
    "        self.name = name\n",
    "\n",
    "\n",
    "class SchoolStudent(SchoolMember):\n",
    "    def __init__(self, name, grade):\n",
    "        super().__init__(name)\n",
    "        self.grade = grade\n",
    "\n",
    "\n",
    "class SchoolStaff(SchoolMember):\n",
    "    def __init__(self, name, salary):\n",
    "        super().__init__(name)\n",
    "        self.__salary = salary\n",
    "\n",
    "    def get_salary(self):\n",
    "        return self.__salary\n",
    "\n",
    "\n",
    "class SchoolTeacher(SchoolStaff):\n",
    "    def __init__(self, name, salary, subject):\n",
    "        super().__init__(name, salary)\n",
    "        self.subject = subject\n",
    "        self.__salary = salary\n"
   ],
   "metadata": {
    "collapsed": false
   },
   "id": "2763396641e837d4",
   "outputs": [],
   "execution_count": null
  },
  {
   "cell_type": "code",
   "source": [
    "s1 = SchoolTeacher('laks', 1000, 'maths')"
   ],
   "metadata": {
    "collapsed": false
   },
   "id": "7b1077bd57d53bf7",
   "outputs": [],
   "execution_count": null
  },
  {
   "cell_type": "code",
   "source": [
    "s1.get_salary()"
   ],
   "metadata": {
    "collapsed": false
   },
   "id": "cab2b112d1f9f198",
   "outputs": [],
   "execution_count": null
  },
  {
   "cell_type": "code",
   "source": [
    "s2 = SchoolTeacher('uthra', 2000, 'science')"
   ],
   "metadata": {
    "collapsed": false
   },
   "id": "939d45c69e042b30",
   "outputs": [],
   "execution_count": null
  },
  {
   "cell_type": "code",
   "source": [
    "s2.get_salary()"
   ],
   "metadata": {
    "collapsed": false
   },
   "id": "f2d310bdbf1b7082",
   "outputs": [],
   "execution_count": null
  },
  {
   "cell_type": "code",
   "source": [
    "class A:\n",
    "    t = 8\n",
    "\n",
    "    def __init__(self, x):\n",
    "        self.x = x\n",
    "\n",
    "\n",
    "class B:\n",
    "    t = 10\n",
    "\n",
    "    def __init__(self, y):\n",
    "        self.y = y\n",
    "\n",
    "\n",
    "class C(B, A):\n",
    "    def __init__(self, x, y, z):\n",
    "        A.__init__(self, x)\n",
    "        B.__init__(self, y)\n",
    "        self.z = z"
   ],
   "metadata": {
    "collapsed": false
   },
   "id": "1b43af8c1033c287",
   "outputs": [],
   "execution_count": null
  },
  {
   "metadata": {},
   "cell_type": "code",
   "source": [
    "c = C(1, 2, 3)"
   ],
   "id": "8eccacc121bf25b2",
   "outputs": [],
   "execution_count": null
  },
  {
   "metadata": {},
   "cell_type": "code",
   "source": [
    "c.t"
   ],
   "id": "1ac38d8bfcf215ab",
   "outputs": [],
   "execution_count": null
  },
  {
   "metadata": {},
   "cell_type": "code",
   "source": [
    "c.y"
   ],
   "id": "e6133c3740983ccf",
   "outputs": [],
   "execution_count": null
  },
  {
   "metadata": {},
   "cell_type": "code",
   "source": [
    "c.z"
   ],
   "id": "32667a0ce47e9ca2",
   "outputs": [],
   "execution_count": null
  },
  {
   "metadata": {},
   "cell_type": "code",
   "source": [
    "class Car:\n",
    "    def __init__(self):\n",
    "        self.price = 100\n",
    "        self.__cover = 5\n",
    "\n",
    "    def display(self):\n",
    "        print(self.__cover)\n",
    "\n",
    "\n",
    "class Sedan(Car):\n",
    "    def __init__(self):\n",
    "        super().__init__()\n",
    "        self.price = 200\n",
    "        self.__cover = 10"
   ],
   "id": "1b2f99d12a0039b7",
   "outputs": [],
   "execution_count": null
  },
  {
   "metadata": {},
   "cell_type": "code",
   "source": [
    "c1 = Sedan()"
   ],
   "id": "88698b52f7f38c37",
   "outputs": [],
   "execution_count": null
  },
  {
   "metadata": {},
   "cell_type": "code",
   "source": [
    "isinstance(c1, Sedan)"
   ],
   "id": "d9a22fef5311f179",
   "outputs": [],
   "execution_count": null
  },
  {
   "metadata": {},
   "cell_type": "code",
   "outputs": [],
   "execution_count": null,
   "source": [
    "issubclass(__class_or_tuple, object)"
   ],
   "id": "fa59436139d621bd"
  },
  {
   "cell_type": "code",
   "outputs": [],
   "source": [
    "class Shape:\n",
    "    pass\n",
    "\n",
    "\n",
    "class Ellipse(Shape):\n",
    "    pass\n",
    "\n",
    "\n",
    "class Polygon(Shape):\n",
    "    pass\n",
    "\n",
    "\n",
    "class Circle(Ellipse):\n",
    "    pass\n",
    "\n",
    "\n",
    "class Rectangle(Polygon):\n",
    "    pass\n",
    "\n",
    "\n",
    "class Square(Rectangle):\n",
    "    pass\n",
    "\n",
    "\n",
    "class Triangle(Polygon):\n",
    "    pass\n",
    "\n"
   ],
   "metadata": {
    "collapsed": false
   },
   "id": "7e66db632afceb46",
   "execution_count": null
  },
  {
   "cell_type": "code",
   "outputs": [],
   "source": [
    "issubclass(Ellipse, Shape)"
   ],
   "metadata": {
    "collapsed": false
   },
   "id": "df2fc01c93f41907",
   "execution_count": null
  },
  {
   "cell_type": "code",
   "outputs": [],
   "source": [
    "issubclass(Circle, Shape)"
   ],
   "metadata": {
    "collapsed": false
   },
   "id": "75dc7a995ff12930",
   "execution_count": null
  },
  {
   "cell_type": "code",
   "outputs": [],
   "source": [
    "issubclass(Polygon, Ellipse)"
   ],
   "metadata": {
    "collapsed": false
   },
   "id": "df503ee89e007fd0",
   "execution_count": null
  },
  {
   "cell_type": "code",
   "outputs": [],
   "source": [
    "s = Shape()\n",
    "e = Ellipse()\n",
    "sq = Square()"
   ],
   "metadata": {
    "collapsed": false
   },
   "id": "6b4521c45a2b8712",
   "execution_count": null
  },
  {
   "cell_type": "code",
   "outputs": [],
   "source": [
    "issubclass(e, s)"
   ],
   "metadata": {
    "collapsed": false
   },
   "id": "a345bdfb82d321da",
   "execution_count": null
  },
  {
   "cell_type": "code",
   "outputs": [],
   "source": [
    "isinstance(type, object)"
   ],
   "metadata": {
    "collapsed": false
   },
   "id": "4bc560190a2ac0e5",
   "execution_count": null
  },
  {
   "cell_type": "code",
   "outputs": [],
   "source": [
    "dir(object)"
   ],
   "metadata": {
    "collapsed": false
   },
   "id": "3585cd628e841dc2",
   "execution_count": null
  },
  {
   "cell_type": "code",
   "outputs": [],
   "source": [
    "type(int)"
   ],
   "metadata": {
    "collapsed": false
   },
   "id": "b039a91818e3d56a",
   "execution_count": null
  },
  {
   "cell_type": "code",
   "outputs": [],
   "source": [
    "type(function)"
   ],
   "metadata": {
    "collapsed": false
   },
   "id": "f104e184cf441462",
   "execution_count": null
  },
  {
   "cell_type": "code",
   "outputs": [],
   "source": [
    "Square.__mro__"
   ],
   "metadata": {
    "collapsed": false
   },
   "id": "e328ce93d1817cad",
   "execution_count": null
  },
  {
   "cell_type": "code",
   "outputs": [],
   "source": [
    "class A:\n",
    "    x = 10\n",
    "\n",
    "\n",
    "class B(A):\n",
    "    pass\n",
    "\n",
    "\n",
    "class C(B):\n",
    "    pass\n",
    "\n",
    "\n",
    "class D(A):\n",
    "    x = 5\n",
    "\n",
    "\n",
    "class E(D, C):\n",
    "    pass"
   ],
   "metadata": {
    "collapsed": false
   },
   "id": "8b3340e487c5758b",
   "execution_count": null
  },
  {
   "cell_type": "code",
   "outputs": [],
   "source": [
    "e = E()"
   ],
   "metadata": {
    "collapsed": false
   },
   "id": "c3b774afbbdeae5e",
   "execution_count": null
  },
  {
   "cell_type": "code",
   "outputs": [],
   "source": [
    "e.x"
   ],
   "metadata": {
    "collapsed": false
   },
   "id": "b51f92cf2eb893dc",
   "execution_count": null
  },
  {
   "cell_type": "code",
   "outputs": [],
   "source": [
    "E.__mro__"
   ],
   "metadata": {
    "collapsed": false
   },
   "id": "cdaca2528dd212ea",
   "execution_count": null
  },
  {
   "cell_type": "code",
   "outputs": [],
   "source": [
    "class A:\n",
    "    x = 10\n",
    "\n",
    "\n",
    "class B(A):\n",
    "    pass\n",
    "\n",
    "\n",
    "class E(B):\n",
    "    pass\n",
    "\n",
    "\n",
    "class F(B):\n",
    "    pass\n",
    "\n",
    "\n",
    "class G(F):\n",
    "    pass\n",
    "\n",
    "\n",
    "class H(G):\n",
    "    pass\n",
    "\n",
    "\n",
    "class I(G):\n",
    "    pass\n",
    "\n",
    "\n",
    "class J(H, I):\n",
    "    pass\n",
    "\n",
    "\n",
    "class K(J, E):\n",
    "    pass\n",
    "\n",
    "\n",
    "class C(A):\n",
    "    pass\n",
    "\n",
    "\n",
    "class C(D):\n",
    "    pass\n",
    "\n",
    "\n",
    "class L(C):\n",
    "    pass\n",
    "\n",
    "\n",
    "class M(J, L):\n",
    "    pass\n",
    "\n",
    "\n",
    "class N(M, D):\n",
    "    pass\n",
    "\n",
    "\n",
    "class O(K, N):\n",
    "    pass"
   ],
   "metadata": {
    "collapsed": false
   },
   "id": "fccb0eb3807950e5",
   "execution_count": null
  },
  {
   "cell_type": "code",
   "outputs": [],
   "source": [
    "O.__mro__"
   ],
   "metadata": {
    "collapsed": false
   },
   "id": "86fecf53312aa5d9",
   "execution_count": null
  },
  {
   "cell_type": "code",
   "outputs": [],
   "source": [
    "func = lambda x: print(x) if x > 5 else 0"
   ],
   "metadata": {
    "collapsed": false
   },
   "id": "92ea55b67e127564",
   "execution_count": null
  },
  {
   "cell_type": "code",
   "outputs": [],
   "source": [
    "func(21)"
   ],
   "metadata": {
    "collapsed": false
   },
   "id": "b1f8924e4830c107",
   "execution_count": null
  },
  {
   "cell_type": "code",
   "outputs": [],
   "source": [
    "students = [\n",
    "    {\"name\": \"A\", \"marks\": 50},\n",
    "    {\"name\": \"B\", \"marks\": 100},\n",
    "    {\"name\": \"C\", \"marks\": 40},\n",
    "    {\"name\": \"D\", \"marks\": 70},\n",
    "    {\"name\": \"E\", \"marks\": 60}\n",
    "]"
   ],
   "metadata": {
    "collapsed": false
   },
   "id": "e9e7cbc173a3ca2c",
   "execution_count": null
  },
  {
   "cell_type": "code",
   "outputs": [],
   "source": [
    "for i in range(len(students)):\n",
    "    for key, value in students[i].items():\n",
    "        print(key, value, end=' ')\n",
    "    print()"
   ],
   "metadata": {
    "collapsed": false
   },
   "id": "3adeef2c7389af7c",
   "execution_count": null
  },
  {
   "cell_type": "code",
   "outputs": [],
   "source": [
    "marks = lambda x: x[\"marks\"]"
   ],
   "metadata": {
    "collapsed": false
   },
   "id": "c6108f74ae667cce",
   "execution_count": null
  },
  {
   "cell_type": "code",
   "outputs": [],
   "source": [
    "marks(students[3])"
   ],
   "metadata": {
    "collapsed": false
   },
   "id": "b6e376c5c5da1ee8",
   "execution_count": null
  },
  {
   "cell_type": "code",
   "outputs": [],
   "source": [
    "students[0][\"name\"]"
   ],
   "metadata": {
    "collapsed": false
   },
   "id": "4c58a3e6b40d207d",
   "execution_count": null
  },
  {
   "cell_type": "code",
   "outputs": [],
   "source": [
    "students.sort()"
   ],
   "metadata": {
    "collapsed": false
   },
   "id": "9bb22a40037fa706",
   "execution_count": null
  },
  {
   "cell_type": "code",
   "outputs": [],
   "source": [
    "def mysrt(x):\n",
    "    return x['name']"
   ],
   "metadata": {
    "collapsed": false
   },
   "id": "b89e57f4d60260e8",
   "execution_count": null
  },
  {
   "cell_type": "code",
   "outputs": [],
   "source": [
    "students.sort(key=lambda x: x['marks'])"
   ],
   "metadata": {
    "collapsed": false
   },
   "id": "facb64b014eafc8e",
   "execution_count": null
  },
  {
   "cell_type": "code",
   "outputs": [],
   "source": [
    "students"
   ],
   "metadata": {
    "collapsed": false
   },
   "id": "345d06e52075fe72",
   "execution_count": null
  },
  {
   "cell_type": "code",
   "outputs": [],
   "source": [
    "def square(n):\n",
    "    def pow(x):\n",
    "        return x ** n\n",
    "\n",
    "    return pow"
   ],
   "metadata": {
    "collapsed": false,
    "ExecuteTime": {
     "end_time": "2024-03-02T19:54:42.471341Z",
     "start_time": "2024-03-02T19:54:42.457301Z"
    }
   },
   "id": "522236687850f857",
   "execution_count": 13
  },
  {
   "cell_type": "code",
   "outputs": [],
   "source": [
    "square(1024212)(4)"
   ],
   "metadata": {
    "collapsed": false
   },
   "id": "953f033536265259",
   "execution_count": null
  },
  {
   "cell_type": "code",
   "outputs": [],
   "source": [
    "def greet(name=input()):\n",
    "    name = input()\n",
    "    print(name)"
   ],
   "metadata": {
    "collapsed": false
   },
   "id": "e45d7f6cce5b0ba7",
   "execution_count": null
  },
  {
   "cell_type": "code",
   "outputs": [],
   "source": [
    "greet('laks')"
   ],
   "metadata": {
    "collapsed": false
   },
   "id": "cc2fc99329dfe80",
   "execution_count": null
  },
  {
   "cell_type": "code",
   "outputs": [],
   "source": [
    "def diff(A):\n",
    "    n = len(A)\n",
    "    xmin = float('inf')\n",
    "    xmax = float('-inf')\n",
    "    for i in range(n):\n",
    "        if A[i] < xmin:\n",
    "            xmin = A[i]\n",
    "        if A[i] > xmax:\n",
    "            xmax = A[i]\n",
    "    return xmax - xmin"
   ],
   "metadata": {
    "collapsed": false,
    "ExecuteTime": {
     "end_time": "2024-03-02T19:25:29.170162Z",
     "start_time": "2024-03-02T19:25:29.147816Z"
    }
   },
   "id": "221687f426efd517",
   "execution_count": 7
  },
  {
   "cell_type": "code",
   "outputs": [
    {
     "data": {
      "text/plain": "7784"
     },
     "execution_count": 9,
     "metadata": {},
     "output_type": "execute_result"
    }
   ],
   "source": [
    "diff([3, 4, 5, 7787, 1010, 1901, ])"
   ],
   "metadata": {
    "collapsed": false,
    "ExecuteTime": {
     "end_time": "2024-03-02T19:26:57.296280Z",
     "start_time": "2024-03-02T19:26:57.286243Z"
    }
   },
   "id": "14fc4634d8cc30f1",
   "execution_count": 9
  },
  {
   "cell_type": "code",
   "outputs": [
    {
     "data": {
      "text/plain": "<map at 0x27e2c8e9760>"
     },
     "execution_count": 10,
     "metadata": {},
     "output_type": "execute_result"
    }
   ],
   "source": [
    "map(lambda x: x ** 2, [1, 2, 3, 4])"
   ],
   "metadata": {
    "collapsed": false,
    "ExecuteTime": {
     "end_time": "2024-03-02T19:53:49.930990Z",
     "start_time": "2024-03-02T19:53:49.915872Z"
    }
   },
   "id": "2a14da23c303cb1a",
   "execution_count": 10
  },
  {
   "cell_type": "code",
   "outputs": [
    {
     "ename": "NameError",
     "evalue": "name 'x' is not defined",
     "output_type": "error",
     "traceback": [
      "\u001B[1;31m---------------------------------------------------------------------------\u001B[0m",
      "\u001B[1;31mNameError\u001B[0m                                 Traceback (most recent call last)",
      "Cell \u001B[1;32mIn[14], line 1\u001B[0m\n\u001B[1;32m----> 1\u001B[0m \u001B[38;5;28mlist\u001B[39m(\u001B[38;5;28mmap\u001B[39m(square(\u001B[43mx\u001B[49m), [\u001B[38;5;241m1\u001B[39m, \u001B[38;5;241m2\u001B[39m, \u001B[38;5;241m3\u001B[39m, \u001B[38;5;241m4\u001B[39m]))\n",
      "\u001B[1;31mNameError\u001B[0m: name 'x' is not defined"
     ]
    }
   ],
   "source": [
    "list(map(square(x), [1, 2, 3, 4]))"
   ],
   "metadata": {
    "collapsed": false,
    "ExecuteTime": {
     "end_time": "2024-03-02T19:54:45.888119Z",
     "start_time": "2024-03-02T19:54:45.850989Z"
    }
   },
   "id": "20a3f577c365b1d9",
   "execution_count": 14
  },
  {
   "cell_type": "code",
   "outputs": [],
   "source": [
    "def t_shirt_size(height):\n",
    "    if height < 150:\n",
    "        return \"S\"\n",
    "    elif height >= 150 and height < 180:\n",
    "        return \"M\"\n",
    "    else:\n",
    "        return \"L\""
   ],
   "metadata": {
    "collapsed": false,
    "ExecuteTime": {
     "end_time": "2024-03-02T20:00:57.200775Z",
     "start_time": "2024-03-02T20:00:57.191570Z"
    }
   },
   "id": "3e31642d7d6b7bc1",
   "execution_count": 23
  },
  {
   "cell_type": "code",
   "outputs": [
    {
     "data": {
      "text/plain": "'M'"
     },
     "execution_count": 24,
     "metadata": {},
     "output_type": "execute_result"
    }
   ],
   "source": [
    "t_shirt_size(175)"
   ],
   "metadata": {
    "collapsed": false,
    "ExecuteTime": {
     "end_time": "2024-03-02T20:00:58.378150Z",
     "start_time": "2024-03-02T20:00:58.368519Z"
    }
   },
   "id": "1f7aa05d8ff7ae14",
   "execution_count": 24
  },
  {
   "cell_type": "code",
   "outputs": [],
   "source": [
    "heights = [160, 165, 170, 175, 180, 185, 190, 120, 140, 135, 155]"
   ],
   "metadata": {
    "collapsed": false,
    "ExecuteTime": {
     "end_time": "2024-03-02T20:01:01.913477Z",
     "start_time": "2024-03-02T20:01:01.901211Z"
    }
   },
   "id": "10f7d99103e890d4",
   "execution_count": 25
  },
  {
   "cell_type": "code",
   "outputs": [
    {
     "data": {
      "text/plain": "['M', 'M', 'M', 'M', 'L', 'L', 'L', 'S', 'S', 'S', 'M']"
     },
     "execution_count": 26,
     "metadata": {},
     "output_type": "execute_result"
    }
   ],
   "source": [
    "list(map(t_shirt_size, heights))"
   ],
   "metadata": {
    "collapsed": false,
    "ExecuteTime": {
     "end_time": "2024-03-02T20:01:03.092935Z",
     "start_time": "2024-03-02T20:01:03.075106Z"
    }
   },
   "id": "50ceb7954e94fe01",
   "execution_count": 26
  },
  {
   "cell_type": "code",
   "outputs": [
    {
     "data": {
      "text/plain": "['M', 'M', 'M', 'M', 'L', 'L', 'L', 'S', 'S', 'S', 'M']"
     },
     "execution_count": 29,
     "metadata": {},
     "output_type": "execute_result"
    }
   ],
   "source": [
    "list(map(lambda x: \"S\" if x < 150 else \"M\" if x >= 150 and x < 180 else \"L\", heights))"
   ],
   "metadata": {
    "collapsed": false,
    "ExecuteTime": {
     "end_time": "2024-03-02T20:05:11.301169Z",
     "start_time": "2024-03-02T20:05:11.283315Z"
    }
   },
   "id": "46c95a2e7e2cb79e",
   "execution_count": 29
  },
  {
   "cell_type": "code",
   "outputs": [],
   "source": [
    "A = [1, 0, 1, 0, 1, 0, 1, 0, 1, 0, 1, 0, 1, 0, 1, 0]\n",
    "B = [1, 0, 1, 1, 1, 0, 1, 0, 1, 0, 0, 1, 1, 1, 1, 0]"
   ],
   "metadata": {
    "collapsed": false,
    "ExecuteTime": {
     "end_time": "2024-03-02T20:10:07.373687Z",
     "start_time": "2024-03-02T20:10:07.360580Z"
    }
   },
   "id": "c9fa731993590261",
   "execution_count": 31
  },
  {
   "cell_type": "code",
   "outputs": [
    {
     "data": {
      "text/plain": "[True,\n True,\n True,\n False,\n True,\n True,\n True,\n True,\n True,\n True,\n False,\n False,\n True,\n False,\n True,\n True]"
     },
     "execution_count": 34,
     "metadata": {},
     "output_type": "execute_result"
    }
   ],
   "source": [
    "list(map(lambda x, y: x == y, A, B))"
   ],
   "metadata": {
    "collapsed": false,
    "ExecuteTime": {
     "end_time": "2024-03-02T20:13:58.649796Z",
     "start_time": "2024-03-02T20:13:58.634902Z"
    }
   },
   "id": "e0eae54715841a52",
   "execution_count": 34
  },
  {
   "cell_type": "code",
   "outputs": [
    {
     "data": {
      "text/plain": "[7, 9, 11, 13, 15]"
     },
     "execution_count": 35,
     "metadata": {},
     "output_type": "execute_result"
    }
   ],
   "source": [
    "r1 = [1, 2, 3, 4, 5]\n",
    "r2 = [6, 7, 8, 9, 10]\n",
    "list(map(lambda x, y: x + y, r1, r2))"
   ],
   "metadata": {
    "collapsed": false,
    "ExecuteTime": {
     "end_time": "2024-03-02T20:15:51.003111Z",
     "start_time": "2024-03-02T20:15:50.993488Z"
    }
   },
   "id": "c2ea3ef3de1370f",
   "execution_count": 35
  },
  {
   "cell_type": "code",
   "outputs": [
    {
     "ename": "TypeError",
     "evalue": "unhashable type: 'list'",
     "output_type": "error",
     "traceback": [
      "\u001B[1;31m---------------------------------------------------------------------------\u001B[0m",
      "\u001B[1;31mTypeError\u001B[0m                                 Traceback (most recent call last)",
      "Cell \u001B[1;32mIn[4], line 1\u001B[0m\n\u001B[1;32m----> 1\u001B[0m d \u001B[38;5;241m=\u001B[39m {[\u001B[38;5;124m'\u001B[39m\u001B[38;5;124mA\u001B[39m\u001B[38;5;124m'\u001B[39m, \u001B[38;5;124m'\u001B[39m\u001B[38;5;124mB\u001B[39m\u001B[38;5;124m'\u001B[39m, \u001B[38;5;124m'\u001B[39m\u001B[38;5;124mC\u001B[39m\u001B[38;5;124m'\u001B[39m, \u001B[38;5;124m'\u001B[39m\u001B[38;5;124mD\u001B[39m\u001B[38;5;124m'\u001B[39m]: i\u001B[38;5;241m*\u001B[39m\u001B[38;5;241m2\u001B[39m \u001B[38;5;28;01mfor\u001B[39;00m i \u001B[38;5;129;01min\u001B[39;00m \u001B[38;5;28mrange\u001B[39m(\u001B[38;5;241m10\u001B[39m)}\n",
      "Cell \u001B[1;32mIn[4], line 1\u001B[0m, in \u001B[0;36m<dictcomp>\u001B[1;34m(.0)\u001B[0m\n\u001B[1;32m----> 1\u001B[0m d \u001B[38;5;241m=\u001B[39m {[\u001B[38;5;124m'\u001B[39m\u001B[38;5;124mA\u001B[39m\u001B[38;5;124m'\u001B[39m, \u001B[38;5;124m'\u001B[39m\u001B[38;5;124mB\u001B[39m\u001B[38;5;124m'\u001B[39m, \u001B[38;5;124m'\u001B[39m\u001B[38;5;124mC\u001B[39m\u001B[38;5;124m'\u001B[39m, \u001B[38;5;124m'\u001B[39m\u001B[38;5;124mD\u001B[39m\u001B[38;5;124m'\u001B[39m]: i\u001B[38;5;241m*\u001B[39m\u001B[38;5;241m2\u001B[39m \u001B[38;5;28;01mfor\u001B[39;00m i \u001B[38;5;129;01min\u001B[39;00m \u001B[38;5;28mrange\u001B[39m(\u001B[38;5;241m10\u001B[39m)}\n",
      "\u001B[1;31mTypeError\u001B[0m: unhashable type: 'list'"
     ]
    }
   ],
   "source": [
    "d = {['A', 'B', 'C', 'D']: i * 2 for i in range(10)}"
   ],
   "metadata": {
    "collapsed": false,
    "ExecuteTime": {
     "end_time": "2024-03-03T06:26:19.732338Z",
     "start_time": "2024-03-03T06:26:18.616615Z"
    }
   },
   "id": "84827eed9ce5bc5c",
   "execution_count": 4
  },
  {
   "cell_type": "code",
   "outputs": [
    {
     "data": {
      "text/plain": "{0: 0, 1: 2, 2: 4, 3: 6, 4: 8, 5: 10, 6: 12, 7: 14, 8: 16, 9: 18}"
     },
     "execution_count": 3,
     "metadata": {},
     "output_type": "execute_result"
    }
   ],
   "source": [
    "d"
   ],
   "metadata": {
    "collapsed": false,
    "ExecuteTime": {
     "end_time": "2024-03-03T06:25:40.552215Z",
     "start_time": "2024-03-03T06:25:40.538379Z"
    }
   },
   "id": "67cd5ebebc959ff4",
   "execution_count": 3
  },
  {
   "cell_type": "code",
   "outputs": [],
   "source": [
    "values = [x / (x - y)\n",
    "          for x in range(10)\n",
    "          if x > 5\n",
    "          for y in range(10)\n",
    "          if x - y != 0]"
   ],
   "metadata": {
    "collapsed": false,
    "ExecuteTime": {
     "end_time": "2024-03-03T06:32:39.434483Z",
     "start_time": "2024-03-03T06:32:39.417622Z"
    }
   },
   "id": "5250e4db8c8d464d",
   "execution_count": 23
  },
  {
   "cell_type": "code",
   "outputs": [
    {
     "data": {
      "text/plain": "1340932795824"
     },
     "execution_count": 29,
     "metadata": {},
     "output_type": "execute_result"
    }
   ],
   "source": [
    "id('3')"
   ],
   "metadata": {
    "collapsed": false,
    "ExecuteTime": {
     "end_time": "2024-03-03T07:37:16.512551Z",
     "start_time": "2024-03-03T07:37:16.502465Z"
    }
   },
   "id": "e57e07b3733ba2b",
   "execution_count": 29
  },
  {
   "cell_type": "code",
   "outputs": [],
   "source": [
    "a = 3019109890189981"
   ],
   "metadata": {
    "collapsed": false,
    "ExecuteTime": {
     "end_time": "2024-03-03T07:40:39.637382Z",
     "start_time": "2024-03-03T07:40:39.629199Z"
    }
   },
   "id": "c2934aafdd337ef4",
   "execution_count": 37
  },
  {
   "cell_type": "code",
   "outputs": [],
   "source": [
    "a = 1"
   ],
   "metadata": {
    "collapsed": false,
    "ExecuteTime": {
     "end_time": "2024-03-03T07:41:04.803773Z",
     "start_time": "2024-03-03T07:41:04.792325Z"
    }
   },
   "id": "c8373e7975ac812d",
   "execution_count": 39
  },
  {
   "cell_type": "code",
   "outputs": [
    {
     "data": {
      "text/plain": "3416"
     },
     "execution_count": 57,
     "metadata": {},
     "output_type": "execute_result"
    }
   ],
   "source": [
    "import sys\n",
    "\n",
    "sys.getrefcount(b)"
   ],
   "metadata": {
    "collapsed": false,
    "ExecuteTime": {
     "end_time": "2024-03-03T07:45:46.720611Z",
     "start_time": "2024-03-03T07:45:46.708353Z"
    }
   },
   "id": "949c1634fe35f272",
   "execution_count": 57
  },
  {
   "cell_type": "code",
   "outputs": [],
   "source": [
    "r = [1, 2, 3]\n",
    "s = r"
   ],
   "metadata": {
    "collapsed": false,
    "ExecuteTime": {
     "end_time": "2024-03-03T07:58:25.178413Z",
     "start_time": "2024-03-03T07:58:25.161260Z"
    }
   },
   "id": "1fae3890c412c85c",
   "execution_count": 58
  },
  {
   "cell_type": "code",
   "outputs": [
    {
     "data": {
      "text/plain": "(1341034364992, 1341034364992)"
     },
     "execution_count": 59,
     "metadata": {},
     "output_type": "execute_result"
    }
   ],
   "source": [
    "id(r), id(s)"
   ],
   "metadata": {
    "collapsed": false,
    "ExecuteTime": {
     "end_time": "2024-03-03T07:58:32.181366Z",
     "start_time": "2024-03-03T07:58:32.165813Z"
    }
   },
   "id": "f08ed263490fe083",
   "execution_count": 59
  },
  {
   "cell_type": "code",
   "outputs": [],
   "source": [
    "s[0] = 7"
   ],
   "metadata": {
    "collapsed": false,
    "ExecuteTime": {
     "end_time": "2024-03-03T07:58:44.414513Z",
     "start_time": "2024-03-03T07:58:44.406413Z"
    }
   },
   "id": "e50c73946e7baea4",
   "execution_count": 60
  },
  {
   "cell_type": "code",
   "outputs": [
    {
     "data": {
      "text/plain": "7"
     },
     "execution_count": 61,
     "metadata": {},
     "output_type": "execute_result"
    }
   ],
   "source": [
    "r[0]"
   ],
   "metadata": {
    "collapsed": false,
    "ExecuteTime": {
     "end_time": "2024-03-03T07:58:47.340519Z",
     "start_time": "2024-03-03T07:58:47.327519Z"
    }
   },
   "id": "4eee782a44c8af80",
   "execution_count": 61
  },
  {
   "cell_type": "code",
   "outputs": [
    {
     "data": {
      "text/plain": "(1340930222448, 1340930222448)"
     },
     "execution_count": 67,
     "metadata": {},
     "output_type": "execute_result"
    }
   ],
   "source": [
    "id(r[2]), id(s[2])"
   ],
   "metadata": {
    "collapsed": false,
    "ExecuteTime": {
     "end_time": "2024-03-03T08:00:04.488262Z",
     "start_time": "2024-03-03T08:00:04.475268Z"
    }
   },
   "id": "f048469c03c72468",
   "execution_count": 67
  },
  {
   "cell_type": "code",
   "outputs": [],
   "source": [
    "p = [1, 2, 3]\n",
    "q = [1, 2, 3]"
   ],
   "metadata": {
    "collapsed": false,
    "ExecuteTime": {
     "end_time": "2024-03-03T08:02:04.975158Z",
     "start_time": "2024-03-03T08:02:04.960392Z"
    }
   },
   "id": "56c6c0d5367b4594",
   "execution_count": 68
  },
  {
   "cell_type": "code",
   "outputs": [
    {
     "data": {
      "text/plain": "(1341034379328, 1341033317376)"
     },
     "execution_count": 69,
     "metadata": {},
     "output_type": "execute_result"
    }
   ],
   "source": [
    "id(p), id(q)"
   ],
   "metadata": {
    "collapsed": false,
    "ExecuteTime": {
     "end_time": "2024-03-03T08:02:08.975480Z",
     "start_time": "2024-03-03T08:02:08.957285Z"
    }
   },
   "id": "d470e09d05e2fafe",
   "execution_count": 69
  },
  {
   "cell_type": "code",
   "outputs": [
    {
     "data": {
      "text/plain": "False"
     },
     "execution_count": 70,
     "metadata": {},
     "output_type": "execute_result"
    }
   ],
   "source": [
    "p is q"
   ],
   "metadata": {
    "collapsed": false,
    "ExecuteTime": {
     "end_time": "2024-03-03T08:02:16.361512Z",
     "start_time": "2024-03-03T08:02:16.347476Z"
    }
   },
   "id": "e6267b766f9eac6b",
   "execution_count": 70
  },
  {
   "cell_type": "code",
   "outputs": [
    {
     "data": {
      "text/plain": "True"
     },
     "execution_count": 71,
     "metadata": {},
     "output_type": "execute_result"
    }
   ],
   "source": [
    "p == q"
   ],
   "metadata": {
    "collapsed": false,
    "ExecuteTime": {
     "end_time": "2024-03-03T08:08:23.946120Z",
     "start_time": "2024-03-03T08:08:23.934120Z"
    }
   },
   "id": "c351d454ae17266a",
   "execution_count": 71
  },
  {
   "cell_type": "code",
   "outputs": [],
   "source": [
    "p = 2\n",
    "q = 2"
   ],
   "metadata": {
    "collapsed": false,
    "ExecuteTime": {
     "end_time": "2024-03-03T08:08:34.222236Z",
     "start_time": "2024-03-03T08:08:34.208955Z"
    }
   },
   "id": "23004127fa41829f",
   "execution_count": 72
  },
  {
   "cell_type": "code",
   "outputs": [
    {
     "data": {
      "text/plain": "True"
     },
     "execution_count": 73,
     "metadata": {},
     "output_type": "execute_result"
    }
   ],
   "source": [
    "p is q"
   ],
   "metadata": {
    "collapsed": false,
    "ExecuteTime": {
     "end_time": "2024-03-03T08:08:39.873493Z",
     "start_time": "2024-03-03T08:08:39.865564Z"
    }
   },
   "id": "c4e6617a5c19e3ec",
   "execution_count": 73
  },
  {
   "cell_type": "code",
   "outputs": [
    {
     "data": {
      "text/plain": "True"
     },
     "execution_count": 74,
     "metadata": {},
     "output_type": "execute_result"
    }
   ],
   "source": [
    "p == q"
   ],
   "metadata": {
    "collapsed": false,
    "ExecuteTime": {
     "end_time": "2024-03-03T08:08:49.901238Z",
     "start_time": "2024-03-03T08:08:49.889284Z"
    }
   },
   "id": "c2a6b83835313e34",
   "execution_count": 74
  },
  {
   "cell_type": "code",
   "outputs": [],
   "source": [
    "p = [2]\n",
    "q = [2]"
   ],
   "metadata": {
    "collapsed": false,
    "ExecuteTime": {
     "end_time": "2024-03-03T08:10:40.394287Z",
     "start_time": "2024-03-03T08:10:40.382445Z"
    }
   },
   "id": "ee0b3b1db08acf4e",
   "execution_count": 75
  },
  {
   "cell_type": "code",
   "outputs": [
    {
     "data": {
      "text/plain": "False"
     },
     "execution_count": 76,
     "metadata": {},
     "output_type": "execute_result"
    }
   ],
   "source": [
    "p is q"
   ],
   "metadata": {
    "collapsed": false,
    "ExecuteTime": {
     "end_time": "2024-03-03T08:10:42.662187Z",
     "start_time": "2024-03-03T08:10:42.654601Z"
    }
   },
   "id": "d16cfee2703396c9",
   "execution_count": 76
  },
  {
   "cell_type": "code",
   "outputs": [
    {
     "data": {
      "text/plain": "True"
     },
     "execution_count": 79,
     "metadata": {},
     "output_type": "execute_result"
    }
   ],
   "source": [
    "p is p"
   ],
   "metadata": {
    "collapsed": false,
    "ExecuteTime": {
     "end_time": "2024-03-03T08:13:23.873399Z",
     "start_time": "2024-03-03T08:13:23.861389Z"
    }
   },
   "id": "cb0481925f1521b4",
   "execution_count": 79
  },
  {
   "cell_type": "code",
   "outputs": [],
   "source": [
    "f = [1, 2, 3]\n",
    "\n",
    "\n",
    "def replace(g):\n",
    "    g = [4, 5, 6]\n",
    "    return g"
   ],
   "metadata": {
    "collapsed": false,
    "ExecuteTime": {
     "end_time": "2024-03-03T08:24:05.859919Z",
     "start_time": "2024-03-03T08:24:05.848171Z"
    }
   },
   "id": "ad1ea8fa0ec9455",
   "execution_count": 89
  },
  {
   "cell_type": "code",
   "outputs": [],
   "source": [
    "h = replace(f)"
   ],
   "metadata": {
    "collapsed": false,
    "ExecuteTime": {
     "end_time": "2024-03-03T08:24:06.827420Z",
     "start_time": "2024-03-03T08:24:06.809257Z"
    }
   },
   "id": "3aa16b79f0c7d466",
   "execution_count": 90
  },
  {
   "cell_type": "code",
   "outputs": [
    {
     "data": {
      "text/plain": "(1341033356864, 1341034669248)"
     },
     "execution_count": 91,
     "metadata": {},
     "output_type": "execute_result"
    }
   ],
   "source": [
    "id(h), id(f)"
   ],
   "metadata": {
    "collapsed": false,
    "ExecuteTime": {
     "end_time": "2024-03-03T08:24:10.627863Z",
     "start_time": "2024-03-03T08:24:10.606863Z"
    }
   },
   "id": "52b9245fe74e6cc3",
   "execution_count": 91
  },
  {
   "cell_type": "code",
   "outputs": [
    {
     "data": {
      "text/plain": "True"
     },
     "execution_count": 88,
     "metadata": {},
     "output_type": "execute_result"
    }
   ],
   "source": [
    "h == f"
   ],
   "metadata": {
    "collapsed": false,
    "ExecuteTime": {
     "end_time": "2024-03-03T08:23:55.469391Z",
     "start_time": "2024-03-03T08:23:55.462389Z"
    }
   },
   "id": "e18f3c0ce6fe1ca",
   "execution_count": 88
  },
  {
   "cell_type": "code",
   "outputs": [
    {
     "data": {
      "text/plain": "False"
     },
     "execution_count": 93,
     "metadata": {},
     "output_type": "execute_result"
    }
   ],
   "source": [
    "h == f"
   ],
   "metadata": {
    "collapsed": false,
    "ExecuteTime": {
     "end_time": "2024-03-03T08:26:18.116478Z",
     "start_time": "2024-03-03T08:26:18.083848Z"
    }
   },
   "id": "6674744ffce3a8e6",
   "execution_count": 93
  },
  {
   "cell_type": "code",
   "outputs": [],
   "source": [
    "s = map(func, [1, 2, 3])"
   ],
   "metadata": {
    "collapsed": false,
    "ExecuteTime": {
     "end_time": "2024-03-03T09:08:24.060279Z",
     "start_time": "2024-03-03T09:08:24.049499Z"
    }
   },
   "id": "51757a44dad9b283",
   "execution_count": 116
  },
  {
   "cell_type": "code",
   "outputs": [
    {
     "ename": "TypeError",
     "evalue": "func() missing 1 required positional argument: 'y'",
     "output_type": "error",
     "traceback": [
      "\u001B[1;31m---------------------------------------------------------------------------\u001B[0m",
      "\u001B[1;31mTypeError\u001B[0m                                 Traceback (most recent call last)",
      "Cell \u001B[1;32mIn[117], line 1\u001B[0m\n\u001B[1;32m----> 1\u001B[0m \u001B[38;5;28;43mlist\u001B[39;49m\u001B[43m(\u001B[49m\u001B[43ms\u001B[49m\u001B[43m)\u001B[49m\n",
      "\u001B[1;31mTypeError\u001B[0m: func() missing 1 required positional argument: 'y'"
     ]
    }
   ],
   "source": [
    "list(s)"
   ],
   "metadata": {
    "collapsed": false,
    "ExecuteTime": {
     "end_time": "2024-03-03T09:08:24.698267Z",
     "start_time": "2024-03-03T09:08:24.654385Z"
    }
   },
   "id": "19727c9935aef660",
   "execution_count": 117
  },
  {
   "cell_type": "code",
   "outputs": [],
   "source": [
    "def func(x, y):\n",
    "    return x + 2"
   ],
   "metadata": {
    "collapsed": false,
    "ExecuteTime": {
     "end_time": "2024-03-03T09:08:22.258830Z",
     "start_time": "2024-03-03T09:08:22.246617Z"
    }
   },
   "id": "f68464c2adc05e9e",
   "execution_count": 115
  },
  {
   "cell_type": "code",
   "outputs": [
    {
     "data": {
      "text/plain": "[(1, 'l'), (2, 'u'), (3, 'v'), (4, {1, 2})]"
     },
     "execution_count": 123,
     "metadata": {},
     "output_type": "execute_result"
    }
   ],
   "source": [
    "a = [1, 2, 3, 4]\n",
    "b = ['l', 'u', 'v', {1, 2}]\n",
    "list(zip(a, b))"
   ],
   "metadata": {
    "collapsed": false,
    "ExecuteTime": {
     "end_time": "2024-03-03T09:13:13.090490Z",
     "start_time": "2024-03-03T09:13:13.078592Z"
    }
   },
   "id": "5c27908194951dd8",
   "execution_count": 123
  },
  {
   "cell_type": "code",
   "outputs": [],
   "source": [
    "from functools import reduce"
   ],
   "metadata": {
    "collapsed": false,
    "ExecuteTime": {
     "end_time": "2024-03-03T09:17:10.480981Z",
     "start_time": "2024-03-03T09:17:10.467761Z"
    }
   },
   "id": "9cd4aa0ea7acf34e",
   "execution_count": 126
  },
  {
   "cell_type": "code",
   "outputs": [
    {
     "data": {
      "text/plain": "15"
     },
     "execution_count": 128,
     "metadata": {},
     "output_type": "execute_result"
    }
   ],
   "source": [
    "a = [1, 2, 3, 4, 5]\n",
    "reduce(lambda x, y: x + y, a)"
   ],
   "metadata": {
    "collapsed": false,
    "ExecuteTime": {
     "end_time": "2024-03-03T09:18:17.278335Z",
     "start_time": "2024-03-03T09:18:17.268371Z"
    }
   },
   "id": "39c3e31ce73b6e82",
   "execution_count": 128
  },
  {
   "cell_type": "code",
   "outputs": [
    {
     "data": {
      "text/plain": "120"
     },
     "execution_count": 130,
     "metadata": {},
     "output_type": "execute_result"
    }
   ],
   "source": [
    "a = [1, 2, 3, 4, 5]\n",
    "reduce(lambda x, y: x * y, a)"
   ],
   "metadata": {
    "collapsed": false,
    "ExecuteTime": {
     "end_time": "2024-03-03T12:57:43.793650Z",
     "start_time": "2024-03-03T12:57:43.746760Z"
    }
   },
   "id": "6c9ebc5ef11baca3",
   "execution_count": 130
  },
  {
   "cell_type": "code",
   "outputs": [],
   "source": [
    "a = list(range(1, 11))\n",
    "b = list(reversed(a))"
   ],
   "metadata": {
    "collapsed": false,
    "ExecuteTime": {
     "end_time": "2024-03-03T12:59:22.142268Z",
     "start_time": "2024-03-03T12:59:22.134268Z"
    }
   },
   "id": "1462cac81c55f9f0",
   "execution_count": 131
  },
  {
   "cell_type": "code",
   "outputs": [
    {
     "data": {
      "text/plain": "[1, 2, 3, 4, 5, 6, 7, 8, 9, 10]"
     },
     "execution_count": 132,
     "metadata": {},
     "output_type": "execute_result"
    }
   ],
   "source": [
    "a"
   ],
   "metadata": {
    "collapsed": false,
    "ExecuteTime": {
     "end_time": "2024-03-03T12:59:25.282246Z",
     "start_time": "2024-03-03T12:59:25.242866Z"
    }
   },
   "id": "9386d491df178a56",
   "execution_count": 132
  },
  {
   "cell_type": "code",
   "outputs": [
    {
     "data": {
      "text/plain": "[10, 9, 8, 7, 6, 5, 4, 3, 2, 1]"
     },
     "execution_count": 133,
     "metadata": {},
     "output_type": "execute_result"
    }
   ],
   "source": [
    "b"
   ],
   "metadata": {
    "collapsed": false,
    "ExecuteTime": {
     "end_time": "2024-03-03T12:59:27.529208Z",
     "start_time": "2024-03-03T12:59:27.512167Z"
    }
   },
   "id": "fb719506a68f6aab",
   "execution_count": 133
  },
  {
   "cell_type": "code",
   "outputs": [
    {
     "data": {
      "text/plain": "True"
     },
     "execution_count": 136,
     "metadata": {},
     "output_type": "execute_result"
    }
   ],
   "source": [
    "reduce(lambda x, y: x * y, a) == reduce(lambda x, y: x * y, b)"
   ],
   "metadata": {
    "collapsed": false,
    "ExecuteTime": {
     "end_time": "2024-03-03T13:01:55.089732Z",
     "start_time": "2024-03-03T13:01:55.077048Z"
    }
   },
   "id": "d52261a60ce36bea",
   "execution_count": 136
  },
  {
   "cell_type": "code",
   "outputs": [
    {
     "data": {
      "text/plain": "234"
     },
     "execution_count": 143,
     "metadata": {},
     "output_type": "execute_result"
    }
   ],
   "source": [
    "reduce(lambda x, y: x if x > y else y, a)"
   ],
   "metadata": {
    "collapsed": false,
    "ExecuteTime": {
     "end_time": "2024-03-03T13:07:02.412067Z",
     "start_time": "2024-03-03T13:07:02.389848Z"
    }
   },
   "id": "6a0c5ce927fdaaf3",
   "execution_count": 143
  },
  {
   "cell_type": "code",
   "outputs": [],
   "source": [
    "a = [78, -1, 98, 101, 234, 67, 77, 89, 32, 45, 12, 29, 71]"
   ],
   "metadata": {
    "collapsed": false,
    "ExecuteTime": {
     "end_time": "2024-03-03T13:06:00.923317Z",
     "start_time": "2024-03-03T13:06:00.895904Z"
    }
   },
   "id": "2c1413788f872fd6",
   "execution_count": 139
  },
  {
   "cell_type": "code",
   "outputs": [],
   "source": [
    "def sum1(x, y, *laks):\n",
    "    result = x + y\n",
    "    if laks:\n",
    "        result += reduce(lambda x, y: x + y, laks)\n",
    "\n",
    "    return result\n"
   ],
   "metadata": {
    "collapsed": false,
    "ExecuteTime": {
     "end_time": "2024-03-03T17:06:32.069085Z",
     "start_time": "2024-03-03T17:06:32.042904Z"
    }
   },
   "id": "2fe48185cffdddbd",
   "execution_count": 179
  },
  {
   "cell_type": "code",
   "outputs": [
    {
     "data": {
      "text/plain": "23"
     },
     "execution_count": 180,
     "metadata": {},
     "output_type": "execute_result"
    }
   ],
   "source": [
    "sum1(5, 6, 12)"
   ],
   "metadata": {
    "collapsed": false,
    "ExecuteTime": {
     "end_time": "2024-03-03T17:06:33.366784Z",
     "start_time": "2024-03-03T17:06:33.353584Z"
    }
   },
   "id": "579d6e22a13c781b",
   "execution_count": 180
  },
  {
   "cell_type": "code",
   "outputs": [
    {
     "data": {
      "text/plain": "24"
     },
     "execution_count": 164,
     "metadata": {},
     "output_type": "execute_result"
    }
   ],
   "source": [
    "sum({7, 7, 8, 9})"
   ],
   "metadata": {
    "collapsed": false,
    "ExecuteTime": {
     "end_time": "2024-03-03T16:45:55.765003Z",
     "start_time": "2024-03-03T16:45:55.740907Z"
    }
   },
   "id": "84838d1ad2ceff21",
   "execution_count": 164
  },
  {
   "cell_type": "code",
   "outputs": [],
   "source": [
    "def create_person(name, age, gender, **kwargs):\n",
    "    Person = {\n",
    "        \"name\": name,\n",
    "        \"age\": age,\n",
    "        \"gender\": gender,\n",
    "    }\n",
    "    if kwargs:\n",
    "        Person.update(kwargs)\n",
    "    return Person"
   ],
   "metadata": {
    "collapsed": false,
    "ExecuteTime": {
     "end_time": "2024-03-03T17:16:49.475957Z",
     "start_time": "2024-03-03T17:16:49.458792Z"
    }
   },
   "id": "bc0769109058721a",
   "execution_count": 207
  },
  {
   "cell_type": "code",
   "outputs": [],
   "source": [
    "p1 = create_person('laks', 46, gender=\"Male\", hobby=\"jogging\", habit='sleeping', working_at=\"EY\")"
   ],
   "metadata": {
    "collapsed": false,
    "ExecuteTime": {
     "end_time": "2024-03-03T17:19:36.826802Z",
     "start_time": "2024-03-03T17:19:36.814803Z"
    }
   },
   "id": "86df461458659fd1",
   "execution_count": 218
  },
  {
   "cell_type": "code",
   "outputs": [
    {
     "data": {
      "text/plain": "{'name': 'laks',\n 'age': 46,\n 'gender': 'Male',\n 'hobby': 'jogging',\n 'habit': 'sleeping',\n 'working_at': 'EY'}"
     },
     "execution_count": 219,
     "metadata": {},
     "output_type": "execute_result"
    }
   ],
   "source": [
    "p1"
   ],
   "metadata": {
    "collapsed": false,
    "ExecuteTime": {
     "end_time": "2024-03-03T17:19:38.692924Z",
     "start_time": "2024-03-03T17:19:38.674561Z"
    }
   },
   "id": "d3082ee7d0df608c",
   "execution_count": 219
  },
  {
   "cell_type": "code",
   "outputs": [],
   "source": [
    "def random(x, y, *args, **kwargs):\n",
    "    print(x)\n",
    "    print(args)\n",
    "    print(kwargs)"
   ],
   "metadata": {
    "collapsed": false,
    "ExecuteTime": {
     "end_time": "2024-03-03T17:22:19.523896Z",
     "start_time": "2024-03-03T17:22:19.511004Z"
    }
   },
   "id": "d12ee74d8b343530",
   "execution_count": 224
  },
  {
   "cell_type": "code",
   "outputs": [
    {
     "name": "stdout",
     "output_type": "stream",
     "text": [
      "1\n",
      "()\n",
      "{}\n"
     ]
    }
   ],
   "source": [
    "random(1, y=2)"
   ],
   "metadata": {
    "collapsed": false,
    "ExecuteTime": {
     "end_time": "2024-03-03T17:27:17.531834Z",
     "start_time": "2024-03-03T17:27:17.520802Z"
    }
   },
   "id": "fdc6976df4f318fe",
   "execution_count": 227
  },
  {
   "cell_type": "code",
   "outputs": [
    {
     "ename": "NameError",
     "evalue": "name 'len' is not defined",
     "output_type": "error",
     "traceback": [
      "\u001B[1;31m---------------------------------------------------------------------------\u001B[0m",
      "\u001B[1;31mNameError\u001B[0m                                 Traceback (most recent call last)",
      "Cell \u001B[1;32mIn[233], line 1\u001B[0m\n\u001B[1;32m----> 1\u001B[0m \u001B[38;5;28;01mdel\u001B[39;00m \u001B[38;5;28mlen\u001B[39m\n",
      "\u001B[1;31mNameError\u001B[0m: name 'len' is not defined"
     ]
    }
   ],
   "source": [
    "del len"
   ],
   "metadata": {
    "collapsed": false,
    "ExecuteTime": {
     "end_time": "2024-03-03T17:49:39.251041Z",
     "start_time": "2024-03-03T17:49:39.222871Z"
    }
   },
   "id": "2e1b9451ea5cec4",
   "execution_count": 233
  },
  {
   "cell_type": "code",
   "outputs": [
    {
     "data": {
      "text/plain": "13"
     },
     "execution_count": 234,
     "metadata": {},
     "output_type": "execute_result"
    }
   ],
   "source": [
    "len(a)"
   ],
   "metadata": {
    "collapsed": false,
    "ExecuteTime": {
     "end_time": "2024-03-03T17:49:43.592083Z",
     "start_time": "2024-03-03T17:49:43.570923Z"
    }
   },
   "id": "ae91934f1aa374fa",
   "execution_count": 234
  },
  {
   "cell_type": "code",
   "outputs": [
    {
     "data": {
      "text/plain": "3.1622776601683795"
     },
     "execution_count": 1,
     "metadata": {},
     "output_type": "execute_result"
    }
   ],
   "source": [
    "10 ** 0.5"
   ],
   "metadata": {
    "collapsed": false,
    "ExecuteTime": {
     "end_time": "2024-03-04T13:51:06.375077Z",
     "start_time": "2024-03-04T13:51:06.348846Z"
    }
   },
   "id": "591cc8dfe0d212a7",
   "execution_count": 1
  },
  {
   "cell_type": "code",
   "outputs": [],
   "source": [
    "n = 125"
   ],
   "metadata": {
    "collapsed": false,
    "ExecuteTime": {
     "end_time": "2024-03-04T15:42:01.440175Z",
     "start_time": "2024-03-04T15:42:01.428128Z"
    }
   },
   "id": "34fddf5926030023",
   "execution_count": 3
  },
  {
   "cell_type": "code",
   "outputs": [
    {
     "data": {
      "text/plain": "15625"
     },
     "execution_count": 5,
     "metadata": {},
     "output_type": "execute_result"
    }
   ],
   "source": [
    "n ** 2"
   ],
   "metadata": {
    "collapsed": false,
    "ExecuteTime": {
     "end_time": "2024-03-04T15:42:23.963867Z",
     "start_time": "2024-03-04T15:42:23.941066Z"
    }
   },
   "id": "3cdb849866ad939c",
   "execution_count": 5
  },
  {
   "cell_type": "code",
   "outputs": [],
   "source": [
    "def check(n):\n",
    "    return True if n > 0 else False"
   ],
   "metadata": {
    "collapsed": false,
    "ExecuteTime": {
     "end_time": "2024-03-05T15:28:41.276070Z",
     "start_time": "2024-03-05T15:28:41.245938Z"
    }
   },
   "id": "dc5a85efde7a835b",
   "execution_count": 1
  },
  {
   "cell_type": "code",
   "outputs": [
    {
     "data": {
      "text/plain": "False"
     },
     "execution_count": 2,
     "metadata": {},
     "output_type": "execute_result"
    }
   ],
   "source": [
    "check(-3)"
   ],
   "metadata": {
    "collapsed": false,
    "ExecuteTime": {
     "end_time": "2024-03-05T15:28:43.403231Z",
     "start_time": "2024-03-05T15:28:43.375898Z"
    }
   },
   "id": "b7b21af0ae0c6b",
   "execution_count": 2
  },
  {
   "cell_type": "code",
   "outputs": [
    {
     "name": "stdout",
     "output_type": "stream",
     "text": [
      "1\n",
      "9\n",
      "17\n",
      "25\n",
      "33\n",
      "41\n",
      "49\n",
      "57\n",
      "65\n",
      "73\n",
      "81\n",
      "89\n",
      "97\n"
     ]
    }
   ],
   "source": [
    "j = 4\n",
    "for i in range(1, 100, j * 2):\n",
    "    print(i)\n",
    "    j = j * 2"
   ],
   "metadata": {
    "collapsed": false,
    "ExecuteTime": {
     "end_time": "2024-03-05T15:30:52.346460Z",
     "start_time": "2024-03-05T15:30:52.328053Z"
    }
   },
   "id": "e8c057c1d1c54c67",
   "execution_count": 7
  },
  {
   "cell_type": "code",
   "outputs": [],
   "source": [
    "def loop(N):\n",
    "    count = 0\n",
    "    j = 1\n",
    "    for i in range(N):\n",
    "        for j in range(1, N + 1, j * 2):\n",
    "            count += 1\n",
    "    print(count)"
   ],
   "metadata": {
    "collapsed": false,
    "ExecuteTime": {
     "end_time": "2024-03-05T16:06:58.950394Z",
     "start_time": "2024-03-05T16:06:58.938374Z"
    }
   },
   "id": "71e149012beb7c71",
   "execution_count": 52
  },
  {
   "cell_type": "code",
   "outputs": [
    {
     "name": "stdout",
     "output_type": "stream",
     "text": [
      "1640\n"
     ]
    }
   ],
   "source": [
    "loop(80)"
   ],
   "metadata": {
    "collapsed": false,
    "ExecuteTime": {
     "end_time": "2024-03-05T16:08:31.821549Z",
     "start_time": "2024-03-05T16:08:31.809245Z"
    }
   },
   "id": "2fe32b595fc88769",
   "execution_count": 60
  },
  {
   "cell_type": "code",
   "outputs": [],
   "source": [
    "import math"
   ],
   "metadata": {
    "collapsed": false,
    "ExecuteTime": {
     "end_time": "2024-03-05T16:07:46.490845Z",
     "start_time": "2024-03-05T16:07:46.478048Z"
    }
   },
   "id": "2e21c557f5d13eba",
   "execution_count": 56
  },
  {
   "cell_type": "code",
   "outputs": [
    {
     "data": {
      "text/plain": "4.382026634673881"
     },
     "execution_count": 61,
     "metadata": {},
     "output_type": "execute_result"
    }
   ],
   "source": [
    "math.log(80)"
   ],
   "metadata": {
    "collapsed": false,
    "ExecuteTime": {
     "end_time": "2024-03-05T16:08:38.471380Z",
     "start_time": "2024-03-05T16:08:38.458378Z"
    }
   },
   "id": "65ffe720cf11f90d",
   "execution_count": 61
  },
  {
   "cell_type": "code",
   "outputs": [],
   "source": [
    "def loop(N):\n",
    "    count_i = 0\n",
    "    count_j = 0\n",
    "    for i in range(1, N + 1):\n",
    "        for j in range(1, N + 1, i * 2):\n",
    "            print(count_i, count_j)"
   ],
   "metadata": {
    "collapsed": false,
    "ExecuteTime": {
     "end_time": "2024-03-05T16:34:07.675555Z",
     "start_time": "2024-03-05T16:34:07.656148Z"
    }
   },
   "id": "d6f2ffa61150206e",
   "execution_count": 89
  },
  {
   "cell_type": "code",
   "outputs": [
    {
     "name": "stdout",
     "output_type": "stream",
     "text": [
      "0 0\n",
      "0 1\n",
      "0 2\n",
      "0 3\n",
      "0 4\n",
      "1 0\n",
      "1 1\n",
      "1 2\n",
      "2 0\n",
      "2 1\n",
      "3 0\n",
      "3 1\n",
      "4 0\n",
      "5 0\n",
      "6 0\n",
      "7 0\n",
      "8 0\n",
      "9 0\n",
      "10 1\n"
     ]
    }
   ],
   "source": [
    "loop(10)"
   ],
   "metadata": {
    "collapsed": false,
    "ExecuteTime": {
     "end_time": "2024-03-05T16:34:10.163315Z",
     "start_time": "2024-03-05T16:34:10.153318Z"
    }
   },
   "id": "b521a23bf5c714dd",
   "execution_count": 90
  },
  {
   "cell_type": "code",
   "outputs": [],
   "source": [
    "def loop(N):\n",
    "    count = 0\n",
    "    j = i = 1\n",
    "    while i < N + 1:\n",
    "        j = 1\n",
    "        while j < N + 1:\n",
    "            count += 1\n",
    "            j = j * 3\n",
    "        i += 1\n",
    "    print(count)"
   ],
   "metadata": {
    "collapsed": false,
    "ExecuteTime": {
     "end_time": "2024-03-05T17:14:58.907357Z",
     "start_time": "2024-03-05T17:14:58.899042Z"
    }
   },
   "id": "492b9fbfa8fb8b55",
   "execution_count": 11
  },
  {
   "cell_type": "code",
   "outputs": [
    {
     "name": "stdout",
     "output_type": "stream",
     "text": [
      "7000\n"
     ]
    }
   ],
   "source": [
    "loop(1000)"
   ],
   "metadata": {
    "collapsed": false,
    "ExecuteTime": {
     "end_time": "2024-03-05T17:14:59.979133Z",
     "start_time": "2024-03-05T17:14:59.962131Z"
    }
   },
   "id": "27f90a36105b860b",
   "execution_count": 12
  },
  {
   "cell_type": "code",
   "outputs": [],
   "source": [
    "import re"
   ],
   "metadata": {
    "collapsed": false,
    "ExecuteTime": {
     "end_time": "2024-03-08T07:08:35.486811Z",
     "start_time": "2024-03-08T07:08:35.478641Z"
    }
   },
   "id": "55298b4b45d4c90e",
   "execution_count": 5
  },
  {
   "cell_type": "code",
   "outputs": [],
   "source": [
    "email_pattern = \"^\\w+([\\.-]?\\w+)*@\\w+([|.-]?\\w+)*(\\.\\w{2,3})+$\"\n",
    "vemail = re.search(email_pattern, 'ajsjas@gmailszhdhs.co')"
   ],
   "metadata": {
    "collapsed": false,
    "ExecuteTime": {
     "end_time": "2024-03-08T07:13:27.696067Z",
     "start_time": "2024-03-08T07:13:27.688409Z"
    }
   },
   "id": "d5d7b4f2ead9e892",
   "execution_count": 27
  },
  {
   "cell_type": "code",
   "outputs": [
    {
     "data": {
      "text/plain": "<re.Match object; span=(0, 21), match='ajsjas@gmailszhdhs.co'>"
     },
     "execution_count": 29,
     "metadata": {},
     "output_type": "execute_result"
    }
   ],
   "source": [
    "vemail"
   ],
   "metadata": {
    "collapsed": false,
    "ExecuteTime": {
     "end_time": "2024-03-08T07:13:32.920129Z",
     "start_time": "2024-03-08T07:13:32.909662Z"
    }
   },
   "id": "b05ac6e15c0c40c8",
   "execution_count": 29
  },
  {
   "cell_type": "code",
   "outputs": [
    {
     "data": {
      "text/plain": "NoneType"
     },
     "execution_count": 20,
     "metadata": {},
     "output_type": "execute_result"
    }
   ],
   "source": [
    "type(vemail)"
   ],
   "metadata": {
    "collapsed": false,
    "ExecuteTime": {
     "end_time": "2024-03-08T07:13:00.089066Z",
     "start_time": "2024-03-08T07:13:00.078069Z"
    }
   },
   "id": "5a7feef0905bed56",
   "execution_count": 20
  },
  {
   "cell_type": "code",
   "outputs": [],
   "source": [
    "import numpy as np"
   ],
   "metadata": {
    "collapsed": false,
    "ExecuteTime": {
     "end_time": "2024-03-27T14:21:19.583790Z",
     "start_time": "2024-03-27T14:21:16.285Z"
    }
   },
   "id": "d8d95e18a75ee836",
   "execution_count": 2
  },
  {
   "cell_type": "code",
   "outputs": [],
   "source": [
    "a = np.array([1,2,3,4,5])"
   ],
   "metadata": {
    "collapsed": false,
    "ExecuteTime": {
     "end_time": "2024-03-27T14:25:51.105517Z",
     "start_time": "2024-03-27T14:25:51.088502Z"
    }
   },
   "id": "37870fcca81004fa",
   "execution_count": 36
  },
  {
   "cell_type": "code",
   "outputs": [],
   "source": [
    "b = a[a>=2]"
   ],
   "metadata": {
    "collapsed": false,
    "ExecuteTime": {
     "end_time": "2024-03-27T14:25:51.581786Z",
     "start_time": "2024-03-27T14:25:51.570257Z"
    }
   },
   "id": "302011ab8c292d71",
   "execution_count": 37
  },
  {
   "cell_type": "code",
   "outputs": [],
   "source": [
    "c = a[1:3]"
   ],
   "metadata": {
    "collapsed": false,
    "ExecuteTime": {
     "end_time": "2024-03-27T14:24:58.610851Z",
     "start_time": "2024-03-27T14:24:58.601799Z"
    }
   },
   "id": "2647d3917ccc7b57",
   "execution_count": 28
  },
  {
   "cell_type": "code",
   "outputs": [
    {
     "data": {
      "text/plain": "True"
     },
     "execution_count": 29,
     "metadata": {},
     "output_type": "execute_result"
    }
   ],
   "source": [
    "np.shares_memory(a,c)"
   ],
   "metadata": {
    "collapsed": false,
    "ExecuteTime": {
     "end_time": "2024-03-27T14:24:59.633406Z",
     "start_time": "2024-03-27T14:24:59.620263Z"
    }
   },
   "id": "294389579f4938d",
   "execution_count": 29
  },
  {
   "cell_type": "code",
   "outputs": [
    {
     "data": {
      "text/plain": "array([2, 3])"
     },
     "execution_count": 30,
     "metadata": {},
     "output_type": "execute_result"
    }
   ],
   "source": [
    "c"
   ],
   "metadata": {
    "collapsed": false,
    "ExecuteTime": {
     "end_time": "2024-03-27T14:25:03.309107Z",
     "start_time": "2024-03-27T14:25:03.297108Z"
    }
   },
   "id": "c4786b2155b829",
   "execution_count": 30
  },
  {
   "cell_type": "code",
   "outputs": [],
   "source": [
    "a[1] = 21"
   ],
   "metadata": {
    "collapsed": false,
    "ExecuteTime": {
     "end_time": "2024-03-27T14:25:27.795276Z",
     "start_time": "2024-03-27T14:25:27.765733Z"
    }
   },
   "id": "817db4e433398a7b",
   "execution_count": 33
  },
  {
   "cell_type": "code",
   "outputs": [
    {
     "data": {
      "text/plain": "array([2, 3, 4, 5])"
     },
     "execution_count": 38,
     "metadata": {},
     "output_type": "execute_result"
    }
   ],
   "source": [
    "b"
   ],
   "metadata": {
    "collapsed": false,
    "ExecuteTime": {
     "end_time": "2024-03-27T14:25:55.517927Z",
     "start_time": "2024-03-27T14:25:55.507519Z"
    }
   },
   "id": "6ec8ae782539e9cd",
   "execution_count": 38
  },
  {
   "cell_type": "code",
   "outputs": [
    {
     "data": {
      "text/plain": "array([1, 2, 3, 4, 5])"
     },
     "execution_count": 39,
     "metadata": {},
     "output_type": "execute_result"
    }
   ],
   "source": [
    "a.view()"
   ],
   "metadata": {
    "collapsed": false,
    "ExecuteTime": {
     "end_time": "2024-03-27T14:26:39.206345Z",
     "start_time": "2024-03-27T14:26:39.196157Z"
    }
   },
   "id": "ae1c537b2350751f",
   "execution_count": 39
  },
  {
   "cell_type": "code",
   "outputs": [
    {
     "data": {
      "text/plain": "array([1, 2, 3, 4, 5])"
     },
     "execution_count": 40,
     "metadata": {},
     "output_type": "execute_result"
    }
   ],
   "source": [
    "a"
   ],
   "metadata": {
    "collapsed": false,
    "ExecuteTime": {
     "end_time": "2024-03-27T14:26:45.218772Z",
     "start_time": "2024-03-27T14:26:45.205665Z"
    }
   },
   "id": "a3c1f203d8038fff",
   "execution_count": 40
  },
  {
   "cell_type": "code",
   "outputs": [
    {
     "ename": "ValueError",
     "evalue": "setting an array element with a sequence. The requested array has an inhomogeneous shape after 1 dimensions. The detected shape was (3,) + inhomogeneous part.",
     "output_type": "error",
     "traceback": [
      "\u001B[1;31m---------------------------------------------------------------------------\u001B[0m",
      "\u001B[1;31mValueError\u001B[0m                                Traceback (most recent call last)",
      "Cell \u001B[1;32mIn[44], line 1\u001B[0m\n\u001B[1;32m----> 1\u001B[0m a \u001B[38;5;241m=\u001B[39m \u001B[43mnp\u001B[49m\u001B[38;5;241;43m.\u001B[39;49m\u001B[43marray\u001B[49m\u001B[43m(\u001B[49m\u001B[43m[\u001B[49m\u001B[38;5;241;43m1\u001B[39;49m\u001B[43m,\u001B[49m\u001B[38;5;241;43m2\u001B[39;49m\u001B[43m,\u001B[49m\u001B[43m[\u001B[49m\u001B[38;5;241;43m1\u001B[39;49m\u001B[43m,\u001B[49m\u001B[38;5;241;43m2\u001B[39;49m\u001B[43m,\u001B[49m\u001B[38;5;241;43m3\u001B[39;49m\u001B[43m]\u001B[49m\u001B[43m]\u001B[49m\u001B[43m)\u001B[49m\n",
      "\u001B[1;31mValueError\u001B[0m: setting an array element with a sequence. The requested array has an inhomogeneous shape after 1 dimensions. The detected shape was (3,) + inhomogeneous part."
     ]
    }
   ],
   "source": [
    "a = np.array([1,2,[1,2,3]])"
   ],
   "metadata": {
    "collapsed": false,
    "ExecuteTime": {
     "end_time": "2024-03-27T15:27:10.122402Z",
     "start_time": "2024-03-27T15:27:10.080142Z"
    }
   },
   "id": "e9847f2e500856ad",
   "execution_count": 44
  },
  {
   "cell_type": "code",
   "source": [
    "class Stock:\n",
    "    def __init__(self, ticker, price, company):\n",
    "        self.ticker = ticker\n",
    "        self.price = price\n",
    "        self.company = company\n",
    "    def get_description(self):\n",
    "        return f\"{self.ticker}: {self.company} -- ${self.price}\""
   ],
   "metadata": {
    "collapsed": false,
    "ExecuteTime": {
     "end_time": "2024-04-09T16:10:59.329783Z",
     "start_time": "2024-04-09T16:10:59.318860Z"
    }
   },
   "id": "971eaaeb67cd73fc",
   "outputs": [],
   "execution_count": 10
  },
  {
   "metadata": {
    "ExecuteTime": {
     "end_time": "2024-04-09T16:17:22.287269Z",
     "start_time": "2024-04-09T16:17:22.266471Z"
    }
   },
   "cell_type": "code",
   "source": "msft = Stock(\"MSFT\", 342.0, \"Microsoft Corp\")",
   "id": "5f457a6785817ded",
   "outputs": [],
   "execution_count": 16
  },
  {
   "metadata": {
    "ExecuteTime": {
     "end_time": "2024-04-09T16:17:23.240477Z",
     "start_time": "2024-04-09T16:17:23.228418Z"
    }
   },
   "cell_type": "code",
   "source": "print(msft.get_description())",
   "id": "64611f049c277726",
   "outputs": [
    {
     "name": "stdout",
     "output_type": "stream",
     "text": [
      "MSFT: Microsoft Corp -- $342.0\n"
     ]
    }
   ],
   "execution_count": 17
  },
  {
   "metadata": {},
   "cell_type": "code",
   "outputs": [],
   "execution_count": null,
   "source": "",
   "id": "2120b8950f096e5e"
  }
 ],
 "metadata": {
  "kernelspec": {
   "display_name": "Python 3",
   "language": "python",
   "name": "python3"
  },
  "language_info": {
   "codemirror_mode": {
    "name": "ipython",
    "version": 2
   },
   "file_extension": ".py",
   "mimetype": "text/x-python",
   "name": "python",
   "nbconvert_exporter": "python",
   "pygments_lexer": "ipython2",
   "version": "2.7.6"
  }
 },
 "nbformat": 4,
 "nbformat_minor": 5
}
