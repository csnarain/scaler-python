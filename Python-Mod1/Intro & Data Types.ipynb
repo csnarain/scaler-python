{
 "cells": [
  {
   "cell_type": "code",
   "id": "initial_id",
   "metadata": {
    "collapsed": true,
    "ExecuteTime": {
     "end_time": "2024-04-05T05:45:54.298607Z",
     "start_time": "2024-04-05T05:45:54.278218Z"
    }
   },
   "source": [
    "print(300 + 2)"
   ],
   "outputs": [
    {
     "name": "stdout",
     "output_type": "stream",
     "text": [
      "302\n"
     ]
    }
   ],
   "execution_count": 1
  },
  {
   "cell_type": "code",
   "source": [
    "type(2)"
   ],
   "metadata": {
    "collapsed": false,
    "ExecuteTime": {
     "end_time": "2024-04-05T05:47:50.738481Z",
     "start_time": "2024-04-05T05:47:50.714473Z"
    }
   },
   "id": "7d005e7292e7cfe9",
   "outputs": [
    {
     "data": {
      "text/plain": [
       "int"
      ]
     },
     "execution_count": 3,
     "metadata": {},
     "output_type": "execute_result"
    }
   ],
   "execution_count": 3
  },
  {
   "cell_type": "code",
   "source": [
    "type(\"0.\")"
   ],
   "metadata": {
    "collapsed": false,
    "ExecuteTime": {
     "end_time": "2024-04-05T05:47:53.576454Z",
     "start_time": "2024-04-05T05:47:53.552014Z"
    }
   },
   "id": "7d97492c8e740d03",
   "outputs": [
    {
     "data": {
      "text/plain": [
       "str"
      ]
     },
     "execution_count": 4,
     "metadata": {},
     "output_type": "execute_result"
    }
   ],
   "execution_count": 4
  },
  {
   "cell_type": "code",
   "outputs": [],
   "source": [
    "type(4 + 7)"
   ],
   "metadata": {
    "collapsed": false
   },
   "id": "5b30547c181c0e6f",
   "execution_count": null
  },
  {
   "cell_type": "code",
   "outputs": [],
   "source": [
    "a = 2"
   ],
   "metadata": {
    "collapsed": false
   },
   "id": "1c12648580414d86",
   "execution_count": null
  },
  {
   "cell_type": "code",
   "outputs": [],
   "source": [
    "print(a + 2)"
   ],
   "metadata": {
    "collapsed": false
   },
   "id": "d793e645fbcfbeeb",
   "execution_count": null
  },
  {
   "cell_type": "code",
   "outputs": [],
   "source": [
    "a = 2\n",
    "b = \"s\"\n",
    "print(\"a\" + 4)"
   ],
   "metadata": {
    "collapsed": false
   },
   "id": "9f78ad3670741da7",
   "execution_count": null
  },
  {
   "cell_type": "code",
   "outputs": [],
   "source": [
    "print(\"AJ\", 5)"
   ],
   "metadata": {
    "collapsed": false
   },
   "id": "eb5a24165cb61313",
   "execution_count": null
  },
  {
   "cell_type": "code",
   "outputs": [],
   "source": [
    "name = input(\"Enter your\")"
   ],
   "metadata": {
    "collapsed": false
   },
   "id": "270dbac513d18d9d",
   "execution_count": null
  },
  {
   "cell_type": "code",
   "outputs": [],
   "source": [
    "print(name)"
   ],
   "metadata": {
    "collapsed": false
   },
   "id": "bbaee3ea57da9611",
   "execution_count": null
  },
  {
   "cell_type": "code",
   "outputs": [],
   "source": [
    "a = int(input())\n",
    "b = int(input())\n",
    "print(a + b)"
   ],
   "metadata": {
    "collapsed": false
   },
   "id": "f0761ede421be5b2",
   "execution_count": null
  },
  {
   "cell_type": "code",
   "outputs": [],
   "source": [
    "int(\"ajd\")"
   ],
   "metadata": {
    "collapsed": false
   },
   "id": "439b1a6aa52ef710",
   "execution_count": null
  },
  {
   "cell_type": "code",
   "outputs": [],
   "source": [
    "a = 5\n",
    "type(print(4 + a))"
   ],
   "metadata": {
    "collapsed": false
   },
   "id": "584ec29b9e1e08f9",
   "execution_count": null
  },
  {
   "cell_type": "code",
   "outputs": [],
   "source": [
    "type(a)"
   ],
   "metadata": {
    "collapsed": false
   },
   "id": "acfb617fe0295029",
   "execution_count": null
  },
  {
   "cell_type": "code",
   "outputs": [],
   "source": [
    "10 + 3"
   ],
   "metadata": {
    "collapsed": false
   },
   "id": "55a0bb9561aec69d",
   "execution_count": null
  },
  {
   "cell_type": "code",
   "outputs": [],
   "source": [
    "type(10 / 3)"
   ],
   "metadata": {
    "collapsed": false
   },
   "id": "a15c1f8df31254a8",
   "execution_count": null
  },
  {
   "cell_type": "code",
   "outputs": [],
   "source": [
    "-10 // 3"
   ],
   "metadata": {
    "collapsed": false
   },
   "id": "4de1282a84fa3fbd",
   "execution_count": null
  },
  {
   "cell_type": "code",
   "outputs": [],
   "source": [
    "4 ** -1"
   ],
   "metadata": {
    "collapsed": false
   },
   "id": "f16d0a3c82f30f8b",
   "execution_count": null
  },
  {
   "cell_type": "code",
   "outputs": [],
   "source": [
    "25 ** 0.5"
   ],
   "metadata": {
    "collapsed": false
   },
   "id": "c7adb9ed9b20c298",
   "execution_count": null
  },
  {
   "cell_type": "code",
   "outputs": [],
   "source": [
    "print(10 ** -1)"
   ],
   "metadata": {
    "collapsed": false
   },
   "id": "9dddc8f1ed881b42",
   "execution_count": null
  },
  {
   "cell_type": "code",
   "outputs": [
    {
     "data": {
      "text/plain": "5.0"
     },
     "execution_count": 1,
     "metadata": {},
     "output_type": "execute_result"
    }
   ],
   "source": [
    "10 - 4 * 2 + 5 - 6 / 3"
   ],
   "metadata": {
    "collapsed": false,
    "ExecuteTime": {
     "end_time": "2024-02-09T08:32:22.216001800Z",
     "start_time": "2024-02-09T08:32:22.101061900Z"
    }
   },
   "id": "fb5d998946f2247f",
   "execution_count": 1
  },
  {
   "cell_type": "code",
   "outputs": [],
   "source": [
    "2 > 3"
   ],
   "metadata": {
    "collapsed": false
   },
   "id": "a77585c0947c3a0a",
   "execution_count": null
  },
  {
   "cell_type": "code",
   "outputs": [],
   "source": [
    "2 == 3"
   ],
   "metadata": {
    "collapsed": false
   },
   "id": "e55d1fba1b1f7f81",
   "execution_count": null
  },
  {
   "cell_type": "code",
   "outputs": [],
   "source": [
    "4 == 5"
   ],
   "metadata": {
    "collapsed": false
   },
   "id": "fdc9108705f65225",
   "execution_count": null
  },
  {
   "cell_type": "code",
   "outputs": [],
   "source": [
    "bool(\"\")"
   ],
   "metadata": {
    "collapsed": false
   },
   "id": "224d29e3d2065c2",
   "execution_count": null
  },
  {
   "cell_type": "code",
   "outputs": [],
   "source": [
    "int(\"-10\")"
   ],
   "metadata": {
    "collapsed": false
   },
   "id": "ea93b181de4e31cc",
   "execution_count": null
  },
  {
   "cell_type": "code",
   "outputs": [],
   "source": [
    "a = 3\n",
    "b = 2\n",
    "c = 2\n",
    "x = a < b + c"
   ],
   "metadata": {
    "collapsed": false
   },
   "id": "1bc20f011b6f5a92",
   "execution_count": null
  },
  {
   "cell_type": "code",
   "outputs": [],
   "source": [
    "print(x)"
   ],
   "metadata": {
    "collapsed": false
   },
   "id": "1fd1c62212ef2eb0",
   "execution_count": null
  },
  {
   "cell_type": "code",
   "outputs": [],
   "source": [
    "print(True + 30)"
   ],
   "metadata": {
    "collapsed": false
   },
   "id": "210028c0ec418962",
   "execution_count": null
  },
  {
   "cell_type": "code",
   "outputs": [],
   "source": [
    "N = 126.5\n",
    "M = 5"
   ],
   "metadata": {
    "collapsed": false
   },
   "id": "52dc7bd3b1d1eda",
   "execution_count": null
  },
  {
   "cell_type": "code",
   "outputs": [],
   "source": [
    "N // M"
   ],
   "metadata": {
    "collapsed": false
   },
   "id": "acddc0573c377ef6",
   "execution_count": null
  },
  {
   "cell_type": "code",
   "outputs": [],
   "source": [
    "\"54\" + \"23\""
   ],
   "metadata": {
    "collapsed": false
   },
   "id": "34409e48655e180",
   "execution_count": null
  },
  {
   "cell_type": "code",
   "outputs": [],
   "source": [
    "print(True == 1)"
   ],
   "metadata": {
    "collapsed": false
   },
   "id": "8603143658852a08",
   "execution_count": null
  },
  {
   "cell_type": "code",
   "outputs": [],
   "source": [
    "print(\"1\" == 1)"
   ],
   "metadata": {
    "collapsed": false
   },
   "id": "29dbcb328140e71",
   "execution_count": null
  },
  {
   "cell_type": "code",
   "outputs": [],
   "source": [
    "5 // 2.1"
   ],
   "metadata": {
    "collapsed": false
   },
   "id": "3cab2cb15b3ef5f1",
   "execution_count": null
  },
  {
   "cell_type": "code",
   "outputs": [],
   "source": [
    "if 56 > 50:\n",
    "    print(\"1\")\n",
    "    print(\"2\")\n",
    "print(\"3\")"
   ],
   "metadata": {
    "collapsed": false
   },
   "id": "200735852b1e5bf7",
   "execution_count": null
  },
  {
   "cell_type": "code",
   "outputs": [],
   "source": [
    "password = \"dontask\"\n",
    "user_input = input(\"Enter your password: \")\n",
    "if user_input == password:\n",
    "    print(\"Password is correct\")\n",
    "else:\n",
    "    print(\"Password is incorrect\")"
   ],
   "metadata": {
    "collapsed": false
   },
   "id": "2df39547aa2d6694",
   "execution_count": null
  },
  {
   "cell_type": "code",
   "outputs": [],
   "source": [
    "n = int(input(\"Enter\"))\n",
    "if n % 3 == 0 and n % 5 != 0:\n",
    "    print(\"Fizz\")\n",
    "elif n % 5 == 0 and n % 3 != 0:\n",
    "    print(\"Buzz\")\n",
    "elif n % 3 == 0 and n % 5 == 0:\n",
    "    print(\"FizzBuzz\")\n"
   ],
   "metadata": {
    "collapsed": false
   },
   "id": "af68f3a9d67c20f",
   "execution_count": null
  },
  {
   "cell_type": "code",
   "outputs": [],
   "source": [
    "n = 1\n",
    "a = int(input(\"Enter a number: \"))\n",
    "while n <= a:\n",
    "    print(n)\n",
    "    n += 1"
   ],
   "metadata": {
    "collapsed": false
   },
   "id": "d05855263a39a22d",
   "execution_count": null
  },
  {
   "cell_type": "code",
   "outputs": [],
   "source": [
    "i = 1\n",
    "n = int(input(\"Enter a number: \"))\n",
    "while i <= n:\n",
    "    print(i)\n",
    "    i += 2"
   ],
   "metadata": {
    "collapsed": false
   },
   "id": "26f80c7595d49542",
   "execution_count": null
  },
  {
   "cell_type": "code",
   "outputs": [],
   "source": [
    "start = int(input(\"Enter the first number: \"))\n",
    "end = int(input(\"Enter the last number: \"))\n",
    "while start <= end:\n",
    "    print(start)\n",
    "    start += 3"
   ],
   "metadata": {
    "collapsed": false
   },
   "id": "d055df639bb2e889",
   "execution_count": null
  },
  {
   "cell_type": "code",
   "outputs": [],
   "source": [
    "start = int(input(\"Enter the first number: \"))\n",
    "last = int(input(\"Enter the last\"))\n",
    "\n",
    "while start <= last:\n",
    "    if start % 2 == 0:\n",
    "        print(start)\n",
    "        start += 2\n",
    "    else:\n",
    "        start += 1\n"
   ],
   "metadata": {
    "collapsed": false,
    "is_executing": true
   },
   "id": "b07218d05bca546f",
   "execution_count": null
  },
  {
   "cell_type": "code",
   "outputs": [],
   "source": [
    "n = int(input(\"Enter a number: \"))\n",
    "i = 1\n",
    "while i < 6:\n",
    "    print(n * i, end=' ')\n",
    "    i += 1"
   ],
   "metadata": {
    "collapsed": false
   },
   "id": "3b0c09dd14453179",
   "execution_count": null
  },
  {
   "cell_type": "code",
   "outputs": [],
   "source": [
    "type(range(1, 7))"
   ],
   "metadata": {
    "collapsed": false
   },
   "id": "56ea1b4d4aab893a",
   "execution_count": null
  },
  {
   "cell_type": "code",
   "outputs": [],
   "source": [
    "for i in range(1, 4):\n",
    "    print(i)"
   ],
   "metadata": {
    "collapsed": false
   },
   "id": "7a88fdbec50738a7",
   "execution_count": null
  },
  {
   "cell_type": "code",
   "outputs": [],
   "source": [
    "list(range(2, 5, -1))"
   ],
   "metadata": {
    "collapsed": false
   },
   "id": "ce5f2a51179068f5",
   "execution_count": null
  },
  {
   "cell_type": "code",
   "outputs": [],
   "source": [
    "print(list(range(1, 11, 2)))"
   ],
   "metadata": {
    "collapsed": false
   },
   "id": "11579b726b2ad559",
   "execution_count": null
  },
  {
   "cell_type": "code",
   "outputs": [],
   "source": [
    "sum = 0\n",
    "n = int(input(\"Enter a number: \"))\n",
    "for i in range(1, n + 1):\n",
    "    sum += i\n",
    "print(sum)"
   ],
   "metadata": {
    "collapsed": false
   },
   "id": "8a3d308875ad6455",
   "execution_count": null
  },
  {
   "cell_type": "code",
   "outputs": [],
   "source": [
    "n = 6\n",
    "for i in range(n, 0, -1):\n",
    "    print(i)"
   ],
   "metadata": {
    "collapsed": false
   },
   "id": "f8803d2070004cf0",
   "execution_count": null
  },
  {
   "cell_type": "code",
   "outputs": [],
   "source": [
    "i = 2\n",
    "while i <= 2 * n:\n",
    "    if i % 2 == 0:\n",
    "        print(i)\n",
    "i += 1"
   ],
   "metadata": {
    "collapsed": false
   },
   "id": "febe88fbb1446cdc",
   "execution_count": null
  },
  {
   "cell_type": "code",
   "outputs": [],
   "source": [
    "sum = 0\n",
    "N = int(input())\n",
    "for i in range(1, N + 1):\n",
    "    sum += i\n",
    "print(sum)"
   ],
   "metadata": {
    "collapsed": false
   },
   "id": "8046179eaa5c7bbd",
   "execution_count": null
  },
  {
   "cell_type": "code",
   "outputs": [],
   "source": [
    "N = input(\"Enter a number: \")\n",
    "for i in range(1, int(N) + 1):\n",
    "    if i % 2 == 0:\n",
    "        print(i, end=' ')"
   ],
   "metadata": {
    "collapsed": false
   },
   "id": "cc7ca844c60f3878",
   "execution_count": null
  },
  {
   "cell_type": "code",
   "outputs": [],
   "source": [
    "for i in range(-6, -10, -1):\n",
    "    print(i, end=\" \")"
   ],
   "metadata": {
    "collapsed": false
   },
   "id": "c31d7357b749ac12",
   "execution_count": null
  },
  {
   "cell_type": "code",
   "outputs": [],
   "source": [
    "A = int(input())\n",
    "for i in range(1, A):\n",
    "    if i * i <= A:\n",
    "        print(i * i, end=' ')"
   ],
   "metadata": {
    "collapsed": false
   },
   "id": "d33e0511687b9b9b",
   "execution_count": null
  },
  {
   "cell_type": "code",
   "outputs": [],
   "source": [
    "i = int(input(\"Enter\"))\n",
    "sum = 0\n",
    "if i == 0:\n",
    "    print(1)\n",
    "while i > 0:\n",
    "    i //= 10\n",
    "    sum += 1\n",
    "print(sum)\n",
    "\n"
   ],
   "metadata": {
    "collapsed": false
   },
   "id": "f5fd2d00881db92",
   "execution_count": null
  },
  {
   "cell_type": "code",
   "outputs": [],
   "source": [
    "T = int(input())\n",
    "for i in range(0, T):\n",
    "    N = int(input())\n",
    "    sum = 0\n",
    "    if N == 0:\n",
    "        print(1)\n",
    "    while N > 0:\n",
    "        N //= 10\n",
    "        sum += 1\n",
    "        print(sum)"
   ],
   "metadata": {
    "collapsed": false
   },
   "id": "99b47cc1ce1025c7",
   "execution_count": null
  },
  {
   "cell_type": "code",
   "outputs": [],
   "source": [
    "sum = 0\n",
    "N = 0\n",
    "while N > 0:\n",
    "    N //= 10\n",
    "    sum += 1\n",
    "if N != 0:\n",
    "    print(sum)\n",
    "if N == 0:\n",
    "    print(1)"
   ],
   "metadata": {
    "collapsed": false
   },
   "id": "27e44065fdcfdb35",
   "execution_count": null
  },
  {
   "cell_type": "code",
   "outputs": [],
   "source": [
    "T = int(input())\n",
    "for i in range(0, T):\n",
    "    sum = 0\n",
    "    N = int(input())\n",
    "    if N == 0:\n",
    "        print(1)\n",
    "        continue\n",
    "    while N > 0:\n",
    "        N //= 10\n",
    "        sum += 1\n",
    "    print(sum)"
   ],
   "metadata": {
    "collapsed": false
   },
   "id": "1b5a872a8de5a5bf",
   "execution_count": null
  },
  {
   "cell_type": "code",
   "outputs": [],
   "source": [
    "1 % 5"
   ],
   "metadata": {
    "collapsed": false
   },
   "id": "3f9ae52dac851162",
   "execution_count": null
  },
  {
   "cell_type": "code",
   "outputs": [],
   "source": [
    "a = 0\n",
    "while True:\n",
    "    a = a + 1\n",
    "    a %= 5\n",
    "    a += 1\n",
    "    if a == 5:\n",
    "        break"
   ],
   "metadata": {
    "collapsed": false
   },
   "id": "d59f93cce56d5177",
   "execution_count": null
  },
  {
   "cell_type": "code",
   "outputs": [],
   "source": [
    "num = 125\n",
    "base = 5\n",
    "cnt = 0\n",
    "while (num > 1):\n",
    "    num /= base\n",
    "    cnt += 1\n",
    "print(cnt)"
   ],
   "metadata": {
    "collapsed": false
   },
   "id": "bd2d39e14bb9d523",
   "execution_count": null
  },
  {
   "cell_type": "code",
   "outputs": [],
   "source": [
    "num"
   ],
   "metadata": {
    "collapsed": false
   },
   "id": "f5c8bb7a5e7ffb26",
   "execution_count": null
  },
  {
   "cell_type": "code",
   "outputs": [],
   "source": [
    "x = int(input())\n",
    "y = int(input())\n",
    "\n",
    "q = 0\n",
    "r = 0\n",
    "while x >= y:\n",
    "    x -= y\n",
    "    q += 1\n",
    "print(q, x)"
   ],
   "metadata": {
    "collapsed": false
   },
   "id": "f585ad31b67e24bd",
   "execution_count": null
  },
  {
   "cell_type": "code",
   "outputs": [],
   "source": [
    "T = int(input())\n",
    "for i in range(0, T):\n",
    "    sum = 0\n",
    "    N = int(input())\n",
    "    if N == 0:\n",
    "        sum = 1\n",
    "    while N > 0:\n",
    "        N //= 10\n",
    "        sum += 1\n",
    "    print(sum)"
   ],
   "metadata": {
    "collapsed": false
   },
   "id": "9c8fe2b3911294ca",
   "execution_count": null
  },
  {
   "cell_type": "code",
   "outputs": [],
   "source": [
    "tc = int(input())\n",
    "while tc > 0:\n",
    "    tc -= 1\n",
    "    number = int(input())\n",
    "    count = int(0)\n",
    "    if number == 0:\n",
    "        count = 1\n",
    "    # Using while we can count the digits\n",
    "    while (number > 0):\n",
    "        count += 1\n",
    "        number = number // 10\n",
    "    print(count)"
   ],
   "metadata": {
    "collapsed": false
   },
   "id": "8ef87f1be5d869b8",
   "execution_count": null
  },
  {
   "cell_type": "code",
   "outputs": [],
   "source": [
    "1 // -3"
   ],
   "metadata": {
    "collapsed": false
   },
   "id": "fdeea3ae1ed4ae83",
   "execution_count": null
  },
  {
   "cell_type": "code",
   "outputs": [],
   "source": [
    "5.5 // 1.2"
   ],
   "metadata": {
    "collapsed": false
   },
   "id": "22fad12751ee9dc5",
   "execution_count": null
  },
  {
   "cell_type": "code",
   "outputs": [],
   "source": [
    "(a := 6, 9)"
   ],
   "metadata": {
    "collapsed": false
   },
   "id": "e8c65c3b88d23c64",
   "execution_count": null
  },
  {
   "cell_type": "code",
   "outputs": [],
   "source": [
    "a"
   ],
   "metadata": {
    "collapsed": false
   },
   "id": "bb1a79d08c0e1024",
   "execution_count": null
  },
  {
   "cell_type": "code",
   "outputs": [],
   "source": [
    "format(0.1, '.250f')"
   ],
   "metadata": {
    "collapsed": false
   },
   "id": "b08a0d681acc1f13",
   "execution_count": null
  },
  {
   "cell_type": "code",
   "outputs": [],
   "source": [
    "1 + 1 + 0.1 == 2.1"
   ],
   "metadata": {
    "collapsed": false
   },
   "id": "157bbc6120c7b186",
   "execution_count": null
  },
  {
   "cell_type": "code",
   "outputs": [],
   "source": [
    "1 / 10 + 1 / 10 + 1 / 10"
   ],
   "metadata": {
    "collapsed": false
   },
   "id": "e0200fa1f18fe9dd",
   "execution_count": null
  },
  {
   "cell_type": "code",
   "outputs": [],
   "source": [
    "131 // 3"
   ],
   "metadata": {
    "collapsed": false
   },
   "id": "6f9c45cb33f1ae27",
   "execution_count": null
  },
  {
   "cell_type": "code",
   "outputs": [],
   "source": [
    "131 % 3"
   ],
   "metadata": {
    "collapsed": false
   },
   "id": "7bd0d1a61bd2b67f",
   "execution_count": null
  },
  {
   "cell_type": "code",
   "outputs": [],
   "source": [
    "131 / 3"
   ],
   "metadata": {
    "collapsed": false
   },
   "id": "7b45c0e057dcdaa3",
   "execution_count": null
  },
  {
   "cell_type": "code",
   "outputs": [],
   "source": [
    "2 / 3"
   ],
   "metadata": {
    "collapsed": false
   },
   "id": "7de09f36cd1a946",
   "execution_count": null
  },
  {
   "cell_type": "code",
   "outputs": [],
   "source": [
    "43 + 2 / 3"
   ],
   "metadata": {
    "collapsed": false
   },
   "id": "6925b16850173d5e",
   "execution_count": null
  },
  {
   "cell_type": "code",
   "outputs": [],
   "source": [
    "131 / 3"
   ],
   "metadata": {
    "collapsed": false
   },
   "id": "38f25ff0b2a6af3e",
   "execution_count": null
  },
  {
   "cell_type": "code",
   "outputs": [],
   "source": [
    "131 / 3 == 131 // 3 + 131 % 3 / 3"
   ],
   "metadata": {
    "collapsed": false
   },
   "id": "85fc65af01ac64b4",
   "execution_count": null
  },
  {
   "cell_type": "code",
   "outputs": [],
   "source": [
    "(131 / 3 - 131 // 3) * 3"
   ],
   "metadata": {
    "collapsed": false
   },
   "id": "2831686a707221f6",
   "execution_count": null
  },
  {
   "cell_type": "code",
   "outputs": [],
   "source": [
    "131 % -3"
   ],
   "metadata": {
    "collapsed": false
   },
   "id": "cde89e64eb38369f",
   "execution_count": null
  },
  {
   "cell_type": "code",
   "outputs": [],
   "source": [
    "131 + 3 * (131 // -3)"
   ],
   "metadata": {
    "collapsed": false
   },
   "id": "81ed26d3f418ac8f",
   "execution_count": null
  },
  {
   "cell_type": "code",
   "outputs": [],
   "source": [
    "for i in range(1, 17, 3):\n",
    "    print(i, end=\", \")"
   ],
   "metadata": {
    "collapsed": false
   },
   "id": "a823ad0d289d5393",
   "execution_count": null
  },
  {
   "cell_type": "code",
   "outputs": [],
   "source": [
    "i = 1\n",
    "n = 1\n",
    "while i < 44:\n",
    "    if i == 43:\n",
    "        print(i, end='')\n",
    "    else:\n",
    "        print(i, end=\", \")\n",
    "    i = i + n * 2\n",
    "    n += 1"
   ],
   "metadata": {
    "collapsed": false
   },
   "id": "d5bf795a91199092",
   "execution_count": null
  },
  {
   "cell_type": "code",
   "outputs": [],
   "source": [
    "print(\"\", end=\"\")"
   ],
   "metadata": {
    "collapsed": false
   },
   "id": "957bb05789954b71",
   "execution_count": null
  },
  {
   "cell_type": "code",
   "outputs": [],
   "source": [
    "x = 0\n",
    "while x < 5:\n",
    "    x += 1\n",
    "    # if x == 6:\n",
    "    #     break\n",
    "    print(x)\n",
    "else:\n",
    "    print(\"loop finished\")"
   ],
   "metadata": {
    "collapsed": false
   },
   "id": "165a21ccabc528ef",
   "execution_count": null
  },
  {
   "cell_type": "code",
   "outputs": [],
   "source": [
    "n = input()\n",
    "# print(int(reversed(n)))\n",
    "i = reversed(n)"
   ],
   "metadata": {
    "collapsed": false
   },
   "id": "862899ba85a5d03f",
   "execution_count": null
  },
  {
   "cell_type": "code",
   "outputs": [],
   "source": [],
   "metadata": {
    "collapsed": false
   },
   "id": "1a8f0179f9b40738",
   "execution_count": null
  },
  {
   "cell_type": "code",
   "outputs": [],
   "source": [
    "n = int(input())\n",
    "count = 0\n",
    "sum = 0\n",
    "while n > 0:\n",
    "    n = n % 10\n",
    "sum += n * (10 ** count)\n",
    "count += 1\n"
   ],
   "metadata": {
    "collapsed": false
   },
   "id": "1a11b93ec6780549",
   "execution_count": null
  },
  {
   "cell_type": "code",
   "outputs": [],
   "source": [],
   "metadata": {
    "collapsed": false
   },
   "id": "aaf4acc72de1a95",
   "execution_count": null
  },
  {
   "cell_type": "code",
   "outputs": [],
   "source": [
    "T = int(input())\n",
    "for i in range(0, T):\n",
    "    n = int(input())\n",
    "    original = n\n",
    "    reverse = 0\n",
    "    while n > 0:\n",
    "        remainder = n % 10\n",
    "        reverse = reverse * 10 + remainder\n",
    "        n = n // 10\n",
    "    if reverse == original:\n",
    "        print(\"Yes\")\n",
    "    else:\n",
    "        print(\"No\")"
   ],
   "metadata": {
    "collapsed": false
   },
   "id": "f5c682268123642f",
   "execution_count": null
  },
  {
   "cell_type": "code",
   "outputs": [],
   "source": [
    "1 // 10"
   ],
   "metadata": {
    "collapsed": false
   },
   "id": "e9f03c955986f929",
   "execution_count": null
  },
  {
   "cell_type": "code",
   "outputs": [],
   "source": [
    "for i in range(0, 3.0):\n",
    "    print('hello')"
   ],
   "metadata": {
    "collapsed": false
   },
   "id": "38ec42ff23099dc0",
   "execution_count": null
  },
  {
   "cell_type": "code",
   "outputs": [],
   "source": [
    "a = 10\n",
    "\n",
    "\n",
    "def func():\n",
    "    print(a)\n",
    "\n",
    "\n",
    "func()"
   ],
   "metadata": {
    "collapsed": false
   },
   "id": "b7e69119d42c57a8",
   "execution_count": null
  },
  {
   "cell_type": "code",
   "outputs": [],
   "source": [
    "(lambda n: n * 3)(10)"
   ],
   "metadata": {
    "collapsed": false
   },
   "id": "38e7e0860551b052",
   "execution_count": null
  },
  {
   "cell_type": "code",
   "outputs": [],
   "source": [
    "(lambda: print(\"Hello Scaler\"))()"
   ],
   "metadata": {
    "collapsed": false
   },
   "id": "db79845c47f680f7",
   "execution_count": null
  },
  {
   "cell_type": "code",
   "outputs": [],
   "source": [
    "def gcd(n1, n2):\n",
    "    i = min(n1, n2)\n",
    "    while i >= 1:\n",
    "        if n1 % i == 0 and n2 % i == 0:\n",
    "            return i\n",
    "        i -= 1"
   ],
   "metadata": {
    "collapsed": false
   },
   "id": "3a6746e2dc5881f",
   "execution_count": null
  },
  {
   "cell_type": "code",
   "outputs": [],
   "source": [
    "gcd(24128124, 32009325)"
   ],
   "metadata": {
    "collapsed": false
   },
   "id": "9153af8d08667791",
   "execution_count": null
  },
  {
   "cell_type": "code",
   "outputs": [],
   "source": [
    "def lcm(n1, n2):\n",
    "    i = max(n1, n2)\n",
    "    while True:\n",
    "        if i % n1 == 0 and i % n2 == 0:\n",
    "            return i\n",
    "        i += 1"
   ],
   "metadata": {
    "collapsed": false
   },
   "id": "2894fed79b4a9de2",
   "execution_count": null
  },
  {
   "cell_type": "code",
   "outputs": [],
   "source": [
    "lcm(2, 4)"
   ],
   "metadata": {
    "collapsed": false
   },
   "id": "f55bbf02ad71ba35",
   "execution_count": null
  },
  {
   "cell_type": "code",
   "outputs": [],
   "source": [
    "import math\n",
    "\n",
    "print(math.gcd(2091091091981981989189819819891898198985, 12091098919819819898981981091091871909109898105))"
   ],
   "metadata": {
    "collapsed": false
   },
   "id": "861fc4c2f2f5ea62",
   "execution_count": null
  },
  {
   "cell_type": "code",
   "outputs": [],
   "source": [
    "i = 1\n",
    "n = 0\n",
    "while i < 100:\n",
    "    print(i)\n",
    "    n += 2\n",
    "    i = i + n"
   ],
   "metadata": {
    "collapsed": false
   },
   "id": "58f722c41d4c30e6",
   "execution_count": null
  },
  {
   "cell_type": "code",
   "outputs": [],
   "source": [
    "a = 48\n",
    "b = 180"
   ],
   "metadata": {
    "collapsed": false
   },
   "id": "f23731b69bc1d7f9",
   "execution_count": null
  },
  {
   "cell_type": "code",
   "outputs": [],
   "source": [
    "a, b = b, a % b"
   ],
   "metadata": {
    "collapsed": false
   },
   "id": "4549a24695a31e36",
   "execution_count": null
  },
  {
   "cell_type": "code",
   "outputs": [],
   "source": [
    "a"
   ],
   "metadata": {
    "collapsed": false
   },
   "id": "d435c06acf62898c",
   "execution_count": null
  },
  {
   "cell_type": "code",
   "outputs": [],
   "source": [
    "b"
   ],
   "metadata": {
    "collapsed": false
   },
   "id": "6306f002042a0310",
   "execution_count": null
  },
  {
   "cell_type": "code",
   "outputs": [],
   "source": [
    "180 // 48"
   ],
   "metadata": {
    "collapsed": false
   },
   "id": "c197bfc9305a9e40",
   "execution_count": null
  },
  {
   "cell_type": "code",
   "outputs": [],
   "source": [
    "A = int(input())\n",
    "B = int(input())\n",
    "n = max(A, B)\n",
    "while True:\n",
    "    if n % A == 0 and n % B == 0:\n",
    "        print(n)\n",
    "        break\n",
    "    n += 1"
   ],
   "metadata": {
    "collapsed": false
   },
   "id": "9066e7aefb144f5c",
   "execution_count": null
  },
  {
   "cell_type": "code",
   "outputs": [],
   "source": [
    "for i in range(1):\n",
    "    for j in range(2):\n",
    "        for k in range(1):\n",
    "            print(\"a\", end=\" \")\n",
    "        print(end=\"\")\n",
    "    print(\"c\")"
   ],
   "metadata": {
    "collapsed": false
   },
   "id": "f877cfca32e0da00",
   "execution_count": null
  },
  {
   "cell_type": "code",
   "outputs": [],
   "source": [
    "N = int(input())\n",
    "while N > 0:\n",
    "    for i in range(1, N + 1):\n",
    "        if i == N:\n",
    "            print(i)\n",
    "        else:\n",
    "            print(i, end=\" \")\n",
    "    N -= 1"
   ],
   "metadata": {
    "collapsed": false
   },
   "id": "50dfc602182067f5",
   "execution_count": null
  },
  {
   "cell_type": "code",
   "outputs": [],
   "source": [
    "N = int(input())\n",
    "for i in range(1, N + 1):\n",
    "    for j in range(1, i + 1):\n",
    "        if j != i:\n",
    "            print(j, end=\" \")\n",
    "        else:\n",
    "            print(j, end=\"\")\n",
    "    print(\"\")"
   ],
   "metadata": {
    "collapsed": false
   },
   "id": "ec7504ac37c77949",
   "execution_count": null
  },
  {
   "cell_type": "code",
   "outputs": [],
   "source": [
    "print('Hello', end=' ' * 10)\n",
    "print('World')"
   ],
   "metadata": {
    "collapsed": false
   },
   "id": "acc6926860ba78f5",
   "execution_count": null
  },
  {
   "cell_type": "code",
   "outputs": [],
   "source": [
    "N = int(input())\n",
    "for i in range(N):\n",
    "    print('*', end=\" \" * (N - 2))\n",
    "    print('*')\n",
    "    # for j in range(2):\n",
    "    #     if N != 2:\n",
    "    #         print('*', end=' ' * (N - 2))\n",
    "    #     else:\n",
    "    #         print('*', end='')"
   ],
   "metadata": {
    "collapsed": false
   },
   "id": "875e2ad27cd198e7",
   "execution_count": null
  },
  {
   "cell_type": "code",
   "outputs": [],
   "source": [
    "'*' * 0"
   ],
   "metadata": {
    "collapsed": false
   },
   "id": "e68542973544dc96",
   "execution_count": null
  },
  {
   "cell_type": "code",
   "outputs": [],
   "source": [
    "x = \"global\"\n",
    "\n",
    "\n",
    "def foo():\n",
    "    global x\n",
    "    print(x, end=\",\")\n",
    "    x = \"local\"\n",
    "    print(x, end=\",\")\n",
    "\n",
    "\n",
    "foo()\n",
    "print(x, end=\"\")"
   ],
   "metadata": {
    "collapsed": false
   },
   "id": "bbd4a2ac84e52200",
   "execution_count": null
  },
  {
   "cell_type": "code",
   "outputs": [],
   "source": [
    "def sum_squares(n):\n",
    "    ans = None\n",
    "    ''' input:Given Integer n\n",
    "         output: Return ans as sum of squares in integer format.'''\n",
    "    T = int(input())\n",
    "    for x in range(T):\n",
    "        n = int(input())\n",
    "        ans = int((n * (n + 1) * (2 * n + 1)) / 6)\n",
    "    # YOUR CODE GOES HERE\n",
    "\n",
    "    return ans"
   ],
   "metadata": {
    "collapsed": false
   },
   "id": "192e0bb076b0f8b9",
   "execution_count": null
  },
  {
   "cell_type": "code",
   "outputs": [],
   "source": [
    "sum_squares(6)"
   ],
   "metadata": {
    "collapsed": false
   },
   "id": "3a4023598e23482f",
   "execution_count": null
  },
  {
   "cell_type": "code",
   "outputs": [],
   "source": [
    "N = int(input())\n",
    "for i in range(1, N + 1):\n",
    "    if i == N:\n",
    "        print(i, end='')\n",
    "    else:\n",
    "        print(i, end=' ')\n",
    "print('')\n",
    "for i in range(N, 0, -1):\n",
    "    if i == 1:\n",
    "        print(i, end='')\n",
    "    else:\n",
    "        print(i, end=' ')"
   ],
   "metadata": {
    "collapsed": false
   },
   "id": "263522d86e626d87",
   "execution_count": null
  },
  {
   "cell_type": "code",
   "outputs": [],
   "source": [
    "x = 55\n",
    "\n",
    "\n",
    "def hi():\n",
    "    return x\n",
    "\n",
    "\n",
    "x += 10\n",
    "print(hi())"
   ],
   "metadata": {
    "collapsed": false
   },
   "id": "6e18b71b65fabcfa",
   "execution_count": null
  },
  {
   "cell_type": "code",
   "outputs": [],
   "source": [
    "round((4 * (22 / 7) * 8 ** 3) / 3, 2)"
   ],
   "metadata": {
    "collapsed": false
   },
   "id": "94b330141a770db3",
   "execution_count": null
  },
  {
   "cell_type": "code",
   "outputs": [],
   "source": [
    "n = int(input(\"Enter\"))\n",
    "sum = 0\n",
    "for i in range(1, n):\n",
    "    if n % i == 0:\n",
    "        sum = sum + i\n",
    "if sum == n:\n",
    "    print(1)"
   ],
   "metadata": {
    "collapsed": false
   },
   "id": "14e3aa5018c1e5bf",
   "execution_count": null
  },
  {
   "cell_type": "code",
   "outputs": [],
   "source": [
    "n = int(input())\n",
    "for i in range(n, 0, -1):\n",
    "    if i == n:\n",
    "        print('*' * n)\n",
    "    elif i == 1:\n",
    "        print('*')\n",
    "    else:\n",
    "        print('*', end='')\n",
    "        print(' ' * (i - 2), end='')\n",
    "        print('*')"
   ],
   "metadata": {
    "collapsed": false
   },
   "id": "3df08d1a18952bff",
   "execution_count": null
  },
  {
   "cell_type": "code",
   "outputs": [],
   "source": [
    "36.5 * 9 / 5 + 32"
   ],
   "metadata": {
    "collapsed": false
   },
   "id": "68ac9c9922a4f57b",
   "execution_count": null
  },
  {
   "cell_type": "code",
   "outputs": [],
   "source": [
    "def Interest(p, c, t=2, r=0.09):\n",
    "    return p * t * r"
   ],
   "metadata": {
    "collapsed": false
   },
   "id": "c1734125eaabea09",
   "execution_count": null
  },
  {
   "cell_type": "code",
   "outputs": [],
   "source": [
    "Interest(c=4, r=21, t=2, p=1000)"
   ],
   "metadata": {
    "collapsed": false
   },
   "id": "4dd552a4e200850e",
   "execution_count": null
  },
  {
   "cell_type": "code",
   "outputs": [],
   "source": [
    "Interest(500, t=2, r=6)"
   ],
   "metadata": {
    "collapsed": false
   },
   "id": "b29f9b7fcdd7b3d0",
   "execution_count": null
  },
  {
   "cell_type": "code",
   "outputs": [],
   "source": [
    "hello = lambda strive: \\\n",
    "    (lambda: strive * 2)"
   ],
   "metadata": {
    "collapsed": false
   },
   "id": "f778f8dc4ff031b7",
   "execution_count": null
  },
  {
   "cell_type": "code",
   "outputs": [],
   "source": [
    "hello('kaka')()"
   ],
   "metadata": {
    "collapsed": false
   },
   "id": "f7e56d42afe591c9",
   "execution_count": null
  },
  {
   "cell_type": "code",
   "outputs": [],
   "source": [
    "def func(b, c, a=1):\n",
    "    print(a, b, c)"
   ],
   "metadata": {
    "collapsed": false
   },
   "id": "e1c8db858ec3cd94",
   "execution_count": null
  },
  {
   "cell_type": "code",
   "outputs": [],
   "source": [
    "func(10, 1)"
   ],
   "metadata": {
    "collapsed": false
   },
   "id": "6ce411fbed357021",
   "execution_count": null
  },
  {
   "cell_type": "code",
   "outputs": [],
   "source": [
    "print(range(10))"
   ],
   "metadata": {
    "collapsed": false
   },
   "id": "ca17c61433b38cb",
   "execution_count": null
  },
  {
   "cell_type": "code",
   "outputs": [],
   "source": [
    "a = [1, 2]"
   ],
   "metadata": {
    "collapsed": false
   },
   "id": "9246ae3fb74629ef",
   "execution_count": null
  },
  {
   "cell_type": "code",
   "outputs": [],
   "source": [
    "a.append(3, 4)"
   ],
   "metadata": {
    "collapsed": false
   },
   "id": "58cdffa57758866b",
   "execution_count": null
  },
  {
   "cell_type": "code",
   "outputs": [],
   "source": [],
   "metadata": {
    "collapsed": false
   },
   "id": "b2fc7cfe88e56cd6",
   "execution_count": null
  },
  {
   "cell_type": "code",
   "outputs": [],
   "source": [
    "my_list = [1, 2, 3, 4, 5]\n",
    "i = -1\n",
    "while i >= -5:\n",
    "    print(my_list[i], end=\" \")\n",
    "    i -= 1"
   ],
   "metadata": {
    "collapsed": false
   },
   "id": "5e56ff93ef9cd5cc",
   "execution_count": null
  },
  {
   "cell_type": "code",
   "outputs": [],
   "source": [
    "sum = 0\n",
    "a = [4, 3, 6, 1]\n",
    "for i in a:\n",
    "    sum += i\n",
    "print(sum)"
   ],
   "metadata": {
    "collapsed": false
   },
   "id": "52d3993090f5359f",
   "execution_count": null
  },
  {
   "cell_type": "code",
   "outputs": [],
   "source": [
    "# mean or average of the list "
   ],
   "metadata": {
    "collapsed": false
   },
   "id": "881899e525e4d543",
   "execution_count": null
  },
  {
   "cell_type": "code",
   "outputs": [],
   "source": [
    "sum = 0\n",
    "a = [4, 3, 6, 1]\n",
    "for i in a:\n",
    "    sum += i\n",
    "print(sum / len(a))"
   ],
   "metadata": {
    "collapsed": false
   },
   "id": "242d217797094628",
   "execution_count": null
  },
  {
   "cell_type": "code",
   "outputs": [],
   "source": [
    "sum()"
   ],
   "metadata": {
    "collapsed": false
   },
   "id": "e485c36b8d2666ee",
   "execution_count": null
  },
  {
   "cell_type": "code",
   "outputs": [],
   "source": [
    "my_list = [\"apple\", \"banana\", \"orange\"]\n",
    "for i in range(len(my_list)):\n",
    "    print(f\"{my_list[i]} is a fruit.\", end=\" \")"
   ],
   "metadata": {
    "collapsed": false
   },
   "id": "90f89f853eff0363",
   "execution_count": null
  },
  {
   "cell_type": "code",
   "outputs": [],
   "source": [
    "a = [6, 4, 3, 7, 1]\n",
    "for i in range(0, len(a), 2):\n",
    "    print(i)"
   ],
   "metadata": {
    "collapsed": false
   },
   "id": "d63d26ee4937f3b4",
   "execution_count": null
  },
  {
   "cell_type": "code",
   "outputs": [],
   "source": [
    "my_list = [10, 20, 30, 40, 50]\n",
    "i = 0\n",
    "while i < len(my_list):\n",
    "    my_list[i] *= 2\n",
    "    i += 1\n",
    "print(my_list)"
   ],
   "metadata": {
    "collapsed": false
   },
   "id": "369c0952040b8c3b",
   "execution_count": null
  },
  {
   "cell_type": "code",
   "outputs": [],
   "source": [
    "elements = [23, 34, 25, 35, 66, 70, 14]\n",
    "my_list = []\n",
    "for i in elements:\n",
    "    if i % 5 == 0 and i % 7 == 0:\n",
    "        my_list.append(i)\n",
    "print(my_list)"
   ],
   "metadata": {
    "collapsed": false
   },
   "id": "839d751a5519a8fb",
   "execution_count": null
  },
  {
   "cell_type": "code",
   "outputs": [],
   "source": [
    "0 % 2"
   ],
   "metadata": {
    "collapsed": false
   },
   "id": "d60e3ff5064cdde7",
   "execution_count": null
  },
  {
   "cell_type": "code",
   "outputs": [],
   "source": [
    "def even_odd(A):\n",
    "    diff = 0\n",
    "    # Write your code here\n",
    "    even_sum = 0\n",
    "    odd_sum = 0\n",
    "    for x in A:\n",
    "        if x % 2 == 0:\n",
    "            even_sum += x\n",
    "        else:\n",
    "            odd_sum += x\n",
    "    diff = even_sum - odd_sum\n",
    "\n",
    "    return diff"
   ],
   "metadata": {
    "collapsed": false
   },
   "id": "6713c96831c8657d",
   "execution_count": null
  },
  {
   "cell_type": "code",
   "outputs": [],
   "source": [
    "A = [24, 32, 13, 15, 19, 44, 52, 7, 9, 2, 51]"
   ],
   "metadata": {
    "collapsed": false
   },
   "id": "ccfa9d3e53a6c194",
   "execution_count": null
  },
  {
   "cell_type": "code",
   "outputs": [],
   "source": [
    "even_odd(A)"
   ],
   "metadata": {
    "collapsed": false
   },
   "id": "a84f6c7d491b5b0",
   "execution_count": null
  },
  {
   "cell_type": "code",
   "outputs": [],
   "source": [
    "input_list = [5, 1, 2, 3, 4, 5]\n",
    "sum = 0\n",
    "for x in range(1, len(input_list)):\n",
    "    sum += input_list[x]\n",
    "print(sum)"
   ],
   "metadata": {
    "collapsed": false
   },
   "id": "e8ad8cbb53e25030",
   "execution_count": null
  },
  {
   "cell_type": "code",
   "outputs": [],
   "source": [
    "def not_even(ls):\n",
    "    res = []\n",
    "    for ele in ls:\n",
    "        if ele % 2 != 0:\n",
    "            res.append(ele)\n",
    "    return res"
   ],
   "metadata": {
    "collapsed": false
   },
   "id": "1c23f150c362e537",
   "execution_count": null
  },
  {
   "cell_type": "code",
   "outputs": [],
   "source": [
    "not_even([1, 2, 3, 4, 5, 6, 7, 8, 9, 10])"
   ],
   "metadata": {
    "collapsed": false
   },
   "id": "705740bf398efc1c",
   "execution_count": null
  },
  {
   "cell_type": "code",
   "outputs": [],
   "source": [
    "arr = input()"
   ],
   "metadata": {
    "collapsed": false
   },
   "id": "6ebf81e3ac8c6c15",
   "execution_count": null
  },
  {
   "cell_type": "code",
   "outputs": [],
   "source": [
    "arr = \"958 645 287 77 836 854 788 109 417 241 77 15 325 529 969 400 977 660 991 347 683 279 903 408 745 605 154 678 619 314 912 928 310 550 357 145 755 144 254 171 736 682 537 60 211 505 811 539 517 801 238 199 431 492 959 528 96 112 205 66 425 468 346 87 370 702 231 124 845 836 647 580 518 535 992 80 392 802 618 908 955 855 458 385 699 416 264 794 879 821 212 304 640 557 390 9 258 972 485 102 808 131 33 325 17 24 404 408 178 373 315 484 580 125 868 278 892 484 423 771 304 634 426 943 190 167 304 799 138 788 252 945 270 285 621 286 660 24 46 189 749 712 672 328 836 892 957 728 375 379 498 30 365 275 972 554 441 627 705 578 414 956 523 35 592 495 673 604 519 718 792 619 429 816 946 265 707 902 344 433 632 193 462 996 467 785 902 907 412 606 484 177 561 358 564 505 853 236 108 723 305 251 341 733 66 638 349 772 891 44 556 522 236 369 518 54 154 771 960 917 376 796 445 288 505 360 792 709 947 251 431 251 502 123\""
   ],
   "metadata": {
    "collapsed": false
   },
   "id": "f97b478c743103d7",
   "execution_count": null
  },
  {
   "cell_type": "code",
   "outputs": [],
   "source": [
    "lst = []\n",
    "for x in arr:\n",
    "    if x != ' ':\n",
    "        lst.append(int(x))"
   ],
   "metadata": {
    "collapsed": false,
    "ExecuteTime": {
     "end_time": "2024-02-02T16:46:27.227737600Z",
     "start_time": "2024-02-02T16:46:27.106046Z"
    }
   },
   "id": "7aa10c85b3806b8c",
   "execution_count": 54
  },
  {
   "cell_type": "code",
   "outputs": [
    {
     "data": {
      "text/plain": "[9,\n 5,\n 8,\n 6,\n 4,\n 5,\n 2,\n 8,\n 7,\n 7,\n 7,\n 8,\n 3,\n 6,\n 8,\n 5,\n 4,\n 7,\n 8,\n 8,\n 1,\n 0,\n 9,\n 4,\n 1,\n 7,\n 2,\n 4,\n 1,\n 7,\n 7,\n 1,\n 5,\n 3,\n 2,\n 5,\n 5,\n 2,\n 9,\n 9,\n 6,\n 9,\n 4,\n 0,\n 0,\n 9,\n 7,\n 7,\n 6,\n 6,\n 0,\n 9,\n 9,\n 1,\n 3,\n 4,\n 7,\n 6,\n 8,\n 3,\n 2,\n 7,\n 9,\n 9,\n 0,\n 3,\n 4,\n 0,\n 8,\n 7,\n 4,\n 5,\n 6,\n 0,\n 5,\n 1,\n 5,\n 4,\n 6,\n 7,\n 8,\n 6,\n 1,\n 9,\n 3,\n 1,\n 4,\n 9,\n 1,\n 2,\n 9,\n 2,\n 8,\n 3,\n 1,\n 0,\n 5,\n 5,\n 0,\n 3,\n 5,\n 7,\n 1,\n 4,\n 5,\n 7,\n 5,\n 5,\n 1,\n 4,\n 4,\n 2,\n 5,\n 4,\n 1,\n 7,\n 1,\n 7,\n 3,\n 6,\n 6,\n 8,\n 2,\n 5,\n 3,\n 7,\n 6,\n 0,\n 2,\n 1,\n 1,\n 5,\n 0,\n 5,\n 8,\n 1,\n 1,\n 5,\n 3,\n 9,\n 5,\n 1,\n 7,\n 8,\n 0,\n 1,\n 2,\n 3,\n 8,\n 1,\n 9,\n 9,\n 4,\n 3,\n 1,\n 4,\n 9,\n 2,\n 9,\n 5,\n 9,\n 5,\n 2,\n 8,\n 9,\n 6,\n 1,\n 1,\n 2,\n 2,\n 0,\n 5,\n 6,\n 6,\n 4,\n 2,\n 5,\n 4,\n 6,\n 8,\n 3,\n 4,\n 6,\n 8,\n 7,\n 3,\n 7,\n 0,\n 7,\n 0,\n 2,\n 2,\n 3,\n 1,\n 1,\n 2,\n 4,\n 8,\n 4,\n 5,\n 8,\n 3,\n 6,\n 6,\n 4,\n 7,\n 5,\n 8,\n 0,\n 5,\n 1,\n 8,\n 5,\n 3,\n 5,\n 9,\n 9,\n 2,\n 8,\n 0,\n 3,\n 9,\n 2,\n 8,\n 0,\n 2,\n 6,\n 1,\n 8,\n 9,\n 0,\n 8,\n 9,\n 5,\n 5,\n 8,\n 5,\n 5,\n 4,\n 5,\n 8,\n 3,\n 8,\n 5,\n 6,\n 9,\n 9,\n 4,\n 1,\n 6,\n 2,\n 6,\n 4,\n 7,\n 9,\n 4,\n 8,\n 7,\n 9,\n 8,\n 2,\n 1,\n 2,\n 1,\n 2,\n 3,\n 0,\n 4,\n 6,\n 4,\n 0,\n 5,\n 5,\n 7,\n 3,\n 9,\n 0,\n 9,\n 2,\n 5,\n 8,\n 9,\n 7,\n 2,\n 4,\n 8,\n 5,\n 1,\n 0,\n 2,\n 8,\n 0,\n 8,\n 1,\n 3,\n 1,\n 3,\n 3,\n 3,\n 2,\n 5,\n 1,\n 7,\n 2,\n 4,\n 4,\n 0,\n 4,\n 4,\n 0,\n 8,\n 1,\n 7,\n 8,\n 3,\n 7,\n 3,\n 3,\n 1,\n 5,\n 4,\n 8,\n 4,\n 5,\n 8,\n 0,\n 1,\n 2,\n 5,\n 8,\n 6,\n 8,\n 2,\n 7,\n 8,\n 8,\n 9,\n 2,\n 4,\n 8,\n 4,\n 4,\n 2,\n 3,\n 7,\n 7,\n 1,\n 3,\n 0,\n 4,\n 6,\n 3,\n 4,\n 4,\n 2,\n 6,\n 9,\n 4,\n 3,\n 1,\n 9,\n 0,\n 1,\n 6,\n 7,\n 3,\n 0,\n 4,\n 7,\n 9,\n 9,\n 1,\n 3,\n 8,\n 7,\n 8,\n 8,\n 2,\n 5,\n 2,\n 9,\n 4,\n 5,\n 2,\n 7,\n 0,\n 2,\n 8,\n 5,\n 6,\n 2,\n 1,\n 2,\n 8,\n 6,\n 6,\n 6,\n 0,\n 2,\n 4,\n 4,\n 6,\n 1,\n 8,\n 9,\n 7,\n 4,\n 9,\n 7,\n 1,\n 2,\n 6,\n 7,\n 2,\n 3,\n 2,\n 8,\n 8,\n 3,\n 6,\n 8,\n 9,\n 2,\n 9,\n 5,\n 7,\n 7,\n 2,\n 8,\n 3,\n 7,\n 5,\n 3,\n 7,\n 9,\n 4,\n 9,\n 8,\n 3,\n 0,\n 3,\n 6,\n 5,\n 2,\n 7,\n 5,\n 9,\n 7,\n 2,\n 5,\n 5,\n 4,\n 4,\n 4,\n 1,\n 6,\n 2,\n 7,\n 7,\n 0,\n 5,\n 5,\n 7,\n 8,\n 4,\n 1,\n 4,\n 9,\n 5,\n 6,\n 5,\n 2,\n 3,\n 3,\n 5,\n 5,\n 9,\n 2,\n 4,\n 9,\n 5,\n 6,\n 7,\n 3,\n 6,\n 0,\n 4,\n 5,\n 1,\n 9,\n 7,\n 1,\n 8,\n 7,\n 9,\n 2,\n 6,\n 1,\n 9,\n 4,\n 2,\n 9,\n 8,\n 1,\n 6,\n 9,\n 4,\n 6,\n 2,\n 6,\n 5,\n 7,\n 0,\n 7,\n 9,\n 0,\n 2,\n 3,\n 4,\n 4,\n 4,\n 3,\n 3,\n 6,\n 3,\n 2,\n 1,\n 9,\n 3,\n 4,\n 6,\n 2,\n 9,\n 9,\n 6,\n 4,\n 6,\n 7,\n 7,\n 8,\n 5,\n 9,\n 0,\n 2,\n 9,\n 0,\n 7,\n 4,\n 1,\n 2,\n 6,\n 0,\n 6,\n 4,\n 8,\n 4,\n 1,\n 7,\n 7,\n 5,\n 6,\n 1,\n 3,\n 5,\n 8,\n 5,\n 6,\n 4,\n 5,\n 0,\n 5,\n 8,\n 5,\n 3,\n 2,\n 3,\n 6,\n 1,\n 0,\n 8,\n 7,\n 2,\n 3,\n 3,\n 0,\n 5,\n 2,\n 5,\n 1,\n 3,\n 4,\n 1,\n 7,\n 3,\n 3,\n 6,\n 6,\n 6,\n 3,\n 8,\n 3,\n 4,\n 9,\n 7,\n 7,\n 2,\n 8,\n 9,\n 1,\n 4,\n 4,\n 5,\n 5,\n 6,\n 5,\n 2,\n 2,\n 2,\n 3,\n 6,\n 3,\n 6,\n 9,\n 5,\n 1,\n 8,\n 5,\n 4,\n 1,\n 5,\n 4,\n 7,\n 7,\n 1,\n 9,\n 6,\n 0,\n 9,\n 1,\n 7,\n 3,\n 7,\n 6,\n 7,\n 9,\n 6,\n 4,\n 4,\n 5,\n 2,\n 8,\n 8,\n 5,\n 0,\n 5,\n 3,\n 6,\n 0,\n 7,\n 9,\n 2,\n 7,\n 0,\n 9,\n 9,\n 4,\n 7,\n 2,\n 5,\n 1,\n 4,\n 3,\n 1,\n 2,\n 5,\n 1,\n 5,\n 0,\n 2,\n 1,\n 2,\n 3]"
     },
     "execution_count": 55,
     "metadata": {},
     "output_type": "execute_result"
    }
   ],
   "source": [
    "lst"
   ],
   "metadata": {
    "collapsed": false,
    "ExecuteTime": {
     "end_time": "2024-02-02T16:46:28.413424Z",
     "start_time": "2024-02-02T16:46:27.979666600Z"
    }
   },
   "id": "4468fd4f68d469b8",
   "execution_count": 55
  },
  {
   "cell_type": "code",
   "outputs": [],
   "source": [
    "arr = list(map(int, input().split()))"
   ],
   "metadata": {
    "collapsed": false,
    "ExecuteTime": {
     "end_time": "2024-02-02T17:08:57.296509600Z",
     "start_time": "2024-02-02T17:08:53.126899500Z"
    }
   },
   "id": "f7529ed653ce1b34",
   "execution_count": 68
  },
  {
   "cell_type": "code",
   "outputs": [
    {
     "data": {
      "text/plain": "1"
     },
     "execution_count": 70,
     "metadata": {},
     "output_type": "execute_result"
    }
   ],
   "source": [
    "arr.pop(0)"
   ],
   "metadata": {
    "collapsed": false,
    "ExecuteTime": {
     "end_time": "2024-02-02T17:09:44.982416500Z",
     "start_time": "2024-02-02T17:09:44.701222800Z"
    }
   },
   "id": "347aad80ec19fb28",
   "execution_count": 70
  },
  {
   "cell_type": "code",
   "outputs": [
    {
     "data": {
      "text/plain": "[2, 3, 4, 5]"
     },
     "execution_count": 71,
     "metadata": {},
     "output_type": "execute_result"
    }
   ],
   "source": [
    "arr"
   ],
   "metadata": {
    "collapsed": false,
    "ExecuteTime": {
     "end_time": "2024-02-02T17:09:49.624718400Z",
     "start_time": "2024-02-02T17:09:49.442623400Z"
    }
   },
   "id": "815fe59bd86de9d7",
   "execution_count": 71
  },
  {
   "cell_type": "code",
   "outputs": [],
   "source": [
    "N = list(map(int, input().split()))\n",
    "n = N.pop(0)\n",
    "for i in N:\n",
    "    if i < 0:\n",
    "        print(i, end=' ')"
   ],
   "metadata": {
    "collapsed": false,
    "ExecuteTime": {
     "end_time": "2024-02-02T17:14:01.680857700Z",
     "start_time": "2024-02-02T17:13:57.208793200Z"
    }
   },
   "id": "5560126c63e276fe",
   "execution_count": 74
  },
  {
   "cell_type": "code",
   "outputs": [
    {
     "data": {
      "text/plain": "1"
     },
     "execution_count": 75,
     "metadata": {},
     "output_type": "execute_result"
    }
   ],
   "source": [
    "n"
   ],
   "metadata": {
    "collapsed": false,
    "ExecuteTime": {
     "end_time": "2024-02-02T17:14:04.103528300Z",
     "start_time": "2024-02-02T17:14:03.905484800Z"
    }
   },
   "id": "b90f9ad409646de9",
   "execution_count": 75
  },
  {
   "cell_type": "code",
   "outputs": [
    {
     "ename": "IndexError",
     "evalue": "list index out of range",
     "output_type": "error",
     "traceback": [
      "\u001B[1;31m---------------------------------------------------------------------------\u001B[0m",
      "\u001B[1;31mIndexError\u001B[0m                                Traceback (most recent call last)",
      "Cell \u001B[1;32mIn[77], line 4\u001B[0m\n\u001B[0;32m      2\u001B[0m n \u001B[38;5;241m=\u001B[39m N\u001B[38;5;241m.\u001B[39mpop(\u001B[38;5;241m0\u001B[39m)\n\u001B[0;32m      3\u001B[0m \u001B[38;5;28;01mfor\u001B[39;00m i \u001B[38;5;129;01min\u001B[39;00m \u001B[38;5;28mrange\u001B[39m(n\u001B[38;5;241m-\u001B[39m\u001B[38;5;241m1\u001B[39m, \u001B[38;5;241m-\u001B[39m\u001B[38;5;241m1\u001B[39m, \u001B[38;5;241m-\u001B[39m\u001B[38;5;241m1\u001B[39m):\n\u001B[1;32m----> 4\u001B[0m     \u001B[38;5;28mprint\u001B[39m(\u001B[43mN\u001B[49m\u001B[43m[\u001B[49m\u001B[43mi\u001B[49m\u001B[43m]\u001B[49m, end\u001B[38;5;241m=\u001B[39m\u001B[38;5;124m'\u001B[39m\u001B[38;5;124m \u001B[39m\u001B[38;5;124m'\u001B[39m)\n",
      "\u001B[1;31mIndexError\u001B[0m: list index out of range"
     ]
    }
   ],
   "source": [
    "N = list(map(int, input().split()))\n",
    "n = N.pop(0)\n",
    "for i in range(n - 1, -1, -1):\n",
    "    print(N[i], end=' ')"
   ],
   "metadata": {
    "collapsed": false,
    "ExecuteTime": {
     "end_time": "2024-02-02T17:17:02.375347100Z",
     "start_time": "2024-02-02T17:16:53.920567900Z"
    }
   },
   "id": "80453a6bcaeec7c8",
   "execution_count": 77
  },
  {
   "cell_type": "code",
   "outputs": [
    {
     "ename": "ValueError",
     "evalue": "invalid literal for int() with base 10: ''",
     "output_type": "error",
     "traceback": [
      "\u001B[1;31m---------------------------------------------------------------------------\u001B[0m",
      "\u001B[1;31mValueError\u001B[0m                                Traceback (most recent call last)",
      "Cell \u001B[1;32mIn[1], line 1\u001B[0m\n\u001B[1;32m----> 1\u001B[0m N \u001B[38;5;241m=\u001B[39m \u001B[38;5;28;43mint\u001B[39;49m\u001B[43m(\u001B[49m\u001B[38;5;28;43minput\u001B[39;49m\u001B[43m(\u001B[49m\u001B[43m)\u001B[49m\u001B[43m)\u001B[49m\n\u001B[0;32m      2\u001B[0m A \u001B[38;5;241m=\u001B[39m \u001B[38;5;28mlist\u001B[39m(\u001B[38;5;28mmap\u001B[39m(\u001B[38;5;28mint\u001B[39m, \u001B[38;5;28minput\u001B[39m()\u001B[38;5;241m.\u001B[39msplit()))\n\u001B[0;32m      3\u001B[0m A\u001B[38;5;241m.\u001B[39minsert(\u001B[38;5;241m0\u001B[39m, A\u001B[38;5;241m.\u001B[39mpop(N\u001B[38;5;241m-\u001B[39m\u001B[38;5;241m1\u001B[39m))\n",
      "\u001B[1;31mValueError\u001B[0m: invalid literal for int() with base 10: ''"
     ]
    }
   ],
   "source": [
    "N = int(input())\n",
    "A = list(map(int, input().split()))\n",
    "A.insert(0, A.pop(N - 1))\n",
    "for i in A:\n",
    "    print(i, end=' ')"
   ],
   "metadata": {
    "collapsed": false,
    "ExecuteTime": {
     "end_time": "2024-02-05T01:40:14.432112300Z",
     "start_time": "2024-02-05T01:40:02.949912800Z"
    }
   },
   "id": "a3a11030ead3133d",
   "execution_count": 1
  },
  {
   "cell_type": "code",
   "outputs": [],
   "source": [
    "runs = [62, 85, 74, 98, 101, 124, 11, 45, 12, 14]"
   ],
   "metadata": {
    "collapsed": false,
    "ExecuteTime": {
     "end_time": "2024-02-05T02:25:14.103466200Z",
     "start_time": "2024-02-05T02:25:13.787623300Z"
    }
   },
   "id": "2f5f94fb2c7be3ea",
   "execution_count": 17
  },
  {
   "cell_type": "code",
   "outputs": [],
   "source": [
    "last_5 = runs[-5:]"
   ],
   "metadata": {
    "collapsed": false,
    "ExecuteTime": {
     "end_time": "2024-02-05T01:41:06.707977400Z",
     "start_time": "2024-02-05T01:41:06.504646200Z"
    }
   },
   "id": "8858d8e82ac5aadc",
   "execution_count": 3
  },
  {
   "cell_type": "code",
   "outputs": [
    {
     "name": "stdout",
     "output_type": "stream",
     "text": [
      "85 98 124 "
     ]
    }
   ],
   "source": [
    "for i in range(1, len(runs), 2):\n",
    "    print(runs[i], end=\" \")"
   ],
   "metadata": {
    "collapsed": false,
    "ExecuteTime": {
     "end_time": "2024-02-05T01:46:41.883902100Z",
     "start_time": "2024-02-05T01:46:41.601278100Z"
    }
   },
   "id": "8ca83c75bbc7437a",
   "execution_count": 6
  },
  {
   "cell_type": "code",
   "outputs": [
    {
     "data": {
      "text/plain": "[85, 74, 98, 101, 124]"
     },
     "execution_count": 9,
     "metadata": {},
     "output_type": "execute_result"
    }
   ],
   "source": [
    "runs[-5:len(runs):1]"
   ],
   "metadata": {
    "collapsed": false,
    "ExecuteTime": {
     "end_time": "2024-02-05T01:56:11.417737200Z",
     "start_time": "2024-02-05T01:56:11.277216500Z"
    }
   },
   "id": "ea9c4e4dcd700682",
   "execution_count": 9
  },
  {
   "cell_type": "code",
   "outputs": [
    {
     "data": {
      "text/plain": "[62, 74, 101]"
     },
     "execution_count": 11,
     "metadata": {},
     "output_type": "execute_result"
    }
   ],
   "source": [
    "runs[::2]"
   ],
   "metadata": {
    "collapsed": false,
    "ExecuteTime": {
     "end_time": "2024-02-05T01:59:58.071459500Z",
     "start_time": "2024-02-05T01:59:57.937787300Z"
    }
   },
   "id": "fc361afba59801c6",
   "execution_count": 11
  },
  {
   "cell_type": "code",
   "outputs": [
    {
     "data": {
      "text/plain": "[124, 101, 98, 74, 85]"
     },
     "execution_count": 12,
     "metadata": {},
     "output_type": "execute_result"
    }
   ],
   "source": [
    "runs[5:0:-1]"
   ],
   "metadata": {
    "collapsed": false,
    "ExecuteTime": {
     "end_time": "2024-02-05T02:05:44.677082600Z",
     "start_time": "2024-02-05T02:05:44.545837600Z"
    }
   },
   "id": "5367739c52c8953a",
   "execution_count": 12
  },
  {
   "cell_type": "code",
   "outputs": [
    {
     "data": {
      "text/plain": "[]"
     },
     "execution_count": 14,
     "metadata": {},
     "output_type": "execute_result"
    }
   ],
   "source": [
    "runs[-2:-5:1]"
   ],
   "metadata": {
    "collapsed": false,
    "ExecuteTime": {
     "end_time": "2024-02-05T02:11:01.585912800Z",
     "start_time": "2024-02-05T02:11:01.468672700Z"
    }
   },
   "id": "3cf3d2e535aadaa2",
   "execution_count": 14
  },
  {
   "cell_type": "code",
   "outputs": [
    {
     "data": {
      "text/plain": "[]"
     },
     "execution_count": 18,
     "metadata": {},
     "output_type": "execute_result"
    }
   ],
   "source": [
    "runs[-8:5:-1]"
   ],
   "metadata": {
    "collapsed": false,
    "ExecuteTime": {
     "end_time": "2024-02-05T02:25:17.150396300Z",
     "start_time": "2024-02-05T02:25:16.887748300Z"
    }
   },
   "id": "2647fe3eaf39b6fe",
   "execution_count": 18
  },
  {
   "cell_type": "code",
   "outputs": [],
   "source": [
    "matrix = [\n",
    "    [1, 2, 3],\n",
    "    [4, 5, 6],\n",
    "    [7, 8, 9]\n",
    "]"
   ],
   "metadata": {
    "collapsed": false,
    "ExecuteTime": {
     "end_time": "2024-02-05T03:23:53.837784900Z",
     "start_time": "2024-02-05T03:23:53.689132400Z"
    }
   },
   "id": "7e96df07c560684e",
   "execution_count": 19
  },
  {
   "cell_type": "code",
   "outputs": [
    {
     "name": "stdout",
     "output_type": "stream",
     "text": [
      "45\n"
     ]
    }
   ],
   "source": [
    "sum = 0\n",
    "for row in matrix:\n",
    "    for ele in row:\n",
    "        sum += ele\n",
    "print(sum)"
   ],
   "metadata": {
    "collapsed": false,
    "ExecuteTime": {
     "end_time": "2024-02-05T03:25:54.748199400Z",
     "start_time": "2024-02-05T03:25:54.565727700Z"
    }
   },
   "id": "8422e637c38818d2",
   "execution_count": 24
  },
  {
   "cell_type": "code",
   "outputs": [],
   "source": [
    "row_sum = []\n",
    "for row in matrix:\n",
    "    sum = 0\n",
    "    for ele in row:\n",
    "        sum += ele\n",
    "    row_sum.append(sum)"
   ],
   "metadata": {
    "collapsed": false,
    "ExecuteTime": {
     "end_time": "2024-02-05T03:32:21.812449400Z",
     "start_time": "2024-02-05T03:32:21.665880700Z"
    }
   },
   "id": "7133ece2ffa127b6",
   "execution_count": 31
  },
  {
   "cell_type": "code",
   "outputs": [
    {
     "data": {
      "text/plain": "[6, 15, 24]"
     },
     "execution_count": 32,
     "metadata": {},
     "output_type": "execute_result"
    }
   ],
   "source": [
    "row_sum"
   ],
   "metadata": {
    "collapsed": false,
    "ExecuteTime": {
     "end_time": "2024-02-05T03:32:22.703055900Z",
     "start_time": "2024-02-05T03:32:22.584895300Z"
    }
   },
   "id": "69789dde6b7033f4",
   "execution_count": 32
  },
  {
   "cell_type": "code",
   "outputs": [],
   "source": [
    "col_sum = []\n",
    "col = 0\n",
    "while col < len(matrix[0]):\n",
    "    sum = 0\n",
    "    for row in range(len(matrix)):\n",
    "        sum += matrix[row][col]\n",
    "    col_sum.append(sum)\n",
    "    col += 1"
   ],
   "metadata": {
    "collapsed": false,
    "ExecuteTime": {
     "end_time": "2024-02-05T06:51:33.319869200Z",
     "start_time": "2024-02-05T06:51:33.218025300Z"
    }
   },
   "id": "9a37aedc4d94b2d",
   "execution_count": 48
  },
  {
   "cell_type": "code",
   "outputs": [],
   "source": [
    "col_sum = []\n",
    "for col in range(len(matrix[0])):\n",
    "    sum = 0\n",
    "    for row in range(len(matrix)):\n",
    "        sum += matrix[row][col]\n",
    "    col_sum.append(sum)"
   ],
   "metadata": {
    "collapsed": false,
    "ExecuteTime": {
     "end_time": "2024-02-05T06:52:51.707590700Z",
     "start_time": "2024-02-05T06:52:51.602768300Z"
    }
   },
   "id": "8cc72cf3fb5975df",
   "execution_count": 52
  },
  {
   "cell_type": "code",
   "outputs": [
    {
     "ename": "NameError",
     "evalue": "name 'col_sum' is not defined",
     "output_type": "error",
     "traceback": [
      "\u001B[1;31m---------------------------------------------------------------------------\u001B[0m",
      "\u001B[1;31mNameError\u001B[0m                                 Traceback (most recent call last)",
      "Cell \u001B[1;32mIn[1], line 1\u001B[0m\n\u001B[1;32m----> 1\u001B[0m \u001B[43mcol_sum\u001B[49m\n",
      "\u001B[1;31mNameError\u001B[0m: name 'col_sum' is not defined"
     ]
    }
   ],
   "source": [
    "col_sum"
   ],
   "metadata": {
    "collapsed": false,
    "ExecuteTime": {
     "end_time": "2024-02-05T16:39:48.428622500Z",
     "start_time": "2024-02-05T16:39:47.627614900Z"
    }
   },
   "id": "cc76f4f9db454b39",
   "execution_count": 1
  },
  {
   "cell_type": "code",
   "outputs": [],
   "source": [
    "word = \"Scaler Data Science Course\"\n",
    "word_list = list(word)"
   ],
   "metadata": {
    "collapsed": false,
    "ExecuteTime": {
     "end_time": "2024-02-08T16:06:14.735292500Z",
     "start_time": "2024-02-08T16:06:14.688006500Z"
    }
   },
   "id": "85089d968f073cb4",
   "execution_count": 1
  },
  {
   "cell_type": "code",
   "outputs": [
    {
     "name": "stdout",
     "output_type": "stream",
     "text": [
      "['D', 'a', 't', 'a', ' ', 'S', 'c', 'i', 'e', 'n', 'c', 'e']\n"
     ]
    }
   ],
   "source": [
    "print(word_list[7:19])"
   ],
   "metadata": {
    "collapsed": false,
    "ExecuteTime": {
     "end_time": "2024-02-05T16:42:21.592809500Z",
     "start_time": "2024-02-05T16:42:21.216306100Z"
    }
   },
   "id": "3ccf3b0c58576a18",
   "execution_count": 5
  },
  {
   "cell_type": "code",
   "outputs": [],
   "source": [
    "def solve(A, B):\n",
    "    result = []\n",
    "    for x in A:\n",
    "        if x >= B:\n",
    "            if x == B:\n",
    "                result.append(x)\n",
    "                break\n",
    "    for x in A:\n",
    "        if x <= B:\n",
    "            if x == B:\n",
    "                result.append(x)\n",
    "                break\n",
    "    return result"
   ],
   "metadata": {
    "collapsed": false,
    "ExecuteTime": {
     "end_time": "2024-02-08T16:30:39.544924200Z",
     "start_time": "2024-02-08T16:30:39.426100700Z"
    }
   },
   "id": "45f0e3d7fbce382b",
   "execution_count": 16
  },
  {
   "cell_type": "code",
   "outputs": [
    {
     "data": {
      "text/plain": "[]"
     },
     "execution_count": 19,
     "metadata": {},
     "output_type": "execute_result"
    }
   ],
   "source": [
    "solve([-2, 4, 4, 8, 9], 0)"
   ],
   "metadata": {
    "collapsed": false,
    "ExecuteTime": {
     "end_time": "2024-02-08T16:31:04.113014800Z",
     "start_time": "2024-02-08T16:31:03.980741100Z"
    }
   },
   "id": "84e7a640b797150a",
   "execution_count": 19
  },
  {
   "cell_type": "code",
   "outputs": [],
   "source": [
    "A = [[1, 2, 3],\n",
    "     [4, 5, 6],\n",
    "     [7, 8, 9]]\n",
    "\n",
    "B = [[9, 8, 7],\n",
    "     [6, 5, 4],\n",
    "     [3, 2, 1]]\n",
    "\n",
    "C = [([0] * len(B)) for i in range(len(A))]"
   ],
   "metadata": {
    "collapsed": false,
    "ExecuteTime": {
     "end_time": "2024-02-08T16:45:38.127625900Z",
     "start_time": "2024-02-08T16:45:37.826022600Z"
    }
   },
   "id": "5ea15457758fb7e9",
   "execution_count": 45
  },
  {
   "cell_type": "code",
   "outputs": [],
   "source": [
    "def solve(A, B):\n",
    "    C = [([0] * len(B)) for i in range(len(A))]\n",
    "    for i in range(len(A)):\n",
    "        for j in range(len(A[0])):\n",
    "            C[i][j] = A[i][j] + B[i][j]\n",
    "    return C"
   ],
   "metadata": {
    "collapsed": false,
    "ExecuteTime": {
     "end_time": "2024-02-08T16:46:20.203109Z",
     "start_time": "2024-02-08T16:46:19.962868200Z"
    }
   },
   "id": "1acef2af5376303",
   "execution_count": 48
  },
  {
   "cell_type": "code",
   "outputs": [
    {
     "data": {
      "text/plain": "[[10, 10, 10], [10, 10, 10], [10, 10, 10]]"
     },
     "execution_count": 49,
     "metadata": {},
     "output_type": "execute_result"
    }
   ],
   "source": [
    "solve(A, B)"
   ],
   "metadata": {
    "collapsed": false,
    "ExecuteTime": {
     "end_time": "2024-02-08T16:46:30.506456400Z",
     "start_time": "2024-02-08T16:46:30.152584600Z"
    }
   },
   "id": "a82fdd2c75fa42eb",
   "execution_count": 49
  },
  {
   "cell_type": "code",
   "outputs": [],
   "source": [
    "C = [([0] * len(B)) for i in range(len(A))]\n",
    "for i in range(len(A)):\n",
    "    for j in range(len(B)):\n"
   ],
   "metadata": {
    "collapsed": false,
    "ExecuteTime": {
     "end_time": "2024-02-08T16:53:31.794969600Z",
     "start_time": "2024-02-08T16:53:31.684667600Z"
    }
   },
   "id": "2dc20548271bfa43",
   "execution_count": 53
  },
  {
   "cell_type": "code",
   "outputs": [
    {
     "data": {
      "text/plain": "[[1, 2, 3, 9, 8, 7], [4, 5, 6, 6, 5, 4], [7, 8, 9, 3, 2, 1]]"
     },
     "execution_count": 54,
     "metadata": {},
     "output_type": "execute_result"
    }
   ],
   "source": [
    "C"
   ],
   "metadata": {
    "collapsed": false,
    "ExecuteTime": {
     "end_time": "2024-02-08T16:53:39.702484700Z",
     "start_time": "2024-02-08T16:53:39.511452400Z"
    }
   },
   "id": "f18cf547ff8344d5",
   "execution_count": 54
  },
  {
   "cell_type": "code",
   "outputs": [],
   "source": [
    "A = [[1, 2, 3],\n",
    "     [4, 1, 2],\n",
    "     [7, 8, 9]]\n",
    "B = [[9, 9, 7],\n",
    "     [1, 2, 4],\n",
    "     [4, 6, 3]]\n",
    "C = [[0, 0, 0], [0, 0, 0], [0, 0, 0]]"
   ],
   "metadata": {
    "collapsed": false,
    "ExecuteTime": {
     "end_time": "2024-02-08T17:07:47.932792Z",
     "start_time": "2024-02-08T17:07:47.723836100Z"
    }
   },
   "id": "87c982e62099a6b1",
   "execution_count": 90
  },
  {
   "cell_type": "code",
   "outputs": [],
   "source": [
    "for i in range(len(A)):\n",
    "    for j in range(len(A[0])):\n",
    "        C[i][j] = A[i][j] + B[i][j]"
   ],
   "metadata": {
    "collapsed": false,
    "ExecuteTime": {
     "end_time": "2024-02-08T17:07:52.678940400Z",
     "start_time": "2024-02-08T17:07:52.476114100Z"
    }
   },
   "id": "985d5ff629aebf4",
   "execution_count": 91
  },
  {
   "cell_type": "code",
   "outputs": [
    {
     "data": {
      "text/plain": "[[10, 11, 10], [5, 3, 6], [11, 14, 12]]"
     },
     "execution_count": 92,
     "metadata": {},
     "output_type": "execute_result"
    }
   ],
   "source": [
    "C"
   ],
   "metadata": {
    "collapsed": false,
    "ExecuteTime": {
     "end_time": "2024-02-08T17:07:53.517547700Z",
     "start_time": "2024-02-08T17:07:53.342694600Z"
    }
   },
   "id": "ca89b826b609802a",
   "execution_count": 92
  },
  {
   "cell_type": "code",
   "outputs": [],
   "source": [
    "A = [[1, 1, 1], [1, 1, 1]]\n",
    "B = [[2, 2, 2], [2, 2, 2]]\n",
    "C = [[0, 0, 0] for _ in range(len(A))]"
   ],
   "metadata": {
    "collapsed": false,
    "ExecuteTime": {
     "end_time": "2024-02-08T17:42:20.768948Z",
     "start_time": "2024-02-08T17:42:20.668231500Z"
    }
   },
   "id": "927bc866e4f8afdd",
   "execution_count": 129
  },
  {
   "cell_type": "code",
   "outputs": [],
   "source": [
    "for i in range(len(A)):\n",
    "    for j in range(len(A[0])):\n",
    "        C[i][j] = A[i][j] + B[i][j]"
   ],
   "metadata": {
    "collapsed": false,
    "ExecuteTime": {
     "end_time": "2024-02-08T17:42:10.054627800Z",
     "start_time": "2024-02-08T17:42:09.866431900Z"
    }
   },
   "id": "4ef8edd34e446d33",
   "execution_count": 127
  },
  {
   "cell_type": "code",
   "outputs": [
    {
     "data": {
      "text/plain": "[[0, 0, 0], [0, 0, 0]]"
     },
     "execution_count": 130,
     "metadata": {},
     "output_type": "execute_result"
    }
   ],
   "source": [
    "C"
   ],
   "metadata": {
    "collapsed": false,
    "ExecuteTime": {
     "end_time": "2024-02-08T17:42:22.388831600Z",
     "start_time": "2024-02-08T17:42:22.248800200Z"
    }
   },
   "id": "6a8a4c065ea5b8c7",
   "execution_count": 130
  },
  {
   "cell_type": "code",
   "outputs": [],
   "source": [
    "c = []\n",
    "c.insert(3, 2)"
   ],
   "metadata": {
    "collapsed": false,
    "ExecuteTime": {
     "end_time": "2024-02-08T17:44:41.289382300Z",
     "start_time": "2024-02-08T17:44:41.124695600Z"
    }
   },
   "id": "220643fa2059b945",
   "execution_count": 142
  },
  {
   "cell_type": "code",
   "outputs": [
    {
     "ename": "IndexError",
     "evalue": "list assignment index out of range",
     "output_type": "error",
     "traceback": [
      "\u001B[1;31m---------------------------------------------------------------------------\u001B[0m",
      "\u001B[1;31mIndexError\u001B[0m                                Traceback (most recent call last)",
      "Cell \u001B[1;32mIn[144], line 1\u001B[0m\n\u001B[1;32m----> 1\u001B[0m \u001B[43mc\u001B[49m\u001B[43m[\u001B[49m\u001B[38;5;241;43m1\u001B[39;49m\u001B[43m]\u001B[49m\u001B[38;5;241m=\u001B[39m\u001B[38;5;241m1\u001B[39m\n",
      "\u001B[1;31mIndexError\u001B[0m: list assignment index out of range"
     ]
    }
   ],
   "source": [
    "c[1] = 1"
   ],
   "metadata": {
    "collapsed": false,
    "ExecuteTime": {
     "end_time": "2024-02-08T17:44:54.569515800Z",
     "start_time": "2024-02-08T17:44:54.379367Z"
    }
   },
   "id": "8f5aca7892a26651",
   "execution_count": 144
  },
  {
   "cell_type": "code",
   "outputs": [],
   "source": [
    "C = [0 for i in range(len(A))]\n",
    "A = [9, 11, 0, 4, 13, 8, 6, 7, 5, 14, 3, 1, 2, 10, 12]"
   ],
   "metadata": {
    "collapsed": false,
    "ExecuteTime": {
     "end_time": "2024-02-08T18:38:14.326705400Z",
     "start_time": "2024-02-08T18:38:14.117196300Z"
    }
   },
   "id": "eb6db30e28fedb0b",
   "execution_count": 162
  },
  {
   "cell_type": "code",
   "outputs": [],
   "source": [
    "for x in range(len(A)):\n",
    "    C[A[x]] = x"
   ],
   "metadata": {
    "collapsed": false,
    "ExecuteTime": {
     "end_time": "2024-02-08T18:38:14.746084Z",
     "start_time": "2024-02-08T18:38:14.621346500Z"
    }
   },
   "id": "759ba85cc25864b7",
   "execution_count": 163
  },
  {
   "cell_type": "code",
   "outputs": [
    {
     "data": {
      "text/plain": "[1, 4, 3]"
     },
     "execution_count": 165,
     "metadata": {},
     "output_type": "execute_result"
    }
   ],
   "source": [
    "[1, 3, 4, 4, 3, 1, 2, 3, 2][:6:2]"
   ],
   "metadata": {
    "collapsed": false,
    "ExecuteTime": {
     "end_time": "2024-02-08T18:40:05.054046800Z",
     "start_time": "2024-02-08T18:40:04.889148500Z"
    }
   },
   "id": "56596584dd12fd03",
   "execution_count": 165
  },
  {
   "cell_type": "code",
   "outputs": [
    {
     "data": {
      "text/plain": "[]"
     },
     "execution_count": 176,
     "metadata": {},
     "output_type": "execute_result"
    }
   ],
   "source": [
    "[1, 3, 4, 4, 3, 1, 2, 3, 2][4:1:2]"
   ],
   "metadata": {
    "collapsed": false,
    "ExecuteTime": {
     "end_time": "2024-02-08T18:46:21.263146700Z",
     "start_time": "2024-02-08T18:46:21.100130600Z"
    }
   },
   "id": "e97ce40146eb7429",
   "execution_count": 176
  },
  {
   "cell_type": "code",
   "outputs": [],
   "source": [
    "A = [[2, 3, 6, 7],\n",
    "     [2, 3, 4, 5]]"
   ],
   "metadata": {
    "collapsed": false,
    "ExecuteTime": {
     "end_time": "2024-02-09T08:42:51.833735600Z",
     "start_time": "2024-02-09T08:42:51.501774200Z"
    }
   },
   "id": "67732002a8080027",
   "execution_count": 19
  },
  {
   "cell_type": "code",
   "outputs": [],
   "source": [
    "B = [[1, 4, 7],\n",
    "     [2, 5, 8],\n",
    "     [3, 6, 9]]"
   ],
   "metadata": {
    "collapsed": false,
    "ExecuteTime": {
     "end_time": "2024-02-09T08:35:43.610676300Z",
     "start_time": "2024-02-09T08:35:43.065276600Z"
    }
   },
   "id": "bb3b94a91a686a98",
   "execution_count": 2
  },
  {
   "cell_type": "code",
   "outputs": [],
   "source": [
    "C = [[0] * len(A) for i in range(len(A[0]))]\n",
    "# for i in range(len(A)):\n",
    "#     for j in range(len(A[0])):\n",
    "#         if i!=j:\n",
    "#             A[i][j], A[j][i] = A[j][i], A[i][j]"
   ],
   "metadata": {
    "collapsed": false,
    "ExecuteTime": {
     "end_time": "2024-02-09T08:51:59.917628700Z",
     "start_time": "2024-02-09T08:51:59.709171Z"
    }
   },
   "id": "abfae5994d2558b0",
   "execution_count": 30
  },
  {
   "cell_type": "code",
   "outputs": [
    {
     "data": {
      "text/plain": "[[0, 0], [0, 0], [0, 0], [0, 0]]"
     },
     "execution_count": 26,
     "metadata": {},
     "output_type": "execute_result"
    }
   ],
   "source": [
    "C"
   ],
   "metadata": {
    "collapsed": false,
    "ExecuteTime": {
     "end_time": "2024-02-09T08:47:40.479863200Z",
     "start_time": "2024-02-09T08:47:40.330574400Z"
    }
   },
   "id": "a05bc2ed2b3e99b1",
   "execution_count": 26
  },
  {
   "cell_type": "code",
   "outputs": [
    {
     "ename": "IndexError",
     "evalue": "list assignment index out of range",
     "output_type": "error",
     "traceback": [
      "\u001B[1;31m---------------------------------------------------------------------------\u001B[0m",
      "\u001B[1;31mIndexError\u001B[0m                                Traceback (most recent call last)",
      "Cell \u001B[1;32mIn[31], line 4\u001B[0m\n\u001B[0;32m      2\u001B[0m \u001B[38;5;28;01mfor\u001B[39;00m row \u001B[38;5;129;01min\u001B[39;00m \u001B[38;5;28mrange\u001B[39m(\u001B[38;5;28mlen\u001B[39m(A[\u001B[38;5;241m0\u001B[39m])):\n\u001B[0;32m      3\u001B[0m     \u001B[38;5;28;01mif\u001B[39;00m col \u001B[38;5;241m!=\u001B[39m row:\n\u001B[1;32m----> 4\u001B[0m         \u001B[43mC\u001B[49m\u001B[43m[\u001B[49m\u001B[43mcol\u001B[49m\u001B[43m]\u001B[49m\u001B[43m[\u001B[49m\u001B[43mrow\u001B[49m\u001B[43m]\u001B[49m \u001B[38;5;241m=\u001B[39m A[col][row]\n",
      "\u001B[1;31mIndexError\u001B[0m: list assignment index out of range"
     ]
    }
   ],
   "source": [
    "for col in range(len(A)):\n",
    "    for row in range(len(A[0])):\n",
    "        if col != row:\n",
    "            C[col][row] = A[col][row]"
   ],
   "metadata": {
    "collapsed": false,
    "ExecuteTime": {
     "end_time": "2024-02-09T08:52:03.956797700Z",
     "start_time": "2024-02-09T08:52:03.629890300Z"
    }
   },
   "id": "c29019474e51b1b7",
   "execution_count": 31
  },
  {
   "cell_type": "code",
   "outputs": [
    {
     "ename": "NameError",
     "evalue": "name 'C' is not defined",
     "output_type": "error",
     "traceback": [
      "\u001B[1;31m---------------------------------------------------------------------------\u001B[0m",
      "\u001B[1;31mNameError\u001B[0m                                 Traceback (most recent call last)",
      "Cell \u001B[1;32mIn[1], line 1\u001B[0m\n\u001B[1;32m----> 1\u001B[0m \u001B[43mC\u001B[49m\n",
      "\u001B[1;31mNameError\u001B[0m: name 'C' is not defined"
     ]
    }
   ],
   "source": [
    "C"
   ],
   "metadata": {
    "collapsed": false,
    "ExecuteTime": {
     "end_time": "2024-02-11T06:26:13.132869200Z",
     "start_time": "2024-02-11T06:26:12.170716600Z"
    }
   },
   "id": "f73dc2c73d585235",
   "execution_count": 1
  },
  {
   "cell_type": "code",
   "outputs": [
    {
     "name": "stdout",
     "output_type": "stream",
     "text": [
      "12/08/1998\n"
     ]
    }
   ],
   "source": [
    "date = \"08/12/1998\"\n",
    "new_date = []\n",
    "for i in date.split(\"/\"):\n",
    "    new_date.append(i)\n"
   ],
   "metadata": {
    "collapsed": false,
    "ExecuteTime": {
     "end_time": "2024-02-11T06:34:21.587904200Z",
     "start_time": "2024-02-11T06:34:21.418533400Z"
    }
   },
   "id": "b13ed476437f8ec1",
   "execution_count": 22
  },
  {
   "cell_type": "code",
   "outputs": [],
   "source": [
    "new_date = f\"\"\"{new_date[1]}/{new_date[0]}/{new_date[2]}\n",
    "{new_date[2]}/{new_date[0]}/{new_date[1]}\n",
    "\"\"\""
   ],
   "metadata": {
    "collapsed": false,
    "ExecuteTime": {
     "end_time": "2024-02-11T06:38:31.235503200Z",
     "start_time": "2024-02-11T06:38:30.883258900Z"
    }
   },
   "id": "c70b7d64ce6db0ba",
   "execution_count": 28
  },
  {
   "cell_type": "code",
   "outputs": [
    {
     "name": "stdout",
     "output_type": "stream",
     "text": [
      "12/08/1998\n",
      "1998/08/12\n"
     ]
    }
   ],
   "source": [
    "print(new_date)"
   ],
   "metadata": {
    "collapsed": false,
    "ExecuteTime": {
     "end_time": "2024-02-11T06:38:41.614815900Z",
     "start_time": "2024-02-11T06:38:41.446617800Z"
    }
   },
   "id": "15a3b73260b6f007",
   "execution_count": 30
  },
  {
   "cell_type": "code",
   "outputs": [
    {
     "name": "stdout",
     "output_type": "stream",
     "text": [
      "a\n",
      "b\n"
     ]
    }
   ],
   "source": [
    "print(n)"
   ],
   "metadata": {
    "collapsed": false,
    "ExecuteTime": {
     "end_time": "2024-02-11T06:36:59.209467400Z",
     "start_time": "2024-02-11T06:36:59.052502400Z"
    }
   },
   "id": "c7ec2ccfbfb6673f",
   "execution_count": 27
  },
  {
   "cell_type": "code",
   "outputs": [],
   "source": [
    "new_date = []\n",
    "for i in date.split(\"/\"):\n",
    "    new_date.append(i)"
   ],
   "metadata": {
    "collapsed": false,
    "ExecuteTime": {
     "end_time": "2024-02-11T06:46:58.407484300Z",
     "start_time": "2024-02-11T06:46:58.149681100Z"
    }
   },
   "id": "62bf16bfb1474cbe",
   "execution_count": 43
  },
  {
   "cell_type": "code",
   "outputs": [
    {
     "name": "stdout",
     "output_type": "stream",
     "text": [
      "12/08/1998\n",
      "1998/08/12\n"
     ]
    }
   ],
   "source": [],
   "metadata": {
    "collapsed": false,
    "ExecuteTime": {
     "end_time": "2024-02-11T06:42:45.690765200Z",
     "start_time": "2024-02-11T06:42:45.539390900Z"
    }
   },
   "id": "227975764e2178e0",
   "execution_count": 37
  },
  {
   "cell_type": "code",
   "outputs": [],
   "source": [
    "formatted_date = (f\"{new_date[1]}/{new_date[0]}/{new_date[2]}\", f\"{new_date[2]}/{new_date[0]}/{new_date[1]}\")"
   ],
   "metadata": {
    "collapsed": false,
    "ExecuteTime": {
     "end_time": "2024-02-11T06:47:02.738881300Z",
     "start_time": "2024-02-11T06:47:02.545362800Z"
    }
   },
   "id": "fa121f0659bf2b7e",
   "execution_count": 44
  },
  {
   "cell_type": "code",
   "outputs": [
    {
     "data": {
      "text/plain": "('12/08/1998', '1998/08/12')"
     },
     "execution_count": 45,
     "metadata": {},
     "output_type": "execute_result"
    }
   ],
   "source": [
    "formatted_date"
   ],
   "metadata": {
    "collapsed": false,
    "ExecuteTime": {
     "end_time": "2024-02-11T06:47:07.409556500Z",
     "start_time": "2024-02-11T06:47:07.246262500Z"
    }
   },
   "id": "1f3e34fe4613bae6",
   "execution_count": 45
  },
  {
   "cell_type": "code",
   "outputs": [
    {
     "data": {
      "text/plain": "'B'"
     },
     "execution_count": 50,
     "metadata": {},
     "output_type": "execute_result"
    }
   ],
   "source": [
    "chr(66)"
   ],
   "metadata": {
    "collapsed": false,
    "ExecuteTime": {
     "end_time": "2024-02-11T06:51:02.728796200Z",
     "start_time": "2024-02-11T06:51:02.548680900Z"
    }
   },
   "id": "764b2a20b44f8b18",
   "execution_count": 50
  },
  {
   "cell_type": "code",
   "outputs": [],
   "source": [
    "word = \"Scaler Academy\"\n",
    "n = len(word)\n",
    "word1 = word.upper()\n",
    "word2 = word.lower()\n",
    "\n",
    "converted_word = \"\"\n",
    "\n",
    "for i in range(n):\n",
    "    if i % 2 == 0:\n",
    "        converted_word += word2[i]\n",
    "    else:\n",
    "        converted_word += word1[i]"
   ],
   "metadata": {
    "collapsed": false,
    "ExecuteTime": {
     "end_time": "2024-02-11T06:59:45.910923700Z",
     "start_time": "2024-02-11T06:59:45.688885700Z"
    }
   },
   "id": "e51b705c270a7078",
   "execution_count": 51
  },
  {
   "cell_type": "code",
   "outputs": [
    {
     "data": {
      "text/plain": "'sCaLeR AcAdEmY'"
     },
     "execution_count": 52,
     "metadata": {},
     "output_type": "execute_result"
    }
   ],
   "source": [
    "converted_word"
   ],
   "metadata": {
    "collapsed": false,
    "ExecuteTime": {
     "end_time": "2024-02-11T06:59:48.991852900Z",
     "start_time": "2024-02-11T06:59:48.849850600Z"
    }
   },
   "id": "39f1f144c7d8eda6",
   "execution_count": 52
  },
  {
   "cell_type": "code",
   "outputs": [
    {
     "name": "stdout",
     "output_type": "stream",
     "text": [
      "HelloHello\n"
     ]
    }
   ],
   "source": [
    "print(\"Hello\" * 2)"
   ],
   "metadata": {
    "collapsed": false,
    "ExecuteTime": {
     "end_time": "2024-02-11T07:01:09.251915300Z",
     "start_time": "2024-02-11T07:01:09.100988600Z"
    }
   },
   "id": "44b82502b2bf2019",
   "execution_count": 54
  },
  {
   "cell_type": "code",
   "outputs": [],
   "source": [
    "str = \"Hello\""
   ],
   "metadata": {
    "collapsed": false,
    "ExecuteTime": {
     "end_time": "2024-02-11T07:03:34.897062200Z",
     "start_time": "2024-02-11T07:03:34.725955600Z"
    }
   },
   "id": "ccfca888288dc31c",
   "execution_count": 55
  },
  {
   "cell_type": "code",
   "outputs": [
    {
     "data": {
      "text/plain": "'lo'"
     },
     "execution_count": 57,
     "metadata": {},
     "output_type": "execute_result"
    }
   ],
   "source": [
    "str[3:110]"
   ],
   "metadata": {
    "collapsed": false,
    "ExecuteTime": {
     "end_time": "2024-02-11T07:03:49.527898200Z",
     "start_time": "2024-02-11T07:03:49.364823500Z"
    }
   },
   "id": "64de25535abb28e9",
   "execution_count": 57
  },
  {
   "cell_type": "code",
   "outputs": [
    {
     "name": "stdout",
     "output_type": "stream",
     "text": [
      "fox quick word own fox word! ord!\n"
     ]
    }
   ],
   "source": [
    "str1 = \"quick brown fox word!\"\n",
    "print(str1[12:15], str1[:5], str1[-5:-1], str1[8:110], str1[-4:])"
   ],
   "metadata": {
    "collapsed": false,
    "ExecuteTime": {
     "end_time": "2024-02-11T07:04:15.125697Z",
     "start_time": "2024-02-11T07:04:14.947133800Z"
    }
   },
   "id": "3eed41f9f3fc3cb5",
   "execution_count": 58
  },
  {
   "cell_type": "code",
   "outputs": [
    {
     "data": {
      "text/plain": "'quick'"
     },
     "execution_count": 60,
     "metadata": {},
     "output_type": "execute_result"
    }
   ],
   "source": [
    "str1[:5]"
   ],
   "metadata": {
    "collapsed": false,
    "ExecuteTime": {
     "end_time": "2024-02-11T07:04:58.873007Z",
     "start_time": "2024-02-11T07:04:58.720522600Z"
    }
   },
   "id": "bedb0609237a80a9",
   "execution_count": 60
  },
  {
   "cell_type": "code",
   "outputs": [],
   "source": [
    "s = \"My PO Box number is 310\""
   ],
   "metadata": {
    "collapsed": false,
    "ExecuteTime": {
     "end_time": "2024-02-11T07:06:00.572691600Z",
     "start_time": "2024-02-11T07:06:00.387195200Z"
    }
   },
   "id": "242d13d3f29b0eac",
   "execution_count": 61
  },
  {
   "cell_type": "code",
   "outputs": [
    {
     "data": {
      "text/plain": "True"
     },
     "execution_count": 64,
     "metadata": {},
     "output_type": "execute_result"
    }
   ],
   "source": [
    "s.startswith(\"My P\")"
   ],
   "metadata": {
    "collapsed": false,
    "ExecuteTime": {
     "end_time": "2024-02-11T07:06:54.697744Z",
     "start_time": "2024-02-11T07:06:54.517770300Z"
    }
   },
   "id": "587632859401088a",
   "execution_count": 64
  },
  {
   "cell_type": "code",
   "outputs": [
    {
     "ename": "TypeError",
     "evalue": "'str' object does not support item assignment",
     "output_type": "error",
     "traceback": [
      "\u001B[1;31m---------------------------------------------------------------------------\u001B[0m",
      "\u001B[1;31mTypeError\u001B[0m                                 Traceback (most recent call last)",
      "Cell \u001B[1;32mIn[65], line 1\u001B[0m\n\u001B[1;32m----> 1\u001B[0m \u001B[43ms\u001B[49m\u001B[43m[\u001B[49m\u001B[38;5;241;43m1\u001B[39;49m\u001B[43m]\u001B[49m\u001B[38;5;241m=\u001B[39m\u001B[38;5;124m'\u001B[39m\u001B[38;5;124ma\u001B[39m\u001B[38;5;124m'\u001B[39m\n",
      "\u001B[1;31mTypeError\u001B[0m: 'str' object does not support item assignment"
     ]
    }
   ],
   "source": [
    "s[1] = 'a'"
   ],
   "metadata": {
    "collapsed": false,
    "ExecuteTime": {
     "end_time": "2024-02-11T07:07:34.447311700Z",
     "start_time": "2024-02-11T07:07:34.233737100Z"
    }
   },
   "id": "686f0e5a3959b552",
   "execution_count": 65
  },
  {
   "cell_type": "code",
   "outputs": [
    {
     "name": "stdout",
     "output_type": "stream",
     "text": [
      "My PO Box\n"
     ]
    }
   ],
   "source": [
    "print(s[0:9])"
   ],
   "metadata": {
    "collapsed": false,
    "ExecuteTime": {
     "end_time": "2024-02-11T07:08:08.979334600Z",
     "start_time": "2024-02-11T07:08:08.729326900Z"
    }
   },
   "id": "9a3ea554c50f53a6",
   "execution_count": 68
  },
  {
   "cell_type": "code",
   "outputs": [],
   "source": [
    "s = \"hello\""
   ],
   "metadata": {
    "collapsed": false,
    "ExecuteTime": {
     "end_time": "2024-02-11T07:08:37.092575700Z",
     "start_time": "2024-02-11T07:08:36.914450100Z"
    }
   },
   "id": "a218ea02175a4614",
   "execution_count": 69
  },
  {
   "cell_type": "code",
   "outputs": [
    {
     "name": "stdout",
     "output_type": "stream",
     "text": [
      "hello\n"
     ]
    }
   ],
   "source": [
    "print(s[0:9])"
   ],
   "metadata": {
    "collapsed": false,
    "ExecuteTime": {
     "end_time": "2024-02-11T07:08:47.816666500Z",
     "start_time": "2024-02-11T07:08:47.468996200Z"
    }
   },
   "id": "c827715f9a3ab0d0",
   "execution_count": 70
  },
  {
   "cell_type": "code",
   "outputs": [
    {
     "ename": "IndexError",
     "evalue": "string index out of range",
     "output_type": "error",
     "traceback": [
      "\u001B[1;31m---------------------------------------------------------------------------\u001B[0m",
      "\u001B[1;31mIndexError\u001B[0m                                Traceback (most recent call last)",
      "Cell \u001B[1;32mIn[71], line 1\u001B[0m\n\u001B[1;32m----> 1\u001B[0m \u001B[38;5;28mprint\u001B[39m(\u001B[43ms\u001B[49m\u001B[43m[\u001B[49m\u001B[38;5;241;43m9\u001B[39;49m\u001B[43m]\u001B[49m)\n",
      "\u001B[1;31mIndexError\u001B[0m: string index out of range"
     ]
    }
   ],
   "source": [
    "print(s[9])"
   ],
   "metadata": {
    "collapsed": false,
    "ExecuteTime": {
     "end_time": "2024-02-11T07:08:58.979630500Z",
     "start_time": "2024-02-11T07:08:58.726531800Z"
    }
   },
   "id": "3e550bca69423fe2",
   "execution_count": 71
  },
  {
   "cell_type": "code",
   "outputs": [
    {
     "data": {
      "text/plain": "'olleh'"
     },
     "execution_count": 73,
     "metadata": {},
     "output_type": "execute_result"
    }
   ],
   "source": [
    "s[::-1]"
   ],
   "metadata": {
    "collapsed": false,
    "ExecuteTime": {
     "end_time": "2024-02-11T07:09:32.147567900Z",
     "start_time": "2024-02-11T07:09:31.962574900Z"
    }
   },
   "id": "19479090b384b96d",
   "execution_count": 73
  },
  {
   "cell_type": "code",
   "outputs": [
    {
     "data": {
      "text/plain": "'hello'"
     },
     "execution_count": 74,
     "metadata": {},
     "output_type": "execute_result"
    }
   ],
   "source": [
    "s"
   ],
   "metadata": {
    "collapsed": false,
    "ExecuteTime": {
     "end_time": "2024-02-11T07:10:03.679577100Z",
     "start_time": "2024-02-11T07:10:03.498513400Z"
    }
   },
   "id": "9d8c5913931e21f8",
   "execution_count": 74
  },
  {
   "cell_type": "code",
   "outputs": [
    {
     "ename": "TypeError",
     "evalue": "'str' object is not callable",
     "output_type": "error",
     "traceback": [
      "\u001B[1;31m---------------------------------------------------------------------------\u001B[0m",
      "\u001B[1;31mTypeError\u001B[0m                                 Traceback (most recent call last)",
      "Cell \u001B[1;32mIn[75], line 1\u001B[0m\n\u001B[1;32m----> 1\u001B[0m x \u001B[38;5;241m=\u001B[39m \u001B[38;5;28;43mstr\u001B[39;49m\u001B[43m(\u001B[49m\u001B[43ms\u001B[49m\u001B[43m)\u001B[49m\n",
      "\u001B[1;31mTypeError\u001B[0m: 'str' object is not callable"
     ]
    }
   ],
   "source": [
    "x = str(s)"
   ],
   "metadata": {
    "collapsed": false,
    "ExecuteTime": {
     "end_time": "2024-02-11T07:10:12.594553500Z",
     "start_time": "2024-02-11T07:10:12.403453700Z"
    }
   },
   "id": "3889ab7f52d06084",
   "execution_count": 75
  },
  {
   "cell_type": "code",
   "outputs": [],
   "source": [
    "x = s[:]"
   ],
   "metadata": {
    "collapsed": false,
    "ExecuteTime": {
     "end_time": "2024-02-11T07:10:39.461923400Z",
     "start_time": "2024-02-11T07:10:39.276015Z"
    }
   },
   "id": "cc7b46f7ca6ca3d8",
   "execution_count": 78
  },
  {
   "cell_type": "code",
   "outputs": [
    {
     "data": {
      "text/plain": "'hello'"
     },
     "execution_count": 79,
     "metadata": {},
     "output_type": "execute_result"
    }
   ],
   "source": [
    "x"
   ],
   "metadata": {
    "collapsed": false,
    "ExecuteTime": {
     "end_time": "2024-02-11T07:10:41.462809500Z",
     "start_time": "2024-02-11T07:10:41.241593700Z"
    }
   },
   "id": "4aba5819bfdd504e",
   "execution_count": 79
  },
  {
   "cell_type": "code",
   "outputs": [],
   "source": [
    "a = \"Random String\""
   ],
   "metadata": {
    "collapsed": false,
    "ExecuteTime": {
     "end_time": "2024-02-11T07:11:07.986724300Z",
     "start_time": "2024-02-11T07:11:07.793070700Z"
    }
   },
   "id": "3c36e07e4e4dc583",
   "execution_count": 80
  },
  {
   "cell_type": "code",
   "outputs": [],
   "source": [
    "b = a"
   ],
   "metadata": {
    "collapsed": false,
    "ExecuteTime": {
     "end_time": "2024-02-11T07:11:17.252655500Z",
     "start_time": "2024-02-11T07:11:17.036596700Z"
    }
   },
   "id": "a274d96c9554d95d",
   "execution_count": 81
  },
  {
   "cell_type": "code",
   "outputs": [
    {
     "ename": "TypeError",
     "evalue": "'str' object is not callable",
     "output_type": "error",
     "traceback": [
      "\u001B[1;31m---------------------------------------------------------------------------\u001B[0m",
      "\u001B[1;31mTypeError\u001B[0m                                 Traceback (most recent call last)",
      "Cell \u001B[1;32mIn[82], line 1\u001B[0m\n\u001B[1;32m----> 1\u001B[0m c \u001B[38;5;241m=\u001B[39m \u001B[38;5;28;43mstr\u001B[39;49m\u001B[43m(\u001B[49m\u001B[43ma\u001B[49m\u001B[43m)\u001B[49m\n",
      "\u001B[1;31mTypeError\u001B[0m: 'str' object is not callable"
     ]
    }
   ],
   "source": [
    "c = str(a)"
   ],
   "metadata": {
    "collapsed": false,
    "ExecuteTime": {
     "end_time": "2024-02-11T07:11:24.709638600Z",
     "start_time": "2024-02-11T07:11:24.456960800Z"
    }
   },
   "id": "b4d5e45647214ef2",
   "execution_count": 82
  },
  {
   "cell_type": "code",
   "outputs": [],
   "source": [
    "d = a[:]"
   ],
   "metadata": {
    "collapsed": false,
    "ExecuteTime": {
     "end_time": "2024-02-11T07:14:21.496283400Z",
     "start_time": "2024-02-11T07:14:21.329529500Z"
    }
   },
   "id": "4757d713900471f6",
   "execution_count": 92
  },
  {
   "cell_type": "code",
   "outputs": [],
   "source": [
    "e = \"Rand\" + \"\" + \"om Str\" + \"\" + \"ing\""
   ],
   "metadata": {
    "collapsed": false,
    "ExecuteTime": {
     "end_time": "2024-02-11T07:13:34.347416500Z",
     "start_time": "2024-02-11T07:13:34.062595200Z"
    }
   },
   "id": "48552dd2de0d193f",
   "execution_count": 90
  },
  {
   "cell_type": "code",
   "outputs": [
    {
     "data": {
      "text/plain": "'Random String'"
     },
     "execution_count": 91,
     "metadata": {},
     "output_type": "execute_result"
    }
   ],
   "source": [
    "e"
   ],
   "metadata": {
    "collapsed": false,
    "ExecuteTime": {
     "end_time": "2024-02-11T07:13:35.061118200Z",
     "start_time": "2024-02-11T07:13:34.871447500Z"
    }
   },
   "id": "3597fe9d3d12ae70",
   "execution_count": 91
  },
  {
   "cell_type": "code",
   "outputs": [
    {
     "data": {
      "text/plain": "'Random String'"
     },
     "execution_count": 86,
     "metadata": {},
     "output_type": "execute_result"
    }
   ],
   "source": [
    "a"
   ],
   "metadata": {
    "collapsed": false,
    "ExecuteTime": {
     "end_time": "2024-02-11T07:12:05.795483100Z",
     "start_time": "2024-02-11T07:12:05.546705Z"
    }
   },
   "id": "ccfa7d288caf09bb",
   "execution_count": 86
  },
  {
   "cell_type": "code",
   "outputs": [
    {
     "data": {
      "text/plain": "'Random String'"
     },
     "execution_count": 87,
     "metadata": {},
     "output_type": "execute_result"
    }
   ],
   "source": [
    "b"
   ],
   "metadata": {
    "collapsed": false,
    "ExecuteTime": {
     "end_time": "2024-02-11T07:12:18.828585200Z",
     "start_time": "2024-02-11T07:12:18.625366700Z"
    }
   },
   "id": "33428a221000e777",
   "execution_count": 87
  },
  {
   "cell_type": "code",
   "outputs": [
    {
     "data": {
      "text/plain": "'Random String'"
     },
     "execution_count": 93,
     "metadata": {},
     "output_type": "execute_result"
    }
   ],
   "source": [
    "d"
   ],
   "metadata": {
    "collapsed": false,
    "ExecuteTime": {
     "end_time": "2024-02-11T07:14:24.194448600Z",
     "start_time": "2024-02-11T07:14:24.022412500Z"
    }
   },
   "id": "571f67d49b42b359",
   "execution_count": 93
  },
  {
   "cell_type": "code",
   "outputs": [
    {
     "ename": "TypeError",
     "evalue": "'str' object is not callable",
     "output_type": "error",
     "traceback": [
      "\u001B[1;31m---------------------------------------------------------------------------\u001B[0m",
      "\u001B[1;31mTypeError\u001B[0m                                 Traceback (most recent call last)",
      "Cell \u001B[1;32mIn[95], line 1\u001B[0m\n\u001B[1;32m----> 1\u001B[0m c\u001B[38;5;241m=\u001B[39m\u001B[38;5;28;43mstr\u001B[39;49m\u001B[43m(\u001B[49m\u001B[43ma\u001B[49m\u001B[43m)\u001B[49m\n",
      "\u001B[1;31mTypeError\u001B[0m: 'str' object is not callable"
     ]
    }
   ],
   "source": [
    "c = str(a)"
   ],
   "metadata": {
    "collapsed": false,
    "ExecuteTime": {
     "end_time": "2024-02-11T07:16:43.207829Z",
     "start_time": "2024-02-11T07:16:42.961811Z"
    }
   },
   "id": "c0b538082c27583e",
   "execution_count": 95
  },
  {
   "cell_type": "code",
   "outputs": [],
   "source": [
    "a = [[1, 3]]"
   ],
   "metadata": {
    "collapsed": false,
    "ExecuteTime": {
     "end_time": "2024-02-11T07:35:19.108216600Z",
     "start_time": "2024-02-11T07:35:18.934593500Z"
    }
   },
   "id": "89d480465bc19259",
   "execution_count": 102
  },
  {
   "cell_type": "code",
   "outputs": [],
   "source": [
    "largest_elem = []\n",
    "for i in a:\n",
    "    largest_elem.append(max(i))"
   ],
   "metadata": {
    "collapsed": false,
    "ExecuteTime": {
     "end_time": "2024-02-11T07:35:20.585499600Z",
     "start_time": "2024-02-11T07:35:20.368451500Z"
    }
   },
   "id": "ece401ce9d82abfb",
   "execution_count": 103
  },
  {
   "cell_type": "code",
   "outputs": [
    {
     "data": {
      "text/plain": "[3]"
     },
     "execution_count": 104,
     "metadata": {},
     "output_type": "execute_result"
    }
   ],
   "source": [
    "largest_elem"
   ],
   "metadata": {
    "collapsed": false,
    "ExecuteTime": {
     "end_time": "2024-02-11T07:35:21.165381200Z",
     "start_time": "2024-02-11T07:35:20.918365500Z"
    }
   },
   "id": "af616b6ba75ae8ca",
   "execution_count": 104
  },
  {
   "cell_type": "code",
   "outputs": [],
   "source": [
    "A = [[1, 2, 3],\n",
    "     [4, 5, 6],\n",
    "     [7, 8, 9]]\n",
    "\n",
    "B = [[9, 8],\n",
    "     [6, 5],\n",
    "     [3, 2]]\n",
    "\n",
    "C = [[0] * len(B[0]) for i in range(len(A))]"
   ],
   "metadata": {
    "collapsed": false,
    "ExecuteTime": {
     "end_time": "2024-02-11T11:30:09.291933600Z",
     "start_time": "2024-02-11T11:30:09.074794100Z"
    }
   },
   "id": "6d494a32b1fc19e0",
   "execution_count": 150
  },
  {
   "cell_type": "code",
   "outputs": [],
   "source": [
    "for i in range(len(A)):\n",
    "    for j in range(len(B[0])):\n",
    "        for k in range(len(B)):\n",
    "            C[i][j] += (A[i][k] * B[k][j])"
   ],
   "metadata": {
    "collapsed": false,
    "ExecuteTime": {
     "end_time": "2024-02-11T11:30:11.027609100Z",
     "start_time": "2024-02-11T11:30:10.645067400Z"
    }
   },
   "id": "15ee10274631cdc",
   "execution_count": 151
  },
  {
   "cell_type": "code",
   "outputs": [
    {
     "data": {
      "text/plain": "[[30, 24], [84, 69], [138, 114]]"
     },
     "execution_count": 152,
     "metadata": {},
     "output_type": "execute_result"
    }
   ],
   "source": [
    "C"
   ],
   "metadata": {
    "collapsed": false,
    "ExecuteTime": {
     "end_time": "2024-02-11T11:30:12.171853100Z",
     "start_time": "2024-02-11T11:30:11.985580Z"
    }
   },
   "id": "42d7c0acb2ccc643",
   "execution_count": 152
  },
  {
   "cell_type": "code",
   "outputs": [],
   "source": [
    "C = [[0] * len(B) for i in range(len(B[0]))]"
   ],
   "metadata": {
    "collapsed": false,
    "ExecuteTime": {
     "end_time": "2024-02-11T11:37:01.356404500Z",
     "start_time": "2024-02-11T11:37:01.110421400Z"
    }
   },
   "id": "1348c351e1e70aa",
   "execution_count": 153
  },
  {
   "cell_type": "code",
   "outputs": [
    {
     "ename": "IndexError",
     "evalue": "list index out of range",
     "output_type": "error",
     "traceback": [
      "\u001B[1;31m---------------------------------------------------------------------------\u001B[0m",
      "\u001B[1;31mIndexError\u001B[0m                                Traceback (most recent call last)",
      "Cell \u001B[1;32mIn[158], line 3\u001B[0m\n\u001B[0;32m      1\u001B[0m \u001B[38;5;28;01mfor\u001B[39;00m i \u001B[38;5;129;01min\u001B[39;00m \u001B[38;5;28mrange\u001B[39m(\u001B[38;5;28mlen\u001B[39m(B)):\n\u001B[0;32m      2\u001B[0m     \u001B[38;5;28;01mfor\u001B[39;00m j \u001B[38;5;129;01min\u001B[39;00m \u001B[38;5;28mrange\u001B[39m(\u001B[38;5;28mlen\u001B[39m(B[\u001B[38;5;241m0\u001B[39m])):\n\u001B[1;32m----> 3\u001B[0m         B[i][j] \u001B[38;5;241m=\u001B[39m \u001B[43mB\u001B[49m\u001B[43m[\u001B[49m\u001B[43mj\u001B[49m\u001B[43m]\u001B[49m\u001B[43m[\u001B[49m\u001B[43mi\u001B[49m\u001B[43m]\u001B[49m\n",
      "\u001B[1;31mIndexError\u001B[0m: list index out of range"
     ]
    }
   ],
   "source": [
    "for i in range(len(B)):\n",
    "    for j in range(len(B[0])):\n",
    "        B[i][j] = B[j][i]"
   ],
   "metadata": {
    "collapsed": false,
    "ExecuteTime": {
     "end_time": "2024-02-11T11:40:26.089198Z",
     "start_time": "2024-02-11T11:40:25.800008400Z"
    }
   },
   "id": "78c56d143d8a82b8",
   "execution_count": 158
  },
  {
   "cell_type": "code",
   "outputs": [
    {
     "data": {
      "text/plain": "[[9, 6, 3], [8, 5, 2]]"
     },
     "execution_count": 157,
     "metadata": {},
     "output_type": "execute_result"
    }
   ],
   "source": [
    "C"
   ],
   "metadata": {
    "collapsed": false,
    "ExecuteTime": {
     "end_time": "2024-02-11T11:39:10.921396300Z",
     "start_time": "2024-02-11T11:39:10.735279200Z"
    }
   },
   "id": "6ecd0a0374c9c8c",
   "execution_count": 157
  },
  {
   "cell_type": "code",
   "outputs": [],
   "source": [
    "def solve(A, B):\n",
    "    result = []\n",
    "    for x in A:\n",
    "        if x >= B:\n",
    "            result.append(x)\n",
    "            break\n",
    "    for x in range(len(A)-1,-1,-1):\n",
    "        if A[x] <= B:\n",
    "            result.append(A[x])\n",
    "            break\n",
    "    return result"
   ],
   "metadata": {
    "collapsed": false,
    "ExecuteTime": {
     "end_time": "2024-02-11T12:05:50.089648300Z",
     "start_time": "2024-02-11T12:05:49.720691200Z"
    }
   },
   "id": "1ba6b69f1bc0766a",
   "execution_count": 178
  },
  {
   "cell_type": "code",
   "outputs": [
    {
     "data": {
      "text/plain": "[2, 2]"
     },
     "execution_count": 180,
     "metadata": {},
     "output_type": "execute_result"
    }
   ],
   "source": [
    "solve([-10, -10, -7, -5, -3, -2, -1, 1, 1, 1, 2, 5, 5, 8, 10], 2)"
   ],
   "metadata": {
    "collapsed": false,
    "ExecuteTime": {
     "end_time": "2024-02-11T12:06:01.068236300Z",
     "start_time": "2024-02-11T12:06:00.785873900Z"
    }
   },
   "id": "d923ce843a1f3ba5",
   "execution_count": 180
  },
  {
   "cell_type": "code",
   "outputs": [],
   "source": [
    "t = ['d', 'c', 'e', 'b', 'a']"
   ],
   "metadata": {
    "collapsed": false,
    "ExecuteTime": {
     "end_time": "2024-02-11T12:22:32.970532Z",
     "start_time": "2024-02-11T12:22:32.787015800Z"
    }
   },
   "id": "8009153ef40b854c",
   "execution_count": 181
  },
  {
   "cell_type": "code",
   "outputs": [],
   "source": [
    "t.sort()"
   ],
   "metadata": {
    "collapsed": false,
    "ExecuteTime": {
     "end_time": "2024-02-11T12:22:36.208877700Z",
     "start_time": "2024-02-11T12:22:36.023353300Z"
    }
   },
   "id": "c4ab19bc84f45736",
   "execution_count": 182
  },
  {
   "cell_type": "code",
   "outputs": [],
   "source": [
    "t = t.sort()"
   ],
   "metadata": {
    "collapsed": false,
    "ExecuteTime": {
     "end_time": "2024-02-11T12:22:50.242204700Z",
     "start_time": "2024-02-11T12:22:49.796898700Z"
    }
   },
   "id": "306621282f1fd6b9",
   "execution_count": 184
  },
  {
   "cell_type": "code",
   "outputs": [],
   "source": [
    "t"
   ],
   "metadata": {
    "collapsed": false,
    "ExecuteTime": {
     "end_time": "2024-02-11T12:22:59.411796900Z",
     "start_time": "2024-02-11T12:22:59.252809400Z"
    }
   },
   "id": "2132f02eff17962f",
   "execution_count": 186
  },
  {
   "cell_type": "code",
   "outputs": [
    {
     "data": {
      "text/plain": "False"
     },
     "execution_count": 188,
     "metadata": {},
     "output_type": "execute_result"
    }
   ],
   "source": [
    "a = [1,2]\n",
    "b = [1,2]\n",
    "a is b"
   ],
   "metadata": {
    "collapsed": false,
    "ExecuteTime": {
     "end_time": "2024-02-11T12:32:42.176234Z",
     "start_time": "2024-02-11T12:32:41.930335200Z"
    }
   },
   "id": "cccc5552a95da98c",
   "execution_count": 188
  },
  {
   "cell_type": "code",
   "outputs": [],
   "source": [
    "a = 'banana'\n",
    "b = 'banana'"
   ],
   "metadata": {
    "collapsed": false,
    "ExecuteTime": {
     "end_time": "2024-02-11T12:32:57.282440400Z",
     "start_time": "2024-02-11T12:32:56.979543800Z"
    }
   },
   "id": "6803ed8a39697dfe",
   "execution_count": 189
  },
  {
   "cell_type": "code",
   "outputs": [
    {
     "data": {
      "text/plain": "True"
     },
     "execution_count": 191,
     "metadata": {},
     "output_type": "execute_result"
    }
   ],
   "source": [
    "a == b"
   ],
   "metadata": {
    "collapsed": false,
    "ExecuteTime": {
     "end_time": "2024-02-11T12:33:05.557052Z",
     "start_time": "2024-02-11T12:33:05.258332200Z"
    }
   },
   "id": "45e2fadc8b621f32",
   "execution_count": 191
  },
  {
   "cell_type": "code",
   "outputs": [
    {
     "ename": "NameError",
     "evalue": "name 'a' is not defined",
     "output_type": "error",
     "traceback": [
      "\u001B[1;31m---------------------------------------------------------------------------\u001B[0m",
      "\u001B[1;31mNameError\u001B[0m                                 Traceback (most recent call last)",
      "Cell \u001B[1;32mIn[1], line 1\u001B[0m\n\u001B[1;32m----> 1\u001B[0m \u001B[43ma\u001B[49m[:\u001B[38;5;241m0\u001B[39m:\u001B[38;5;241m-\u001B[39m\u001B[38;5;241m1\u001B[39m]\n",
      "\u001B[1;31mNameError\u001B[0m: name 'a' is not defined"
     ]
    }
   ],
   "source": [
    "a[:0:-1]"
   ],
   "metadata": {
    "collapsed": false,
    "ExecuteTime": {
     "end_time": "2024-02-12T01:55:40.245114100Z",
     "start_time": "2024-02-12T01:55:38.776570400Z"
    }
   },
   "id": "5b45a3c55f14ce5c",
   "execution_count": 1
  },
  {
   "cell_type": "code",
   "outputs": [],
   "source": [
    "a = [1,2,3]"
   ],
   "metadata": {
    "collapsed": false,
    "ExecuteTime": {
     "end_time": "2024-02-12T01:57:50.736800200Z",
     "start_time": "2024-02-12T01:57:50.495278400Z"
    }
   },
   "id": "c1748e7bb37eff7",
   "execution_count": 11
  },
  {
   "cell_type": "code",
   "outputs": [],
   "source": [
    "b = tuple(a)"
   ],
   "metadata": {
    "collapsed": false,
    "ExecuteTime": {
     "end_time": "2024-02-12T01:56:52.615438300Z",
     "start_time": "2024-02-12T01:56:52.248861500Z"
    }
   },
   "id": "8207ef080cd4660b",
   "execution_count": 8
  },
  {
   "cell_type": "code",
   "outputs": [
    {
     "data": {
      "text/plain": "tuple"
     },
     "execution_count": 9,
     "metadata": {},
     "output_type": "execute_result"
    }
   ],
   "source": [
    "type(b)"
   ],
   "metadata": {
    "collapsed": false,
    "ExecuteTime": {
     "end_time": "2024-02-12T01:56:53.717998200Z",
     "start_time": "2024-02-12T01:56:53.340002900Z"
    }
   },
   "id": "fafc8b3453386dd6",
   "execution_count": 9
  },
  {
   "cell_type": "code",
   "outputs": [],
   "source": [
    "x,y,z = a"
   ],
   "metadata": {
    "collapsed": false,
    "ExecuteTime": {
     "end_time": "2024-02-12T01:58:01.605114400Z",
     "start_time": "2024-02-12T01:58:01.252957300Z"
    }
   },
   "id": "4af4c4c2696ccec6",
   "execution_count": 12
  },
  {
   "cell_type": "code",
   "outputs": [
    {
     "name": "stdout",
     "output_type": "stream",
     "text": [
      "6\n"
     ]
    }
   ],
   "source": [
    "x = (1, 2, 3)\n",
    "y = (4, 5, 6)\n",
    "z = x + y\n",
    "print(len(z))"
   ],
   "metadata": {
    "collapsed": false,
    "ExecuteTime": {
     "end_time": "2024-02-12T02:22:55.470651500Z",
     "start_time": "2024-02-12T02:22:55.095784600Z"
    }
   },
   "id": "4a1ccec00def3826",
   "execution_count": 14
  },
  {
   "cell_type": "code",
   "outputs": [
    {
     "data": {
      "text/plain": "(1, 2, 3, 4, 5, 6)"
     },
     "execution_count": 15,
     "metadata": {},
     "output_type": "execute_result"
    }
   ],
   "source": [
    "z"
   ],
   "metadata": {
    "collapsed": false,
    "ExecuteTime": {
     "end_time": "2024-02-12T02:23:03.674664600Z",
     "start_time": "2024-02-12T02:23:03.275118800Z"
    }
   },
   "id": "531304a5f5b2ba46",
   "execution_count": 15
  },
  {
   "cell_type": "code",
   "outputs": [
    {
     "ename": "TypeError",
     "evalue": "unhashable type: 'list'",
     "output_type": "error",
     "traceback": [
      "\u001B[1;31m---------------------------------------------------------------------------\u001B[0m",
      "\u001B[1;31mTypeError\u001B[0m                                 Traceback (most recent call last)",
      "Cell \u001B[1;32mIn[23], line 1\u001B[0m\n\u001B[1;32m----> 1\u001B[0m s \u001B[38;5;241m=\u001B[39m {(\u001B[38;5;241m1\u001B[39m,\u001B[38;5;241m2\u001B[39m,\u001B[38;5;241m3\u001B[39m,\u001B[38;5;241m3\u001B[39m),[\u001B[38;5;241m1\u001B[39m,\u001B[38;5;241m2\u001B[39m,\u001B[38;5;241m3\u001B[39m],\u001B[38;5;241m2\u001B[39m,\u001B[38;5;241m2\u001B[39m}\n",
      "\u001B[1;31mTypeError\u001B[0m: unhashable type: 'list'"
     ]
    }
   ],
   "source": [
    "s = {(1,2,3,3),[1,2,3],2,2}"
   ],
   "metadata": {
    "collapsed": false,
    "ExecuteTime": {
     "end_time": "2024-02-12T02:48:11.425179700Z",
     "start_time": "2024-02-12T02:48:10.761678200Z"
    }
   },
   "id": "578a905e2888ffbc",
   "execution_count": 23
  },
  {
   "cell_type": "code",
   "outputs": [],
   "source": [
    "s = {1,2,3}"
   ],
   "metadata": {
    "collapsed": false,
    "ExecuteTime": {
     "end_time": "2024-02-12T03:06:57.736128100Z",
     "start_time": "2024-02-12T03:06:57.328655700Z"
    }
   },
   "id": "9da49e396558050",
   "execution_count": 48
  },
  {
   "cell_type": "code",
   "outputs": [
    {
     "data": {
      "text/plain": "1"
     },
     "execution_count": 27,
     "metadata": {},
     "output_type": "execute_result"
    }
   ],
   "source": [
    "s.pop()"
   ],
   "metadata": {
    "collapsed": false,
    "ExecuteTime": {
     "end_time": "2024-02-12T02:58:37.394220200Z",
     "start_time": "2024-02-12T02:58:37.139764400Z"
    }
   },
   "id": "510a1f56a17d8b90",
   "execution_count": 27
  },
  {
   "cell_type": "code",
   "outputs": [
    {
     "data": {
      "text/plain": "{2, 3}"
     },
     "execution_count": 28,
     "metadata": {},
     "output_type": "execute_result"
    }
   ],
   "source": [
    "s"
   ],
   "metadata": {
    "collapsed": false,
    "ExecuteTime": {
     "end_time": "2024-02-12T02:58:40.359786900Z",
     "start_time": "2024-02-12T02:58:40.080691400Z"
    }
   },
   "id": "c9fa42bbf9ef211a",
   "execution_count": 28
  },
  {
   "cell_type": "code",
   "outputs": [],
   "source": [
    "s.update((9,8,7))"
   ],
   "metadata": {
    "collapsed": false,
    "ExecuteTime": {
     "end_time": "2024-02-12T02:59:41.267531600Z",
     "start_time": "2024-02-12T02:59:40.887734600Z"
    }
   },
   "id": "f26e6ca345020738",
   "execution_count": 29
  },
  {
   "cell_type": "code",
   "outputs": [
    {
     "data": {
      "text/plain": "{2, 3, 7, 8, 9}"
     },
     "execution_count": 30,
     "metadata": {},
     "output_type": "execute_result"
    }
   ],
   "source": [
    "s"
   ],
   "metadata": {
    "collapsed": false,
    "ExecuteTime": {
     "end_time": "2024-02-12T02:59:43.162208400Z",
     "start_time": "2024-02-12T02:59:42.859741300Z"
    }
   },
   "id": "54391abd7c0fa587",
   "execution_count": 30
  },
  {
   "cell_type": "code",
   "outputs": [
    {
     "data": {
      "text/plain": "set"
     },
     "execution_count": 49,
     "metadata": {},
     "output_type": "execute_result"
    }
   ],
   "source": [
    "type(s)"
   ],
   "metadata": {
    "collapsed": false,
    "ExecuteTime": {
     "end_time": "2024-02-12T03:07:00.725043700Z",
     "start_time": "2024-02-12T03:07:00.390782700Z"
    }
   },
   "id": "f5897aa646cd1bd7",
   "execution_count": 49
  },
  {
   "cell_type": "code",
   "outputs": [],
   "source": [
    "s = \"akjfaajjf\""
   ],
   "metadata": {
    "collapsed": false,
    "ExecuteTime": {
     "end_time": "2024-02-12T03:07:03.930286900Z",
     "start_time": "2024-02-12T03:07:03.654050900Z"
    }
   },
   "id": "615e83b192c03fb9",
   "execution_count": 50
  },
  {
   "cell_type": "code",
   "outputs": [],
   "source": [
    "t = set()"
   ],
   "metadata": {
    "collapsed": false,
    "ExecuteTime": {
     "end_time": "2024-02-12T03:08:26.892605900Z",
     "start_time": "2024-02-12T03:08:26.614749900Z"
    }
   },
   "id": "fb7872a2fb67f133",
   "execution_count": 55
  },
  {
   "cell_type": "code",
   "outputs": [],
   "source": [
    "for i in s:\n",
    "    t.add(i)    "
   ],
   "metadata": {
    "collapsed": false,
    "ExecuteTime": {
     "end_time": "2024-02-12T03:08:32.046412300Z",
     "start_time": "2024-02-12T03:08:31.864641700Z"
    }
   },
   "id": "3f95047e6ce4aa11",
   "execution_count": 56
  },
  {
   "cell_type": "code",
   "outputs": [
    {
     "data": {
      "text/plain": "{'a', 'f', 'j', 'k'}"
     },
     "execution_count": 57,
     "metadata": {},
     "output_type": "execute_result"
    }
   ],
   "source": [
    "t"
   ],
   "metadata": {
    "collapsed": false,
    "ExecuteTime": {
     "end_time": "2024-02-12T03:08:35.130625900Z",
     "start_time": "2024-02-12T03:08:34.754759500Z"
    }
   },
   "id": "26d91e6e4fec1094",
   "execution_count": 57
  },
  {
   "cell_type": "code",
   "outputs": [],
   "source": [
    "s1 = {1,3,5,7}\n",
    "s2 = {1,5,7,9}"
   ],
   "metadata": {
    "collapsed": false,
    "ExecuteTime": {
     "end_time": "2024-02-12T03:31:23.321997600Z",
     "start_time": "2024-02-12T03:31:22.973681800Z"
    }
   },
   "id": "d0ec0f5eda264f04",
   "execution_count": 70
  },
  {
   "cell_type": "code",
   "outputs": [
    {
     "data": {
      "text/plain": "{1, 5, 7}"
     },
     "execution_count": 63,
     "metadata": {},
     "output_type": "execute_result"
    }
   ],
   "source": [
    "s2 & s1"
   ],
   "metadata": {
    "collapsed": false,
    "ExecuteTime": {
     "end_time": "2024-02-12T03:15:07.046714800Z",
     "start_time": "2024-02-12T03:15:06.762099900Z"
    }
   },
   "id": "e6fbe8db6689360e",
   "execution_count": 63
  },
  {
   "cell_type": "code",
   "outputs": [
    {
     "data": {
      "text/plain": "{9}"
     },
     "execution_count": 65,
     "metadata": {},
     "output_type": "execute_result"
    }
   ],
   "source": [
    "s2-s1"
   ],
   "metadata": {
    "collapsed": false,
    "ExecuteTime": {
     "end_time": "2024-02-12T03:16:01.363241900Z",
     "start_time": "2024-02-12T03:16:01.115466700Z"
    }
   },
   "id": "e81082810cd0b5fc",
   "execution_count": 65
  },
  {
   "cell_type": "code",
   "outputs": [
    {
     "data": {
      "text/plain": "{3, 9}"
     },
     "execution_count": 66,
     "metadata": {},
     "output_type": "execute_result"
    }
   ],
   "source": [
    "s1.symmetric_difference(s2)"
   ],
   "metadata": {
    "collapsed": false,
    "ExecuteTime": {
     "end_time": "2024-02-12T03:19:04.686161900Z",
     "start_time": "2024-02-12T03:19:04.355551Z"
    }
   },
   "id": "87acd0aa227b902d",
   "execution_count": 66
  },
  {
   "cell_type": "code",
   "outputs": [
    {
     "data": {
      "text/plain": "{3, 9}"
     },
     "execution_count": 67,
     "metadata": {},
     "output_type": "execute_result"
    }
   ],
   "source": [
    "s1^s2"
   ],
   "metadata": {
    "collapsed": false,
    "ExecuteTime": {
     "end_time": "2024-02-12T03:19:17.882448Z",
     "start_time": "2024-02-12T03:19:17.577766300Z"
    }
   },
   "id": "90fcb52cb48ca7c4",
   "execution_count": 67
  },
  {
   "cell_type": "code",
   "outputs": [
    {
     "name": "stdout",
     "output_type": "stream",
     "text": [
      "{1, 2, 3, 6, 7, 8}\n"
     ]
    }
   ],
   "source": [
    "set1 = {1, 2, 3, 4, 5}\n",
    "set2 = {4, 5, 6, 7, 8}\n",
    "set3 = set1.symmetric_difference(set2)\n",
    "print(set3)"
   ],
   "metadata": {
    "collapsed": false,
    "ExecuteTime": {
     "end_time": "2024-02-12T03:20:10.493728800Z",
     "start_time": "2024-02-12T03:20:10.151140800Z"
    }
   },
   "id": "63ac91976623160a",
   "execution_count": 68
  },
  {
   "cell_type": "code",
   "outputs": [
    {
     "data": {
      "text/plain": "{1, 3, 5, 7, 9}"
     },
     "execution_count": 75,
     "metadata": {},
     "output_type": "execute_result"
    }
   ],
   "source": [
    "s1|s2"
   ],
   "metadata": {
    "collapsed": false,
    "ExecuteTime": {
     "end_time": "2024-02-12T03:33:26.980857600Z",
     "start_time": "2024-02-12T03:33:26.683649700Z"
    }
   },
   "id": "825854c99437276a",
   "execution_count": 75
  },
  {
   "cell_type": "code",
   "outputs": [
    {
     "data": {
      "text/plain": "2333422409840"
     },
     "execution_count": 76,
     "metadata": {},
     "output_type": "execute_result"
    }
   ],
   "source": [
    "id(121)"
   ],
   "metadata": {
    "collapsed": false,
    "ExecuteTime": {
     "end_time": "2024-02-12T03:35:43.335536Z",
     "start_time": "2024-02-12T03:35:42.980030800Z"
    }
   },
   "id": "437ae71de802dec9",
   "execution_count": 76
  },
  {
   "cell_type": "code",
   "outputs": [
    {
     "data": {
      "text/plain": "2333530342672"
     },
     "execution_count": 78,
     "metadata": {},
     "output_type": "execute_result"
    }
   ],
   "source": [
    "id(17187187181)"
   ],
   "metadata": {
    "collapsed": false,
    "ExecuteTime": {
     "end_time": "2024-02-12T03:36:05.063893400Z",
     "start_time": "2024-02-12T03:36:04.760271700Z"
    }
   },
   "id": "57d093e9acd9530e",
   "execution_count": 78
  },
  {
   "cell_type": "code",
   "outputs": [],
   "source": [
    "number = (10, 8, 5, 2, 10, 15, 10, 8, 5, 8, 8, 2)\n",
    "toople = list(number)\n",
    "odd = []\n",
    "even = []"
   ],
   "metadata": {
    "collapsed": false,
    "ExecuteTime": {
     "end_time": "2024-02-12T13:38:43.118324700Z",
     "start_time": "2024-02-12T13:38:42.825647100Z"
    }
   },
   "id": "df9ec224f26b4e15",
   "execution_count": 100
  },
  {
   "cell_type": "code",
   "outputs": [],
   "source": [
    "for n in range(len(toople)):\n",
    "    if n % 2 != 0:\n",
    "        odd.append(toople[n])    \n",
    "    else:\n",
    "        even.append(toople[n])\n",
    "        "
   ],
   "metadata": {
    "collapsed": false,
    "ExecuteTime": {
     "end_time": "2024-02-12T13:40:55.356164800Z",
     "start_time": "2024-02-12T13:40:55.099286Z"
    }
   },
   "id": "aba71d26005817c4",
   "execution_count": 107
  },
  {
   "cell_type": "code",
   "outputs": [
    {
     "data": {
      "text/plain": "[10, 5, 10, 10, 5, 8]"
     },
     "execution_count": 108,
     "metadata": {},
     "output_type": "execute_result"
    }
   ],
   "source": [
    "even"
   ],
   "metadata": {
    "collapsed": false,
    "ExecuteTime": {
     "end_time": "2024-02-12T13:41:00.168335100Z",
     "start_time": "2024-02-12T13:40:59.896285400Z"
    }
   },
   "id": "48988952c1ec6423",
   "execution_count": 108
  },
  {
   "cell_type": "code",
   "outputs": [
    {
     "data": {
      "text/plain": "[8, 2, 15, 8, 8, 2]"
     },
     "execution_count": 109,
     "metadata": {},
     "output_type": "execute_result"
    }
   ],
   "source": [
    "odd"
   ],
   "metadata": {
    "collapsed": false,
    "ExecuteTime": {
     "end_time": "2024-02-12T13:41:03.656438300Z",
     "start_time": "2024-02-12T13:41:03.376444700Z"
    }
   },
   "id": "f3e12397d46c2bea",
   "execution_count": 109
  },
  {
   "cell_type": "code",
   "outputs": [],
   "source": [
    "odd = tuple(odd)"
   ],
   "metadata": {
    "collapsed": false,
    "ExecuteTime": {
     "end_time": "2024-02-12T13:41:39.514768300Z",
     "start_time": "2024-02-12T13:41:39.211348600Z"
    }
   },
   "id": "3d0085424ce7c2aa",
   "execution_count": 112
  },
  {
   "cell_type": "code",
   "outputs": [],
   "source": [
    "even = tuple(even)"
   ],
   "metadata": {
    "collapsed": false,
    "ExecuteTime": {
     "end_time": "2024-02-12T13:41:49.088150300Z",
     "start_time": "2024-02-12T13:41:48.843078800Z"
    }
   },
   "id": "84d9227d051e54ac",
   "execution_count": 113
  },
  {
   "cell_type": "code",
   "outputs": [
    {
     "data": {
      "text/plain": "(8, 2, 15, 8, 8, 2)"
     },
     "execution_count": 114,
     "metadata": {},
     "output_type": "execute_result"
    }
   ],
   "source": [
    "odd"
   ],
   "metadata": {
    "collapsed": false,
    "ExecuteTime": {
     "end_time": "2024-02-12T13:41:51.726785800Z",
     "start_time": "2024-02-12T13:41:51.458650500Z"
    }
   },
   "id": "d038e936c8a6cb1e",
   "execution_count": 114
  },
  {
   "cell_type": "code",
   "outputs": [],
   "source": [
    "tuple1 = (125, 909)"
   ],
   "metadata": {
    "collapsed": false,
    "ExecuteTime": {
     "end_time": "2024-02-12T13:51:11.298641300Z",
     "start_time": "2024-02-12T13:51:11.112138700Z"
    }
   },
   "id": "64b169405440468d",
   "execution_count": 124
  },
  {
   "cell_type": "code",
   "outputs": [
    {
     "name": "stdout",
     "output_type": "stream",
     "text": [
      "909\n"
     ]
    }
   ],
   "source": [
    "print(max(tuple1))"
   ],
   "metadata": {
    "collapsed": false,
    "ExecuteTime": {
     "end_time": "2024-02-12T13:51:16.037707600Z",
     "start_time": "2024-02-12T13:51:15.704075300Z"
    }
   },
   "id": "53a057c54b4f628e",
   "execution_count": 125
  },
  {
   "cell_type": "code",
   "outputs": [
    {
     "ename": "TypeError",
     "evalue": "'tuple' object does not support item assignment",
     "output_type": "error",
     "traceback": [
      "\u001B[1;31m---------------------------------------------------------------------------\u001B[0m",
      "\u001B[1;31mTypeError\u001B[0m                                 Traceback (most recent call last)",
      "Cell \u001B[1;32mIn[119], line 1\u001B[0m\n\u001B[1;32m----> 1\u001B[0m \u001B[43mtuple1\u001B[49m\u001B[43m[\u001B[49m\u001B[38;5;241;43m0\u001B[39;49m\u001B[43m]\u001B[49m\u001B[38;5;241m=\u001B[39m\u001B[38;5;241m50\u001B[39m\n",
      "\u001B[1;31mTypeError\u001B[0m: 'tuple' object does not support item assignment"
     ]
    }
   ],
   "source": [
    "tuple1[0]=50"
   ],
   "metadata": {
    "collapsed": false,
    "ExecuteTime": {
     "end_time": "2024-02-12T13:48:54.275482100Z",
     "start_time": "2024-02-12T13:48:53.890216800Z"
    }
   },
   "id": "8fb35414a5ba40a",
   "execution_count": 119
  },
  {
   "cell_type": "code",
   "outputs": [],
   "source": [
    "s = \"\"\"\n",
    "in data analysis we use data and process it further to create better interpreted data\n",
    "more and more data will be passively collected\n",
    "\"\"\""
   ],
   "metadata": {
    "collapsed": false,
    "ExecuteTime": {
     "end_time": "2024-02-12T13:53:39.735236700Z",
     "start_time": "2024-02-12T13:53:39.450398500Z"
    }
   },
   "id": "50de93bfb9bbf563",
   "execution_count": 127
  },
  {
   "cell_type": "code",
   "outputs": [],
   "source": [
    "set1 = set(s.split())"
   ],
   "metadata": {
    "collapsed": false,
    "ExecuteTime": {
     "end_time": "2024-02-12T13:55:12.302231300Z",
     "start_time": "2024-02-12T13:55:11.971273600Z"
    }
   },
   "id": "cb477e31046f1479",
   "execution_count": 129
  },
  {
   "cell_type": "code",
   "outputs": [
    {
     "data": {
      "text/plain": "{'The',\n 'as',\n 'be',\n 'cases',\n 'cases.There',\n 'consist',\n 'each',\n 'first',\n 'following:',\n 'for',\n 'format.',\n 'in',\n 'indicates',\n 'inputs',\n 'line',\n 'lines',\n 'number',\n 'of',\n 'sentences',\n 'string',\n 'test',\n 'the',\n 'two',\n 'will'}"
     },
     "execution_count": 130,
     "metadata": {},
     "output_type": "execute_result"
    }
   ],
   "source": [
    "set1"
   ],
   "metadata": {
    "collapsed": false,
    "ExecuteTime": {
     "end_time": "2024-02-12T13:55:15.096457300Z",
     "start_time": "2024-02-12T13:55:14.829489300Z"
    }
   },
   "id": "2abab3090677bc46",
   "execution_count": 130
  },
  {
   "cell_type": "code",
   "outputs": [
    {
     "data": {
      "text/plain": "24"
     },
     "execution_count": 131,
     "metadata": {},
     "output_type": "execute_result"
    }
   ],
   "source": [
    "len(set1)"
   ],
   "metadata": {
    "collapsed": false,
    "ExecuteTime": {
     "end_time": "2024-02-12T13:55:20.908059500Z",
     "start_time": "2024-02-12T13:55:20.609010100Z"
    }
   },
   "id": "817af6a989e970ff",
   "execution_count": 131
  },
  {
   "cell_type": "code",
   "outputs": [
    {
     "ename": "TypeError",
     "evalue": "unsupported operand type(s) for +: 'set' and 'set'",
     "output_type": "error",
     "traceback": [
      "\u001B[1;31m---------------------------------------------------------------------------\u001B[0m",
      "\u001B[1;31mTypeError\u001B[0m                                 Traceback (most recent call last)",
      "Cell \u001B[1;32mIn[133], line 3\u001B[0m\n\u001B[0;32m      1\u001B[0m set1 \u001B[38;5;241m=\u001B[39m {\u001B[38;5;241m1\u001B[39m, \u001B[38;5;241m2\u001B[39m, \u001B[38;5;241m4\u001B[39m}\n\u001B[0;32m      2\u001B[0m set2 \u001B[38;5;241m=\u001B[39m {\u001B[38;5;241m4\u001B[39m, \u001B[38;5;241m5\u001B[39m, \u001B[38;5;241m6\u001B[39m}\n\u001B[1;32m----> 3\u001B[0m \u001B[43mset1\u001B[49m\u001B[38;5;241;43m+\u001B[39;49m\u001B[43mset2\u001B[49m\n",
      "\u001B[1;31mTypeError\u001B[0m: unsupported operand type(s) for +: 'set' and 'set'"
     ]
    }
   ],
   "source": [
    "set1 = {1, 2, 4}\n",
    "set2 = {4, 5, 6}\n",
    "set1+set2"
   ],
   "metadata": {
    "collapsed": false,
    "ExecuteTime": {
     "end_time": "2024-02-12T13:57:19.769387100Z",
     "start_time": "2024-02-12T13:57:19.465586100Z"
    }
   },
   "id": "90966c30b12a329",
   "execution_count": 133
  },
  {
   "cell_type": "code",
   "outputs": [],
   "source": [
    "tup = 1,2"
   ],
   "metadata": {
    "collapsed": false,
    "ExecuteTime": {
     "end_time": "2024-02-12T13:58:02.218438400Z",
     "start_time": "2024-02-12T13:58:01.984121900Z"
    }
   },
   "id": "100af679f13a50d0",
   "execution_count": 134
  },
  {
   "cell_type": "code",
   "outputs": [
    {
     "data": {
      "text/plain": "(1, 2)"
     },
     "execution_count": 135,
     "metadata": {},
     "output_type": "execute_result"
    }
   ],
   "source": [
    "tup"
   ],
   "metadata": {
    "collapsed": false,
    "ExecuteTime": {
     "end_time": "2024-02-12T13:58:04.077810600Z",
     "start_time": "2024-02-12T13:58:03.609259800Z"
    }
   },
   "id": "dfa69ec49397df1c",
   "execution_count": 135
  },
  {
   "cell_type": "code",
   "outputs": [
    {
     "name": "stdout",
     "output_type": "stream",
     "text": [
      "('Item_1', 0.5, ['Vijay', 'Vickey', 'Vishal'])\n"
     ]
    }
   ],
   "source": [
    "name_lst = [\"Vijay\", \"Vickey\"]\n",
    "tup = (\"Item_1\", 0.5, name_lst)\n",
    "name_lst.append(\"Vishal\")\n",
    "print(tup)"
   ],
   "metadata": {
    "collapsed": false,
    "ExecuteTime": {
     "end_time": "2024-02-12T13:58:25.271786200Z",
     "start_time": "2024-02-12T13:58:24.940796500Z"
    }
   },
   "id": "707c1f199319e7e8",
   "execution_count": 137
  },
  {
   "cell_type": "code",
   "outputs": [
    {
     "data": {
      "text/plain": "('Item_1', 0.5)"
     },
     "execution_count": 140,
     "metadata": {},
     "output_type": "execute_result"
    }
   ],
   "source": [
    "tup[0:2]"
   ],
   "metadata": {
    "collapsed": false,
    "ExecuteTime": {
     "end_time": "2024-02-12T14:01:31.611420900Z",
     "start_time": "2024-02-12T14:01:31.284462300Z"
    }
   },
   "id": "3e83eb9fd815a3a7",
   "execution_count": 140
  },
  {
   "cell_type": "code",
   "outputs": [
    {
     "name": "stdout",
     "output_type": "stream",
     "text": [
      "(30, 40, 50) (10, 20, 30, 40) (40, 50, 60, 70, 80)\n"
     ]
    }
   ],
   "source": [
    "elements = (10, 20, 30, 40, 50, 60, 70, 80)\n",
    "print(elements[2:5], elements[:4], elements[3:100])"
   ],
   "metadata": {
    "collapsed": false,
    "ExecuteTime": {
     "end_time": "2024-02-12T14:02:19.724221300Z",
     "start_time": "2024-02-12T14:02:19.503132400Z"
    }
   },
   "id": "9520919df69b0d4d",
   "execution_count": 141
  },
  {
   "cell_type": "code",
   "outputs": [
    {
     "ename": "TypeError",
     "evalue": "'set' object does not support item assignment",
     "output_type": "error",
     "traceback": [
      "\u001B[1;31m---------------------------------------------------------------------------\u001B[0m",
      "\u001B[1;31mTypeError\u001B[0m                                 Traceback (most recent call last)",
      "Cell \u001B[1;32mIn[142], line 2\u001B[0m\n\u001B[0;32m      1\u001B[0m a\u001B[38;5;241m=\u001B[39m{\u001B[38;5;124m'\u001B[39m\u001B[38;5;124mAurn\u001B[39m\u001B[38;5;124m'\u001B[39m, \u001B[38;5;124m'\u001B[39m\u001B[38;5;124mNikhil\u001B[39m\u001B[38;5;124m'\u001B[39m, \u001B[38;5;124m'\u001B[39m\u001B[38;5;124mSeeta\u001B[39m\u001B[38;5;124m'\u001B[39m}\n\u001B[1;32m----> 2\u001B[0m \u001B[43ma\u001B[49m\u001B[43m[\u001B[49m\u001B[38;5;241;43m0\u001B[39;49m\u001B[43m]\u001B[49m\u001B[38;5;241m=\u001B[39m \u001B[38;5;124m'\u001B[39m\u001B[38;5;124mArun\u001B[39m\u001B[38;5;124m'\u001B[39m\n\u001B[0;32m      3\u001B[0m \u001B[38;5;28mprint\u001B[39m(a)\n",
      "\u001B[1;31mTypeError\u001B[0m: 'set' object does not support item assignment"
     ]
    }
   ],
   "source": [
    "a={'Aurn', 'Nikhil', 'Seeta'}\n",
    "a[0]= 'Arun'\n",
    "print(a)"
   ],
   "metadata": {
    "collapsed": false,
    "ExecuteTime": {
     "end_time": "2024-02-12T14:02:45.225136Z",
     "start_time": "2024-02-12T14:02:44.826371300Z"
    }
   },
   "id": "43c4bb957cf26861",
   "execution_count": 142
  },
  {
   "cell_type": "code",
   "outputs": [],
   "source": [
    "s = set(['Scaler', 'Academy', 'is', 'Awesome'])"
   ],
   "metadata": {
    "collapsed": false,
    "ExecuteTime": {
     "end_time": "2024-02-12T14:05:27.209225500Z",
     "start_time": "2024-02-12T14:05:27.020550600Z"
    }
   },
   "id": "9129a6c34ab15746",
   "execution_count": 155
  },
  {
   "cell_type": "code",
   "outputs": [
    {
     "data": {
      "text/plain": "{'Academy', 'Awesome', 'Scaler', 'is'}"
     },
     "execution_count": 156,
     "metadata": {},
     "output_type": "execute_result"
    }
   ],
   "source": [
    "s"
   ],
   "metadata": {
    "collapsed": false,
    "ExecuteTime": {
     "end_time": "2024-02-12T14:05:28.974377500Z",
     "start_time": "2024-02-12T14:05:28.664258400Z"
    }
   },
   "id": "1d30cc4e2da2fdb",
   "execution_count": 156
  },
  {
   "cell_type": "code",
   "outputs": [],
   "source": [
    "s = set('Scaler Academy is Awesome')"
   ],
   "metadata": {
    "collapsed": false,
    "ExecuteTime": {
     "end_time": "2024-02-12T14:05:02.118314Z",
     "start_time": "2024-02-12T14:05:01.815709400Z"
    }
   },
   "id": "acf76748bc125313",
   "execution_count": 152
  },
  {
   "cell_type": "code",
   "outputs": [
    {
     "data": {
      "text/plain": "set"
     },
     "execution_count": 153,
     "metadata": {},
     "output_type": "execute_result"
    }
   ],
   "source": [
    "type(s)"
   ],
   "metadata": {
    "collapsed": false,
    "ExecuteTime": {
     "end_time": "2024-02-12T14:05:05.493340800Z",
     "start_time": "2024-02-12T14:05:05.176486700Z"
    }
   },
   "id": "f8c73338a2c46bec",
   "execution_count": 153
  },
  {
   "cell_type": "code",
   "outputs": [],
   "source": [
    "s.add(1)"
   ],
   "metadata": {
    "collapsed": false,
    "ExecuteTime": {
     "end_time": "2024-02-12T14:06:38.422622100Z",
     "start_time": "2024-02-12T14:06:38.094335900Z"
    }
   },
   "id": "462e0af78c04cc5",
   "execution_count": 157
  },
  {
   "cell_type": "code",
   "outputs": [
    {
     "data": {
      "text/plain": "{1, 'Academy', 'Awesome', 'Scaler', 'is'}"
     },
     "execution_count": 158,
     "metadata": {},
     "output_type": "execute_result"
    }
   ],
   "source": [
    "s"
   ],
   "metadata": {
    "collapsed": false,
    "ExecuteTime": {
     "end_time": "2024-02-12T14:06:40.668389900Z",
     "start_time": "2024-02-12T14:06:40.333549400Z"
    }
   },
   "id": "37efc0146de14376",
   "execution_count": 158
  },
  {
   "cell_type": "code",
   "outputs": [],
   "source": [
    "sets = {3, 4, 5} "
   ],
   "metadata": {
    "collapsed": false,
    "ExecuteTime": {
     "end_time": "2024-02-12T14:08:41.039384300Z",
     "start_time": "2024-02-12T14:08:40.844212500Z"
    }
   },
   "id": "d22fd62a8ec89363",
   "execution_count": 165
  },
  {
   "cell_type": "code",
   "outputs": [
    {
     "ename": "TypeError",
     "evalue": "unhashable type: 'list'",
     "output_type": "error",
     "traceback": [
      "\u001B[1;31m---------------------------------------------------------------------------\u001B[0m",
      "\u001B[1;31mTypeError\u001B[0m                                 Traceback (most recent call last)",
      "Cell \u001B[1;32mIn[166], line 1\u001B[0m\n\u001B[1;32m----> 1\u001B[0m \u001B[43msets\u001B[49m\u001B[38;5;241;43m.\u001B[39;49m\u001B[43madd\u001B[49m\u001B[43m(\u001B[49m\u001B[43m[\u001B[49m\u001B[38;5;241;43m1\u001B[39;49m\u001B[43m,\u001B[49m\u001B[38;5;241;43m2\u001B[39;49m\u001B[43m,\u001B[49m\u001B[38;5;241;43m3\u001B[39;49m\u001B[43m]\u001B[49m\u001B[43m)\u001B[49m\n",
      "\u001B[1;31mTypeError\u001B[0m: unhashable type: 'list'"
     ]
    }
   ],
   "source": [
    "sets.add([1,2,3])"
   ],
   "metadata": {
    "collapsed": false,
    "ExecuteTime": {
     "end_time": "2024-02-12T14:09:47.320311500Z",
     "start_time": "2024-02-12T14:09:46.926266100Z"
    }
   },
   "id": "99df78b2074951ae",
   "execution_count": 166
  },
  {
   "cell_type": "code",
   "outputs": [
    {
     "ename": "TypeError",
     "evalue": "unsupported operand type(s) for +=: 'set' and 'set'",
     "output_type": "error",
     "traceback": [
      "\u001B[1;31m---------------------------------------------------------------------------\u001B[0m",
      "\u001B[1;31mTypeError\u001B[0m                                 Traceback (most recent call last)",
      "Cell \u001B[1;32mIn[168], line 1\u001B[0m\n\u001B[1;32m----> 1\u001B[0m sets\u001B[38;5;241m+\u001B[39m\u001B[38;5;241m=\u001B[39m{\u001B[38;5;241m1\u001B[39m,\u001B[38;5;241m2\u001B[39m,\u001B[38;5;241m3\u001B[39m}\n",
      "\u001B[1;31mTypeError\u001B[0m: unsupported operand type(s) for +=: 'set' and 'set'"
     ]
    }
   ],
   "source": [
    "sets+={1,2,3}"
   ],
   "metadata": {
    "collapsed": false,
    "ExecuteTime": {
     "end_time": "2024-02-12T14:10:13.647280300Z",
     "start_time": "2024-02-12T14:10:13.156824600Z"
    }
   },
   "id": "83893561514332fd",
   "execution_count": 168
  },
  {
   "cell_type": "code",
   "outputs": [
    {
     "data": {
      "text/plain": "{1, 2, 3, 4, 5}"
     },
     "execution_count": 169,
     "metadata": {},
     "output_type": "execute_result"
    }
   ],
   "source": [
    "sets.union({1,2,3})"
   ],
   "metadata": {
    "collapsed": false,
    "ExecuteTime": {
     "end_time": "2024-02-12T14:10:33.790220500Z",
     "start_time": "2024-02-12T14:10:33.353479300Z"
    }
   },
   "id": "6b0a55287f8b6e2",
   "execution_count": 169
  },
  {
   "cell_type": "code",
   "outputs": [],
   "source": [
    "s = (10, 8, 5, 2, 10, 15, 10, 8, 5, 8, 8, 2)"
   ],
   "metadata": {
    "collapsed": false,
    "ExecuteTime": {
     "end_time": "2024-02-12T14:54:07.524353500Z",
     "start_time": "2024-02-12T14:54:07.136402800Z"
    }
   },
   "id": "5c5d69a96393322e",
   "execution_count": 204
  },
  {
   "cell_type": "code",
   "outputs": [
    {
     "name": "stdout",
     "output_type": "stream",
     "text": [
      "[10, 8, 5, 2, 10, 15, 10, 8, 5, 8, 8, 2]\n"
     ]
    }
   ],
   "source": [
    "set1 = list(s)"
   ],
   "metadata": {
    "collapsed": false,
    "ExecuteTime": {
     "end_time": "2024-02-12T14:50:51.627286Z",
     "start_time": "2024-02-12T14:50:51.375744400Z"
    }
   },
   "id": "c33d6380978011e5",
   "execution_count": 200
  },
  {
   "cell_type": "code",
   "outputs": [
    {
     "name": "stdout",
     "output_type": "stream",
     "text": [
      "10 : 3\n",
      "8 : 4\n",
      "5 : 2\n",
      "2 : 2\n",
      "15 : 1\n"
     ]
    }
   ],
   "source": [
    "lst = []\n",
    "for i in s:\n",
    "    if i not in lst:\n",
    "        print(f\"{i} : {s.count(i)}\")\n",
    "        lst.append(i)"
   ],
   "metadata": {
    "collapsed": false,
    "ExecuteTime": {
     "end_time": "2024-02-12T14:55:36.219515500Z",
     "start_time": "2024-02-12T14:55:35.730525800Z"
    }
   },
   "id": "705fc7652a57dfa8",
   "execution_count": 207
  },
  {
   "cell_type": "code",
   "outputs": [
    {
     "name": "stdout",
     "output_type": "stream",
     "text": [
      "10 : 3\n",
      "8 : 4\n",
      "5 : 2\n",
      "2 : 2\n",
      "10 : 0\n",
      "15 : 1\n",
      "10 : 0\n",
      "8 : 0\n",
      "5 : 0\n",
      "8 : 0\n",
      "8 : 0\n",
      "2 : 0\n"
     ]
    }
   ],
   "source": [
    "print(set1)\n",
    "lst = []\n",
    "for i in set1:\n",
    "    count = 0\n",
    "    if i not in lst:\n",
    "        for j in s:\n",
    "            if i == j:\n",
    "                count += 1\n",
    "                lst.append(j)\n",
    "    print(f\"{i} : {count}\")"
   ],
   "metadata": {
    "collapsed": false,
    "ExecuteTime": {
     "end_time": "2024-02-12T14:51:47.378471900Z",
     "start_time": "2024-02-12T14:51:46.959624600Z"
    }
   },
   "id": "198ad64a169c18d5",
   "execution_count": 203
  },
  {
   "cell_type": "code",
   "outputs": [
    {
     "name": "stdout",
     "output_type": "stream",
     "text": [
      "2 : 2\n",
      "5 : 2\n",
      "8 : 4\n",
      "10 : 3\n",
      "15 : 1\n"
     ]
    }
   ],
   "source": [
    "new_tuple = tuple()\n",
    "for i in set(s):\n",
    "    count = 0\n",
    "    for j in s:\n",
    "        if i == j:\n",
    "            count += 1\n",
    "    print(f\"{i} : {count}\")"
   ],
   "metadata": {
    "collapsed": false,
    "ExecuteTime": {
     "end_time": "2024-02-12T14:45:08.011366500Z",
     "start_time": "2024-02-12T14:45:07.547803400Z"
    }
   },
   "id": "b926ed02f365834c",
   "execution_count": 197
  },
  {
   "cell_type": "code",
   "outputs": [
    {
     "data": {
      "text/plain": "{(2, 2), (5, 2), (8, 4), (10, 3), (15, 1)}"
     },
     "execution_count": 194,
     "metadata": {},
     "output_type": "execute_result"
    }
   ],
   "source": [
    "new_set"
   ],
   "metadata": {
    "collapsed": false,
    "ExecuteTime": {
     "end_time": "2024-02-12T14:42:53.531181500Z",
     "start_time": "2024-02-12T14:42:53.236191500Z"
    }
   },
   "id": "309f5904dff732f8",
   "execution_count": 194
  },
  {
   "cell_type": "code",
   "outputs": [],
   "source": [
    "s = ['aks', 'jas;', 'als']"
   ],
   "metadata": {
    "collapsed": false,
    "ExecuteTime": {
     "end_time": "2024-02-12T18:27:22.697260Z",
     "start_time": "2024-02-12T18:27:22.255722800Z"
    }
   },
   "id": "4bd7ad0b4f8adff3",
   "execution_count": 208
  },
  {
   "cell_type": "code",
   "outputs": [
    {
     "ename": "NameError",
     "evalue": "name 's' is not defined",
     "output_type": "error",
     "traceback": [
      "\u001B[1;31m---------------------------------------------------------------------------\u001B[0m",
      "\u001B[1;31mNameError\u001B[0m                                 Traceback (most recent call last)",
      "Cell \u001B[1;32mIn[1], line 1\u001B[0m\n\u001B[1;32m----> 1\u001B[0m \u001B[43ms\u001B[49m[\u001B[38;5;241m0\u001B[39m][\u001B[38;5;241m3\u001B[39m]\n",
      "\u001B[1;31mNameError\u001B[0m: name 's' is not defined"
     ]
    }
   ],
   "source": [
    "s[0][3]"
   ],
   "metadata": {
    "collapsed": false,
    "ExecuteTime": {
     "end_time": "2024-02-14T02:11:25.058854900Z",
     "start_time": "2024-02-14T02:11:23.987709900Z"
    }
   },
   "id": "fa838aca3da5b2e8",
   "execution_count": 1
  },
  {
   "cell_type": "code",
   "outputs": [],
   "source": [
    "d = {\n",
    "    \"a\": 1,\n",
    "    2: 3,\n",
    "    3: 4\n",
    "}"
   ],
   "metadata": {
    "collapsed": false,
    "ExecuteTime": {
     "end_time": "2024-02-14T02:22:06.324860500Z",
     "start_time": "2024-02-14T02:22:05.799853600Z"
    }
   },
   "id": "97fdf8329abacf2b",
   "execution_count": 9
  },
  {
   "cell_type": "code",
   "outputs": [
    {
     "data": {
      "text/plain": "1"
     },
     "execution_count": 5,
     "metadata": {},
     "output_type": "execute_result"
    }
   ],
   "source": [
    "d[\"a\"]"
   ],
   "metadata": {
    "collapsed": false,
    "ExecuteTime": {
     "end_time": "2024-02-14T02:15:21.568981600Z",
     "start_time": "2024-02-14T02:15:21.091731300Z"
    }
   },
   "id": "56f2382dd6993979",
   "execution_count": 5
  },
  {
   "cell_type": "code",
   "outputs": [
    {
     "data": {
      "text/plain": "dict_items([('a', 1), (2, 3), (3, 4)])"
     },
     "execution_count": 6,
     "metadata": {},
     "output_type": "execute_result"
    }
   ],
   "source": [
    "d.items()"
   ],
   "metadata": {
    "collapsed": false,
    "ExecuteTime": {
     "end_time": "2024-02-14T02:19:15.946784100Z",
     "start_time": "2024-02-14T02:19:15.439457800Z"
    }
   },
   "id": "721762424c87bb17",
   "execution_count": 6
  },
  {
   "cell_type": "code",
   "outputs": [
    {
     "ename": "NameError",
     "evalue": "name 'd' is not defined",
     "output_type": "error",
     "traceback": [
      "\u001B[1;31m---------------------------------------------------------------------------\u001B[0m",
      "\u001B[1;31mNameError\u001B[0m                                 Traceback (most recent call last)",
      "Cell \u001B[1;32mIn[1], line 1\u001B[0m\n\u001B[1;32m----> 1\u001B[0m \u001B[38;5;28;01mfor\u001B[39;00m key,value \u001B[38;5;129;01min\u001B[39;00m \u001B[43md\u001B[49m:\n\u001B[0;32m      2\u001B[0m     \u001B[38;5;28mprint\u001B[39m(key,value)\n",
      "\u001B[1;31mNameError\u001B[0m: name 'd' is not defined"
     ]
    }
   ],
   "source": [
    "for key,value in d:\n",
    "    print(key,value)"
   ],
   "metadata": {
    "collapsed": false,
    "ExecuteTime": {
     "end_time": "2024-02-14T12:56:04.554664400Z",
     "start_time": "2024-02-14T12:56:03.275071900Z"
    }
   },
   "id": "d2127d0bbb199e4d",
   "execution_count": 1
  },
  {
   "cell_type": "code",
   "outputs": [],
   "source": [
    "str2 = tuple(\"ABC\")\n",
    "str3 = {}"
   ],
   "metadata": {
    "collapsed": false,
    "ExecuteTime": {
     "end_time": "2024-02-14T12:57:34.813556900Z",
     "start_time": "2024-02-14T12:57:34.389702900Z"
    }
   },
   "id": "9fa6444f420ab491",
   "execution_count": 3
  },
  {
   "cell_type": "code",
   "outputs": [
    {
     "data": {
      "text/plain": "1"
     },
     "execution_count": 4,
     "metadata": {},
     "output_type": "execute_result"
    }
   ],
   "source": [
    "str2.count('A')"
   ],
   "metadata": {
    "collapsed": false,
    "ExecuteTime": {
     "end_time": "2024-02-14T12:57:46.823819800Z",
     "start_time": "2024-02-14T12:57:46.411421Z"
    }
   },
   "id": "60a21086c7f78700",
   "execution_count": 4
  },
  {
   "cell_type": "code",
   "outputs": [],
   "source": [
    "str3 = {'A': 1, 'B': 2, 'C': 3}"
   ],
   "metadata": {
    "collapsed": false,
    "ExecuteTime": {
     "end_time": "2024-02-14T13:00:39.623829400Z",
     "start_time": "2024-02-14T13:00:39.257880700Z"
    }
   },
   "id": "16da6feac8976134",
   "execution_count": 6
  },
  {
   "cell_type": "code",
   "outputs": [
    {
     "name": "stdout",
     "output_type": "stream",
     "text": [
      "6\n"
     ]
    }
   ],
   "source": [
    "sum=0\n",
    "for keys,values in str3.items():\n",
    "    sum+=values\n",
    "print(sum)"
   ],
   "metadata": {
    "collapsed": false,
    "ExecuteTime": {
     "end_time": "2024-02-14T13:02:55.703575300Z",
     "start_time": "2024-02-14T13:02:55.354642100Z"
    }
   },
   "id": "879d6aa431df5f13",
   "execution_count": 11
  },
  {
   "cell_type": "code",
   "outputs": [
    {
     "name": "stdout",
     "output_type": "stream",
     "text": [
      "{'Sheldon': 1, 'Leonard': 2, 'Penny': 2}\n"
     ]
    }
   ],
   "source": [
    "bbt = {'Sheldon': 1, 'Leonard': 2}\n",
    "bbt.update({'Penny': 2})\n",
    "print(bbt)"
   ],
   "metadata": {
    "collapsed": false,
    "ExecuteTime": {
     "end_time": "2024-02-14T13:04:44.994344500Z",
     "start_time": "2024-02-14T13:04:44.571688800Z"
    }
   },
   "id": "be5f7535e6bce4af",
   "execution_count": 12
  },
  {
   "cell_type": "code",
   "outputs": [],
   "source": [
    "freshers = {\n",
    "    'student1': {'name': 'yash', 'salary': 7500},\n",
    "    'student2': {'name': 'heet', 'salary': 8000},\n",
    "    'student3': {'name':'smit', 'salary': 6500}\n",
    "}"
   ],
   "metadata": {
    "collapsed": false,
    "ExecuteTime": {
     "end_time": "2024-02-14T13:05:51.488660600Z",
     "start_time": "2024-02-14T13:05:51.226429300Z"
    }
   },
   "id": "aafc3d1e1f263e4e",
   "execution_count": 13
  },
  {
   "cell_type": "code",
   "outputs": [],
   "source": [
    "freshers['student3']['salary'] = 8500"
   ],
   "metadata": {
    "collapsed": false,
    "ExecuteTime": {
     "end_time": "2024-02-14T13:06:00.566326700Z",
     "start_time": "2024-02-14T13:06:00.189424100Z"
    }
   },
   "id": "58e038db15f1ec2f",
   "execution_count": 14
  },
  {
   "cell_type": "code",
   "outputs": [
    {
     "data": {
      "text/plain": "{'student1': {'name': 'yash', 'salary': 7500},\n 'student2': {'name': 'heet', 'salary': 8000},\n 'student3': {'name': 'smit', 'salary': 8500}}"
     },
     "execution_count": 15,
     "metadata": {},
     "output_type": "execute_result"
    }
   ],
   "source": [
    "freshers"
   ],
   "metadata": {
    "collapsed": false,
    "ExecuteTime": {
     "end_time": "2024-02-14T13:06:03.557025900Z",
     "start_time": "2024-02-14T13:06:03.214315100Z"
    }
   },
   "id": "7153ff73510dc1ff",
   "execution_count": 15
  },
  {
   "cell_type": "code",
   "outputs": [],
   "source": [
    "val = str3['A']"
   ],
   "metadata": {
    "collapsed": false,
    "ExecuteTime": {
     "end_time": "2024-02-14T13:07:07.276489200Z",
     "start_time": "2024-02-14T13:07:06.946579900Z"
    }
   },
   "id": "86b438ee3bae929d",
   "execution_count": 16
  },
  {
   "cell_type": "code",
   "outputs": [
    {
     "data": {
      "text/plain": "1"
     },
     "execution_count": 17,
     "metadata": {},
     "output_type": "execute_result"
    }
   ],
   "source": [
    "val"
   ],
   "metadata": {
    "collapsed": false,
    "ExecuteTime": {
     "end_time": "2024-02-14T13:07:09.743728100Z",
     "start_time": "2024-02-14T13:07:09.411007100Z"
    }
   },
   "id": "d5221353fb476f89",
   "execution_count": 17
  },
  {
   "cell_type": "code",
   "outputs": [
    {
     "name": "stdout",
     "output_type": "stream",
     "text": [
      "A\n",
      "B\n",
      "C\n"
     ]
    }
   ],
   "source": [
    "for val in str3:\n",
    "    print(val)"
   ],
   "metadata": {
    "collapsed": false,
    "ExecuteTime": {
     "end_time": "2024-02-14T13:07:47.117587900Z",
     "start_time": "2024-02-14T13:07:46.834393400Z"
    }
   },
   "id": "7e244f242c63d823",
   "execution_count": 20
  },
  {
   "cell_type": "code",
   "outputs": [],
   "source": [
    "if 1 in str3:\n",
    "    print('A')"
   ],
   "metadata": {
    "collapsed": false,
    "ExecuteTime": {
     "end_time": "2024-02-14T13:08:16.489183300Z",
     "start_time": "2024-02-14T13:08:16.141143500Z"
    }
   },
   "id": "b776707e7c1b62e6",
   "execution_count": 22
  },
  {
   "cell_type": "code",
   "outputs": [
    {
     "name": "stdout",
     "output_type": "stream",
     "text": [
      "This is not a member of the dictionary\n"
     ]
    }
   ],
   "source": [
    "dict1 = {'age': 35, 'name': 'abc', 'salary': 45000}\n",
    "\n",
    "val = dict1['age']\n",
    "\n",
    "if val in dict1:\n",
    "    print('This is a member of the dictionary')\n",
    "else:\n",
    "    print('This is not a member of the dictionary')"
   ],
   "metadata": {
    "collapsed": false,
    "ExecuteTime": {
     "end_time": "2024-02-14T13:08:28.435332200Z",
     "start_time": "2024-02-14T13:08:28.052568300Z"
    }
   },
   "id": "ac902b622f590fe7",
   "execution_count": 23
  },
  {
   "cell_type": "code",
   "outputs": [],
   "source": [
    "abc = {\n",
    "}"
   ],
   "metadata": {
    "collapsed": false,
    "ExecuteTime": {
     "end_time": "2024-02-14T13:09:20.970436400Z",
     "start_time": "2024-02-14T13:09:20.651427600Z"
    }
   },
   "id": "cc002505b5ae14e6",
   "execution_count": 24
  },
  {
   "cell_type": "code",
   "outputs": [],
   "source": [
    "abc[1]=1"
   ],
   "metadata": {
    "collapsed": false,
    "ExecuteTime": {
     "end_time": "2024-02-14T13:09:27.012347500Z",
     "start_time": "2024-02-14T13:09:26.711820600Z"
    }
   },
   "id": "e30a278ee40ca12b",
   "execution_count": 25
  },
  {
   "cell_type": "code",
   "outputs": [
    {
     "data": {
      "text/plain": "{1: 1}"
     },
     "execution_count": 26,
     "metadata": {},
     "output_type": "execute_result"
    }
   ],
   "source": [
    "abc"
   ],
   "metadata": {
    "collapsed": false,
    "ExecuteTime": {
     "end_time": "2024-02-14T13:09:28.759480800Z",
     "start_time": "2024-02-14T13:09:28.407624200Z"
    }
   },
   "id": "b46127a2a7a033be",
   "execution_count": 26
  },
  {
   "cell_type": "code",
   "outputs": [],
   "source": [
    "abc['1']=2"
   ],
   "metadata": {
    "collapsed": false,
    "ExecuteTime": {
     "end_time": "2024-02-14T13:09:52.430575800Z",
     "start_time": "2024-02-14T13:09:52.124113600Z"
    }
   },
   "id": "5e6e269bbf72a30e",
   "execution_count": 29
  },
  {
   "cell_type": "code",
   "outputs": [
    {
     "data": {
      "text/plain": "{1: 1, '1': 2}"
     },
     "execution_count": 30,
     "metadata": {},
     "output_type": "execute_result"
    }
   ],
   "source": [
    "abc"
   ],
   "metadata": {
    "collapsed": false,
    "ExecuteTime": {
     "end_time": "2024-02-14T13:09:53.290524200Z",
     "start_time": "2024-02-14T13:09:52.963954500Z"
    }
   },
   "id": "7d62412b5c9c33fb",
   "execution_count": 30
  },
  {
   "cell_type": "code",
   "outputs": [],
   "source": [
    "abc[1] = abc[1]+1"
   ],
   "metadata": {
    "collapsed": false,
    "ExecuteTime": {
     "end_time": "2024-02-14T13:10:21.500247500Z",
     "start_time": "2024-02-14T13:10:21.261558Z"
    }
   },
   "id": "c6e5a99bb0c892d1",
   "execution_count": 31
  },
  {
   "cell_type": "code",
   "outputs": [
    {
     "data": {
      "text/plain": "{1: 2, '1': 2}"
     },
     "execution_count": 32,
     "metadata": {},
     "output_type": "execute_result"
    }
   ],
   "source": [
    "abc"
   ],
   "metadata": {
    "collapsed": false,
    "ExecuteTime": {
     "end_time": "2024-02-14T13:10:25.360633100Z",
     "start_time": "2024-02-14T13:10:24.909579500Z"
    }
   },
   "id": "c882fd095db7515d",
   "execution_count": 32
  },
  {
   "cell_type": "code",
   "outputs": [],
   "source": [
    "dict = {5: 'a', 10: 'b', 15: 'c'}"
   ],
   "metadata": {
    "collapsed": false,
    "ExecuteTime": {
     "end_time": "2024-02-14T13:11:35.632717200Z",
     "start_time": "2024-02-14T13:11:35.316373200Z"
    }
   },
   "id": "c3fc6bfa3aadc18f",
   "execution_count": 33
  },
  {
   "cell_type": "code",
   "outputs": [
    {
     "name": "stdout",
     "output_type": "stream",
     "text": [
      "None\n"
     ]
    }
   ],
   "source": [
    "print(dict.get(0))"
   ],
   "metadata": {
    "collapsed": false,
    "ExecuteTime": {
     "end_time": "2024-02-14T13:12:00.345913300Z",
     "start_time": "2024-02-14T13:11:59.906229500Z"
    }
   },
   "id": "dfad2c27f91c37c",
   "execution_count": 35
  },
  {
   "cell_type": "code",
   "outputs": [],
   "source": [
    "class Student:\n",
    "    school = \"NSN Matriculation Higher Secondary School\"\n",
    "    def __init__(self, name, age):\n",
    "        self.name = name\n",
    "        self.age = age\n",
    "        \n",
    "    def display(self):\n",
    "        print(f\"Name: {self.name}, Age: {self.age}, School: {self.school}\")"
   ],
   "metadata": {
    "collapsed": false,
    "ExecuteTime": {
     "end_time": "2024-02-16T12:41:25.399891Z",
     "start_time": "2024-02-16T12:41:25.388385Z"
    }
   },
   "id": "673e31d03d37de75",
   "execution_count": 11
  },
  {
   "cell_type": "code",
   "outputs": [],
   "source": [
    "student1 = Student('Raj', 21)\n",
    "student2 = Student('Rahul', 22)"
   ],
   "metadata": {
    "collapsed": false,
    "ExecuteTime": {
     "end_time": "2024-02-16T12:41:26.870142Z",
     "start_time": "2024-02-16T12:41:26.858141Z"
    }
   },
   "id": "a476dc77a8d084a1",
   "execution_count": 12
  },
  {
   "cell_type": "code",
   "outputs": [
    {
     "name": "stdout",
     "output_type": "stream",
     "text": [
      "Name: Raj, Age: 21, School: NSN Matriculation Higher Secondary School\n"
     ]
    }
   ],
   "source": [
    "student1.display()"
   ],
   "metadata": {
    "collapsed": false,
    "ExecuteTime": {
     "end_time": "2024-02-16T12:41:35.909969Z",
     "start_time": "2024-02-16T12:41:35.894894Z"
    }
   },
   "id": "7bdf27e5071775ff",
   "execution_count": 13
  },
  {
   "cell_type": "code",
   "outputs": [
    {
     "name": "stdout",
     "output_type": "stream",
     "text": [
      "5\n",
      "5\n"
     ]
    }
   ],
   "source": [
    "global x\n",
    "x = 4\n",
    "def func():\n",
    "    global x\n",
    "    x = 5\n",
    "    print(x)\n",
    "func()\n",
    "print(x)"
   ],
   "metadata": {
    "collapsed": false,
    "ExecuteTime": {
     "end_time": "2024-02-16T14:06:55.529116Z",
     "start_time": "2024-02-16T14:06:55.508038Z"
    }
   },
   "id": "734448827895629a",
   "execution_count": 35
  },
  {
   "cell_type": "code",
   "outputs": [
    {
     "ename": "NameError",
     "evalue": "name 'func' is not defined",
     "output_type": "error",
     "traceback": [
      "\u001B[1;31m---------------------------------------------------------------------------\u001B[0m",
      "\u001B[1;31mNameError\u001B[0m                                 Traceback (most recent call last)",
      "Cell \u001B[1;32mIn[1], line 1\u001B[0m\n\u001B[1;32m----> 1\u001B[0m \u001B[43mfunc\u001B[49m()\n",
      "\u001B[1;31mNameError\u001B[0m: name 'func' is not defined"
     ]
    }
   ],
   "source": [
    "func()"
   ],
   "metadata": {
    "collapsed": false,
    "ExecuteTime": {
     "end_time": "2024-02-18T06:03:28.333208Z",
     "start_time": "2024-02-18T06:03:27.532781Z"
    }
   },
   "id": "78154f7c137634e",
   "execution_count": 1
  },
  {
   "cell_type": "code",
   "outputs": [],
   "source": [
    "class Student():\n",
    "    school = \"NSN Matriculation Higher Secondary School\"\n",
    "    area = \"Chromepet\"\n",
    "    def __init__(self, name, age):\n",
    "        self.name = name\n",
    "        self.age = age"
   ],
   "metadata": {
    "collapsed": false,
    "ExecuteTime": {
     "end_time": "2024-02-18T08:06:37.776153Z",
     "start_time": "2024-02-18T08:06:37.765879Z"
    }
   },
   "id": "6b278b1fe228b02",
   "execution_count": 114
  },
  {
   "cell_type": "code",
   "outputs": [
    {
     "data": {
      "text/plain": "type"
     },
     "execution_count": 29,
     "metadata": {},
     "output_type": "execute_result"
    }
   ],
   "source": [
    "type(Student)"
   ],
   "metadata": {
    "collapsed": false,
    "ExecuteTime": {
     "end_time": "2024-02-18T06:25:32.255858Z",
     "start_time": "2024-02-18T06:25:32.243774Z"
    }
   },
   "id": "1446ca3c0841244a",
   "execution_count": 29
  },
  {
   "cell_type": "code",
   "outputs": [],
   "source": [
    "s1 = Student(\"laks\", 46)\n",
    "s2 = Student(\"uthra\",42)"
   ],
   "metadata": {
    "collapsed": false,
    "ExecuteTime": {
     "end_time": "2024-02-18T06:30:58.417327Z",
     "start_time": "2024-02-18T06:30:58.400916Z"
    }
   },
   "id": "d82795a2401d7d5a",
   "execution_count": 45
  },
  {
   "cell_type": "code",
   "outputs": [
    {
     "data": {
      "text/plain": "42"
     },
     "execution_count": 50,
     "metadata": {},
     "output_type": "execute_result"
    }
   ],
   "source": [
    "s2.age"
   ],
   "metadata": {
    "collapsed": false,
    "ExecuteTime": {
     "end_time": "2024-02-18T06:31:37.177753Z",
     "start_time": "2024-02-18T06:31:37.164967Z"
    }
   },
   "id": "193e86cfd61db58b",
   "execution_count": 50
  },
  {
   "cell_type": "code",
   "outputs": [
    {
     "data": {
      "text/plain": "'NSN Matriculation Higher Secondary School'"
     },
     "execution_count": 34,
     "metadata": {},
     "output_type": "execute_result"
    }
   ],
   "source": [
    "s2.school   "
   ],
   "metadata": {
    "collapsed": false,
    "ExecuteTime": {
     "end_time": "2024-02-18T06:26:13.294915Z",
     "start_time": "2024-02-18T06:26:13.282740Z"
    }
   },
   "id": "869b50d3006e78b9",
   "execution_count": 34
  },
  {
   "cell_type": "code",
   "outputs": [
    {
     "data": {
      "text/plain": "'N/A'"
     },
     "execution_count": 53,
     "metadata": {},
     "output_type": "execute_result"
    }
   ],
   "source": [
    "getattr(Student, \"name\", \"N/A\")"
   ],
   "metadata": {
    "collapsed": false,
    "ExecuteTime": {
     "end_time": "2024-02-18T06:33:00.805080Z",
     "start_time": "2024-02-18T06:33:00.788789Z"
    }
   },
   "id": "fbd6bcdd73a966b6",
   "execution_count": 53
  },
  {
   "cell_type": "code",
   "outputs": [],
   "source": [
    "setattr(Student, 'school', 'NSN School')"
   ],
   "metadata": {
    "collapsed": false,
    "ExecuteTime": {
     "end_time": "2024-02-18T06:39:56.167550Z",
     "start_time": "2024-02-18T06:39:56.152946Z"
    }
   },
   "id": "991dd6271332a687",
   "execution_count": 60
  },
  {
   "cell_type": "code",
   "outputs": [
    {
     "data": {
      "text/plain": "'NSN School'"
     },
     "execution_count": 61,
     "metadata": {},
     "output_type": "execute_result"
    }
   ],
   "source": [
    "s1.school"
   ],
   "metadata": {
    "collapsed": false,
    "ExecuteTime": {
     "end_time": "2024-02-18T06:39:58.045822Z",
     "start_time": "2024-02-18T06:39:58.033792Z"
    }
   },
   "id": "1c0b058845c4e137",
   "execution_count": 61
  },
  {
   "cell_type": "code",
   "outputs": [
    {
     "data": {
      "text/plain": "mappingproxy({'__module__': '__main__',\n              'school': 'NSN School',\n              'area': 'Chromepet',\n              '__init__': <function __main__.Student.__init__(self, name, age)>,\n              '__dict__': <attribute '__dict__' of 'Student' objects>,\n              '__weakref__': <attribute '__weakref__' of 'Student' objects>,\n              '__doc__': None,\n              'name': 'vaibhav'})"
     },
     "execution_count": 80,
     "metadata": {},
     "output_type": "execute_result"
    }
   ],
   "source": [
    "Student.__dict__"
   ],
   "metadata": {
    "collapsed": false,
    "ExecuteTime": {
     "end_time": "2024-02-18T06:54:01.668295Z",
     "start_time": "2024-02-18T06:54:01.656311Z"
    }
   },
   "id": "4d6df02308153f40",
   "execution_count": 80
  },
  {
   "cell_type": "code",
   "outputs": [],
   "source": [
    "\n",
    "delattr(Student, 'area')"
   ],
   "metadata": {
    "collapsed": false,
    "ExecuteTime": {
     "end_time": "2024-02-18T06:54:14.716885Z",
     "start_time": "2024-02-18T06:54:14.707847Z"
    }
   },
   "id": "acdebeee8c287324",
   "execution_count": 81
  },
  {
   "cell_type": "code",
   "outputs": [
    {
     "data": {
      "text/plain": "mappingproxy({'__module__': '__main__',\n              'school': 'NSN School',\n              '__init__': <function __main__.Student.__init__(self, name, age)>,\n              '__dict__': <attribute '__dict__' of 'Student' objects>,\n              '__weakref__': <attribute '__weakref__' of 'Student' objects>,\n              '__doc__': None,\n              'name': 'vaibhav'})"
     },
     "execution_count": 82,
     "metadata": {},
     "output_type": "execute_result"
    }
   ],
   "source": [
    "Student.__dict__"
   ],
   "metadata": {
    "collapsed": false,
    "ExecuteTime": {
     "end_time": "2024-02-18T06:54:18.476909Z",
     "start_time": "2024-02-18T06:54:18.461096Z"
    }
   },
   "id": "a5512dee57e37a57",
   "execution_count": 82
  },
  {
   "cell_type": "code",
   "outputs": [],
   "source": [
    "del Student.school"
   ],
   "metadata": {
    "collapsed": false,
    "ExecuteTime": {
     "end_time": "2024-02-18T06:55:32.428191Z",
     "start_time": "2024-02-18T06:55:32.415001Z"
    }
   },
   "id": "d6cde4db4537695f",
   "execution_count": 83
  },
  {
   "cell_type": "code",
   "outputs": [
    {
     "data": {
      "text/plain": "mappingproxy({'__module__': '__main__',\n              '__init__': <function __main__.Student.__init__(self, name, age)>,\n              '__dict__': <attribute '__dict__' of 'Student' objects>,\n              '__weakref__': <attribute '__weakref__' of 'Student' objects>,\n              '__doc__': None,\n              'name': 'vaibhav'})"
     },
     "execution_count": 84,
     "metadata": {},
     "output_type": "execute_result"
    }
   ],
   "source": [
    "Student.__dict__"
   ],
   "metadata": {
    "collapsed": false,
    "ExecuteTime": {
     "end_time": "2024-02-18T06:55:34.959703Z",
     "start_time": "2024-02-18T06:55:34.945596Z"
    }
   },
   "id": "80e70f34775fd0c8",
   "execution_count": 84
  },
  {
   "cell_type": "code",
   "outputs": [
    {
     "data": {
      "text/plain": "'__main__'"
     },
     "execution_count": 85,
     "metadata": {},
     "output_type": "execute_result"
    }
   ],
   "source": [
    "Student.__dict__[\"__module__\"]"
   ],
   "metadata": {
    "collapsed": false,
    "ExecuteTime": {
     "end_time": "2024-02-18T06:57:24.331828Z",
     "start_time": "2024-02-18T06:57:24.320829Z"
    }
   },
   "id": "8e611daee862b357",
   "execution_count": 85
  },
  {
   "cell_type": "code",
   "outputs": [
    {
     "data": {
      "text/plain": "'n/a'"
     },
     "execution_count": 95,
     "metadata": {},
     "output_type": "execute_result"
    }
   ],
   "source": [
    "getattr('hello', 'counts', 'n/a')"
   ],
   "metadata": {
    "collapsed": false,
    "ExecuteTime": {
     "end_time": "2024-02-18T07:21:08.107866Z",
     "start_time": "2024-02-18T07:21:08.094910Z"
    }
   },
   "id": "c2adf09b634778cf",
   "execution_count": 95
  },
  {
   "cell_type": "code",
   "outputs": [
    {
     "ename": "TypeError",
     "evalue": "'mappingproxy' object does not support item assignment",
     "output_type": "error",
     "traceback": [
      "\u001B[1;31m---------------------------------------------------------------------------\u001B[0m",
      "\u001B[1;31mTypeError\u001B[0m                                 Traceback (most recent call last)",
      "Cell \u001B[1;32mIn[97], line 1\u001B[0m\n\u001B[1;32m----> 1\u001B[0m \u001B[43mStudent\u001B[49m\u001B[38;5;241;43m.\u001B[39;49m\u001B[38;5;18;43m__dict__\u001B[39;49m\u001B[43m[\u001B[49m\u001B[38;5;124;43m\"\u001B[39;49m\u001B[38;5;124;43mname\u001B[39;49m\u001B[38;5;124;43m\"\u001B[39;49m\u001B[43m]\u001B[49m \u001B[38;5;241m=\u001B[39m \u001B[38;5;124m\"\u001B[39m\u001B[38;5;124mVaibhav\u001B[39m\u001B[38;5;124m\"\u001B[39m\n",
      "\u001B[1;31mTypeError\u001B[0m: 'mappingproxy' object does not support item assignment"
     ]
    }
   ],
   "source": [
    "Student.__dict__[\"name\"] = \"Vaibhav\""
   ],
   "metadata": {
    "collapsed": false,
    "ExecuteTime": {
     "end_time": "2024-02-18T07:35:12.018692Z",
     "start_time": "2024-02-18T07:35:11.968597Z"
    }
   },
   "id": "3565f70133f78e9d",
   "execution_count": 97
  },
  {
   "cell_type": "code",
   "outputs": [
    {
     "data": {
      "text/plain": "__main__.Student"
     },
     "execution_count": 99,
     "metadata": {},
     "output_type": "execute_result"
    }
   ],
   "source": [
    "type(s1)"
   ],
   "metadata": {
    "collapsed": false,
    "ExecuteTime": {
     "end_time": "2024-02-18T08:01:38.943735Z",
     "start_time": "2024-02-18T08:01:38.927930Z"
    }
   },
   "id": "9f5bc00f2343fa92",
   "execution_count": 99
  },
  {
   "cell_type": "code",
   "outputs": [
    {
     "data": {
      "text/plain": "__main__.Student"
     },
     "execution_count": 100,
     "metadata": {},
     "output_type": "execute_result"
    }
   ],
   "source": [
    "s1.__class__"
   ],
   "metadata": {
    "collapsed": false,
    "ExecuteTime": {
     "end_time": "2024-02-18T08:02:10.714774Z",
     "start_time": "2024-02-18T08:02:10.704778Z"
    }
   },
   "id": "e61022f14d932cc1",
   "execution_count": 100
  },
  {
   "cell_type": "code",
   "outputs": [],
   "source": [
    "def student():\n",
    "    print(\"Hello\")    "
   ],
   "metadata": {
    "collapsed": false,
    "ExecuteTime": {
     "end_time": "2024-02-18T08:06:45.014606Z",
     "start_time": "2024-02-18T08:06:45.005638Z"
    }
   },
   "id": "242da909578472d2",
   "execution_count": 115
  },
  {
   "cell_type": "code",
   "outputs": [
    {
     "name": "stdout",
     "output_type": "stream",
     "text": [
      "Hello\n"
     ]
    }
   ],
   "source": [
    "a1 = student()"
   ],
   "metadata": {
    "collapsed": false,
    "ExecuteTime": {
     "end_time": "2024-02-18T08:06:52.442491Z",
     "start_time": "2024-02-18T08:06:52.431031Z"
    }
   },
   "id": "c4826347ad41e0dc",
   "execution_count": 117
  },
  {
   "cell_type": "code",
   "outputs": [
    {
     "data": {
      "text/plain": "NoneType"
     },
     "execution_count": 118,
     "metadata": {},
     "output_type": "execute_result"
    }
   ],
   "source": [
    "type(a1)"
   ],
   "metadata": {
    "collapsed": false,
    "ExecuteTime": {
     "end_time": "2024-02-18T08:07:11.285084Z",
     "start_time": "2024-02-18T08:07:11.274938Z"
    }
   },
   "id": "3a3498f88e0f58a0",
   "execution_count": 118
  },
  {
   "cell_type": "code",
   "outputs": [],
   "source": [],
   "metadata": {
    "collapsed": false
   },
   "id": "9d8c15689843650f",
   "execution_count": null
  }
 ],
 "metadata": {
  "kernelspec": {
   "display_name": "Python 3",
   "language": "python",
   "name": "python3"
  },
  "language_info": {
   "codemirror_mode": {
    "name": "ipython",
    "version": 2
   },
   "file_extension": ".py",
   "mimetype": "text/x-python",
   "name": "python",
   "nbconvert_exporter": "python",
   "pygments_lexer": "ipython2",
   "version": "2.7.6"
  }
 },
 "nbformat": 4,
 "nbformat_minor": 5
}
