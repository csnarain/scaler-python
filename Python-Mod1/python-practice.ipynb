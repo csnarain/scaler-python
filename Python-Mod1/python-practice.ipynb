{
 "cells": [
  {
   "cell_type": "code",
   "id": "initial_id",
   "metadata": {
    "collapsed": true,
    "ExecuteTime": {
     "end_time": "2024-04-05T05:49:47.828241Z",
     "start_time": "2024-04-05T05:49:47.816213Z"
    }
   },
   "source": "### Pattern Printing",
   "outputs": [],
   "execution_count": 2
  },
  {
   "metadata": {
    "ExecuteTime": {
     "end_time": "2024-04-05T05:52:26.461930Z",
     "start_time": "2024-04-05T05:52:26.451831Z"
    }
   },
   "cell_type": "code",
   "source": [
    "# *****\n",
    "# ****\n",
    "# ***\n",
    "# **\n",
    "# *"
   ],
   "id": "e4fc8a1a9feb2f89",
   "outputs": [],
   "execution_count": 4
  },
  {
   "metadata": {
    "ExecuteTime": {
     "end_time": "2024-04-09T16:42:28.404394Z",
     "start_time": "2024-04-09T16:42:17.747996Z"
    }
   },
   "cell_type": "code",
   "source": [
    "import numpy as np\n",
    "\n",
    "n = int(input())\n",
    "for r in range(n):\n",
    "    for c in range(n - r, 0, -1):\n",
    "        print('*', end='')\n",
    "    print()"
   ],
   "id": "8da896cb533d71c9",
   "outputs": [
    {
     "ename": "ValueError",
     "evalue": "invalid literal for int() with base 10: ''",
     "output_type": "error",
     "traceback": [
      "\u001B[1;31m---------------------------------------------------------------------------\u001B[0m",
      "\u001B[1;31mValueError\u001B[0m                                Traceback (most recent call last)",
      "Cell \u001B[1;32mIn[1], line 3\u001B[0m\n\u001B[0;32m      1\u001B[0m \u001B[38;5;28;01mimport\u001B[39;00m \u001B[38;5;21;01mnumpy\u001B[39;00m \u001B[38;5;28;01mas\u001B[39;00m \u001B[38;5;21;01mnp\u001B[39;00m\n\u001B[1;32m----> 3\u001B[0m n \u001B[38;5;241m=\u001B[39m \u001B[38;5;28;43mint\u001B[39;49m\u001B[43m(\u001B[49m\u001B[38;5;28;43minput\u001B[39;49m\u001B[43m(\u001B[49m\u001B[43m)\u001B[49m\u001B[43m)\u001B[49m\n\u001B[0;32m      4\u001B[0m \u001B[38;5;28;01mfor\u001B[39;00m r \u001B[38;5;129;01min\u001B[39;00m \u001B[38;5;28mrange\u001B[39m(n):\n\u001B[0;32m      5\u001B[0m     \u001B[38;5;28;01mfor\u001B[39;00m c \u001B[38;5;129;01min\u001B[39;00m \u001B[38;5;28mrange\u001B[39m(n \u001B[38;5;241m-\u001B[39m r, \u001B[38;5;241m0\u001B[39m, \u001B[38;5;241m-\u001B[39m\u001B[38;5;241m1\u001B[39m):\n",
      "\u001B[1;31mValueError\u001B[0m: invalid literal for int() with base 10: ''"
     ]
    }
   ],
   "execution_count": 1
  },
  {
   "metadata": {
    "ExecuteTime": {
     "end_time": "2024-04-05T08:10:29.933063Z",
     "start_time": "2024-04-05T08:10:29.911063Z"
    }
   },
   "cell_type": "code",
   "source": [
    "# *\n",
    "# **\n",
    "# ***\n",
    "# ****\n",
    "# *****"
   ],
   "id": "b5d16c9688e54028",
   "outputs": [],
   "execution_count": 12
  },
  {
   "metadata": {
    "ExecuteTime": {
     "end_time": "2024-04-05T08:13:48.870046Z",
     "start_time": "2024-04-05T08:13:47.636246Z"
    }
   },
   "cell_type": "code",
   "source": [
    "n = int(input())\n",
    "for r in range(1, n + 1):\n",
    "    for c in range(r):\n",
    "        print('*', end='')\n",
    "    print()"
   ],
   "id": "f88e727c63b574e4",
   "outputs": [
    {
     "name": "stdout",
     "output_type": "stream",
     "text": [
      "*\n",
      "**\n",
      "***\n",
      "****\n",
      "*****\n"
     ]
    }
   ],
   "execution_count": 19
  },
  {
   "metadata": {
    "ExecuteTime": {
     "end_time": "2024-04-05T16:09:32.980763Z",
     "start_time": "2024-04-05T16:09:32.950606Z"
    }
   },
   "cell_type": "code",
   "source": [
    "# *\n",
    "# *2\n",
    "# *2*\n",
    "# *2*4\n",
    "# *2*4*\n",
    "# *2*4*6"
   ],
   "id": "1ae162653fd8b449",
   "outputs": [],
   "execution_count": 20
  },
  {
   "metadata": {
    "ExecuteTime": {
     "end_time": "2024-04-05T17:31:22.635418Z",
     "start_time": "2024-04-05T17:31:21.204379Z"
    }
   },
   "cell_type": "code",
   "source": [
    "n = int(input())\n",
    "for r in range(0, n):\n",
    "    for c in range(r + 1):\n",
    "        print(chr(ord('A') + c), end=' ')\n",
    "        # if c % 2 != 0:\n",
    "        #     print('*', end=' ')\n",
    "        # else:\n",
    "        #     print(c, end=' ')\n",
    "    print()"
   ],
   "id": "f403005a670c5cc6",
   "outputs": [
    {
     "name": "stdout",
     "output_type": "stream",
     "text": [
      "A \n",
      "A B \n",
      "A B C \n",
      "A B C D \n",
      "A B C D E \n"
     ]
    }
   ],
   "execution_count": 66
  },
  {
   "metadata": {
    "ExecuteTime": {
     "end_time": "2024-04-05T16:47:53.467777Z",
     "start_time": "2024-04-05T16:47:53.447644Z"
    }
   },
   "cell_type": "code",
   "source": [
    "# *****\n",
    "# ****\n",
    "# ***\n",
    "# **\n",
    "# *"
   ],
   "id": "eabb19cbec737a00",
   "outputs": [],
   "execution_count": 44
  },
  {
   "metadata": {},
   "cell_type": "code",
   "source": [
    "n = int(input())\n",
    "for r in range(n):\n",
    "    for s in range(r):\n",
    "        print('  ', end='')\n",
    "    for c in range(n - r, 0, -1):\n",
    "        print('* ', end='')\n",
    "    print()"
   ],
   "id": "8979827811cb1f3d",
   "outputs": [],
   "execution_count": null
  },
  {
   "metadata": {
    "ExecuteTime": {
     "end_time": "2024-04-05T17:50:59.390157Z",
     "start_time": "2024-04-05T17:50:59.380116Z"
    }
   },
   "cell_type": "code",
   "source": [
    "#     *\n",
    "#    ***\n",
    "#   *****\n",
    "#  *******\n",
    "# *********"
   ],
   "id": "505662933efad25e",
   "outputs": [],
   "execution_count": 78
  },
  {
   "metadata": {
    "ExecuteTime": {
     "end_time": "2024-04-05T18:14:47.936649Z",
     "start_time": "2024-04-05T18:14:45.874610Z"
    }
   },
   "cell_type": "code",
   "source": [
    "n = int(input())\n",
    "for r in range(n):\n",
    "    for s in range(n - r):\n",
    "        print(' ', end='')\n",
    "    for c in range(2*r + 1):\n",
    "        print('*', end='')\n",
    "    for t in range(n - r):\n",
    "        print(' ', end='')\n",
    "    print()"
   ],
   "id": "51e8c1e3674cff83",
   "outputs": [
    {
     "name": "stdout",
     "output_type": "stream",
     "text": [
      "     *     \n",
      "    ***    \n",
      "   *****   \n",
      "  *******  \n",
      " ********* \n"
     ]
    }
   ],
   "execution_count": 96
  },
  {
   "metadata": {
    "ExecuteTime": {
     "end_time": "2024-04-05T18:15:58.874568Z",
     "start_time": "2024-04-05T18:15:58.863661Z"
    }
   },
   "cell_type": "code",
   "source": [
    "i = 1\n",
    "while i % 7:\n",
    "    for j in range(3):\n",
    "        print(\"*\")\n",
    "    i += 1"
   ],
   "id": "652810dcacc289f5",
   "outputs": [
    {
     "name": "stdout",
     "output_type": "stream",
     "text": [
      "*\n",
      "*\n",
      "*\n",
      "*\n",
      "*\n",
      "*\n",
      "*\n",
      "*\n",
      "*\n",
      "*\n",
      "*\n",
      "*\n",
      "*\n",
      "*\n",
      "*\n",
      "*\n",
      "*\n",
      "*\n"
     ]
    }
   ],
   "execution_count": 97
  },
  {
   "metadata": {
    "ExecuteTime": {
     "end_time": "2024-04-06T05:07:30.848254Z",
     "start_time": "2024-04-06T05:07:30.837149Z"
    }
   },
   "cell_type": "code",
   "source": "nested_tup = ((4, 5, 6), (7, 8), [1,2])",
   "id": "550089a3c6059139",
   "outputs": [],
   "execution_count": 101
  },
  {
   "metadata": {
    "ExecuteTime": {
     "end_time": "2024-04-06T05:07:58.930605Z",
     "start_time": "2024-04-06T05:07:58.913921Z"
    }
   },
   "cell_type": "code",
   "source": "nested_tup[2][0] = 3",
   "id": "d6cf99dd04ea7fe5",
   "outputs": [],
   "execution_count": 106
  },
  {
   "metadata": {
    "ExecuteTime": {
     "end_time": "2024-04-06T05:08:05.440098Z",
     "start_time": "2024-04-06T05:08:05.431946Z"
    }
   },
   "cell_type": "code",
   "source": "nested_tup[2]",
   "id": "2fb30b482067c4d1",
   "outputs": [
    {
     "data": {
      "text/plain": [
       "[3, 2]"
      ]
     },
     "execution_count": 107,
     "metadata": {},
     "output_type": "execute_result"
    }
   ],
   "execution_count": 107
  },
  {
   "metadata": {
    "ExecuteTime": {
     "end_time": "2024-04-06T05:52:53.713114Z",
     "start_time": "2024-04-06T05:52:53.700022Z"
    }
   },
   "cell_type": "code",
   "source": "s = {1,2,3}",
   "id": "de8f1c59950c886b",
   "outputs": [],
   "execution_count": 113
  },
  {
   "metadata": {
    "ExecuteTime": {
     "end_time": "2024-04-06T06:09:48.572964Z",
     "start_time": "2024-04-06T06:09:48.560863Z"
    }
   },
   "cell_type": "code",
   "source": [
    "a = [[1,2]]\n",
    "b = [3,4]"
   ],
   "id": "15772e7475e5db46",
   "outputs": [],
   "execution_count": 134
  },
  {
   "metadata": {
    "ExecuteTime": {
     "end_time": "2024-04-06T06:09:48.937905Z",
     "start_time": "2024-04-06T06:09:48.921640Z"
    }
   },
   "cell_type": "code",
   "source": "c = a+a",
   "id": "12473b7711c5c1ec",
   "outputs": [],
   "execution_count": 135
  },
  {
   "metadata": {
    "ExecuteTime": {
     "end_time": "2024-04-06T06:09:49.912718Z",
     "start_time": "2024-04-06T06:09:49.900680Z"
    }
   },
   "cell_type": "code",
   "source": "id(c[0])==id(c[1])",
   "id": "778061a532aaa8eb",
   "outputs": [
    {
     "data": {
      "text/plain": [
       "True"
      ]
     },
     "execution_count": 136,
     "metadata": {},
     "output_type": "execute_result"
    }
   ],
   "execution_count": 136
  },
  {
   "metadata": {
    "ExecuteTime": {
     "end_time": "2024-04-06T06:10:00.379911Z",
     "start_time": "2024-04-06T06:10:00.365145Z"
    }
   },
   "cell_type": "code",
   "source": "c[0][0] = 100",
   "id": "aa2dcc2b8770ff33",
   "outputs": [],
   "execution_count": 137
  },
  {
   "metadata": {
    "ExecuteTime": {
     "end_time": "2024-04-06T06:10:01.116872Z",
     "start_time": "2024-04-06T06:10:01.103181Z"
    }
   },
   "cell_type": "code",
   "source": "c",
   "id": "31ec900c893ccc4f",
   "outputs": [
    {
     "data": {
      "text/plain": [
       "[[100, 2], [100, 2]]"
      ]
     },
     "execution_count": 138,
     "metadata": {},
     "output_type": "execute_result"
    }
   ],
   "execution_count": 138
  },
  {
   "metadata": {
    "ExecuteTime": {
     "end_time": "2024-04-06T06:18:15.736744Z",
     "start_time": "2024-04-06T06:18:15.723176Z"
    }
   },
   "cell_type": "code",
   "source": "a = range(10)",
   "id": "d8453e9c19751516",
   "outputs": [],
   "execution_count": 142
  },
  {
   "metadata": {
    "ExecuteTime": {
     "end_time": "2024-04-06T06:30:12.560943Z",
     "start_time": "2024-04-06T06:30:12.550955Z"
    }
   },
   "cell_type": "code",
   "source": [
    "from decimal import Decimal\n",
    "\n",
    "l = [1,2,5,Decimal('2.5')]"
   ],
   "id": "b32d6b217d6680b5",
   "outputs": [],
   "execution_count": 152
  },
  {
   "metadata": {
    "ExecuteTime": {
     "end_time": "2024-04-06T06:30:13.788098Z",
     "start_time": "2024-04-06T06:30:13.778535Z"
    }
   },
   "cell_type": "code",
   "source": "min(l)",
   "id": "562e3f84ee31fe58",
   "outputs": [
    {
     "data": {
      "text/plain": [
       "1"
      ]
     },
     "execution_count": 153,
     "metadata": {},
     "output_type": "execute_result"
    }
   ],
   "execution_count": 153
  },
  {
   "metadata": {
    "ExecuteTime": {
     "end_time": "2024-04-06T17:58:43.885162Z",
     "start_time": "2024-04-06T17:58:43.872258Z"
    }
   },
   "cell_type": "code",
   "source": [
    "import numpy as np\n",
    "data = np.array([[1,2,3],\n",
    "                 [4,5,6]])\n",
    "data2 = np.array([[1,2,3],\n",
    "                 [4,5,6],\n",
    "                 [4,5,6]])"
   ],
   "id": "4b03ed8f765e5836",
   "outputs": [],
   "execution_count": 161
  },
  {
   "metadata": {
    "ExecuteTime": {
     "end_time": "2024-04-06T18:02:21.767136Z",
     "start_time": "2024-04-06T18:02:21.754932Z"
    }
   },
   "cell_type": "code",
   "source": "data = np.array(range(10))",
   "id": "b992f33556bc0022",
   "outputs": [],
   "execution_count": 165
  },
  {
   "metadata": {
    "ExecuteTime": {
     "end_time": "2024-04-06T18:07:13.068013Z",
     "start_time": "2024-04-06T18:07:13.051608Z"
    }
   },
   "cell_type": "code",
   "source": "list(range(10))",
   "id": "4f75374d03635298",
   "outputs": [
    {
     "data": {
      "text/plain": [
       "[0, 1, 2, 3, 4, 5, 6, 7, 8, 9]"
      ]
     },
     "execution_count": 168,
     "metadata": {},
     "output_type": "execute_result"
    }
   ],
   "execution_count": 168
  },
  {
   "metadata": {
    "ExecuteTime": {
     "end_time": "2024-04-06T18:21:35.105280Z",
     "start_time": "2024-04-06T18:21:35.094702Z"
    }
   },
   "cell_type": "code",
   "source": "data.astype('float64')",
   "id": "1fb73f04d57e0337",
   "outputs": [
    {
     "data": {
      "text/plain": [
       "array([0., 1., 2., 3., 4., 5., 6., 7., 8., 9.])"
      ]
     },
     "execution_count": 170,
     "metadata": {},
     "output_type": "execute_result"
    }
   ],
   "execution_count": 170
  },
  {
   "metadata": {
    "ExecuteTime": {
     "end_time": "2024-04-07T17:52:16.395566Z",
     "start_time": "2024-04-07T17:52:16.383953Z"
    }
   },
   "cell_type": "code",
   "source": [
    "import pandas as pd\n",
    "def relu(n):\n",
    "    if n < 0:\n",
    "        return 0\n",
    "    return n\n",
    "\n",
    "arr = pd.Series([1, 0, 1])\n",
    "print(relu(arr.all()))"
   ],
   "id": "b4a6d2ccd9668f4",
   "outputs": [
    {
     "name": "stdout",
     "output_type": "stream",
     "text": [
      "False\n"
     ]
    }
   ],
   "execution_count": 180
  },
  {
   "metadata": {
    "ExecuteTime": {
     "end_time": "2024-04-08T18:16:15.904416Z",
     "start_time": "2024-04-08T18:16:15.892408Z"
    }
   },
   "cell_type": "code",
   "source": [
    "ls = [1,2,3,4,5,6]\n",
    "ls_slice = ls[2:5]"
   ],
   "id": "a255df44b22c6cd6",
   "outputs": [],
   "execution_count": 196
  },
  {
   "metadata": {
    "ExecuteTime": {
     "end_time": "2024-04-08T18:16:16.784959Z",
     "start_time": "2024-04-08T18:16:16.769268Z"
    }
   },
   "cell_type": "code",
   "source": "ls_slice",
   "id": "1d3581750e948b30",
   "outputs": [
    {
     "data": {
      "text/plain": [
       "[3, 4, 5]"
      ]
     },
     "execution_count": 197,
     "metadata": {},
     "output_type": "execute_result"
    }
   ],
   "execution_count": 197
  },
  {
   "metadata": {
    "ExecuteTime": {
     "end_time": "2024-04-08T18:16:22.450166Z",
     "start_time": "2024-04-08T18:16:22.437327Z"
    }
   },
   "cell_type": "code",
   "source": "ls_slice[:] = [11,12]",
   "id": "820c4ed879e32c83",
   "outputs": [],
   "execution_count": 198
  },
  {
   "metadata": {
    "ExecuteTime": {
     "end_time": "2024-04-08T18:16:22.807397Z",
     "start_time": "2024-04-08T18:16:22.787344Z"
    }
   },
   "cell_type": "code",
   "source": "ls_slice",
   "id": "9fbd12b5636d7987",
   "outputs": [
    {
     "data": {
      "text/plain": [
       "[11, 12]"
      ]
     },
     "execution_count": 199,
     "metadata": {},
     "output_type": "execute_result"
    }
   ],
   "execution_count": 199
  },
  {
   "metadata": {
    "ExecuteTime": {
     "end_time": "2024-04-08T18:30:22.216420Z",
     "start_time": "2024-04-08T18:30:22.199338Z"
    }
   },
   "cell_type": "code",
   "source": "ls = [[1,2,3], [4,5,6]]",
   "id": "59804c294366f0c8",
   "outputs": [],
   "execution_count": 200
  },
  {
   "metadata": {
    "ExecuteTime": {
     "end_time": "2024-04-08T18:35:00.396310Z",
     "start_time": "2024-04-08T18:35:00.383415Z"
    }
   },
   "cell_type": "code",
   "source": "import numpy as np",
   "id": "afe2bb1a8c42fd5e",
   "outputs": [],
   "execution_count": 203
  },
  {
   "metadata": {
    "ExecuteTime": {
     "end_time": "2024-04-08T18:35:15.182142Z",
     "start_time": "2024-04-08T18:35:15.167884Z"
    }
   },
   "cell_type": "code",
   "source": [
    "arr2d = np.array([[1, 2, 3],\n",
    "          [4, 5, 6],\n",
    "          [7, 8, 9]])"
   ],
   "id": "1efa1097d7b1a223",
   "outputs": [],
   "execution_count": 204
  },
  {
   "metadata": {
    "ExecuteTime": {
     "end_time": "2024-04-08T18:39:27.550512Z",
     "start_time": "2024-04-08T18:39:27.539793Z"
    }
   },
   "cell_type": "code",
   "source": "tuple = arr2d[1,:2]",
   "id": "d77305bf91a94de7",
   "outputs": [],
   "execution_count": 219
  },
  {
   "metadata": {
    "ExecuteTime": {
     "end_time": "2024-04-08T18:42:13.979092Z",
     "start_time": "2024-04-08T18:42:13.954881Z"
    }
   },
   "cell_type": "code",
   "source": "arr2d[:2,2]",
   "id": "90f543e1fd9a0bf0",
   "outputs": [
    {
     "data": {
      "text/plain": [
       "array([3, 6])"
      ]
     },
     "execution_count": 228,
     "metadata": {},
     "output_type": "execute_result"
    }
   ],
   "execution_count": 228
  },
  {
   "metadata": {
    "ExecuteTime": {
     "end_time": "2024-04-09T16:42:29.439817Z",
     "start_time": "2024-04-09T16:42:29.418745Z"
    }
   },
   "cell_type": "code",
   "source": "import numpy as np",
   "id": "8107a617c6bfcf93",
   "outputs": [],
   "execution_count": 2
  },
  {
   "metadata": {
    "ExecuteTime": {
     "end_time": "2024-04-09T17:23:36.230789Z",
     "start_time": "2024-04-09T17:23:36.219693Z"
    }
   },
   "cell_type": "code",
   "source": "b = np.array([3,2,3])",
   "id": "79956c96933b3043",
   "outputs": [],
   "execution_count": 37
  },
  {
   "metadata": {
    "ExecuteTime": {
     "end_time": "2024-04-09T17:23:37.109667Z",
     "start_time": "2024-04-09T17:23:37.096669Z"
    }
   },
   "cell_type": "code",
   "source": "b[[True, False, True]]",
   "id": "2c7fd7a284dd1735",
   "outputs": [
    {
     "data": {
      "text/plain": [
       "array([3, 3])"
      ]
     },
     "execution_count": 38,
     "metadata": {},
     "output_type": "execute_result"
    }
   ],
   "execution_count": 38
  },
  {
   "metadata": {
    "ExecuteTime": {
     "end_time": "2024-04-09T17:23:38.966650Z",
     "start_time": "2024-04-09T17:23:38.936355Z"
    }
   },
   "cell_type": "code",
   "source": "b[0,1]",
   "id": "3954de7c7e5dad0c",
   "outputs": [
    {
     "ename": "IndexError",
     "evalue": "too many indices for array: array is 1-dimensional, but 2 were indexed",
     "output_type": "error",
     "traceback": [
      "\u001B[1;31m---------------------------------------------------------------------------\u001B[0m",
      "\u001B[1;31mIndexError\u001B[0m                                Traceback (most recent call last)",
      "Cell \u001B[1;32mIn[39], line 1\u001B[0m\n\u001B[1;32m----> 1\u001B[0m \u001B[43mb\u001B[49m\u001B[43m[\u001B[49m\u001B[38;5;241;43m0\u001B[39;49m\u001B[43m,\u001B[49m\u001B[38;5;241;43m1\u001B[39;49m\u001B[43m]\u001B[49m\n",
      "\u001B[1;31mIndexError\u001B[0m: too many indices for array: array is 1-dimensional, but 2 were indexed"
     ]
    }
   ],
   "execution_count": 39
  },
  {
   "metadata": {
    "ExecuteTime": {
     "end_time": "2024-04-09T17:24:00.148953Z",
     "start_time": "2024-04-09T17:24:00.141004Z"
    }
   },
   "cell_type": "code",
   "source": "b[b<4]",
   "id": "8d56cadc24afdf82",
   "outputs": [
    {
     "data": {
      "text/plain": [
       "array([3, 2, 3])"
      ]
     },
     "execution_count": 43,
     "metadata": {},
     "output_type": "execute_result"
    }
   ],
   "execution_count": 43
  },
  {
   "metadata": {
    "ExecuteTime": {
     "end_time": "2024-04-10T09:07:57.023609Z",
     "start_time": "2024-04-10T09:07:56.973612Z"
    }
   },
   "cell_type": "code",
   "source": "A = np.array([2, 0, 1, 9, 1, 1, 1, 0, 3, 5])",
   "id": "4ad4d7531cdb33fd",
   "outputs": [],
   "execution_count": 44
  },
  {
   "metadata": {
    "ExecuteTime": {
     "end_time": "2024-04-10T09:08:54.823769Z",
     "start_time": "2024-04-10T09:08:54.801500Z"
    }
   },
   "cell_type": "code",
   "source": "A+1",
   "id": "4ccd8d120d8eb5b9",
   "outputs": [
    {
     "data": {
      "text/plain": [
       "array([ 3,  1,  2, 10,  2,  2,  2,  1,  4,  6])"
      ]
     },
     "execution_count": 49,
     "metadata": {},
     "output_type": "execute_result"
    }
   ],
   "execution_count": 49
  },
  {
   "metadata": {
    "ExecuteTime": {
     "end_time": "2024-04-10T09:08:48.544330Z",
     "start_time": "2024-04-10T09:08:48.493184Z"
    }
   },
   "cell_type": "code",
   "source": "[x+1 for x in A]",
   "id": "e3dc04577d2a215e",
   "outputs": [
    {
     "data": {
      "text/plain": [
       "[3, 1, 2, 10, 2, 2, 2, 1, 4, 6]"
      ]
     },
     "execution_count": 48,
     "metadata": {},
     "output_type": "execute_result"
    }
   ],
   "execution_count": 48
  },
  {
   "metadata": {
    "ExecuteTime": {
     "end_time": "2024-04-10T09:09:23.608399Z",
     "start_time": "2024-04-10T09:09:23.586065Z"
    }
   },
   "cell_type": "code",
   "source": "list(map(lambda x: x+1, A))",
   "id": "e77bd5175c028ed3",
   "outputs": [
    {
     "data": {
      "text/plain": [
       "[3, 1, 2, 10, 2, 2, 2, 1, 4, 6]"
      ]
     },
     "execution_count": 51,
     "metadata": {},
     "output_type": "execute_result"
    }
   ],
   "execution_count": 51
  },
  {
   "metadata": {
    "ExecuteTime": {
     "end_time": "2024-04-10T09:10:01.680785Z",
     "start_time": "2024-04-10T09:10:01.641266Z"
    }
   },
   "cell_type": "code",
   "source": "A.shape",
   "id": "de536bbad73dbda8",
   "outputs": [
    {
     "data": {
      "text/plain": [
       "(10,)"
      ]
     },
     "execution_count": 52,
     "metadata": {},
     "output_type": "execute_result"
    }
   ],
   "execution_count": 52
  },
  {
   "metadata": {},
   "cell_type": "code",
   "outputs": [],
   "execution_count": null,
   "source": "",
   "id": "d46c1be80665c3a6"
  }
 ],
 "metadata": {
  "kernelspec": {
   "display_name": "Python 3",
   "language": "python",
   "name": "python3"
  },
  "language_info": {
   "codemirror_mode": {
    "name": "ipython",
    "version": 2
   },
   "file_extension": ".py",
   "mimetype": "text/x-python",
   "name": "python",
   "nbconvert_exporter": "python",
   "pygments_lexer": "ipython2",
   "version": "2.7.6"
  }
 },
 "nbformat": 4,
 "nbformat_minor": 5
}
