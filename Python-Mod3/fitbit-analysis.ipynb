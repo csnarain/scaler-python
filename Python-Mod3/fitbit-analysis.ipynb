{
 "cells": [
  {
   "cell_type": "code",
   "id": "initial_id",
   "metadata": {
    "collapsed": true,
    "ExecuteTime": {
     "end_time": "2024-04-16T08:33:58.378044Z",
     "start_time": "2024-04-16T08:33:58.360033Z"
    }
   },
   "source": "import numpy as np",
   "outputs": [],
   "execution_count": 2
  },
  {
   "metadata": {
    "ExecuteTime": {
     "end_time": "2024-04-16T08:33:59.310053Z",
     "start_time": "2024-04-16T08:33:59.284384Z"
    }
   },
   "cell_type": "code",
   "source": "fitbit = np.loadtxt('data/fitbit_data.txt', dtype=str)",
   "id": "2171ee86c87d7677",
   "outputs": [],
   "execution_count": 3
  },
  {
   "metadata": {
    "ExecuteTime": {
     "end_time": "2024-04-16T08:33:59.387639Z",
     "start_time": "2024-04-16T08:33:59.362022Z"
    }
   },
   "cell_type": "code",
   "source": "fitbit.T",
   "id": "6484622a92df0c40",
   "outputs": [
    {
     "data": {
      "text/plain": [
       "array([['06-10-2017', '07-10-2017', '08-10-2017', '09-10-2017',\n",
       "        '10-10-2017', '11-10-2017', '12-10-2017', '13-10-2017',\n",
       "        '14-10-2017', '15-10-2017', '16-10-2017', '17-10-2017',\n",
       "        '18-10-2017', '19-10-2017', '20-10-2017', '21-10-2017',\n",
       "        '22-10-2017', '23-10-2017', '24-10-2017', '25-10-2017',\n",
       "        '26-10-2017', '27-10-2017', '28-10-2017', '29-10-2017',\n",
       "        '30-10-2017', '31-10-2017', '01-11-2017', '02-11-2017',\n",
       "        '03-11-2017', '04-11-2017', '05-11-2017', '06-11-2017',\n",
       "        '07-11-2017', '08-11-2017', '09-11-2017', '10-11-2017',\n",
       "        '11-11-2017', '12-11-2017', '13-11-2017', '14-11-2017',\n",
       "        '15-11-2017', '16-11-2017', '17-11-2017', '18-11-2017',\n",
       "        '19-11-2017', '20-11-2017', '21-11-2017', '22-11-2017',\n",
       "        '23-11-2017', '24-11-2017', '25-11-2017', '26-11-2017',\n",
       "        '27-11-2017', '28-11-2017', '29-11-2017', '30-11-2017',\n",
       "        '01-12-2017', '02-12-2017', '03-12-2017', '04-12-2017',\n",
       "        '05-12-2017', '06-12-2017', '07-12-2017', '08-12-2017',\n",
       "        '09-12-2017', '10-12-2017', '11-12-2017', '12-12-2017',\n",
       "        '13-12-2017', '14-12-2017', '15-12-2017', '16-12-2017',\n",
       "        '17-12-2017', '18-12-2017', '19-12-2017', '20-12-2017',\n",
       "        '21-12-2017', '22-12-2017', '23-12-2017', '24-12-2017',\n",
       "        '25-12-2017', '26-12-2017', '27-12-2017', '28-12-2017',\n",
       "        '29-12-2017', '30-12-2017', '31-12-2017', '01-01-2018',\n",
       "        '02-01-2018', '03-01-2018', '04-01-2018', '05-01-2018',\n",
       "        '06-01-2018', '07-01-2018', '08-01-2018', '09-01-2018'],\n",
       "       ['5464', '6041', '25', '5461', '6915', '4545', '4340', '1230',\n",
       "        '61', '1258', '3148', '4687', '4732', '3519', '1580', '2822',\n",
       "        '181', '3158', '4383', '3881', '4037', '202', '292', '330',\n",
       "        '2209', '4550', '4435', '4779', '1831', '2255', '539', '5464',\n",
       "        '6041', '4068', '4683', '4033', '6314', '614', '3149', '4005',\n",
       "        '4880', '4136', '705', '570', '269', '4275', '5999', '4421',\n",
       "        '6930', '5195', '546', '493', '995', '1163', '6676', '3608',\n",
       "        '774', '1421', '4064', '2725', '5934', '1867', '3721', '2374',\n",
       "        '2909', '1648', '799', '7102', '3941', '7422', '437', '1231',\n",
       "        '1696', '4921', '221', '6500', '3575', '4061', '651', '753',\n",
       "        '518', '5537', '4108', '5376', '3066', '177', '36', '299',\n",
       "        '1447', '2599', '702', '133', '153', '500', '2127', '2203'],\n",
       "       ['Neutral', 'Sad', 'Sad', 'Sad', 'Neutral', 'Sad', 'Sad', 'Sad',\n",
       "        'Sad', 'Sad', 'Sad', 'Sad', 'Happy', 'Sad', 'Sad', 'Sad', 'Sad',\n",
       "        'Neutral', 'Neutral', 'Neutral', 'Neutral', 'Neutral', 'Neutral',\n",
       "        'Happy', 'Neutral', 'Happy', 'Happy', 'Happy', 'Happy', 'Happy',\n",
       "        'Happy', 'Happy', 'Neutral', 'Happy', 'Happy', 'Happy', 'Happy',\n",
       "        'Happy', 'Happy', 'Happy', 'Happy', 'Happy', 'Happy', 'Neutral',\n",
       "        'Happy', 'Happy', 'Happy', 'Happy', 'Happy', 'Happy', 'Happy',\n",
       "        'Happy', 'Happy', 'Neutral', 'Sad', 'Happy', 'Happy', 'Happy',\n",
       "        'Happy', 'Happy', 'Happy', 'Happy', 'Sad', 'Neutral', 'Neutral',\n",
       "        'Sad', 'Sad', 'Neutral', 'Neutral', 'Happy', 'Neutral',\n",
       "        'Neutral', 'Sad', 'Neutral', 'Sad', 'Neutral', 'Neutral', 'Sad',\n",
       "        'Sad', 'Sad', 'Sad', 'Happy', 'Neutral', 'Happy', 'Neutral',\n",
       "        'Sad', 'Sad', 'Sad', 'Neutral', 'Neutral', 'Sad', 'Sad', 'Happy',\n",
       "        'Neutral', 'Neutral', 'Happy'],\n",
       "       ['181', '197', '0', '174', '223', '149', '140', '38', '1', '40',\n",
       "        '101', '152', '150', '113', '49', '86', '6', '99', '143', '125',\n",
       "        '129', '6', '9', '10', '72', '150', '141', '156', '57', '72',\n",
       "        '17', '181', '197', '131', '154', '137', '193', '19', '101',\n",
       "        '139', '164', '137', '22', '17', '9', '145', '192', '146', '234',\n",
       "        '167', '16', '17', '32', '35', '220', '116', '23', '44', '131',\n",
       "        '86', '194', '60', '121', '76', '93', '53', '25', '227', '125',\n",
       "        '243', '14', '39', '55', '158', '7', '213', '116', '129', '21',\n",
       "        '28', '16', '180', '138', '176', '99', '5', '1', '10', '47',\n",
       "        '84', '23', '4', '0', '0', '0', '0'],\n",
       "       ['5', '8', '5', '4', '5', '6', '6', '7', '5', '6', '8', '5', '6',\n",
       "        '7', '5', '6', '8', '5', '4', '5', '6', '8', '5', '6', '5', '8',\n",
       "        '5', '4', '5', '4', '5', '4', '3', '2', '9', '5', '6', '4', '5',\n",
       "        '8', '4', '5', '6', '5', '6', '5', '6', '5', '6', '5', '6', '7',\n",
       "        '6', '7', '6', '5', '6', '7', '8', '8', '7', '8', '5', '4', '3',\n",
       "        '3', '4', '5', '5', '5', '3', '4', '4', '5', '5', '5', '5', '5',\n",
       "        '5', '4', '3', '4', '5', '5', '4', '5', '3', '3', '3', '2', '3',\n",
       "        '2', '8', '5', '5', '5'],\n",
       "       ['Inactive', 'Inactive', 'Inactive', 'Inactive', 'Active',\n",
       "        'Inactive', 'Inactive', 'Inactive', 'Inactive', 'Inactive',\n",
       "        'Inactive', 'Inactive', 'Active', 'Inactive', 'Inactive',\n",
       "        'Inactive', 'Inactive', 'Inactive', 'Inactive', 'Inactive',\n",
       "        'Inactive', 'Inactive', 'Inactive', 'Inactive', 'Inactive',\n",
       "        'Active', 'Inactive', 'Inactive', 'Inactive', 'Inactive',\n",
       "        'Active', 'Inactive', 'Inactive', 'Inactive', 'Inactive',\n",
       "        'Inactive', 'Active', 'Active', 'Active', 'Active', 'Active',\n",
       "        'Active', 'Active', 'Active', 'Active', 'Inactive', 'Inactive',\n",
       "        'Inactive', 'Inactive', 'Inactive', 'Inactive', 'Active',\n",
       "        'Active', 'Active', 'Active', 'Active', 'Active', 'Active',\n",
       "        'Active', 'Active', 'Active', 'Active', 'Active', 'Inactive',\n",
       "        'Active', 'Active', 'Inactive', 'Active', 'Active', 'Active',\n",
       "        'Active', 'Active', 'Inactive', 'Active', 'Active', 'Active',\n",
       "        'Active', 'Inactive', 'Inactive', 'Inactive', 'Inactive',\n",
       "        'Active', 'Active', 'Active', 'Active', 'Inactive', 'Inactive',\n",
       "        'Inactive', 'Inactive', 'Inactive', 'Inactive', 'Inactive',\n",
       "        'Inactive', 'Active', 'Inactive', 'Active']], dtype='<U10')"
      ]
     },
     "execution_count": 4,
     "metadata": {},
     "output_type": "execute_result"
    }
   ],
   "execution_count": 4
  },
  {
   "metadata": {
    "ExecuteTime": {
     "end_time": "2024-04-16T08:33:59.495286Z",
     "start_time": "2024-04-16T08:33:59.484301Z"
    }
   },
   "cell_type": "code",
   "source": "dates = fitbit[:, 0]",
   "id": "3d15e5df2b4cad88",
   "outputs": [],
   "execution_count": 5
  },
  {
   "metadata": {
    "ExecuteTime": {
     "end_time": "2024-04-16T08:33:59.605300Z",
     "start_time": "2024-04-16T08:33:59.589208Z"
    }
   },
   "cell_type": "code",
   "source": "dates",
   "id": "670be4cc129096e7",
   "outputs": [
    {
     "data": {
      "text/plain": [
       "array(['06-10-2017', '07-10-2017', '08-10-2017', '09-10-2017',\n",
       "       '10-10-2017', '11-10-2017', '12-10-2017', '13-10-2017',\n",
       "       '14-10-2017', '15-10-2017', '16-10-2017', '17-10-2017',\n",
       "       '18-10-2017', '19-10-2017', '20-10-2017', '21-10-2017',\n",
       "       '22-10-2017', '23-10-2017', '24-10-2017', '25-10-2017',\n",
       "       '26-10-2017', '27-10-2017', '28-10-2017', '29-10-2017',\n",
       "       '30-10-2017', '31-10-2017', '01-11-2017', '02-11-2017',\n",
       "       '03-11-2017', '04-11-2017', '05-11-2017', '06-11-2017',\n",
       "       '07-11-2017', '08-11-2017', '09-11-2017', '10-11-2017',\n",
       "       '11-11-2017', '12-11-2017', '13-11-2017', '14-11-2017',\n",
       "       '15-11-2017', '16-11-2017', '17-11-2017', '18-11-2017',\n",
       "       '19-11-2017', '20-11-2017', '21-11-2017', '22-11-2017',\n",
       "       '23-11-2017', '24-11-2017', '25-11-2017', '26-11-2017',\n",
       "       '27-11-2017', '28-11-2017', '29-11-2017', '30-11-2017',\n",
       "       '01-12-2017', '02-12-2017', '03-12-2017', '04-12-2017',\n",
       "       '05-12-2017', '06-12-2017', '07-12-2017', '08-12-2017',\n",
       "       '09-12-2017', '10-12-2017', '11-12-2017', '12-12-2017',\n",
       "       '13-12-2017', '14-12-2017', '15-12-2017', '16-12-2017',\n",
       "       '17-12-2017', '18-12-2017', '19-12-2017', '20-12-2017',\n",
       "       '21-12-2017', '22-12-2017', '23-12-2017', '24-12-2017',\n",
       "       '25-12-2017', '26-12-2017', '27-12-2017', '28-12-2017',\n",
       "       '29-12-2017', '30-12-2017', '31-12-2017', '01-01-2018',\n",
       "       '02-01-2018', '03-01-2018', '04-01-2018', '05-01-2018',\n",
       "       '06-01-2018', '07-01-2018', '08-01-2018', '09-01-2018'],\n",
       "      dtype='<U10')"
      ]
     },
     "execution_count": 6,
     "metadata": {},
     "output_type": "execute_result"
    }
   ],
   "execution_count": 6
  },
  {
   "metadata": {
    "ExecuteTime": {
     "end_time": "2024-04-16T08:33:59.699415Z",
     "start_time": "2024-04-16T08:33:59.685344Z"
    }
   },
   "cell_type": "code",
   "source": "step_count = fitbit[:, 1]",
   "id": "44fee5365af81c9d",
   "outputs": [],
   "execution_count": 7
  },
  {
   "metadata": {
    "ExecuteTime": {
     "end_time": "2024-04-16T08:33:59.809104Z",
     "start_time": "2024-04-16T08:33:59.790041Z"
    }
   },
   "cell_type": "code",
   "source": "step_count = step_count.astype(dtype='int64')",
   "id": "54342f3fe3896089",
   "outputs": [],
   "execution_count": 8
  },
  {
   "metadata": {
    "ExecuteTime": {
     "end_time": "2024-04-16T08:33:59.855861Z",
     "start_time": "2024-04-16T08:33:59.845864Z"
    }
   },
   "cell_type": "code",
   "source": "step_count.mean()",
   "id": "deec5b6839d1f03c",
   "outputs": [
    {
     "data": {
      "text/plain": [
       "2935.9375"
      ]
     },
     "execution_count": 9,
     "metadata": {},
     "output_type": "execute_result"
    }
   ],
   "execution_count": 9
  },
  {
   "metadata": {
    "ExecuteTime": {
     "end_time": "2024-04-16T08:33:59.951109Z",
     "start_time": "2024-04-16T08:33:59.930085Z"
    }
   },
   "cell_type": "code",
   "source": "step_count.shape",
   "id": "c26902a320fcebf1",
   "outputs": [
    {
     "data": {
      "text/plain": [
       "(96,)"
      ]
     },
     "execution_count": 10,
     "metadata": {},
     "output_type": "execute_result"
    }
   ],
   "execution_count": 10
  },
  {
   "metadata": {
    "ExecuteTime": {
     "end_time": "2024-04-16T08:34:00.043354Z",
     "start_time": "2024-04-16T08:34:00.035833Z"
    }
   },
   "cell_type": "code",
   "source": "mood = fitbit[:, 2]",
   "id": "43838772a4753241",
   "outputs": [],
   "execution_count": 11
  },
  {
   "metadata": {
    "ExecuteTime": {
     "end_time": "2024-04-16T08:34:00.136041Z",
     "start_time": "2024-04-16T08:34:00.124997Z"
    }
   },
   "cell_type": "code",
   "source": "(mood == 'Happy').sum()",
   "id": "c1c3552613f68962",
   "outputs": [
    {
     "data": {
      "text/plain": [
       "40"
      ]
     },
     "execution_count": 12,
     "metadata": {},
     "output_type": "execute_result"
    }
   ],
   "execution_count": 12
  },
  {
   "metadata": {
    "ExecuteTime": {
     "end_time": "2024-04-16T08:34:00.243760Z",
     "start_time": "2024-04-16T08:34:00.225879Z"
    }
   },
   "cell_type": "code",
   "source": [
    "a = np.array([[1, 2, 3],\n",
    "              [4, 5, 6],\n",
    "              [7, 8, 9]])"
   ],
   "id": "8d8fa91983c14579",
   "outputs": [],
   "execution_count": 13
  },
  {
   "metadata": {
    "ExecuteTime": {
     "end_time": "2024-04-16T08:34:00.289161Z",
     "start_time": "2024-04-16T08:34:00.279618Z"
    }
   },
   "cell_type": "code",
   "source": "a[a < 6]",
   "id": "8db9135d36522507",
   "outputs": [
    {
     "data": {
      "text/plain": [
       "array([1, 2, 3, 4, 5])"
      ]
     },
     "execution_count": 14,
     "metadata": {},
     "output_type": "execute_result"
    }
   ],
   "execution_count": 14
  },
  {
   "metadata": {
    "ExecuteTime": {
     "end_time": "2024-04-16T08:34:00.394314Z",
     "start_time": "2024-04-16T08:34:00.383248Z"
    }
   },
   "cell_type": "code",
   "source": "s = np.array([1, 3, 2])",
   "id": "96b7456ea96607a7",
   "outputs": [],
   "execution_count": 15
  },
  {
   "metadata": {
    "ExecuteTime": {
     "end_time": "2024-04-16T08:34:00.471373Z",
     "start_time": "2024-04-16T08:34:00.457213Z"
    }
   },
   "cell_type": "code",
   "source": "a[[1, 2]]",
   "id": "98a53de65caccc26",
   "outputs": [
    {
     "data": {
      "text/plain": [
       "array([[4, 5, 6],\n",
       "       [7, 8, 9]])"
      ]
     },
     "execution_count": 16,
     "metadata": {},
     "output_type": "execute_result"
    }
   ],
   "execution_count": 16
  },
  {
   "metadata": {
    "ExecuteTime": {
     "end_time": "2024-04-16T08:34:00.592979Z",
     "start_time": "2024-04-16T08:34:00.585979Z"
    }
   },
   "cell_type": "code",
   "source": [
    "import numpy as np\n",
    "\n",
    "print(np.sort(np.array(['Ram', 'Astha', 'Raghavendra'])))"
   ],
   "id": "52062b0714a744b",
   "outputs": [
    {
     "name": "stdout",
     "output_type": "stream",
     "text": [
      "['Astha' 'Raghavendra' 'Ram']\n"
     ]
    }
   ],
   "execution_count": 17
  },
  {
   "metadata": {
    "ExecuteTime": {
     "end_time": "2024-04-16T08:34:00.637733Z",
     "start_time": "2024-04-16T08:34:00.616989Z"
    }
   },
   "cell_type": "code",
   "source": [
    "arr1 = np.array(['Ram', 'Astha', 'Brahat'])\n",
    "arr2 = np.array(['Shyam', 'Kalyan', 'Naveen'])\n",
    "arr1 > arr2"
   ],
   "id": "cba00d4f3e6e3646",
   "outputs": [
    {
     "data": {
      "text/plain": [
       "array([False, False, False])"
      ]
     },
     "execution_count": 18,
     "metadata": {},
     "output_type": "execute_result"
    }
   ],
   "execution_count": 18
  },
  {
   "metadata": {
    "ExecuteTime": {
     "end_time": "2024-04-16T08:34:01.266174Z",
     "start_time": "2024-04-16T08:34:00.715180Z"
    }
   },
   "cell_type": "code",
   "source": [
    "import numpy as np\n",
    "\n",
    "arr = 2 * np.arange(0, 2, 0.5)\n",
    "if arr <= 0.6:\n",
    "    print(\"condition satisfies\")\n",
    "else:\n",
    "    print(\"condition doesn't satisfy\")"
   ],
   "id": "92b5839f830229c3",
   "outputs": [
    {
     "ename": "ValueError",
     "evalue": "The truth value of an array with more than one element is ambiguous. Use a.any() or a.all()",
     "output_type": "error",
     "traceback": [
      "\u001B[1;31m---------------------------------------------------------------------------\u001B[0m",
      "\u001B[1;31mValueError\u001B[0m                                Traceback (most recent call last)",
      "Cell \u001B[1;32mIn[19], line 4\u001B[0m\n\u001B[0;32m      1\u001B[0m \u001B[38;5;28;01mimport\u001B[39;00m \u001B[38;5;21;01mnumpy\u001B[39;00m \u001B[38;5;28;01mas\u001B[39;00m \u001B[38;5;21;01mnp\u001B[39;00m\n\u001B[0;32m      3\u001B[0m arr \u001B[38;5;241m=\u001B[39m \u001B[38;5;241m2\u001B[39m \u001B[38;5;241m*\u001B[39m np\u001B[38;5;241m.\u001B[39marange(\u001B[38;5;241m0\u001B[39m, \u001B[38;5;241m2\u001B[39m, \u001B[38;5;241m0.5\u001B[39m)\n\u001B[1;32m----> 4\u001B[0m \u001B[38;5;28;01mif\u001B[39;00m \u001B[43marr\u001B[49m\u001B[43m \u001B[49m\u001B[38;5;241;43m<\u001B[39;49m\u001B[38;5;241;43m=\u001B[39;49m\u001B[43m \u001B[49m\u001B[38;5;241;43m0.6\u001B[39;49m:\n\u001B[0;32m      5\u001B[0m     \u001B[38;5;28mprint\u001B[39m(\u001B[38;5;124m\"\u001B[39m\u001B[38;5;124mcondition satisfies\u001B[39m\u001B[38;5;124m\"\u001B[39m)\n\u001B[0;32m      6\u001B[0m \u001B[38;5;28;01melse\u001B[39;00m:\n",
      "\u001B[1;31mValueError\u001B[0m: The truth value of an array with more than one element is ambiguous. Use a.any() or a.all()"
     ]
    }
   ],
   "execution_count": 19
  },
  {
   "metadata": {},
   "cell_type": "code",
   "source": [
    "if arr <= 6.0:\n",
    "    print('correct')"
   ],
   "id": "5fdefdc877576a86",
   "outputs": [],
   "execution_count": null
  },
  {
   "metadata": {},
   "cell_type": "code",
   "source": "a = np.array([[16, 5], [81, 6], [33, 1]])",
   "id": "76491dacfa64cae0",
   "outputs": [],
   "execution_count": null
  },
  {
   "metadata": {},
   "cell_type": "code",
   "source": "print(a)",
   "id": "90acb3b8769b5c7c",
   "outputs": [],
   "execution_count": null
  },
  {
   "metadata": {},
   "cell_type": "code",
   "source": "x = np.transpose(a).reshape(2, 3)",
   "id": "43ae280081481266",
   "outputs": [],
   "execution_count": null
  },
  {
   "metadata": {},
   "cell_type": "code",
   "source": "x.flatten()",
   "id": "9dfdb94637a9eccf",
   "outputs": [],
   "execution_count": null
  },
  {
   "metadata": {},
   "cell_type": "code",
   "source": "a = np.array([[34, 28, 55], [8, 56, 3], [77, 87, 19]])",
   "id": "7e7a2c73f3666342",
   "outputs": [],
   "execution_count": null
  },
  {
   "metadata": {},
   "cell_type": "code",
   "source": "a.T",
   "id": "ca888890af60f36a",
   "outputs": [],
   "execution_count": null
  },
  {
   "metadata": {},
   "cell_type": "code",
   "source": "print(a.transpose()[-2, -2])",
   "id": "6b3daf0ce1ac2bea",
   "outputs": [],
   "execution_count": null
  },
  {
   "metadata": {},
   "cell_type": "code",
   "source": "a = np.array([[10, 14, 32], [12, 3, 4]])",
   "id": "dd3e77ea8d881f42",
   "outputs": [],
   "execution_count": null
  },
  {
   "metadata": {},
   "cell_type": "code",
   "source": "mask",
   "id": "ce9aaa8b951f5ccf",
   "outputs": [],
   "execution_count": null
  },
  {
   "metadata": {},
   "cell_type": "code",
   "source": "a = np.array([0, 1, 2, 3, 4, 5, 6, 7, 8])",
   "id": "c2c8e6b75cec2811",
   "outputs": [],
   "execution_count": null
  },
  {
   "metadata": {
    "ExecuteTime": {
     "end_time": "2024-04-16T08:34:01.327014Z",
     "start_time": "2024-04-16T08:34:01.313870Z"
    }
   },
   "cell_type": "code",
   "source": "mask = (a % 2 == 0) & (a > 3)",
   "id": "ba7e7d3c8bbdd053",
   "outputs": [],
   "execution_count": 20
  },
  {
   "metadata": {
    "ExecuteTime": {
     "end_time": "2024-04-16T08:34:01.357786Z",
     "start_time": "2024-04-16T08:34:01.349221Z"
    }
   },
   "cell_type": "code",
   "source": "mask",
   "id": "65fb49ba19df2dad",
   "outputs": [
    {
     "data": {
      "text/plain": [
       "array([[False, False, False],\n",
       "       [ True, False,  True],\n",
       "       [False,  True, False]])"
      ]
     },
     "execution_count": 21,
     "metadata": {},
     "output_type": "execute_result"
    }
   ],
   "execution_count": 21
  },
  {
   "metadata": {
    "ExecuteTime": {
     "end_time": "2024-04-16T08:34:01.789708Z",
     "start_time": "2024-04-16T08:34:01.774514Z"
    }
   },
   "cell_type": "code",
   "source": "np.all(mask)",
   "id": "8aab6c1830d9bd81",
   "outputs": [
    {
     "data": {
      "text/plain": [
       "False"
      ]
     },
     "execution_count": 22,
     "metadata": {},
     "output_type": "execute_result"
    }
   ],
   "execution_count": 22
  },
  {
   "metadata": {
    "ExecuteTime": {
     "end_time": "2024-04-16T08:34:01.897361Z",
     "start_time": "2024-04-16T08:34:01.863997Z"
    }
   },
   "cell_type": "code",
   "source": "np.all([4, 6, 18])",
   "id": "eb59f39138a25083",
   "outputs": [
    {
     "data": {
      "text/plain": [
       "True"
      ]
     },
     "execution_count": 23,
     "metadata": {},
     "output_type": "execute_result"
    }
   ],
   "execution_count": 23
  },
  {
   "metadata": {
    "ExecuteTime": {
     "end_time": "2024-04-16T08:34:01.959427Z",
     "start_time": "2024-04-16T08:34:01.945102Z"
    }
   },
   "cell_type": "code",
   "source": [
    "a = np.array([[1, 2, 3],\n",
    "              [4, 5, 6],\n",
    "              [7, 8, 9]])"
   ],
   "id": "b4dfd60e30f88f3a",
   "outputs": [],
   "execution_count": 24
  },
  {
   "metadata": {
    "ExecuteTime": {
     "end_time": "2024-04-16T08:34:02.006272Z",
     "start_time": "2024-04-16T08:34:02.000352Z"
    }
   },
   "cell_type": "code",
   "source": "a[::-1]",
   "id": "620875c52e037bd0",
   "outputs": [
    {
     "data": {
      "text/plain": [
       "array([[7, 8, 9],\n",
       "       [4, 5, 6],\n",
       "       [1, 2, 3]])"
      ]
     },
     "execution_count": 25,
     "metadata": {},
     "output_type": "execute_result"
    }
   ],
   "execution_count": 25
  },
  {
   "metadata": {
    "ExecuteTime": {
     "end_time": "2024-04-16T08:34:02.115343Z",
     "start_time": "2024-04-16T08:34:02.103325Z"
    }
   },
   "cell_type": "code",
   "source": "arr = np.zeros([3,3])",
   "id": "e7f879b3da3e65e1",
   "outputs": [],
   "execution_count": 26
  },
  {
   "metadata": {
    "ExecuteTime": {
     "end_time": "2024-04-16T08:34:02.209087Z",
     "start_time": "2024-04-16T08:34:02.189523Z"
    }
   },
   "cell_type": "code",
   "source": "arr[range(3),range(3)]  =2 ",
   "id": "e0edcd5ddd6735f6",
   "outputs": [],
   "execution_count": 27
  },
  {
   "metadata": {
    "ExecuteTime": {
     "end_time": "2024-04-16T08:34:02.317167Z",
     "start_time": "2024-04-16T08:34:02.300941Z"
    }
   },
   "cell_type": "code",
   "source": [
    "row_count=3\n",
    "k=300"
   ],
   "id": "4e4bfc5eb9f824d9",
   "outputs": [],
   "execution_count": 28
  },
  {
   "metadata": {
    "ExecuteTime": {
     "end_time": "2024-04-16T08:34:02.410151Z",
     "start_time": "2024-04-16T08:34:02.395041Z"
    }
   },
   "cell_type": "code",
   "source": [
    "result = np.zeros([row_count,row_count])\n",
    "# result[range(row_count),range(row_count)] = k\n"
   ],
   "id": "fda12872457a1796",
   "outputs": [],
   "execution_count": 29
  },
  {
   "metadata": {
    "ExecuteTime": {
     "end_time": "2024-04-16T08:34:02.504601Z",
     "start_time": "2024-04-16T08:34:02.482010Z"
    }
   },
   "cell_type": "code",
   "source": "np.zeros([2,2])",
   "id": "12ac1b622cdd27e2",
   "outputs": [
    {
     "data": {
      "text/plain": [
       "array([[0., 0.],\n",
       "       [0., 0.]])"
      ]
     },
     "execution_count": 30,
     "metadata": {},
     "output_type": "execute_result"
    }
   ],
   "execution_count": 30
  },
  {
   "metadata": {
    "ExecuteTime": {
     "end_time": "2024-04-16T08:34:02.520387Z",
     "start_time": "2024-04-16T08:34:02.507261Z"
    }
   },
   "cell_type": "code",
   "source": "np.identity(3)",
   "id": "9840fa2fc68a4e09",
   "outputs": [
    {
     "data": {
      "text/plain": [
       "array([[1., 0., 0.],\n",
       "       [0., 1., 0.],\n",
       "       [0., 0., 1.]])"
      ]
     },
     "execution_count": 31,
     "metadata": {},
     "output_type": "execute_result"
    }
   ],
   "execution_count": 31
  },
  {
   "metadata": {
    "ExecuteTime": {
     "end_time": "2024-04-16T18:34:55.630908Z",
     "start_time": "2024-04-16T18:34:55.624233Z"
    }
   },
   "cell_type": "code",
   "source": [
    "a = np.array([[1,2,3],\n",
    "             [4,5,6],\n",
    "              [7,8,9]])\n",
    "b = np.array([[1,2,3],\n",
    "             [4,5,6],\n",
    "              [7,8,9]])\n"
   ],
   "id": "7f7ba245cc5606b6",
   "outputs": [],
   "execution_count": 84
  },
  {
   "metadata": {
    "ExecuteTime": {
     "end_time": "2024-04-16T08:34:02.659337Z",
     "start_time": "2024-04-16T08:34:02.638061Z"
    }
   },
   "cell_type": "code",
   "source": "a*b",
   "id": "cf281afff952ed5c",
   "outputs": [
    {
     "data": {
      "text/plain": [
       "array([[ 1,  4,  9],\n",
       "       [16, 25, 36],\n",
       "       [49, 64, 81]])"
      ]
     },
     "execution_count": 33,
     "metadata": {},
     "output_type": "execute_result"
    }
   ],
   "execution_count": 33
  },
  {
   "metadata": {
    "ExecuteTime": {
     "end_time": "2024-04-16T08:42:47.549144Z",
     "start_time": "2024-04-16T08:42:47.540923Z"
    }
   },
   "cell_type": "code",
   "source": "a = np.arange(1,11).reshape(-1,10)",
   "id": "994cc26e00c42436",
   "outputs": [],
   "execution_count": 60
  },
  {
   "metadata": {
    "ExecuteTime": {
     "end_time": "2024-04-16T08:42:49.120001Z",
     "start_time": "2024-04-16T08:42:49.103858Z"
    }
   },
   "cell_type": "code",
   "source": "b = np.arange(12,22).reshape(10,-1)",
   "id": "1a441a85b454a340",
   "outputs": [],
   "execution_count": 61
  },
  {
   "metadata": {
    "ExecuteTime": {
     "end_time": "2024-04-16T18:35:16.622524Z",
     "start_time": "2024-04-16T18:35:16.597471Z"
    }
   },
   "cell_type": "code",
   "source": "np.matmul(3,a)",
   "id": "cd584cb432eb6a09",
   "outputs": [
    {
     "ename": "ValueError",
     "evalue": "matmul: Input operand 0 does not have enough dimensions (has 0, gufunc core with signature (n?,k),(k,m?)->(n?,m?) requires 1)",
     "output_type": "error",
     "traceback": [
      "\u001B[1;31m---------------------------------------------------------------------------\u001B[0m",
      "\u001B[1;31mValueError\u001B[0m                                Traceback (most recent call last)",
      "Cell \u001B[1;32mIn[87], line 1\u001B[0m\n\u001B[1;32m----> 1\u001B[0m \u001B[43mnp\u001B[49m\u001B[38;5;241;43m.\u001B[39;49m\u001B[43mmatmul\u001B[49m\u001B[43m(\u001B[49m\u001B[38;5;241;43m3\u001B[39;49m\u001B[43m,\u001B[49m\u001B[43ma\u001B[49m\u001B[43m)\u001B[49m\n",
      "\u001B[1;31mValueError\u001B[0m: matmul: Input operand 0 does not have enough dimensions (has 0, gufunc core with signature (n?,k),(k,m?)->(n?,m?) requires 1)"
     ]
    }
   ],
   "execution_count": 87
  },
  {
   "metadata": {
    "ExecuteTime": {
     "end_time": "2024-04-16T18:31:09.881322Z",
     "start_time": "2024-04-16T18:31:09.872287Z"
    }
   },
   "cell_type": "code",
   "source": [
    "a = np.array([[1,2,3]])\n",
    "b = np.array([[3],[2],[1]])"
   ],
   "id": "f2f7d8a8a512bd18",
   "outputs": [],
   "execution_count": 77
  },
  {
   "metadata": {
    "ExecuteTime": {
     "end_time": "2024-04-16T18:31:39.571130Z",
     "start_time": "2024-04-16T18:31:39.563129Z"
    }
   },
   "cell_type": "code",
   "source": "np.dot(a,b)",
   "id": "62281ee09501858b",
   "outputs": [
    {
     "data": {
      "text/plain": [
       "array([[10]])"
      ]
     },
     "execution_count": 80,
     "metadata": {},
     "output_type": "execute_result"
    }
   ],
   "execution_count": 80
  },
  {
   "metadata": {
    "ExecuteTime": {
     "end_time": "2024-04-16T18:29:35.302602Z",
     "start_time": "2024-04-16T18:29:35.291742Z"
    }
   },
   "cell_type": "code",
   "source": [
    "a = np.array([[1,2,3],[1,2,3],[1,2,3]])\n",
    "b = np.array([[3,3,3], [2,2,2], [1,1,1]])"
   ],
   "id": "1d8b0c728ce941c",
   "outputs": [],
   "execution_count": 73
  },
  {
   "metadata": {
    "ExecuteTime": {
     "end_time": "2024-04-16T18:30:00.655624Z",
     "start_time": "2024-04-16T18:30:00.638036Z"
    }
   },
   "cell_type": "code",
   "source": "np.matmul(a,b)",
   "id": "d0329ad97f951c8a",
   "outputs": [
    {
     "data": {
      "text/plain": [
       "array([[10, 10, 10],\n",
       "       [10, 10, 10],\n",
       "       [10, 10, 10]])"
      ]
     },
     "execution_count": 76,
     "metadata": {},
     "output_type": "execute_result"
    }
   ],
   "execution_count": 76
  },
  {
   "metadata": {
    "ExecuteTime": {
     "end_time": "2024-04-16T08:34:03.235321Z",
     "start_time": "2024-04-16T08:34:03.222979Z"
    }
   },
   "cell_type": "code",
   "source": "",
   "id": "d46533b7e256a12a",
   "outputs": [],
   "execution_count": 33
  },
  {
   "metadata": {
    "ExecuteTime": {
     "end_time": "2024-04-16T08:34:03.266216Z",
     "start_time": "2024-04-16T08:34:03.251016Z"
    }
   },
   "cell_type": "code",
   "source": "",
   "id": "de8f46f5bba6996f",
   "outputs": [],
   "execution_count": 33
  },
  {
   "metadata": {
    "ExecuteTime": {
     "end_time": "2024-04-16T08:34:03.298614Z",
     "start_time": "2024-04-16T08:34:03.280258Z"
    }
   },
   "cell_type": "code",
   "source": "",
   "id": "da84082543104972",
   "outputs": [],
   "execution_count": 33
  },
  {
   "metadata": {
    "ExecuteTime": {
     "end_time": "2024-04-16T08:34:03.346014Z",
     "start_time": "2024-04-16T08:34:03.335588Z"
    }
   },
   "cell_type": "code",
   "source": "",
   "id": "48aa6ffa25804a59",
   "outputs": [],
   "execution_count": 33
  },
  {
   "metadata": {
    "ExecuteTime": {
     "end_time": "2024-04-16T08:34:03.437894Z",
     "start_time": "2024-04-16T08:34:03.422840Z"
    }
   },
   "cell_type": "code",
   "source": [
    "# Maximum and minimum step count recorded\n",
    "max(step_count), min(step_count)"
   ],
   "id": "a3cf69af2b213239",
   "outputs": [
    {
     "data": {
      "text/plain": [
       "(7422, 25)"
      ]
     },
     "execution_count": 34,
     "metadata": {},
     "output_type": "execute_result"
    }
   ],
   "execution_count": 34
  },
  {
   "metadata": {
    "ExecuteTime": {
     "end_time": "2024-04-16T08:34:03.515008Z",
     "start_time": "2024-04-16T08:34:03.495319Z"
    }
   },
   "cell_type": "code",
   "source": [
    "# Average step count across all days\n",
    "step_count.mean()"
   ],
   "id": "180b3527ed066713",
   "outputs": [
    {
     "data": {
      "text/plain": [
       "2935.9375"
      ]
     },
     "execution_count": 35,
     "metadata": {},
     "output_type": "execute_result"
    }
   ],
   "execution_count": 35
  },
  {
   "metadata": {
    "ExecuteTime": {
     "end_time": "2024-04-16T08:34:03.592341Z",
     "start_time": "2024-04-16T08:34:03.570477Z"
    }
   },
   "cell_type": "code",
   "source": [
    "# Average step count for each mood category (e.g., Neutral, Sad, Happy)\n",
    "step_count_neutral = np.round(step_count[fitbit[:,2]=='Neutral'].mean(),2)\n",
    "step_count_sad = np.round(step_count[fitbit[:,2]=='Sad'].mean(),2)\n",
    "step_count_happy = np.round(step_count[fitbit[:,2]=='Happy'].mean(),2)"
   ],
   "id": "76fb10d42cb49c12",
   "outputs": [],
   "execution_count": 36
  },
  {
   "metadata": {
    "ExecuteTime": {
     "end_time": "2024-04-16T08:34:03.608346Z",
     "start_time": "2024-04-16T08:34:03.601497Z"
    }
   },
   "cell_type": "code",
   "source": [
    "# Days on which Maximum and Minimum step count were recorded\n",
    "max_step_count_day = fitbit[:,1].astype(dtype='int').max()\n",
    "max_day = fitbit[np.where(fitbit[:,1].astype(dtype='int') == max_step_count_day)][0][0]\n",
    "min_step_count_day = fitbit[:,1].astype(dtype='int').min()\n",
    "min_day = fitbit[np.where(fitbit[:,1].astype(dtype='int') == min_step_count_day)][0][0]"
   ],
   "id": "6a81e3ffc283c978",
   "outputs": [],
   "execution_count": 37
  },
  {
   "metadata": {
    "ExecuteTime": {
     "end_time": "2024-04-16T08:34:03.701663Z",
     "start_time": "2024-04-16T08:34:03.688180Z"
    }
   },
   "cell_type": "code",
   "source": [
    "# Total calories burned across all days\n",
    "total_cals = fitbit[:,3].astype(dtype='int').sum()"
   ],
   "id": "626536315d0f49d9",
   "outputs": [],
   "execution_count": 38
  },
  {
   "metadata": {
    "ExecuteTime": {
     "end_time": "2024-04-16T08:34:03.811470Z",
     "start_time": "2024-04-16T08:34:03.800146Z"
    }
   },
   "cell_type": "code",
   "source": [
    "# Average hours of sleep per day\n",
    "avg_sleep_hours = fitbit[:,-2].astype(dtype='int').mean()"
   ],
   "id": "65a334160e39a2e3",
   "outputs": [],
   "execution_count": 39
  },
  {
   "metadata": {
    "ExecuteTime": {
     "end_time": "2024-04-16T08:34:03.857748Z",
     "start_time": "2024-04-16T08:34:03.847757Z"
    }
   },
   "cell_type": "code",
   "source": "avg_sleep_hours",
   "id": "9462db1e319ffd2d",
   "outputs": [
    {
     "data": {
      "text/plain": [
       "5.21875"
      ]
     },
     "execution_count": 40,
     "metadata": {},
     "output_type": "execute_result"
    }
   ],
   "execution_count": 40
  },
  {
   "metadata": {
    "ExecuteTime": {
     "end_time": "2024-04-16T08:34:03.936155Z",
     "start_time": "2024-04-16T08:34:03.928088Z"
    }
   },
   "cell_type": "code",
   "source": [
    "# Days that are categorized as \"Active\" vs. \"Inactive\"\n",
    "active_days = np.count_nonzero(fitbit[:,-1] == 'Active')\n",
    "inactive_days = np.count_nonzero(fitbit[:,-1] == 'Inactive')"
   ],
   "id": "62af156c541d5d12",
   "outputs": [],
   "execution_count": 41
  },
  {
   "metadata": {
    "ExecuteTime": {
     "end_time": "2024-04-16T08:34:03.982384Z",
     "start_time": "2024-04-16T08:34:03.965938Z"
    }
   },
   "cell_type": "code",
   "source": "inactive_days",
   "id": "9590b97b98e5271f",
   "outputs": [
    {
     "data": {
      "text/plain": [
       "54"
      ]
     },
     "execution_count": 42,
     "metadata": {},
     "output_type": "execute_result"
    }
   ],
   "execution_count": 42
  },
  {
   "metadata": {
    "ExecuteTime": {
     "end_time": "2024-04-16T08:34:04.059974Z",
     "start_time": "2024-04-16T08:34:04.048881Z"
    }
   },
   "cell_type": "code",
   "source": "",
   "id": "d1c4fe256ed4b302",
   "outputs": [],
   "execution_count": 42
  }
 ],
 "metadata": {
  "kernelspec": {
   "display_name": "Python 3",
   "language": "python",
   "name": "python3"
  },
  "language_info": {
   "codemirror_mode": {
    "name": "ipython",
    "version": 2
   },
   "file_extension": ".py",
   "mimetype": "text/x-python",
   "name": "python",
   "nbconvert_exporter": "python",
   "pygments_lexer": "ipython2",
   "version": "2.7.6"
  }
 },
 "nbformat": 4,
 "nbformat_minor": 5
}
