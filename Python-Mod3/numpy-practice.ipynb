{
 "cells": [
  {
   "metadata": {
    "ExecuteTime": {
     "end_time": "2024-04-12T16:42:24.269085Z",
     "start_time": "2024-04-12T16:42:24.252371Z"
    }
   },
   "cell_type": "code",
   "source": "import numpy as np",
   "id": "9b0b4d57798fede9",
   "outputs": [],
   "execution_count": 123
  },
  {
   "metadata": {
    "ExecuteTime": {
     "end_time": "2024-04-12T17:05:17.657835Z",
     "start_time": "2024-04-12T17:05:17.648022Z"
    }
   },
   "cell_type": "code",
   "source": "a = np.arange(9).reshape(3,3)",
   "id": "bf3b89ff31c05729",
   "outputs": [],
   "execution_count": 166
  },
  {
   "metadata": {
    "ExecuteTime": {
     "end_time": "2024-04-12T17:05:18.903539Z",
     "start_time": "2024-04-12T17:05:18.895576Z"
    }
   },
   "cell_type": "code",
   "source": "a",
   "id": "121415bca5978419",
   "outputs": [
    {
     "data": {
      "text/plain": [
       "array([[0, 1, 2],\n",
       "       [3, 4, 5],\n",
       "       [6, 7, 8]])"
      ]
     },
     "execution_count": 167,
     "metadata": {},
     "output_type": "execute_result"
    }
   ],
   "execution_count": 167
  },
  {
   "metadata": {
    "ExecuteTime": {
     "end_time": "2024-04-12T16:42:52.731464Z",
     "start_time": "2024-04-12T16:42:52.723989Z"
    }
   },
   "cell_type": "code",
   "source": "a.T.shape",
   "id": "6ecae4df1cd2f5",
   "outputs": [
    {
     "data": {
      "text/plain": [
       "(4, 3)"
      ]
     },
     "execution_count": 127,
     "metadata": {},
     "output_type": "execute_result"
    }
   ],
   "execution_count": 127
  },
  {
   "metadata": {
    "ExecuteTime": {
     "end_time": "2024-04-12T16:48:23.263093Z",
     "start_time": "2024-04-12T16:48:23.247342Z"
    }
   },
   "cell_type": "code",
   "source": "a[:,1].argsort()",
   "id": "372814f90c04dbad",
   "outputs": [
    {
     "data": {
      "text/plain": [
       "array([0, 1, 2], dtype=int64)"
      ]
     },
     "execution_count": 145,
     "metadata": {},
     "output_type": "execute_result"
    }
   ],
   "execution_count": 145
  },
  {
   "metadata": {
    "ExecuteTime": {
     "end_time": "2024-04-12T16:59:10.082116Z",
     "start_time": "2024-04-12T16:59:10.071283Z"
    }
   },
   "cell_type": "code",
   "source": "a[1,2]",
   "id": "39d5c28a4c9c66c6",
   "outputs": [
    {
     "data": {
      "text/plain": [
       "6"
      ]
     },
     "execution_count": 158,
     "metadata": {},
     "output_type": "execute_result"
    }
   ],
   "execution_count": 158
  },
  {
   "metadata": {
    "ExecuteTime": {
     "end_time": "2024-04-12T16:56:40.737628Z",
     "start_time": "2024-04-12T16:56:40.719932Z"
    }
   },
   "cell_type": "code",
   "source": "b = np.array([1,2,3,4,5,6,7])",
   "id": "7dbec05ec9f7dc21",
   "outputs": [],
   "execution_count": 147
  },
  {
   "metadata": {
    "ExecuteTime": {
     "end_time": "2024-04-12T16:59:16.756727Z",
     "start_time": "2024-04-12T16:59:16.740231Z"
    }
   },
   "cell_type": "code",
   "source": "b",
   "id": "e37f39250623fc0b",
   "outputs": [
    {
     "data": {
      "text/plain": [
       "array([1, 2, 3, 4, 5, 6, 7])"
      ]
     },
     "execution_count": 159,
     "metadata": {},
     "output_type": "execute_result"
    }
   ],
   "execution_count": 159
  },
  {
   "metadata": {
    "ExecuteTime": {
     "end_time": "2024-04-12T17:08:13.914337Z",
     "start_time": "2024-04-12T17:08:13.899086Z"
    }
   },
   "cell_type": "code",
   "source": "a[[0,1,2],[0,1,2,]]",
   "id": "7bb33b8bf162d63b",
   "outputs": [
    {
     "data": {
      "text/plain": [
       "array([0, 4, 8])"
      ]
     },
     "execution_count": 171,
     "metadata": {},
     "output_type": "execute_result"
    }
   ],
   "execution_count": 171
  },
  {
   "metadata": {},
   "cell_type": "code",
   "outputs": [],
   "execution_count": null,
   "source": "",
   "id": "dea0c95640d354fc"
  }
 ],
 "metadata": {
  "kernelspec": {
   "display_name": "Python 3",
   "language": "python",
   "name": "python3"
  },
  "language_info": {
   "codemirror_mode": {
    "name": "ipython",
    "version": 2
   },
   "file_extension": ".py",
   "mimetype": "text/x-python",
   "name": "python",
   "nbconvert_exporter": "python",
   "pygments_lexer": "ipython2",
   "version": "2.7.6"
  }
 },
 "nbformat": 4,
 "nbformat_minor": 5
}
