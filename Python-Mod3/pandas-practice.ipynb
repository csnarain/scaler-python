{
 "cells": [
  {
   "cell_type": "code",
   "execution_count": 218,
   "id": "initial_id",
   "metadata": {
    "collapsed": true,
    "ExecuteTime": {
     "end_time": "2024-03-31T15:18:32.543959Z",
     "start_time": "2024-03-31T15:18:32.513578Z"
    }
   },
   "outputs": [],
   "source": [
    "import numpy as np\n",
    "import pandas as pd"
   ]
  },
  {
   "cell_type": "code",
   "outputs": [],
   "source": [
    "df = pd.read_csv('data/mckinsey.csv')"
   ],
   "metadata": {
    "collapsed": false,
    "ExecuteTime": {
     "end_time": "2024-04-01T13:39:10.977779Z",
     "start_time": "2024-04-01T13:39:10.966765Z"
    }
   },
   "id": "a63ad01736b1aad8",
   "execution_count": 331
  },
  {
   "cell_type": "code",
   "outputs": [
    {
     "data": {
      "text/plain": "(1704, 6)"
     },
     "execution_count": 221,
     "metadata": {},
     "output_type": "execute_result"
    }
   ],
   "source": [
    "df.shape"
   ],
   "metadata": {
    "collapsed": false,
    "ExecuteTime": {
     "end_time": "2024-03-31T15:20:14.783211Z",
     "start_time": "2024-03-31T15:20:14.770549Z"
    }
   },
   "id": "e41339e61a1fe26f",
   "execution_count": 221
  },
  {
   "cell_type": "code",
   "outputs": [
    {
     "data": {
      "text/plain": "       country  year  population continent  life_exp     gdp_cap\n0  Afghanistan  1952     8425333      Asia    28.801  779.445314\n1  Afghanistan  1957     9240934      Asia    30.332  820.853030\n2  Afghanistan  1962    10267083      Asia    31.997  853.100710\n3  Afghanistan  1967    11537966      Asia    34.020  836.197138\n4  Afghanistan  1972    13079460      Asia    36.088  739.981106",
      "text/html": "<div>\n<style scoped>\n    .dataframe tbody tr th:only-of-type {\n        vertical-align: middle;\n    }\n\n    .dataframe tbody tr th {\n        vertical-align: top;\n    }\n\n    .dataframe thead th {\n        text-align: right;\n    }\n</style>\n<table border=\"1\" class=\"dataframe\">\n  <thead>\n    <tr style=\"text-align: right;\">\n      <th></th>\n      <th>country</th>\n      <th>year</th>\n      <th>population</th>\n      <th>continent</th>\n      <th>life_exp</th>\n      <th>gdp_cap</th>\n    </tr>\n  </thead>\n  <tbody>\n    <tr>\n      <th>0</th>\n      <td>Afghanistan</td>\n      <td>1952</td>\n      <td>8425333</td>\n      <td>Asia</td>\n      <td>28.801</td>\n      <td>779.445314</td>\n    </tr>\n    <tr>\n      <th>1</th>\n      <td>Afghanistan</td>\n      <td>1957</td>\n      <td>9240934</td>\n      <td>Asia</td>\n      <td>30.332</td>\n      <td>820.853030</td>\n    </tr>\n    <tr>\n      <th>2</th>\n      <td>Afghanistan</td>\n      <td>1962</td>\n      <td>10267083</td>\n      <td>Asia</td>\n      <td>31.997</td>\n      <td>853.100710</td>\n    </tr>\n    <tr>\n      <th>3</th>\n      <td>Afghanistan</td>\n      <td>1967</td>\n      <td>11537966</td>\n      <td>Asia</td>\n      <td>34.020</td>\n      <td>836.197138</td>\n    </tr>\n    <tr>\n      <th>4</th>\n      <td>Afghanistan</td>\n      <td>1972</td>\n      <td>13079460</td>\n      <td>Asia</td>\n      <td>36.088</td>\n      <td>739.981106</td>\n    </tr>\n  </tbody>\n</table>\n</div>"
     },
     "execution_count": 229,
     "metadata": {},
     "output_type": "execute_result"
    }
   ],
   "source": [
    "df[0:5]"
   ],
   "metadata": {
    "collapsed": false,
    "ExecuteTime": {
     "end_time": "2024-03-31T15:22:20.224502Z",
     "start_time": "2024-03-31T15:22:20.206726Z"
    }
   },
   "id": "baf87e9fb83a64d2",
   "execution_count": 229
  },
  {
   "cell_type": "code",
   "outputs": [],
   "source": [
    "df.columns = ['country', 'year', 'population', 'continent', 'country', 'country']"
   ],
   "metadata": {
    "collapsed": false,
    "ExecuteTime": {
     "end_time": "2024-03-31T06:51:25.740348Z",
     "start_time": "2024-03-31T06:51:25.727260Z"
    }
   },
   "id": "5ab5234c3eb0f4df",
   "execution_count": 9
  },
  {
   "cell_type": "code",
   "outputs": [
    {
     "data": {
      "text/plain": "          country  year  population continent  life_exp     gdp_cap\n1703     Zimbabwe  2007    12311143    Africa    43.487  469.709298\n1701     Zimbabwe  1997    11404948    Africa    46.809  792.449960\n1699     Zimbabwe  1987     9216418    Africa    62.351  706.157306\n1697     Zimbabwe  1977     6642107    Africa    57.674  685.587682\n1695     Zimbabwe  1967     4995432    Africa    53.995  569.795071\n...           ...   ...         ...       ...       ...         ...\n9     Afghanistan  1997    22227415      Asia    41.763  635.341351\n7     Afghanistan  1987    13867957      Asia    40.822  852.395945\n5     Afghanistan  1977    14880372      Asia    38.438  786.113360\n3     Afghanistan  1967    11537966      Asia    34.020  836.197138\n1     Afghanistan  1957     9240934      Asia    30.332  820.853030\n\n[852 rows x 6 columns]",
      "text/html": "<div>\n<style scoped>\n    .dataframe tbody tr th:only-of-type {\n        vertical-align: middle;\n    }\n\n    .dataframe tbody tr th {\n        vertical-align: top;\n    }\n\n    .dataframe thead th {\n        text-align: right;\n    }\n</style>\n<table border=\"1\" class=\"dataframe\">\n  <thead>\n    <tr style=\"text-align: right;\">\n      <th></th>\n      <th>country</th>\n      <th>year</th>\n      <th>population</th>\n      <th>continent</th>\n      <th>life_exp</th>\n      <th>gdp_cap</th>\n    </tr>\n  </thead>\n  <tbody>\n    <tr>\n      <th>1703</th>\n      <td>Zimbabwe</td>\n      <td>2007</td>\n      <td>12311143</td>\n      <td>Africa</td>\n      <td>43.487</td>\n      <td>469.709298</td>\n    </tr>\n    <tr>\n      <th>1701</th>\n      <td>Zimbabwe</td>\n      <td>1997</td>\n      <td>11404948</td>\n      <td>Africa</td>\n      <td>46.809</td>\n      <td>792.449960</td>\n    </tr>\n    <tr>\n      <th>1699</th>\n      <td>Zimbabwe</td>\n      <td>1987</td>\n      <td>9216418</td>\n      <td>Africa</td>\n      <td>62.351</td>\n      <td>706.157306</td>\n    </tr>\n    <tr>\n      <th>1697</th>\n      <td>Zimbabwe</td>\n      <td>1977</td>\n      <td>6642107</td>\n      <td>Africa</td>\n      <td>57.674</td>\n      <td>685.587682</td>\n    </tr>\n    <tr>\n      <th>1695</th>\n      <td>Zimbabwe</td>\n      <td>1967</td>\n      <td>4995432</td>\n      <td>Africa</td>\n      <td>53.995</td>\n      <td>569.795071</td>\n    </tr>\n    <tr>\n      <th>...</th>\n      <td>...</td>\n      <td>...</td>\n      <td>...</td>\n      <td>...</td>\n      <td>...</td>\n      <td>...</td>\n    </tr>\n    <tr>\n      <th>9</th>\n      <td>Afghanistan</td>\n      <td>1997</td>\n      <td>22227415</td>\n      <td>Asia</td>\n      <td>41.763</td>\n      <td>635.341351</td>\n    </tr>\n    <tr>\n      <th>7</th>\n      <td>Afghanistan</td>\n      <td>1987</td>\n      <td>13867957</td>\n      <td>Asia</td>\n      <td>40.822</td>\n      <td>852.395945</td>\n    </tr>\n    <tr>\n      <th>5</th>\n      <td>Afghanistan</td>\n      <td>1977</td>\n      <td>14880372</td>\n      <td>Asia</td>\n      <td>38.438</td>\n      <td>786.113360</td>\n    </tr>\n    <tr>\n      <th>3</th>\n      <td>Afghanistan</td>\n      <td>1967</td>\n      <td>11537966</td>\n      <td>Asia</td>\n      <td>34.020</td>\n      <td>836.197138</td>\n    </tr>\n    <tr>\n      <th>1</th>\n      <td>Afghanistan</td>\n      <td>1957</td>\n      <td>9240934</td>\n      <td>Asia</td>\n      <td>30.332</td>\n      <td>820.853030</td>\n    </tr>\n  </tbody>\n</table>\n<p>852 rows × 6 columns</p>\n</div>"
     },
     "execution_count": 252,
     "metadata": {},
     "output_type": "execute_result"
    }
   ],
   "source": [
    "df.loc[::-2]"
   ],
   "metadata": {
    "collapsed": false,
    "ExecuteTime": {
     "end_time": "2024-03-31T16:53:18.349537Z",
     "start_time": "2024-03-31T16:53:18.332036Z"
    }
   },
   "id": "5780838684b2740b",
   "execution_count": 252
  },
  {
   "cell_type": "code",
   "outputs": [
    {
     "data": {
      "text/plain": "4095342816.207885"
     },
     "execution_count": 301,
     "metadata": {},
     "output_type": "execute_result"
    }
   ],
   "source": [
    "(df.query(\"year < 2000 and country == 'Iceland'\")['population'] * df.query(\"year < 2000 and country == 'Iceland'\")[\n",
    "    'gdp_cap']).sum() / df.query(\"year < 2000 and country == 'Iceland'\")['year'].shape[0]\n",
    "# df.query(\"country =='Iceland'\")['country']"
   ],
   "metadata": {
    "collapsed": false,
    "ExecuteTime": {
     "end_time": "2024-03-31T17:38:57.944046Z",
     "start_time": "2024-03-31T17:38:57.920347Z"
    }
   },
   "id": "bd841b93856304ed",
   "execution_count": 301
  },
  {
   "cell_type": "code",
   "outputs": [],
   "source": [
    "df3 = df.query(\"year < 2000 and country == 'Iceland'\")['population'].copy()"
   ],
   "metadata": {
    "collapsed": false,
    "ExecuteTime": {
     "end_time": "2024-04-01T07:23:46.327552Z",
     "start_time": "2024-04-01T07:23:46.316477Z"
    }
   },
   "id": "cdb9010f879582ea",
   "execution_count": 307
  },
  {
   "cell_type": "code",
   "outputs": [
    {
     "data": {
      "text/plain": "684    147962\n685    165110\n686    182053\n687    198676\n688    209275\n689    221823\n690    233997\n691    244676\n692    259012\n693    271192\nName: population, dtype: int64"
     },
     "execution_count": 308,
     "metadata": {},
     "output_type": "execute_result"
    }
   ],
   "source": [
    "df3"
   ],
   "metadata": {
    "collapsed": false,
    "ExecuteTime": {
     "end_time": "2024-04-01T07:23:49.195832Z",
     "start_time": "2024-04-01T07:23:49.176898Z"
    }
   },
   "id": "f9934fa3e1839b89",
   "execution_count": 308
  },
  {
   "cell_type": "code",
   "outputs": [],
   "source": [
    "df['total_continent'] = df['gdp_cap'].astype(dtype='int64') * df['population'].astype(dtype='int64')"
   ],
   "metadata": {
    "collapsed": false,
    "ExecuteTime": {
     "end_time": "2024-04-01T13:41:32.340796Z",
     "start_time": "2024-04-01T13:41:32.330839Z"
    }
   },
   "id": "2e7eb6d9add4b770",
   "execution_count": 335
  },
  {
   "cell_type": "code",
   "outputs": [
    {
     "data": {
      "text/plain": "           year  population  life_exp       gdp_cap  total_continent\ncontinent                                                           \nAfrica     2007   135031164    76.442   21951.21176     447956414483\nAmericas   2007   301139947    80.653   42951.65309   12934261863597\nAsia       2007  1318683096    82.603  113523.13290    6539349473064\nEurope     2007    82400996    81.757   49357.19017    2650840041320\nOceania    2007    20434176    81.235   34435.36744     703650850560",
      "text/html": "<div>\n<style scoped>\n    .dataframe tbody tr th:only-of-type {\n        vertical-align: middle;\n    }\n\n    .dataframe tbody tr th {\n        vertical-align: top;\n    }\n\n    .dataframe thead th {\n        text-align: right;\n    }\n</style>\n<table border=\"1\" class=\"dataframe\">\n  <thead>\n    <tr style=\"text-align: right;\">\n      <th></th>\n      <th>year</th>\n      <th>population</th>\n      <th>life_exp</th>\n      <th>gdp_cap</th>\n      <th>total_continent</th>\n    </tr>\n    <tr>\n      <th>continent</th>\n      <th></th>\n      <th></th>\n      <th></th>\n      <th></th>\n      <th></th>\n    </tr>\n  </thead>\n  <tbody>\n    <tr>\n      <th>Africa</th>\n      <td>2007</td>\n      <td>135031164</td>\n      <td>76.442</td>\n      <td>21951.21176</td>\n      <td>447956414483</td>\n    </tr>\n    <tr>\n      <th>Americas</th>\n      <td>2007</td>\n      <td>301139947</td>\n      <td>80.653</td>\n      <td>42951.65309</td>\n      <td>12934261863597</td>\n    </tr>\n    <tr>\n      <th>Asia</th>\n      <td>2007</td>\n      <td>1318683096</td>\n      <td>82.603</td>\n      <td>113523.13290</td>\n      <td>6539349473064</td>\n    </tr>\n    <tr>\n      <th>Europe</th>\n      <td>2007</td>\n      <td>82400996</td>\n      <td>81.757</td>\n      <td>49357.19017</td>\n      <td>2650840041320</td>\n    </tr>\n    <tr>\n      <th>Oceania</th>\n      <td>2007</td>\n      <td>20434176</td>\n      <td>81.235</td>\n      <td>34435.36744</td>\n      <td>703650850560</td>\n    </tr>\n  </tbody>\n</table>\n</div>"
     },
     "execution_count": 336,
     "metadata": {},
     "output_type": "execute_result"
    }
   ],
   "source": [
    "df.groupby(by=['continent']).max(['total_gdp'])"
   ],
   "metadata": {
    "collapsed": false,
    "ExecuteTime": {
     "end_time": "2024-04-01T13:41:35.417440Z",
     "start_time": "2024-04-01T13:41:35.388380Z"
    }
   },
   "id": "ff2759ea4053e3d9",
   "execution_count": 336
  },
  {
   "cell_type": "code",
   "outputs": [],
   "source": [
    "student = [\n",
    "    [1, 'laks', 75],\n",
    "    [2, 'uthra', 95],\n",
    "    [3, 'narayan', 100]\n",
    "]"
   ],
   "metadata": {
    "collapsed": false,
    "ExecuteTime": {
     "end_time": "2024-03-29T06:59:40.582115Z",
     "start_time": "2024-03-29T06:59:40.570900Z"
    }
   },
   "id": "cb590196de11af05",
   "execution_count": 96
  },
  {
   "cell_type": "code",
   "outputs": [],
   "source": [
    "df1 = pd.DataFrame(student)"
   ],
   "metadata": {
    "collapsed": false,
    "ExecuteTime": {
     "end_time": "2024-03-29T06:59:41.829835Z",
     "start_time": "2024-03-29T06:59:41.822886Z"
    }
   },
   "id": "15bddcca41b19406",
   "execution_count": 97
  },
  {
   "cell_type": "code",
   "outputs": [
    {
     "data": {
      "text/plain": "(3, 3)"
     },
     "execution_count": 98,
     "metadata": {},
     "output_type": "execute_result"
    }
   ],
   "source": [
    "df1.shape"
   ],
   "metadata": {
    "collapsed": false,
    "ExecuteTime": {
     "end_time": "2024-03-29T06:59:44.489054Z",
     "start_time": "2024-03-29T06:59:44.482106Z"
    }
   },
   "id": "b621318191206c49",
   "execution_count": 98
  },
  {
   "cell_type": "code",
   "outputs": [],
   "source": [
    "df2 = df1.rename({0: 'roll', 1: 'name', 2: 'marks'}, axis=1)"
   ],
   "metadata": {
    "collapsed": false,
    "ExecuteTime": {
     "end_time": "2024-03-29T07:27:57.465032Z",
     "start_time": "2024-03-29T07:27:57.448933Z"
    }
   },
   "id": "eef34b661383a509",
   "execution_count": 128
  },
  {
   "cell_type": "code",
   "outputs": [
    {
     "name": "stdout",
     "output_type": "stream",
     "text": [
      "   roll     name  marks\n",
      "0     1     laks     75\n",
      "1     2    uthra     95\n",
      "2     3  narayan    100\n"
     ]
    }
   ],
   "source": [
    "print(df2)"
   ],
   "metadata": {
    "collapsed": false,
    "ExecuteTime": {
     "end_time": "2024-03-29T07:03:59.094159Z",
     "start_time": "2024-03-29T07:03:59.081279Z"
    }
   },
   "id": "23f2b0a7d1f6d0ec",
   "execution_count": 106
  },
  {
   "cell_type": "code",
   "outputs": [
    {
     "data": {
      "text/plain": "   marks   name\n0     75   laks\n1     95  uthra",
      "text/html": "<div>\n<style scoped>\n    .dataframe tbody tr th:only-of-type {\n        vertical-align: middle;\n    }\n\n    .dataframe tbody tr th {\n        vertical-align: top;\n    }\n\n    .dataframe thead th {\n        text-align: right;\n    }\n</style>\n<table border=\"1\" class=\"dataframe\">\n  <thead>\n    <tr style=\"text-align: right;\">\n      <th></th>\n      <th>marks</th>\n      <th>name</th>\n    </tr>\n  </thead>\n  <tbody>\n    <tr>\n      <th>0</th>\n      <td>75</td>\n      <td>laks</td>\n    </tr>\n    <tr>\n      <th>1</th>\n      <td>95</td>\n      <td>uthra</td>\n    </tr>\n  </tbody>\n</table>\n</div>"
     },
     "execution_count": 133,
     "metadata": {},
     "output_type": "execute_result"
    }
   ],
   "source": [
    "df2.loc[0:1, ['marks', 'name']]"
   ],
   "metadata": {
    "collapsed": false,
    "ExecuteTime": {
     "end_time": "2024-03-29T07:39:01.585822Z",
     "start_time": "2024-03-29T07:39:01.571757Z"
    }
   },
   "id": "ddde1d9c0914771f",
   "execution_count": 133
  },
  {
   "cell_type": "code",
   "outputs": [
    {
     "name": "stdout",
     "output_type": "stream",
     "text": [
      "<class 'pandas.core.frame.DataFrame'>\n",
      "RangeIndex: 3 entries, 0 to 2\n",
      "Data columns (total 3 columns):\n",
      " #   Column  Non-Null Count  Dtype \n",
      "---  ------  --------------  ----- \n",
      " 0   0       3 non-null      int64 \n",
      " 1   1       3 non-null      object\n",
      " 2   2       3 non-null      int64 \n",
      "dtypes: int64(2), object(1)\n",
      "memory usage: 200.0+ bytes\n",
      "None\n"
     ]
    }
   ],
   "source": [
    "print(df1.info())"
   ],
   "metadata": {
    "collapsed": false,
    "ExecuteTime": {
     "end_time": "2024-03-29T07:45:21.649257Z",
     "start_time": "2024-03-29T07:45:21.628036Z"
    }
   },
   "id": "f34a1c01e89ab7fe",
   "execution_count": 138
  },
  {
   "cell_type": "code",
   "outputs": [
    {
     "ename": "TypeError",
     "evalue": "unsupported operand type(s) for &: 'str' and 'str'",
     "output_type": "error",
     "traceback": [
      "\u001B[1;31m---------------------------------------------------------------------------\u001B[0m",
      "\u001B[1;31mTypeError\u001B[0m                                 Traceback (most recent call last)",
      "Cell \u001B[1;32mIn[152], line 1\u001B[0m\n\u001B[1;32m----> 1\u001B[0m df\u001B[38;5;241m.\u001B[39mquery(\u001B[38;5;124;43m'\u001B[39;49m\u001B[38;5;124;43mcountry == \u001B[39;49m\u001B[38;5;124;43m\"\u001B[39;49m\u001B[38;5;124;43mAfghanistan\u001B[39;49m\u001B[38;5;124;43m\"\u001B[39;49m\u001B[38;5;124;43m'\u001B[39;49m\u001B[43m \u001B[49m\u001B[38;5;241;43m&\u001B[39;49m\u001B[43m \u001B[49m\u001B[38;5;124;43m'\u001B[39;49m\u001B[38;5;124;43mcountry == \u001B[39;49m\u001B[38;5;124;43m\"\u001B[39;49m\u001B[38;5;124;43mIndia\u001B[39;49m\u001B[38;5;124;43m\"\u001B[39;49m\u001B[38;5;124;43m'\u001B[39;49m)\n",
      "\u001B[1;31mTypeError\u001B[0m: unsupported operand type(s) for &: 'str' and 'str'"
     ]
    }
   ],
   "source": [
    "df.query('country == \"Afghanistan\"' & 'country == \"India\"')"
   ],
   "metadata": {
    "collapsed": false,
    "ExecuteTime": {
     "end_time": "2024-03-29T08:31:05.591008Z",
     "start_time": "2024-03-29T08:31:05.555905Z"
    }
   },
   "id": "2426f452e20c6419",
   "execution_count": 152
  },
  {
   "cell_type": "code",
   "outputs": [
    {
     "data": {
      "text/plain": "pandas.core.series.Series"
     },
     "execution_count": 179,
     "metadata": {},
     "output_type": "execute_result"
    }
   ],
   "source": [
    "type(df['country'])"
   ],
   "metadata": {
    "collapsed": false,
    "ExecuteTime": {
     "end_time": "2024-03-30T17:49:07.835346Z",
     "start_time": "2024-03-30T17:49:07.813157Z"
    }
   },
   "id": "faebdaddfcf58036",
   "execution_count": 179
  },
  {
   "cell_type": "code",
   "outputs": [
    {
     "data": {
      "text/plain": "pandas.core.frame.DataFrame"
     },
     "execution_count": 178,
     "metadata": {},
     "output_type": "execute_result"
    }
   ],
   "source": [
    "type(df[['country']])"
   ],
   "metadata": {
    "collapsed": false,
    "ExecuteTime": {
     "end_time": "2024-03-30T17:49:00.751561Z",
     "start_time": "2024-03-30T17:49:00.732096Z"
    }
   },
   "id": "e5258e61b2042382",
   "execution_count": 178
  },
  {
   "cell_type": "code",
   "outputs": [
    {
     "data": {
      "text/plain": "pandas.core.indexes.base.Index"
     },
     "execution_count": 33,
     "metadata": {},
     "output_type": "execute_result"
    }
   ],
   "source": [
    "type(df.columns)"
   ],
   "metadata": {
    "collapsed": false,
    "ExecuteTime": {
     "end_time": "2024-03-31T07:28:48.079349Z",
     "start_time": "2024-03-31T07:28:48.072056Z"
    }
   },
   "id": "d8d8d79b3f996b84",
   "execution_count": 33
  },
  {
   "cell_type": "code",
   "outputs": [
    {
     "data": {
      "text/plain": "tuple"
     },
     "execution_count": 41,
     "metadata": {},
     "output_type": "execute_result"
    }
   ],
   "source": [
    "type(df.shape)"
   ],
   "metadata": {
    "collapsed": false,
    "ExecuteTime": {
     "end_time": "2024-03-31T07:40:20.948255Z",
     "start_time": "2024-03-31T07:40:20.932427Z"
    }
   },
   "id": "8968d3e1a1581e45",
   "execution_count": 41
  },
  {
   "cell_type": "code",
   "outputs": [
    {
     "data": {
      "text/plain": "country           Albania\nyear                 1992\npopulation        3326498\ncontinent          Europe\nlife_exp           71.581\ngdp_cap       2497.437901\nName: 20, dtype: object"
     },
     "execution_count": 44,
     "metadata": {},
     "output_type": "execute_result"
    }
   ],
   "source": [
    "df.iloc[20]"
   ],
   "metadata": {
    "collapsed": false,
    "ExecuteTime": {
     "end_time": "2024-03-31T08:15:08.807759Z",
     "start_time": "2024-03-31T08:15:08.789708Z"
    }
   },
   "id": "21040f875e4c05c0",
   "execution_count": 44
  },
  {
   "cell_type": "code",
   "outputs": [
    {
     "data": {
      "text/plain": "          country  life_exp\n0     Afghanistan    28.801\n1     Afghanistan    30.332\n2     Afghanistan    31.997\n3     Afghanistan    34.020\n4     Afghanistan    36.088\n...           ...       ...\n1699     Zimbabwe    62.351\n1700     Zimbabwe    60.377\n1701     Zimbabwe    46.809\n1702     Zimbabwe    39.989\n1703     Zimbabwe    43.487\n\n[1704 rows x 2 columns]",
      "text/html": "<div>\n<style scoped>\n    .dataframe tbody tr th:only-of-type {\n        vertical-align: middle;\n    }\n\n    .dataframe tbody tr th {\n        vertical-align: top;\n    }\n\n    .dataframe thead th {\n        text-align: right;\n    }\n</style>\n<table border=\"1\" class=\"dataframe\">\n  <thead>\n    <tr style=\"text-align: right;\">\n      <th></th>\n      <th>country</th>\n      <th>life_exp</th>\n    </tr>\n  </thead>\n  <tbody>\n    <tr>\n      <th>0</th>\n      <td>Afghanistan</td>\n      <td>28.801</td>\n    </tr>\n    <tr>\n      <th>1</th>\n      <td>Afghanistan</td>\n      <td>30.332</td>\n    </tr>\n    <tr>\n      <th>2</th>\n      <td>Afghanistan</td>\n      <td>31.997</td>\n    </tr>\n    <tr>\n      <th>3</th>\n      <td>Afghanistan</td>\n      <td>34.020</td>\n    </tr>\n    <tr>\n      <th>4</th>\n      <td>Afghanistan</td>\n      <td>36.088</td>\n    </tr>\n    <tr>\n      <th>...</th>\n      <td>...</td>\n      <td>...</td>\n    </tr>\n    <tr>\n      <th>1699</th>\n      <td>Zimbabwe</td>\n      <td>62.351</td>\n    </tr>\n    <tr>\n      <th>1700</th>\n      <td>Zimbabwe</td>\n      <td>60.377</td>\n    </tr>\n    <tr>\n      <th>1701</th>\n      <td>Zimbabwe</td>\n      <td>46.809</td>\n    </tr>\n    <tr>\n      <th>1702</th>\n      <td>Zimbabwe</td>\n      <td>39.989</td>\n    </tr>\n    <tr>\n      <th>1703</th>\n      <td>Zimbabwe</td>\n      <td>43.487</td>\n    </tr>\n  </tbody>\n</table>\n<p>1704 rows × 2 columns</p>\n</div>"
     },
     "execution_count": 49,
     "metadata": {},
     "output_type": "execute_result"
    }
   ],
   "source": [
    "df[['country', 'life_exp']]"
   ],
   "metadata": {
    "collapsed": false,
    "ExecuteTime": {
     "end_time": "2024-03-31T08:17:50.494718Z",
     "start_time": "2024-03-31T08:17:50.467495Z"
    }
   },
   "id": "ff5884c104ea954f",
   "execution_count": 49
  },
  {
   "cell_type": "code",
   "outputs": [
    {
     "data": {
      "text/plain": "          country  life_exp\n0     Afghanistan    28.801\n1     Afghanistan    30.332\n2     Afghanistan    31.997\n3     Afghanistan    34.020\n4     Afghanistan    36.088\n...           ...       ...\n1699     Zimbabwe    62.351\n1700     Zimbabwe    60.377\n1701     Zimbabwe    46.809\n1702     Zimbabwe    39.989\n1703     Zimbabwe    43.487\n\n[1704 rows x 2 columns]",
      "text/html": "<div>\n<style scoped>\n    .dataframe tbody tr th:only-of-type {\n        vertical-align: middle;\n    }\n\n    .dataframe tbody tr th {\n        vertical-align: top;\n    }\n\n    .dataframe thead th {\n        text-align: right;\n    }\n</style>\n<table border=\"1\" class=\"dataframe\">\n  <thead>\n    <tr style=\"text-align: right;\">\n      <th></th>\n      <th>country</th>\n      <th>life_exp</th>\n    </tr>\n  </thead>\n  <tbody>\n    <tr>\n      <th>0</th>\n      <td>Afghanistan</td>\n      <td>28.801</td>\n    </tr>\n    <tr>\n      <th>1</th>\n      <td>Afghanistan</td>\n      <td>30.332</td>\n    </tr>\n    <tr>\n      <th>2</th>\n      <td>Afghanistan</td>\n      <td>31.997</td>\n    </tr>\n    <tr>\n      <th>3</th>\n      <td>Afghanistan</td>\n      <td>34.020</td>\n    </tr>\n    <tr>\n      <th>4</th>\n      <td>Afghanistan</td>\n      <td>36.088</td>\n    </tr>\n    <tr>\n      <th>...</th>\n      <td>...</td>\n      <td>...</td>\n    </tr>\n    <tr>\n      <th>1699</th>\n      <td>Zimbabwe</td>\n      <td>62.351</td>\n    </tr>\n    <tr>\n      <th>1700</th>\n      <td>Zimbabwe</td>\n      <td>60.377</td>\n    </tr>\n    <tr>\n      <th>1701</th>\n      <td>Zimbabwe</td>\n      <td>46.809</td>\n    </tr>\n    <tr>\n      <th>1702</th>\n      <td>Zimbabwe</td>\n      <td>39.989</td>\n    </tr>\n    <tr>\n      <th>1703</th>\n      <td>Zimbabwe</td>\n      <td>43.487</td>\n    </tr>\n  </tbody>\n</table>\n<p>1704 rows × 2 columns</p>\n</div>"
     },
     "execution_count": 58,
     "metadata": {},
     "output_type": "execute_result"
    }
   ],
   "source": [
    "df.loc[:, ['country', 'life_exp']]"
   ],
   "metadata": {
    "collapsed": false,
    "ExecuteTime": {
     "end_time": "2024-03-31T08:19:50.661205Z",
     "start_time": "2024-03-31T08:19:50.641732Z"
    }
   },
   "id": "7e5ddb34f95211eb",
   "execution_count": 58
  },
  {
   "cell_type": "code",
   "outputs": [
    {
     "data": {
      "text/plain": "          country  year\n0     Afghanistan  1952\n1     Afghanistan  1957\n2     Afghanistan  1962\n3     Afghanistan  1967\n4     Afghanistan  1972\n...           ...   ...\n1699     Zimbabwe  1987\n1700     Zimbabwe  1992\n1701     Zimbabwe  1997\n1702     Zimbabwe  2002\n1703     Zimbabwe  2007\n\n[1704 rows x 2 columns]",
      "text/html": "<div>\n<style scoped>\n    .dataframe tbody tr th:only-of-type {\n        vertical-align: middle;\n    }\n\n    .dataframe tbody tr th {\n        vertical-align: top;\n    }\n\n    .dataframe thead th {\n        text-align: right;\n    }\n</style>\n<table border=\"1\" class=\"dataframe\">\n  <thead>\n    <tr style=\"text-align: right;\">\n      <th></th>\n      <th>country</th>\n      <th>year</th>\n    </tr>\n  </thead>\n  <tbody>\n    <tr>\n      <th>0</th>\n      <td>Afghanistan</td>\n      <td>1952</td>\n    </tr>\n    <tr>\n      <th>1</th>\n      <td>Afghanistan</td>\n      <td>1957</td>\n    </tr>\n    <tr>\n      <th>2</th>\n      <td>Afghanistan</td>\n      <td>1962</td>\n    </tr>\n    <tr>\n      <th>3</th>\n      <td>Afghanistan</td>\n      <td>1967</td>\n    </tr>\n    <tr>\n      <th>4</th>\n      <td>Afghanistan</td>\n      <td>1972</td>\n    </tr>\n    <tr>\n      <th>...</th>\n      <td>...</td>\n      <td>...</td>\n    </tr>\n    <tr>\n      <th>1699</th>\n      <td>Zimbabwe</td>\n      <td>1987</td>\n    </tr>\n    <tr>\n      <th>1700</th>\n      <td>Zimbabwe</td>\n      <td>1992</td>\n    </tr>\n    <tr>\n      <th>1701</th>\n      <td>Zimbabwe</td>\n      <td>1997</td>\n    </tr>\n    <tr>\n      <th>1702</th>\n      <td>Zimbabwe</td>\n      <td>2002</td>\n    </tr>\n    <tr>\n      <th>1703</th>\n      <td>Zimbabwe</td>\n      <td>2007</td>\n    </tr>\n  </tbody>\n</table>\n<p>1704 rows × 2 columns</p>\n</div>"
     },
     "execution_count": 59,
     "metadata": {},
     "output_type": "execute_result"
    }
   ],
   "source": [
    "df.iloc[:, 0:2]"
   ],
   "metadata": {
    "collapsed": false,
    "ExecuteTime": {
     "end_time": "2024-03-31T08:20:17.032481Z",
     "start_time": "2024-03-31T08:20:17.004434Z"
    }
   },
   "id": "6bc6f1ace767a4d9",
   "execution_count": 59
  },
  {
   "cell_type": "code",
   "outputs": [
    {
     "data": {
      "text/plain": "       country  year  population continent  life_exp\n0  Afghanistan  1952     8425333      Asia    28.801\n1  Afghanistan  1957     9240934      Asia    30.332\n2  Afghanistan  1962    10267083      Asia    31.997",
      "text/html": "<div>\n<style scoped>\n    .dataframe tbody tr th:only-of-type {\n        vertical-align: middle;\n    }\n\n    .dataframe tbody tr th {\n        vertical-align: top;\n    }\n\n    .dataframe thead th {\n        text-align: right;\n    }\n</style>\n<table border=\"1\" class=\"dataframe\">\n  <thead>\n    <tr style=\"text-align: right;\">\n      <th></th>\n      <th>country</th>\n      <th>year</th>\n      <th>population</th>\n      <th>continent</th>\n      <th>life_exp</th>\n    </tr>\n  </thead>\n  <tbody>\n    <tr>\n      <th>0</th>\n      <td>Afghanistan</td>\n      <td>1952</td>\n      <td>8425333</td>\n      <td>Asia</td>\n      <td>28.801</td>\n    </tr>\n    <tr>\n      <th>1</th>\n      <td>Afghanistan</td>\n      <td>1957</td>\n      <td>9240934</td>\n      <td>Asia</td>\n      <td>30.332</td>\n    </tr>\n    <tr>\n      <th>2</th>\n      <td>Afghanistan</td>\n      <td>1962</td>\n      <td>10267083</td>\n      <td>Asia</td>\n      <td>31.997</td>\n    </tr>\n  </tbody>\n</table>\n</div>"
     },
     "execution_count": 62,
     "metadata": {},
     "output_type": "execute_result"
    }
   ],
   "source": [
    "df.loc[:2, \"country\":\"life_exp\"]"
   ],
   "metadata": {
    "collapsed": false,
    "ExecuteTime": {
     "end_time": "2024-03-31T08:22:50.420078Z",
     "start_time": "2024-03-31T08:22:50.393410Z"
    }
   },
   "id": "7377dfe11581b4b5",
   "execution_count": 62
  },
  {
   "cell_type": "code",
   "outputs": [],
   "source": [
    "df = pd.DataFrame({'emp_id': [1, 2], 'name': ['Ram', 'Shyam'], 'dept': ['IT', 'Ops']})"
   ],
   "metadata": {
    "collapsed": false,
    "ExecuteTime": {
     "end_time": "2024-03-31T08:27:37.267113Z",
     "start_time": "2024-03-31T08:27:37.259115Z"
    }
   },
   "id": "f9f2536a75ea368",
   "execution_count": 66
  },
  {
   "cell_type": "code",
   "outputs": [],
   "source": [
    "df_selected = df.iloc[0:2]"
   ],
   "metadata": {
    "collapsed": false,
    "ExecuteTime": {
     "end_time": "2024-03-31T08:31:34.112286Z",
     "start_time": "2024-03-31T08:31:34.106283Z"
    }
   },
   "id": "f887a58897bdd72d",
   "execution_count": 73
  },
  {
   "cell_type": "code",
   "outputs": [
    {
     "data": {
      "text/plain": "    name dept\n0    Ram   IT\n1  Shyam  Ops",
      "text/html": "<div>\n<style scoped>\n    .dataframe tbody tr th:only-of-type {\n        vertical-align: middle;\n    }\n\n    .dataframe tbody tr th {\n        vertical-align: top;\n    }\n\n    .dataframe thead th {\n        text-align: right;\n    }\n</style>\n<table border=\"1\" class=\"dataframe\">\n  <thead>\n    <tr style=\"text-align: right;\">\n      <th></th>\n      <th>name</th>\n      <th>dept</th>\n    </tr>\n  </thead>\n  <tbody>\n    <tr>\n      <th>0</th>\n      <td>Ram</td>\n      <td>IT</td>\n    </tr>\n    <tr>\n      <th>1</th>\n      <td>Shyam</td>\n      <td>Ops</td>\n    </tr>\n  </tbody>\n</table>\n</div>"
     },
     "execution_count": 76,
     "metadata": {},
     "output_type": "execute_result"
    }
   ],
   "source": [
    "df_selected[['name', 'dept']]"
   ],
   "metadata": {
    "collapsed": false,
    "ExecuteTime": {
     "end_time": "2024-03-31T08:32:10.347352Z",
     "start_time": "2024-03-31T08:32:10.329597Z"
    }
   },
   "id": "565dc146b29b2efd",
   "execution_count": 76
  },
  {
   "cell_type": "code",
   "outputs": [
    {
     "ename": "KeyError",
     "evalue": "'name'",
     "output_type": "error",
     "traceback": [
      "\u001B[1;31m---------------------------------------------------------------------------\u001B[0m",
      "\u001B[1;31mKeyError\u001B[0m                                  Traceback (most recent call last)",
      "Cell \u001B[1;32mIn[82], line 1\u001B[0m\n\u001B[1;32m----> 1\u001B[0m \u001B[43mdf\u001B[49m\u001B[38;5;241;43m.\u001B[39;49m\u001B[43mloc\u001B[49m\u001B[43m[\u001B[49m\u001B[38;5;124;43m'\u001B[39;49m\u001B[38;5;124;43mname\u001B[39;49m\u001B[38;5;124;43m'\u001B[39;49m\u001B[43m,\u001B[49m\u001B[43m:\u001B[49m\u001B[43m]\u001B[49m\n",
      "File \u001B[1;32m~\\DataspellProjects\\OpenAI\\gpt-labs\\lib\\site-packages\\pandas\\core\\indexing.py:1097\u001B[0m, in \u001B[0;36m_LocationIndexer.__getitem__\u001B[1;34m(self, key)\u001B[0m\n\u001B[0;32m   1095\u001B[0m     \u001B[38;5;28;01mif\u001B[39;00m \u001B[38;5;28mself\u001B[39m\u001B[38;5;241m.\u001B[39m_is_scalar_access(key):\n\u001B[0;32m   1096\u001B[0m         \u001B[38;5;28;01mreturn\u001B[39;00m \u001B[38;5;28mself\u001B[39m\u001B[38;5;241m.\u001B[39mobj\u001B[38;5;241m.\u001B[39m_get_value(\u001B[38;5;241m*\u001B[39mkey, takeable\u001B[38;5;241m=\u001B[39m\u001B[38;5;28mself\u001B[39m\u001B[38;5;241m.\u001B[39m_takeable)\n\u001B[1;32m-> 1097\u001B[0m     \u001B[38;5;28;01mreturn\u001B[39;00m \u001B[38;5;28;43mself\u001B[39;49m\u001B[38;5;241;43m.\u001B[39;49m\u001B[43m_getitem_tuple\u001B[49m\u001B[43m(\u001B[49m\u001B[43mkey\u001B[49m\u001B[43m)\u001B[49m\n\u001B[0;32m   1098\u001B[0m \u001B[38;5;28;01melse\u001B[39;00m:\n\u001B[0;32m   1099\u001B[0m     \u001B[38;5;66;03m# we by definition only have the 0th axis\u001B[39;00m\n\u001B[0;32m   1100\u001B[0m     axis \u001B[38;5;241m=\u001B[39m \u001B[38;5;28mself\u001B[39m\u001B[38;5;241m.\u001B[39maxis \u001B[38;5;129;01mor\u001B[39;00m \u001B[38;5;241m0\u001B[39m\n",
      "File \u001B[1;32m~\\DataspellProjects\\OpenAI\\gpt-labs\\lib\\site-packages\\pandas\\core\\indexing.py:1280\u001B[0m, in \u001B[0;36m_LocIndexer._getitem_tuple\u001B[1;34m(self, tup)\u001B[0m\n\u001B[0;32m   1278\u001B[0m \u001B[38;5;28;01mwith\u001B[39;00m suppress(IndexingError):\n\u001B[0;32m   1279\u001B[0m     tup \u001B[38;5;241m=\u001B[39m \u001B[38;5;28mself\u001B[39m\u001B[38;5;241m.\u001B[39m_expand_ellipsis(tup)\n\u001B[1;32m-> 1280\u001B[0m     \u001B[38;5;28;01mreturn\u001B[39;00m \u001B[38;5;28;43mself\u001B[39;49m\u001B[38;5;241;43m.\u001B[39;49m\u001B[43m_getitem_lowerdim\u001B[49m\u001B[43m(\u001B[49m\u001B[43mtup\u001B[49m\u001B[43m)\u001B[49m\n\u001B[0;32m   1282\u001B[0m \u001B[38;5;66;03m# no multi-index, so validate all of the indexers\u001B[39;00m\n\u001B[0;32m   1283\u001B[0m tup \u001B[38;5;241m=\u001B[39m \u001B[38;5;28mself\u001B[39m\u001B[38;5;241m.\u001B[39m_validate_tuple_indexer(tup)\n",
      "File \u001B[1;32m~\\DataspellProjects\\OpenAI\\gpt-labs\\lib\\site-packages\\pandas\\core\\indexing.py:1000\u001B[0m, in \u001B[0;36m_LocationIndexer._getitem_lowerdim\u001B[1;34m(self, tup)\u001B[0m\n\u001B[0;32m    996\u001B[0m \u001B[38;5;28;01mfor\u001B[39;00m i, key \u001B[38;5;129;01min\u001B[39;00m \u001B[38;5;28menumerate\u001B[39m(tup):\n\u001B[0;32m    997\u001B[0m     \u001B[38;5;28;01mif\u001B[39;00m is_label_like(key):\n\u001B[0;32m    998\u001B[0m         \u001B[38;5;66;03m# We don't need to check for tuples here because those are\u001B[39;00m\n\u001B[0;32m    999\u001B[0m         \u001B[38;5;66;03m#  caught by the _is_nested_tuple_indexer check above.\u001B[39;00m\n\u001B[1;32m-> 1000\u001B[0m         section \u001B[38;5;241m=\u001B[39m \u001B[38;5;28;43mself\u001B[39;49m\u001B[38;5;241;43m.\u001B[39;49m\u001B[43m_getitem_axis\u001B[49m\u001B[43m(\u001B[49m\u001B[43mkey\u001B[49m\u001B[43m,\u001B[49m\u001B[43m \u001B[49m\u001B[43maxis\u001B[49m\u001B[38;5;241;43m=\u001B[39;49m\u001B[43mi\u001B[49m\u001B[43m)\u001B[49m\n\u001B[0;32m   1002\u001B[0m         \u001B[38;5;66;03m# We should never have a scalar section here, because\u001B[39;00m\n\u001B[0;32m   1003\u001B[0m         \u001B[38;5;66;03m#  _getitem_lowerdim is only called after a check for\u001B[39;00m\n\u001B[0;32m   1004\u001B[0m         \u001B[38;5;66;03m#  is_scalar_access, which that would be.\u001B[39;00m\n\u001B[0;32m   1005\u001B[0m         \u001B[38;5;28;01mif\u001B[39;00m section\u001B[38;5;241m.\u001B[39mndim \u001B[38;5;241m==\u001B[39m \u001B[38;5;28mself\u001B[39m\u001B[38;5;241m.\u001B[39mndim:\n\u001B[0;32m   1006\u001B[0m             \u001B[38;5;66;03m# we're in the middle of slicing through a MultiIndex\u001B[39;00m\n\u001B[0;32m   1007\u001B[0m             \u001B[38;5;66;03m# revise the key wrt to `section` by inserting an _NS\u001B[39;00m\n",
      "File \u001B[1;32m~\\DataspellProjects\\OpenAI\\gpt-labs\\lib\\site-packages\\pandas\\core\\indexing.py:1343\u001B[0m, in \u001B[0;36m_LocIndexer._getitem_axis\u001B[1;34m(self, key, axis)\u001B[0m\n\u001B[0;32m   1341\u001B[0m \u001B[38;5;66;03m# fall thru to straight lookup\u001B[39;00m\n\u001B[0;32m   1342\u001B[0m \u001B[38;5;28mself\u001B[39m\u001B[38;5;241m.\u001B[39m_validate_key(key, axis)\n\u001B[1;32m-> 1343\u001B[0m \u001B[38;5;28;01mreturn\u001B[39;00m \u001B[38;5;28;43mself\u001B[39;49m\u001B[38;5;241;43m.\u001B[39;49m\u001B[43m_get_label\u001B[49m\u001B[43m(\u001B[49m\u001B[43mkey\u001B[49m\u001B[43m,\u001B[49m\u001B[43m \u001B[49m\u001B[43maxis\u001B[49m\u001B[38;5;241;43m=\u001B[39;49m\u001B[43maxis\u001B[49m\u001B[43m)\u001B[49m\n",
      "File \u001B[1;32m~\\DataspellProjects\\OpenAI\\gpt-labs\\lib\\site-packages\\pandas\\core\\indexing.py:1293\u001B[0m, in \u001B[0;36m_LocIndexer._get_label\u001B[1;34m(self, label, axis)\u001B[0m\n\u001B[0;32m   1291\u001B[0m \u001B[38;5;28;01mdef\u001B[39;00m \u001B[38;5;21m_get_label\u001B[39m(\u001B[38;5;28mself\u001B[39m, label, axis: AxisInt):\n\u001B[0;32m   1292\u001B[0m     \u001B[38;5;66;03m# GH#5567 this will fail if the label is not present in the axis.\u001B[39;00m\n\u001B[1;32m-> 1293\u001B[0m     \u001B[38;5;28;01mreturn\u001B[39;00m \u001B[38;5;28;43mself\u001B[39;49m\u001B[38;5;241;43m.\u001B[39;49m\u001B[43mobj\u001B[49m\u001B[38;5;241;43m.\u001B[39;49m\u001B[43mxs\u001B[49m\u001B[43m(\u001B[49m\u001B[43mlabel\u001B[49m\u001B[43m,\u001B[49m\u001B[43m \u001B[49m\u001B[43maxis\u001B[49m\u001B[38;5;241;43m=\u001B[39;49m\u001B[43maxis\u001B[49m\u001B[43m)\u001B[49m\n",
      "File \u001B[1;32m~\\DataspellProjects\\OpenAI\\gpt-labs\\lib\\site-packages\\pandas\\core\\generic.py:4095\u001B[0m, in \u001B[0;36mNDFrame.xs\u001B[1;34m(self, key, axis, level, drop_level)\u001B[0m\n\u001B[0;32m   4093\u001B[0m             new_index \u001B[38;5;241m=\u001B[39m index[loc]\n\u001B[0;32m   4094\u001B[0m \u001B[38;5;28;01melse\u001B[39;00m:\n\u001B[1;32m-> 4095\u001B[0m     loc \u001B[38;5;241m=\u001B[39m \u001B[43mindex\u001B[49m\u001B[38;5;241;43m.\u001B[39;49m\u001B[43mget_loc\u001B[49m\u001B[43m(\u001B[49m\u001B[43mkey\u001B[49m\u001B[43m)\u001B[49m\n\u001B[0;32m   4097\u001B[0m     \u001B[38;5;28;01mif\u001B[39;00m \u001B[38;5;28misinstance\u001B[39m(loc, np\u001B[38;5;241m.\u001B[39mndarray):\n\u001B[0;32m   4098\u001B[0m         \u001B[38;5;28;01mif\u001B[39;00m loc\u001B[38;5;241m.\u001B[39mdtype \u001B[38;5;241m==\u001B[39m np\u001B[38;5;241m.\u001B[39mbool_:\n",
      "File \u001B[1;32m~\\DataspellProjects\\OpenAI\\gpt-labs\\lib\\site-packages\\pandas\\core\\indexes\\range.py:349\u001B[0m, in \u001B[0;36mRangeIndex.get_loc\u001B[1;34m(self, key)\u001B[0m\n\u001B[0;32m    347\u001B[0m         \u001B[38;5;28;01mraise\u001B[39;00m \u001B[38;5;167;01mKeyError\u001B[39;00m(key) \u001B[38;5;28;01mfrom\u001B[39;00m \u001B[38;5;21;01merr\u001B[39;00m\n\u001B[0;32m    348\u001B[0m \u001B[38;5;28;01mif\u001B[39;00m \u001B[38;5;28misinstance\u001B[39m(key, Hashable):\n\u001B[1;32m--> 349\u001B[0m     \u001B[38;5;28;01mraise\u001B[39;00m \u001B[38;5;167;01mKeyError\u001B[39;00m(key)\n\u001B[0;32m    350\u001B[0m \u001B[38;5;28mself\u001B[39m\u001B[38;5;241m.\u001B[39m_check_indexing_error(key)\n\u001B[0;32m    351\u001B[0m \u001B[38;5;28;01mraise\u001B[39;00m \u001B[38;5;167;01mKeyError\u001B[39;00m(key)\n",
      "\u001B[1;31mKeyError\u001B[0m: 'name'"
     ]
    }
   ],
   "source": [
    "df.loc['name', :]"
   ],
   "metadata": {
    "collapsed": false,
    "ExecuteTime": {
     "end_time": "2024-03-31T08:35:55.889486Z",
     "start_time": "2024-03-31T08:35:55.531369Z"
    }
   },
   "id": "244ecb155b8e53d2",
   "execution_count": 82
  },
  {
   "cell_type": "code",
   "outputs": [
    {
     "ename": "ValueError",
     "evalue": "could not broadcast input array from shape (1704,2) into shape (1704,)",
     "output_type": "error",
     "traceback": [
      "\u001B[1;31m---------------------------------------------------------------------------\u001B[0m",
      "\u001B[1;31mValueError\u001B[0m                                Traceback (most recent call last)",
      "Cell \u001B[1;32mIn[107], line 1\u001B[0m\n\u001B[1;32m----> 1\u001B[0m \u001B[43mpd\u001B[49m\u001B[38;5;241;43m.\u001B[39;49m\u001B[43munique\u001B[49m\u001B[43m(\u001B[49m\u001B[43mdf\u001B[49m\u001B[43m[\u001B[49m\u001B[43m[\u001B[49m\u001B[38;5;124;43m'\u001B[39;49m\u001B[38;5;124;43mcountry\u001B[39;49m\u001B[38;5;124;43m'\u001B[39;49m\u001B[43m,\u001B[49m\u001B[38;5;124;43m'\u001B[39;49m\u001B[38;5;124;43mpopulation\u001B[39;49m\u001B[38;5;124;43m'\u001B[39;49m\u001B[43m]\u001B[49m\u001B[43m]\u001B[49m\u001B[43m)\u001B[49m\n",
      "File \u001B[1;32m~\\DataspellProjects\\OpenAI\\gpt-labs\\lib\\site-packages\\pandas\\core\\algorithms.py:390\u001B[0m, in \u001B[0;36munique\u001B[1;34m(values)\u001B[0m\n\u001B[0;32m    296\u001B[0m \u001B[38;5;28;01mdef\u001B[39;00m \u001B[38;5;21munique\u001B[39m(values):\n\u001B[0;32m    297\u001B[0m \u001B[38;5;250m    \u001B[39m\u001B[38;5;124;03m\"\"\"\u001B[39;00m\n\u001B[0;32m    298\u001B[0m \u001B[38;5;124;03m    Return unique values based on a hash table.\u001B[39;00m\n\u001B[0;32m    299\u001B[0m \n\u001B[1;32m   (...)\u001B[0m\n\u001B[0;32m    388\u001B[0m \u001B[38;5;124;03m    array([('a', 'b'), ('b', 'a'), ('a', 'c')], dtype=object)\u001B[39;00m\n\u001B[0;32m    389\u001B[0m \u001B[38;5;124;03m    \"\"\"\u001B[39;00m\n\u001B[1;32m--> 390\u001B[0m     \u001B[38;5;28;01mreturn\u001B[39;00m \u001B[43munique_with_mask\u001B[49m\u001B[43m(\u001B[49m\u001B[43mvalues\u001B[49m\u001B[43m)\u001B[49m\n",
      "File \u001B[1;32m~\\DataspellProjects\\OpenAI\\gpt-labs\\lib\\site-packages\\pandas\\core\\algorithms.py:418\u001B[0m, in \u001B[0;36munique_with_mask\u001B[1;34m(values, mask)\u001B[0m\n\u001B[0;32m    416\u001B[0m \u001B[38;5;28;01mdef\u001B[39;00m \u001B[38;5;21munique_with_mask\u001B[39m(values, mask: npt\u001B[38;5;241m.\u001B[39mNDArray[np\u001B[38;5;241m.\u001B[39mbool_] \u001B[38;5;241m|\u001B[39m \u001B[38;5;28;01mNone\u001B[39;00m \u001B[38;5;241m=\u001B[39m \u001B[38;5;28;01mNone\u001B[39;00m):\n\u001B[0;32m    417\u001B[0m \u001B[38;5;250m    \u001B[39m\u001B[38;5;124;03m\"\"\"See algorithms.unique for docs. Takes a mask for masked arrays.\"\"\"\u001B[39;00m\n\u001B[1;32m--> 418\u001B[0m     values \u001B[38;5;241m=\u001B[39m \u001B[43m_ensure_arraylike\u001B[49m\u001B[43m(\u001B[49m\u001B[43mvalues\u001B[49m\u001B[43m)\u001B[49m\n\u001B[0;32m    420\u001B[0m     \u001B[38;5;28;01mif\u001B[39;00m is_extension_array_dtype(values\u001B[38;5;241m.\u001B[39mdtype):\n\u001B[0;32m    421\u001B[0m         \u001B[38;5;66;03m# Dispatch to extension dtype's unique.\u001B[39;00m\n\u001B[0;32m    422\u001B[0m         \u001B[38;5;28;01mreturn\u001B[39;00m values\u001B[38;5;241m.\u001B[39munique()\n",
      "File \u001B[1;32m~\\DataspellProjects\\OpenAI\\gpt-labs\\lib\\site-packages\\pandas\\core\\algorithms.py:227\u001B[0m, in \u001B[0;36m_ensure_arraylike\u001B[1;34m(values)\u001B[0m\n\u001B[0;32m    225\u001B[0m     \u001B[38;5;28;01mif\u001B[39;00m \u001B[38;5;28misinstance\u001B[39m(values, \u001B[38;5;28mtuple\u001B[39m):\n\u001B[0;32m    226\u001B[0m         values \u001B[38;5;241m=\u001B[39m \u001B[38;5;28mlist\u001B[39m(values)\n\u001B[1;32m--> 227\u001B[0m     values \u001B[38;5;241m=\u001B[39m \u001B[43mconstruct_1d_object_array_from_listlike\u001B[49m\u001B[43m(\u001B[49m\u001B[43mvalues\u001B[49m\u001B[43m)\u001B[49m\n\u001B[0;32m    228\u001B[0m \u001B[38;5;28;01melse\u001B[39;00m:\n\u001B[0;32m    229\u001B[0m     values \u001B[38;5;241m=\u001B[39m np\u001B[38;5;241m.\u001B[39masarray(values)\n",
      "File \u001B[1;32m~\\DataspellProjects\\OpenAI\\gpt-labs\\lib\\site-packages\\pandas\\core\\dtypes\\cast.py:1594\u001B[0m, in \u001B[0;36mconstruct_1d_object_array_from_listlike\u001B[1;34m(values)\u001B[0m\n\u001B[0;32m   1591\u001B[0m \u001B[38;5;66;03m# numpy will try to interpret nested lists as further dimensions, hence\u001B[39;00m\n\u001B[0;32m   1592\u001B[0m \u001B[38;5;66;03m# making a 1D array that contains list-likes is a bit tricky:\u001B[39;00m\n\u001B[0;32m   1593\u001B[0m result \u001B[38;5;241m=\u001B[39m np\u001B[38;5;241m.\u001B[39mempty(\u001B[38;5;28mlen\u001B[39m(values), dtype\u001B[38;5;241m=\u001B[39m\u001B[38;5;124m\"\u001B[39m\u001B[38;5;124mobject\u001B[39m\u001B[38;5;124m\"\u001B[39m)\n\u001B[1;32m-> 1594\u001B[0m \u001B[43mresult\u001B[49m\u001B[43m[\u001B[49m\u001B[43m:\u001B[49m\u001B[43m]\u001B[49m \u001B[38;5;241m=\u001B[39m values\n\u001B[0;32m   1595\u001B[0m \u001B[38;5;28;01mreturn\u001B[39;00m result\n",
      "\u001B[1;31mValueError\u001B[0m: could not broadcast input array from shape (1704,2) into shape (1704,)"
     ]
    }
   ],
   "source": [
    "pd.unique(df[['country', 'population']])"
   ],
   "metadata": {
    "collapsed": false,
    "ExecuteTime": {
     "end_time": "2024-03-31T08:44:34.780401Z",
     "start_time": "2024-03-31T08:44:34.714402Z"
    }
   },
   "id": "f3beb28fee48411f",
   "execution_count": 107
  },
  {
   "cell_type": "code",
   "outputs": [],
   "source": [
    "df.index = list(range(2, df.shape[0] + 2))"
   ],
   "metadata": {
    "collapsed": false,
    "ExecuteTime": {
     "end_time": "2024-03-31T09:43:21.057622Z",
     "start_time": "2024-03-31T09:43:21.046516Z"
    }
   },
   "id": "b4b5bfe72abc5579",
   "execution_count": 129
  },
  {
   "cell_type": "code",
   "outputs": [
    {
     "data": {
      "text/plain": "Index([   2,    3,    4,    5,    6,    7,    8,    9,   10,   11,\n       ...\n       1696, 1697, 1698, 1699, 1700, 1701, 1702, 1703, 1704, 1705],\n      dtype='int64', length=1704)"
     },
     "execution_count": 125,
     "metadata": {},
     "output_type": "execute_result"
    }
   ],
   "source": [
    "df.index"
   ],
   "metadata": {
    "collapsed": false,
    "ExecuteTime": {
     "end_time": "2024-03-31T09:41:04.339160Z",
     "start_time": "2024-03-31T09:41:04.323617Z"
    }
   },
   "id": "a2fdeb7e4b6001bd",
   "execution_count": 125
  },
  {
   "cell_type": "code",
   "outputs": [
    {
     "ename": "SyntaxError",
     "evalue": "invalid syntax (3922570497.py, line 1)",
     "output_type": "error",
     "traceback": [
      "\u001B[1;36m  Cell \u001B[1;32mIn[158], line 1\u001B[1;36m\u001B[0m\n\u001B[1;33m    df[[2,4], axis=1] = 2\u001B[0m\n\u001B[1;37m                  ^\u001B[0m\n\u001B[1;31mSyntaxError\u001B[0m\u001B[1;31m:\u001B[0m invalid syntax\n"
     ]
    }
   ],
   "source": [
    "df[]"
   ],
   "metadata": {
    "collapsed": false,
    "ExecuteTime": {
     "end_time": "2024-03-31T09:48:49.700454Z",
     "start_time": "2024-03-31T09:48:49.679093Z"
    }
   },
   "id": "a590ae028401fe35",
   "execution_count": 158
  },
  {
   "cell_type": "code",
   "outputs": [
    {
     "data": {
      "text/plain": "          country  year  population continent  life_exp     gdp_cap  (2, 4)  \\\n0     Afghanistan  1952     8425333      Asia    28.801  779.445314       2   \n1     Afghanistan  1957     9240934      Asia    30.332  820.853030       2   \n2     Afghanistan  1962    10267083      Asia    31.997  853.100710       2   \n3     Afghanistan  1967    11537966      Asia    34.020  836.197138       2   \n4     Afghanistan  1972    13079460      Asia    36.088  739.981106       2   \n...           ...   ...         ...       ...       ...         ...     ...   \n1699     Zimbabwe  1987     9216418    Africa    62.351  706.157306       2   \n1700     Zimbabwe  1992    10704340    Africa    60.377  693.420786       2   \n1701     Zimbabwe  1997    11404948    Africa    46.809  792.449960       2   \n1702     Zimbabwe  2002    11926563    Africa    39.989  672.038623       2   \n1703     Zimbabwe  2007    12311143    Africa    43.487  469.709298       2   \n\n      2  4  \n0     2  2  \n1     2  2  \n2     2  2  \n3     2  2  \n4     2  2  \n...  .. ..  \n1699  2  2  \n1700  2  2  \n1701  2  2  \n1702  2  2  \n1703  2  2  \n\n[1704 rows x 9 columns]",
      "text/html": "<div>\n<style scoped>\n    .dataframe tbody tr th:only-of-type {\n        vertical-align: middle;\n    }\n\n    .dataframe tbody tr th {\n        vertical-align: top;\n    }\n\n    .dataframe thead th {\n        text-align: right;\n    }\n</style>\n<table border=\"1\" class=\"dataframe\">\n  <thead>\n    <tr style=\"text-align: right;\">\n      <th></th>\n      <th>country</th>\n      <th>year</th>\n      <th>population</th>\n      <th>continent</th>\n      <th>life_exp</th>\n      <th>gdp_cap</th>\n      <th>(2, 4)</th>\n      <th>2</th>\n      <th>4</th>\n    </tr>\n  </thead>\n  <tbody>\n    <tr>\n      <th>0</th>\n      <td>Afghanistan</td>\n      <td>1952</td>\n      <td>8425333</td>\n      <td>Asia</td>\n      <td>28.801</td>\n      <td>779.445314</td>\n      <td>2</td>\n      <td>2</td>\n      <td>2</td>\n    </tr>\n    <tr>\n      <th>1</th>\n      <td>Afghanistan</td>\n      <td>1957</td>\n      <td>9240934</td>\n      <td>Asia</td>\n      <td>30.332</td>\n      <td>820.853030</td>\n      <td>2</td>\n      <td>2</td>\n      <td>2</td>\n    </tr>\n    <tr>\n      <th>2</th>\n      <td>Afghanistan</td>\n      <td>1962</td>\n      <td>10267083</td>\n      <td>Asia</td>\n      <td>31.997</td>\n      <td>853.100710</td>\n      <td>2</td>\n      <td>2</td>\n      <td>2</td>\n    </tr>\n    <tr>\n      <th>3</th>\n      <td>Afghanistan</td>\n      <td>1967</td>\n      <td>11537966</td>\n      <td>Asia</td>\n      <td>34.020</td>\n      <td>836.197138</td>\n      <td>2</td>\n      <td>2</td>\n      <td>2</td>\n    </tr>\n    <tr>\n      <th>4</th>\n      <td>Afghanistan</td>\n      <td>1972</td>\n      <td>13079460</td>\n      <td>Asia</td>\n      <td>36.088</td>\n      <td>739.981106</td>\n      <td>2</td>\n      <td>2</td>\n      <td>2</td>\n    </tr>\n    <tr>\n      <th>...</th>\n      <td>...</td>\n      <td>...</td>\n      <td>...</td>\n      <td>...</td>\n      <td>...</td>\n      <td>...</td>\n      <td>...</td>\n      <td>...</td>\n      <td>...</td>\n    </tr>\n    <tr>\n      <th>1699</th>\n      <td>Zimbabwe</td>\n      <td>1987</td>\n      <td>9216418</td>\n      <td>Africa</td>\n      <td>62.351</td>\n      <td>706.157306</td>\n      <td>2</td>\n      <td>2</td>\n      <td>2</td>\n    </tr>\n    <tr>\n      <th>1700</th>\n      <td>Zimbabwe</td>\n      <td>1992</td>\n      <td>10704340</td>\n      <td>Africa</td>\n      <td>60.377</td>\n      <td>693.420786</td>\n      <td>2</td>\n      <td>2</td>\n      <td>2</td>\n    </tr>\n    <tr>\n      <th>1701</th>\n      <td>Zimbabwe</td>\n      <td>1997</td>\n      <td>11404948</td>\n      <td>Africa</td>\n      <td>46.809</td>\n      <td>792.449960</td>\n      <td>2</td>\n      <td>2</td>\n      <td>2</td>\n    </tr>\n    <tr>\n      <th>1702</th>\n      <td>Zimbabwe</td>\n      <td>2002</td>\n      <td>11926563</td>\n      <td>Africa</td>\n      <td>39.989</td>\n      <td>672.038623</td>\n      <td>2</td>\n      <td>2</td>\n      <td>2</td>\n    </tr>\n    <tr>\n      <th>1703</th>\n      <td>Zimbabwe</td>\n      <td>2007</td>\n      <td>12311143</td>\n      <td>Africa</td>\n      <td>43.487</td>\n      <td>469.709298</td>\n      <td>2</td>\n      <td>2</td>\n      <td>2</td>\n    </tr>\n  </tbody>\n</table>\n<p>1704 rows × 9 columns</p>\n</div>"
     },
     "execution_count": 157,
     "metadata": {},
     "output_type": "execute_result"
    }
   ],
   "source": [
    "df"
   ],
   "metadata": {
    "collapsed": false,
    "ExecuteTime": {
     "end_time": "2024-03-31T09:48:34.132398Z",
     "start_time": "2024-03-31T09:48:34.109644Z"
    }
   },
   "id": "7b2044fc6f2bfb7f",
   "execution_count": 157
  },
  {
   "cell_type": "code",
   "outputs": [
    {
     "data": {
      "text/plain": "          country  year  population continent  life_exp     gdp_cap  (2, 4)\n0     Afghanistan  1952     8425333      Asia    28.801  779.445314       2\n1     Afghanistan  1957     9240934      Asia    30.332  820.853030       2\n2     Afghanistan  1962    10267083      Asia    31.997  853.100710       2\n3     Afghanistan  1967    11537966      Asia    34.020  836.197138       2\n4     Afghanistan  1972    13079460      Asia    36.088  739.981106       2\n...           ...   ...         ...       ...       ...         ...     ...\n1699     Zimbabwe  1987     9216418    Africa    62.351  706.157306       2\n1700     Zimbabwe  1992    10704340    Africa    60.377  693.420786       2\n1701     Zimbabwe  1997    11404948    Africa    46.809  792.449960       2\n1702     Zimbabwe  2002    11926563    Africa    39.989  672.038623       2\n1703     Zimbabwe  2007    12311143    Africa    43.487  469.709298       2\n\n[1704 rows x 7 columns]",
      "text/html": "<div>\n<style scoped>\n    .dataframe tbody tr th:only-of-type {\n        vertical-align: middle;\n    }\n\n    .dataframe tbody tr th {\n        vertical-align: top;\n    }\n\n    .dataframe thead th {\n        text-align: right;\n    }\n</style>\n<table border=\"1\" class=\"dataframe\">\n  <thead>\n    <tr style=\"text-align: right;\">\n      <th></th>\n      <th>country</th>\n      <th>year</th>\n      <th>population</th>\n      <th>continent</th>\n      <th>life_exp</th>\n      <th>gdp_cap</th>\n      <th>(2, 4)</th>\n    </tr>\n  </thead>\n  <tbody>\n    <tr>\n      <th>0</th>\n      <td>Afghanistan</td>\n      <td>1952</td>\n      <td>8425333</td>\n      <td>Asia</td>\n      <td>28.801</td>\n      <td>779.445314</td>\n      <td>2</td>\n    </tr>\n    <tr>\n      <th>1</th>\n      <td>Afghanistan</td>\n      <td>1957</td>\n      <td>9240934</td>\n      <td>Asia</td>\n      <td>30.332</td>\n      <td>820.853030</td>\n      <td>2</td>\n    </tr>\n    <tr>\n      <th>2</th>\n      <td>Afghanistan</td>\n      <td>1962</td>\n      <td>10267083</td>\n      <td>Asia</td>\n      <td>31.997</td>\n      <td>853.100710</td>\n      <td>2</td>\n    </tr>\n    <tr>\n      <th>3</th>\n      <td>Afghanistan</td>\n      <td>1967</td>\n      <td>11537966</td>\n      <td>Asia</td>\n      <td>34.020</td>\n      <td>836.197138</td>\n      <td>2</td>\n    </tr>\n    <tr>\n      <th>4</th>\n      <td>Afghanistan</td>\n      <td>1972</td>\n      <td>13079460</td>\n      <td>Asia</td>\n      <td>36.088</td>\n      <td>739.981106</td>\n      <td>2</td>\n    </tr>\n    <tr>\n      <th>...</th>\n      <td>...</td>\n      <td>...</td>\n      <td>...</td>\n      <td>...</td>\n      <td>...</td>\n      <td>...</td>\n      <td>...</td>\n    </tr>\n    <tr>\n      <th>1699</th>\n      <td>Zimbabwe</td>\n      <td>1987</td>\n      <td>9216418</td>\n      <td>Africa</td>\n      <td>62.351</td>\n      <td>706.157306</td>\n      <td>2</td>\n    </tr>\n    <tr>\n      <th>1700</th>\n      <td>Zimbabwe</td>\n      <td>1992</td>\n      <td>10704340</td>\n      <td>Africa</td>\n      <td>60.377</td>\n      <td>693.420786</td>\n      <td>2</td>\n    </tr>\n    <tr>\n      <th>1701</th>\n      <td>Zimbabwe</td>\n      <td>1997</td>\n      <td>11404948</td>\n      <td>Africa</td>\n      <td>46.809</td>\n      <td>792.449960</td>\n      <td>2</td>\n    </tr>\n    <tr>\n      <th>1702</th>\n      <td>Zimbabwe</td>\n      <td>2002</td>\n      <td>11926563</td>\n      <td>Africa</td>\n      <td>39.989</td>\n      <td>672.038623</td>\n      <td>2</td>\n    </tr>\n    <tr>\n      <th>1703</th>\n      <td>Zimbabwe</td>\n      <td>2007</td>\n      <td>12311143</td>\n      <td>Africa</td>\n      <td>43.487</td>\n      <td>469.709298</td>\n      <td>2</td>\n    </tr>\n  </tbody>\n</table>\n<p>1704 rows × 7 columns</p>\n</div>"
     },
     "execution_count": 155,
     "metadata": {},
     "output_type": "execute_result"
    }
   ],
   "source": [
    "df"
   ],
   "metadata": {
    "collapsed": false,
    "ExecuteTime": {
     "end_time": "2024-03-31T09:47:57.550960Z",
     "start_time": "2024-03-31T09:47:57.527640Z"
    }
   },
   "id": "125ca5598e114038",
   "execution_count": 155
  },
  {
   "cell_type": "code",
   "outputs": [
    {
     "ename": "TypeError",
     "evalue": "Passing a dict as an indexer is not supported. Use a list instead.",
     "output_type": "error",
     "traceback": [
      "\u001B[1;31m---------------------------------------------------------------------------\u001B[0m",
      "\u001B[1;31mTypeError\u001B[0m                                 Traceback (most recent call last)",
      "Cell \u001B[1;32mIn[159], line 1\u001B[0m\n\u001B[1;32m----> 1\u001B[0m \u001B[43mdf\u001B[49m\u001B[43m[\u001B[49m\u001B[43m{\u001B[49m\u001B[38;5;124;43m'\u001B[39;49m\u001B[38;5;124;43mcountry\u001B[39;49m\u001B[38;5;124;43m'\u001B[39;49m\u001B[43m:\u001B[49m\u001B[43m \u001B[49m\u001B[38;5;124;43m'\u001B[39;49m\u001B[38;5;124;43mHarappa\u001B[39;49m\u001B[38;5;124;43m'\u001B[39;49m\u001B[43m,\u001B[49m\u001B[43m \u001B[49m\u001B[38;5;124;43m'\u001B[39;49m\u001B[38;5;124;43myear\u001B[39;49m\u001B[38;5;124;43m'\u001B[39;49m\u001B[43m:\u001B[49m\u001B[43m \u001B[49m\u001B[38;5;241;43m2024\u001B[39;49m\u001B[43m}\u001B[49m\u001B[43m]\u001B[49m\n",
      "File \u001B[1;32m~\\DataspellProjects\\OpenAI\\gpt-labs\\lib\\site-packages\\pandas\\core\\frame.py:3714\u001B[0m, in \u001B[0;36mDataFrame.__getitem__\u001B[1;34m(self, key)\u001B[0m\n\u001B[0;32m   3713\u001B[0m \u001B[38;5;28;01mdef\u001B[39;00m \u001B[38;5;21m__getitem__\u001B[39m(\u001B[38;5;28mself\u001B[39m, key):\n\u001B[1;32m-> 3714\u001B[0m     \u001B[43mcheck_dict_or_set_indexers\u001B[49m\u001B[43m(\u001B[49m\u001B[43mkey\u001B[49m\u001B[43m)\u001B[49m\n\u001B[0;32m   3715\u001B[0m     key \u001B[38;5;241m=\u001B[39m lib\u001B[38;5;241m.\u001B[39mitem_from_zerodim(key)\n\u001B[0;32m   3716\u001B[0m     key \u001B[38;5;241m=\u001B[39m com\u001B[38;5;241m.\u001B[39mapply_if_callable(key, \u001B[38;5;28mself\u001B[39m)\n",
      "File \u001B[1;32m~\\DataspellProjects\\OpenAI\\gpt-labs\\lib\\site-packages\\pandas\\core\\indexing.py:2627\u001B[0m, in \u001B[0;36mcheck_dict_or_set_indexers\u001B[1;34m(key)\u001B[0m\n\u001B[0;32m   2618\u001B[0m     \u001B[38;5;28;01mraise\u001B[39;00m \u001B[38;5;167;01mTypeError\u001B[39;00m(\n\u001B[0;32m   2619\u001B[0m         \u001B[38;5;124m\"\u001B[39m\u001B[38;5;124mPassing a set as an indexer is not supported. Use a list instead.\u001B[39m\u001B[38;5;124m\"\u001B[39m\n\u001B[0;32m   2620\u001B[0m     )\n\u001B[0;32m   2622\u001B[0m \u001B[38;5;28;01mif\u001B[39;00m (\n\u001B[0;32m   2623\u001B[0m     \u001B[38;5;28misinstance\u001B[39m(key, \u001B[38;5;28mdict\u001B[39m)\n\u001B[0;32m   2624\u001B[0m     \u001B[38;5;129;01mor\u001B[39;00m \u001B[38;5;28misinstance\u001B[39m(key, \u001B[38;5;28mtuple\u001B[39m)\n\u001B[0;32m   2625\u001B[0m     \u001B[38;5;129;01mand\u001B[39;00m \u001B[38;5;28many\u001B[39m(\u001B[38;5;28misinstance\u001B[39m(x, \u001B[38;5;28mdict\u001B[39m) \u001B[38;5;28;01mfor\u001B[39;00m x \u001B[38;5;129;01min\u001B[39;00m key)\n\u001B[0;32m   2626\u001B[0m ):\n\u001B[1;32m-> 2627\u001B[0m     \u001B[38;5;28;01mraise\u001B[39;00m \u001B[38;5;167;01mTypeError\u001B[39;00m(\n\u001B[0;32m   2628\u001B[0m         \u001B[38;5;124m\"\u001B[39m\u001B[38;5;124mPassing a dict as an indexer is not supported. Use a list instead.\u001B[39m\u001B[38;5;124m\"\u001B[39m\n\u001B[0;32m   2629\u001B[0m     )\n",
      "\u001B[1;31mTypeError\u001B[0m: Passing a dict as an indexer is not supported. Use a list instead."
     ]
    }
   ],
   "source": [
    "df[{'country': 'Harappa', 'year': 2024}]"
   ],
   "metadata": {
    "collapsed": false,
    "ExecuteTime": {
     "end_time": "2024-03-31T09:51:54.775850Z",
     "start_time": "2024-03-31T09:51:54.622102Z"
    }
   },
   "id": "c3e23b3bfcda5037",
   "execution_count": 159
  },
  {
   "cell_type": "code",
   "outputs": [],
   "source": [
    "demo = pd.Series(['a', 'b', 'c', 'd', 'e'], index=[1, 5, 3, 7, 6])"
   ],
   "metadata": {
    "collapsed": false,
    "ExecuteTime": {
     "end_time": "2024-03-31T10:08:03.684336Z",
     "start_time": "2024-03-31T10:08:03.679338Z"
    }
   },
   "id": "d9e64ce9a95aaae3",
   "execution_count": 169
  },
  {
   "cell_type": "code",
   "outputs": [
    {
     "data": {
      "text/plain": "1    a\n5    b\n3    c\n7    d\n6    e\ndtype: object"
     },
     "execution_count": 173,
     "metadata": {},
     "output_type": "execute_result"
    }
   ],
   "source": [
    "demo.loc[1:6]"
   ],
   "metadata": {
    "collapsed": false,
    "ExecuteTime": {
     "end_time": "2024-03-31T10:12:34.286311Z",
     "start_time": "2024-03-31T10:12:34.275411Z"
    }
   },
   "id": "1df8b85541a56241",
   "execution_count": 173
  },
  {
   "cell_type": "code",
   "outputs": [
    {
     "data": {
      "text/plain": "1    a\n5    b\n3    c\n7    d\n6    e\ndtype: object"
     },
     "execution_count": 171,
     "metadata": {},
     "output_type": "execute_result"
    }
   ],
   "source": [
    "demo"
   ],
   "metadata": {
    "collapsed": false,
    "ExecuteTime": {
     "end_time": "2024-03-31T10:08:19.074808Z",
     "start_time": "2024-03-31T10:08:19.057535Z"
    }
   },
   "id": "feed114a3cfbb353",
   "execution_count": 171
  },
  {
   "cell_type": "code",
   "outputs": [
    {
     "ename": "KeyError",
     "evalue": "-1",
     "output_type": "error",
     "traceback": [
      "\u001B[1;31m---------------------------------------------------------------------------\u001B[0m",
      "\u001B[1;31mValueError\u001B[0m                                Traceback (most recent call last)",
      "File \u001B[1;32m~\\DataspellProjects\\OpenAI\\gpt-labs\\lib\\site-packages\\pandas\\core\\indexes\\range.py:345\u001B[0m, in \u001B[0;36mRangeIndex.get_loc\u001B[1;34m(self, key)\u001B[0m\n\u001B[0;32m    344\u001B[0m \u001B[38;5;28;01mtry\u001B[39;00m:\n\u001B[1;32m--> 345\u001B[0m     \u001B[38;5;28;01mreturn\u001B[39;00m \u001B[38;5;28;43mself\u001B[39;49m\u001B[38;5;241;43m.\u001B[39;49m\u001B[43m_range\u001B[49m\u001B[38;5;241;43m.\u001B[39;49m\u001B[43mindex\u001B[49m\u001B[43m(\u001B[49m\u001B[43mnew_key\u001B[49m\u001B[43m)\u001B[49m\n\u001B[0;32m    346\u001B[0m \u001B[38;5;28;01mexcept\u001B[39;00m \u001B[38;5;167;01mValueError\u001B[39;00m \u001B[38;5;28;01mas\u001B[39;00m err:\n",
      "\u001B[1;31mValueError\u001B[0m: -1 is not in range",
      "\nThe above exception was the direct cause of the following exception:\n",
      "\u001B[1;31mKeyError\u001B[0m                                  Traceback (most recent call last)",
      "Cell \u001B[1;32mIn[180], line 1\u001B[0m\n\u001B[1;32m----> 1\u001B[0m \u001B[43mdf\u001B[49m\u001B[38;5;241;43m.\u001B[39;49m\u001B[43mloc\u001B[49m\u001B[43m[\u001B[49m\u001B[38;5;241;43m-\u001B[39;49m\u001B[38;5;241;43m1\u001B[39;49m\u001B[43m]\u001B[49m\n",
      "File \u001B[1;32m~\\DataspellProjects\\OpenAI\\gpt-labs\\lib\\site-packages\\pandas\\core\\indexing.py:1103\u001B[0m, in \u001B[0;36m_LocationIndexer.__getitem__\u001B[1;34m(self, key)\u001B[0m\n\u001B[0;32m   1100\u001B[0m axis \u001B[38;5;241m=\u001B[39m \u001B[38;5;28mself\u001B[39m\u001B[38;5;241m.\u001B[39maxis \u001B[38;5;129;01mor\u001B[39;00m \u001B[38;5;241m0\u001B[39m\n\u001B[0;32m   1102\u001B[0m maybe_callable \u001B[38;5;241m=\u001B[39m com\u001B[38;5;241m.\u001B[39mapply_if_callable(key, \u001B[38;5;28mself\u001B[39m\u001B[38;5;241m.\u001B[39mobj)\n\u001B[1;32m-> 1103\u001B[0m \u001B[38;5;28;01mreturn\u001B[39;00m \u001B[38;5;28;43mself\u001B[39;49m\u001B[38;5;241;43m.\u001B[39;49m\u001B[43m_getitem_axis\u001B[49m\u001B[43m(\u001B[49m\u001B[43mmaybe_callable\u001B[49m\u001B[43m,\u001B[49m\u001B[43m \u001B[49m\u001B[43maxis\u001B[49m\u001B[38;5;241;43m=\u001B[39;49m\u001B[43maxis\u001B[49m\u001B[43m)\u001B[49m\n",
      "File \u001B[1;32m~\\DataspellProjects\\OpenAI\\gpt-labs\\lib\\site-packages\\pandas\\core\\indexing.py:1343\u001B[0m, in \u001B[0;36m_LocIndexer._getitem_axis\u001B[1;34m(self, key, axis)\u001B[0m\n\u001B[0;32m   1341\u001B[0m \u001B[38;5;66;03m# fall thru to straight lookup\u001B[39;00m\n\u001B[0;32m   1342\u001B[0m \u001B[38;5;28mself\u001B[39m\u001B[38;5;241m.\u001B[39m_validate_key(key, axis)\n\u001B[1;32m-> 1343\u001B[0m \u001B[38;5;28;01mreturn\u001B[39;00m \u001B[38;5;28;43mself\u001B[39;49m\u001B[38;5;241;43m.\u001B[39;49m\u001B[43m_get_label\u001B[49m\u001B[43m(\u001B[49m\u001B[43mkey\u001B[49m\u001B[43m,\u001B[49m\u001B[43m \u001B[49m\u001B[43maxis\u001B[49m\u001B[38;5;241;43m=\u001B[39;49m\u001B[43maxis\u001B[49m\u001B[43m)\u001B[49m\n",
      "File \u001B[1;32m~\\DataspellProjects\\OpenAI\\gpt-labs\\lib\\site-packages\\pandas\\core\\indexing.py:1293\u001B[0m, in \u001B[0;36m_LocIndexer._get_label\u001B[1;34m(self, label, axis)\u001B[0m\n\u001B[0;32m   1291\u001B[0m \u001B[38;5;28;01mdef\u001B[39;00m \u001B[38;5;21m_get_label\u001B[39m(\u001B[38;5;28mself\u001B[39m, label, axis: AxisInt):\n\u001B[0;32m   1292\u001B[0m     \u001B[38;5;66;03m# GH#5567 this will fail if the label is not present in the axis.\u001B[39;00m\n\u001B[1;32m-> 1293\u001B[0m     \u001B[38;5;28;01mreturn\u001B[39;00m \u001B[38;5;28;43mself\u001B[39;49m\u001B[38;5;241;43m.\u001B[39;49m\u001B[43mobj\u001B[49m\u001B[38;5;241;43m.\u001B[39;49m\u001B[43mxs\u001B[49m\u001B[43m(\u001B[49m\u001B[43mlabel\u001B[49m\u001B[43m,\u001B[49m\u001B[43m \u001B[49m\u001B[43maxis\u001B[49m\u001B[38;5;241;43m=\u001B[39;49m\u001B[43maxis\u001B[49m\u001B[43m)\u001B[49m\n",
      "File \u001B[1;32m~\\DataspellProjects\\OpenAI\\gpt-labs\\lib\\site-packages\\pandas\\core\\generic.py:4095\u001B[0m, in \u001B[0;36mNDFrame.xs\u001B[1;34m(self, key, axis, level, drop_level)\u001B[0m\n\u001B[0;32m   4093\u001B[0m             new_index \u001B[38;5;241m=\u001B[39m index[loc]\n\u001B[0;32m   4094\u001B[0m \u001B[38;5;28;01melse\u001B[39;00m:\n\u001B[1;32m-> 4095\u001B[0m     loc \u001B[38;5;241m=\u001B[39m \u001B[43mindex\u001B[49m\u001B[38;5;241;43m.\u001B[39;49m\u001B[43mget_loc\u001B[49m\u001B[43m(\u001B[49m\u001B[43mkey\u001B[49m\u001B[43m)\u001B[49m\n\u001B[0;32m   4097\u001B[0m     \u001B[38;5;28;01mif\u001B[39;00m \u001B[38;5;28misinstance\u001B[39m(loc, np\u001B[38;5;241m.\u001B[39mndarray):\n\u001B[0;32m   4098\u001B[0m         \u001B[38;5;28;01mif\u001B[39;00m loc\u001B[38;5;241m.\u001B[39mdtype \u001B[38;5;241m==\u001B[39m np\u001B[38;5;241m.\u001B[39mbool_:\n",
      "File \u001B[1;32m~\\DataspellProjects\\OpenAI\\gpt-labs\\lib\\site-packages\\pandas\\core\\indexes\\range.py:347\u001B[0m, in \u001B[0;36mRangeIndex.get_loc\u001B[1;34m(self, key)\u001B[0m\n\u001B[0;32m    345\u001B[0m         \u001B[38;5;28;01mreturn\u001B[39;00m \u001B[38;5;28mself\u001B[39m\u001B[38;5;241m.\u001B[39m_range\u001B[38;5;241m.\u001B[39mindex(new_key)\n\u001B[0;32m    346\u001B[0m     \u001B[38;5;28;01mexcept\u001B[39;00m \u001B[38;5;167;01mValueError\u001B[39;00m \u001B[38;5;28;01mas\u001B[39;00m err:\n\u001B[1;32m--> 347\u001B[0m         \u001B[38;5;28;01mraise\u001B[39;00m \u001B[38;5;167;01mKeyError\u001B[39;00m(key) \u001B[38;5;28;01mfrom\u001B[39;00m \u001B[38;5;21;01merr\u001B[39;00m\n\u001B[0;32m    348\u001B[0m \u001B[38;5;28;01mif\u001B[39;00m \u001B[38;5;28misinstance\u001B[39m(key, Hashable):\n\u001B[0;32m    349\u001B[0m     \u001B[38;5;28;01mraise\u001B[39;00m \u001B[38;5;167;01mKeyError\u001B[39;00m(key)\n",
      "\u001B[1;31mKeyError\u001B[0m: -1"
     ]
    }
   ],
   "source": [
    "df.loc[-1]"
   ],
   "metadata": {
    "collapsed": false,
    "ExecuteTime": {
     "end_time": "2024-03-31T10:19:45.487531Z",
     "start_time": "2024-03-31T10:19:45.358517Z"
    }
   },
   "id": "2263fbeeebe8c134",
   "execution_count": 180
  },
  {
   "cell_type": "code",
   "outputs": [
    {
     "data": {
      "text/plain": "             year  population continent  life_exp     gdp_cap  (2, 4)  2  4\ncountry                                                                    \nAfghanistan  1952     8425333      Asia    28.801  779.445314       2  2  2\nAfghanistan  1957     9240934      Asia    30.332  820.853030       2  2  2\nAfghanistan  1962    10267083      Asia    31.997  853.100710       2  2  2\nAfghanistan  1967    11537966      Asia    34.020  836.197138       2  2  2\nAfghanistan  1972    13079460      Asia    36.088  739.981106       2  2  2\n...           ...         ...       ...       ...         ...     ... .. ..\nZimbabwe     1987     9216418    Africa    62.351  706.157306       2  2  2\nZimbabwe     1992    10704340    Africa    60.377  693.420786       2  2  2\nZimbabwe     1997    11404948    Africa    46.809  792.449960       2  2  2\nZimbabwe     2002    11926563    Africa    39.989  672.038623       2  2  2\nZimbabwe     2007    12311143    Africa    43.487  469.709298       2  2  2\n\n[1704 rows x 8 columns]",
      "text/html": "<div>\n<style scoped>\n    .dataframe tbody tr th:only-of-type {\n        vertical-align: middle;\n    }\n\n    .dataframe tbody tr th {\n        vertical-align: top;\n    }\n\n    .dataframe thead th {\n        text-align: right;\n    }\n</style>\n<table border=\"1\" class=\"dataframe\">\n  <thead>\n    <tr style=\"text-align: right;\">\n      <th></th>\n      <th>year</th>\n      <th>population</th>\n      <th>continent</th>\n      <th>life_exp</th>\n      <th>gdp_cap</th>\n      <th>(2, 4)</th>\n      <th>2</th>\n      <th>4</th>\n    </tr>\n    <tr>\n      <th>country</th>\n      <th></th>\n      <th></th>\n      <th></th>\n      <th></th>\n      <th></th>\n      <th></th>\n      <th></th>\n      <th></th>\n    </tr>\n  </thead>\n  <tbody>\n    <tr>\n      <th>Afghanistan</th>\n      <td>1952</td>\n      <td>8425333</td>\n      <td>Asia</td>\n      <td>28.801</td>\n      <td>779.445314</td>\n      <td>2</td>\n      <td>2</td>\n      <td>2</td>\n    </tr>\n    <tr>\n      <th>Afghanistan</th>\n      <td>1957</td>\n      <td>9240934</td>\n      <td>Asia</td>\n      <td>30.332</td>\n      <td>820.853030</td>\n      <td>2</td>\n      <td>2</td>\n      <td>2</td>\n    </tr>\n    <tr>\n      <th>Afghanistan</th>\n      <td>1962</td>\n      <td>10267083</td>\n      <td>Asia</td>\n      <td>31.997</td>\n      <td>853.100710</td>\n      <td>2</td>\n      <td>2</td>\n      <td>2</td>\n    </tr>\n    <tr>\n      <th>Afghanistan</th>\n      <td>1967</td>\n      <td>11537966</td>\n      <td>Asia</td>\n      <td>34.020</td>\n      <td>836.197138</td>\n      <td>2</td>\n      <td>2</td>\n      <td>2</td>\n    </tr>\n    <tr>\n      <th>Afghanistan</th>\n      <td>1972</td>\n      <td>13079460</td>\n      <td>Asia</td>\n      <td>36.088</td>\n      <td>739.981106</td>\n      <td>2</td>\n      <td>2</td>\n      <td>2</td>\n    </tr>\n    <tr>\n      <th>...</th>\n      <td>...</td>\n      <td>...</td>\n      <td>...</td>\n      <td>...</td>\n      <td>...</td>\n      <td>...</td>\n      <td>...</td>\n      <td>...</td>\n    </tr>\n    <tr>\n      <th>Zimbabwe</th>\n      <td>1987</td>\n      <td>9216418</td>\n      <td>Africa</td>\n      <td>62.351</td>\n      <td>706.157306</td>\n      <td>2</td>\n      <td>2</td>\n      <td>2</td>\n    </tr>\n    <tr>\n      <th>Zimbabwe</th>\n      <td>1992</td>\n      <td>10704340</td>\n      <td>Africa</td>\n      <td>60.377</td>\n      <td>693.420786</td>\n      <td>2</td>\n      <td>2</td>\n      <td>2</td>\n    </tr>\n    <tr>\n      <th>Zimbabwe</th>\n      <td>1997</td>\n      <td>11404948</td>\n      <td>Africa</td>\n      <td>46.809</td>\n      <td>792.449960</td>\n      <td>2</td>\n      <td>2</td>\n      <td>2</td>\n    </tr>\n    <tr>\n      <th>Zimbabwe</th>\n      <td>2002</td>\n      <td>11926563</td>\n      <td>Africa</td>\n      <td>39.989</td>\n      <td>672.038623</td>\n      <td>2</td>\n      <td>2</td>\n      <td>2</td>\n    </tr>\n    <tr>\n      <th>Zimbabwe</th>\n      <td>2007</td>\n      <td>12311143</td>\n      <td>Africa</td>\n      <td>43.487</td>\n      <td>469.709298</td>\n      <td>2</td>\n      <td>2</td>\n      <td>2</td>\n    </tr>\n  </tbody>\n</table>\n<p>1704 rows × 8 columns</p>\n</div>"
     },
     "execution_count": 206,
     "metadata": {},
     "output_type": "execute_result"
    }
   ],
   "source": [
    "temp = df.set_index('country')\n",
    "temp"
   ],
   "metadata": {
    "collapsed": false,
    "ExecuteTime": {
     "end_time": "2024-03-31T10:41:05.914293Z",
     "start_time": "2024-03-31T10:41:05.889174Z"
    }
   },
   "id": "635995216d20b720",
   "execution_count": 206
  },
  {
   "cell_type": "code",
   "outputs": [
    {
     "ename": "KeyError",
     "evalue": "'year'",
     "output_type": "error",
     "traceback": [
      "\u001B[1;31m---------------------------------------------------------------------------\u001B[0m",
      "\u001B[1;31mKeyError\u001B[0m                                  Traceback (most recent call last)",
      "File \u001B[1;32m~\\DataspellProjects\\OpenAI\\gpt-labs\\lib\\site-packages\\pandas\\core\\indexes\\base.py:3653\u001B[0m, in \u001B[0;36mIndex.get_loc\u001B[1;34m(self, key)\u001B[0m\n\u001B[0;32m   3652\u001B[0m \u001B[38;5;28;01mtry\u001B[39;00m:\n\u001B[1;32m-> 3653\u001B[0m     \u001B[38;5;28;01mreturn\u001B[39;00m \u001B[38;5;28;43mself\u001B[39;49m\u001B[38;5;241;43m.\u001B[39;49m\u001B[43m_engine\u001B[49m\u001B[38;5;241;43m.\u001B[39;49m\u001B[43mget_loc\u001B[49m\u001B[43m(\u001B[49m\u001B[43mcasted_key\u001B[49m\u001B[43m)\u001B[49m\n\u001B[0;32m   3654\u001B[0m \u001B[38;5;28;01mexcept\u001B[39;00m \u001B[38;5;167;01mKeyError\u001B[39;00m \u001B[38;5;28;01mas\u001B[39;00m err:\n",
      "File \u001B[1;32m~\\DataspellProjects\\OpenAI\\gpt-labs\\lib\\site-packages\\pandas\\_libs\\index.pyx:147\u001B[0m, in \u001B[0;36mpandas._libs.index.IndexEngine.get_loc\u001B[1;34m()\u001B[0m\n",
      "File \u001B[1;32m~\\DataspellProjects\\OpenAI\\gpt-labs\\lib\\site-packages\\pandas\\_libs\\index.pyx:171\u001B[0m, in \u001B[0;36mpandas._libs.index.IndexEngine.get_loc\u001B[1;34m()\u001B[0m\n",
      "File \u001B[1;32m~\\DataspellProjects\\OpenAI\\gpt-labs\\lib\\site-packages\\pandas\\_libs\\index.pyx:208\u001B[0m, in \u001B[0;36mpandas._libs.index.IndexEngine._get_loc_duplicates\u001B[1;34m()\u001B[0m\n",
      "\u001B[1;31mKeyError\u001B[0m: 'year'",
      "\nThe above exception was the direct cause of the following exception:\n",
      "\u001B[1;31mKeyError\u001B[0m                                  Traceback (most recent call last)",
      "Cell \u001B[1;32mIn[208], line 1\u001B[0m\n\u001B[1;32m----> 1\u001B[0m \u001B[43mtemp\u001B[49m\u001B[38;5;241;43m.\u001B[39;49m\u001B[43mloc\u001B[49m\u001B[43m[\u001B[49m\u001B[38;5;124;43m'\u001B[39;49m\u001B[38;5;124;43myear\u001B[39;49m\u001B[38;5;124;43m'\u001B[39;49m\u001B[43m]\u001B[49m\n",
      "File \u001B[1;32m~\\DataspellProjects\\OpenAI\\gpt-labs\\lib\\site-packages\\pandas\\core\\indexing.py:1103\u001B[0m, in \u001B[0;36m_LocationIndexer.__getitem__\u001B[1;34m(self, key)\u001B[0m\n\u001B[0;32m   1100\u001B[0m axis \u001B[38;5;241m=\u001B[39m \u001B[38;5;28mself\u001B[39m\u001B[38;5;241m.\u001B[39maxis \u001B[38;5;129;01mor\u001B[39;00m \u001B[38;5;241m0\u001B[39m\n\u001B[0;32m   1102\u001B[0m maybe_callable \u001B[38;5;241m=\u001B[39m com\u001B[38;5;241m.\u001B[39mapply_if_callable(key, \u001B[38;5;28mself\u001B[39m\u001B[38;5;241m.\u001B[39mobj)\n\u001B[1;32m-> 1103\u001B[0m \u001B[38;5;28;01mreturn\u001B[39;00m \u001B[38;5;28;43mself\u001B[39;49m\u001B[38;5;241;43m.\u001B[39;49m\u001B[43m_getitem_axis\u001B[49m\u001B[43m(\u001B[49m\u001B[43mmaybe_callable\u001B[49m\u001B[43m,\u001B[49m\u001B[43m \u001B[49m\u001B[43maxis\u001B[49m\u001B[38;5;241;43m=\u001B[39;49m\u001B[43maxis\u001B[49m\u001B[43m)\u001B[49m\n",
      "File \u001B[1;32m~\\DataspellProjects\\OpenAI\\gpt-labs\\lib\\site-packages\\pandas\\core\\indexing.py:1343\u001B[0m, in \u001B[0;36m_LocIndexer._getitem_axis\u001B[1;34m(self, key, axis)\u001B[0m\n\u001B[0;32m   1341\u001B[0m \u001B[38;5;66;03m# fall thru to straight lookup\u001B[39;00m\n\u001B[0;32m   1342\u001B[0m \u001B[38;5;28mself\u001B[39m\u001B[38;5;241m.\u001B[39m_validate_key(key, axis)\n\u001B[1;32m-> 1343\u001B[0m \u001B[38;5;28;01mreturn\u001B[39;00m \u001B[38;5;28;43mself\u001B[39;49m\u001B[38;5;241;43m.\u001B[39;49m\u001B[43m_get_label\u001B[49m\u001B[43m(\u001B[49m\u001B[43mkey\u001B[49m\u001B[43m,\u001B[49m\u001B[43m \u001B[49m\u001B[43maxis\u001B[49m\u001B[38;5;241;43m=\u001B[39;49m\u001B[43maxis\u001B[49m\u001B[43m)\u001B[49m\n",
      "File \u001B[1;32m~\\DataspellProjects\\OpenAI\\gpt-labs\\lib\\site-packages\\pandas\\core\\indexing.py:1293\u001B[0m, in \u001B[0;36m_LocIndexer._get_label\u001B[1;34m(self, label, axis)\u001B[0m\n\u001B[0;32m   1291\u001B[0m \u001B[38;5;28;01mdef\u001B[39;00m \u001B[38;5;21m_get_label\u001B[39m(\u001B[38;5;28mself\u001B[39m, label, axis: AxisInt):\n\u001B[0;32m   1292\u001B[0m     \u001B[38;5;66;03m# GH#5567 this will fail if the label is not present in the axis.\u001B[39;00m\n\u001B[1;32m-> 1293\u001B[0m     \u001B[38;5;28;01mreturn\u001B[39;00m \u001B[38;5;28;43mself\u001B[39;49m\u001B[38;5;241;43m.\u001B[39;49m\u001B[43mobj\u001B[49m\u001B[38;5;241;43m.\u001B[39;49m\u001B[43mxs\u001B[49m\u001B[43m(\u001B[49m\u001B[43mlabel\u001B[49m\u001B[43m,\u001B[49m\u001B[43m \u001B[49m\u001B[43maxis\u001B[49m\u001B[38;5;241;43m=\u001B[39;49m\u001B[43maxis\u001B[49m\u001B[43m)\u001B[49m\n",
      "File \u001B[1;32m~\\DataspellProjects\\OpenAI\\gpt-labs\\lib\\site-packages\\pandas\\core\\generic.py:4095\u001B[0m, in \u001B[0;36mNDFrame.xs\u001B[1;34m(self, key, axis, level, drop_level)\u001B[0m\n\u001B[0;32m   4093\u001B[0m             new_index \u001B[38;5;241m=\u001B[39m index[loc]\n\u001B[0;32m   4094\u001B[0m \u001B[38;5;28;01melse\u001B[39;00m:\n\u001B[1;32m-> 4095\u001B[0m     loc \u001B[38;5;241m=\u001B[39m \u001B[43mindex\u001B[49m\u001B[38;5;241;43m.\u001B[39;49m\u001B[43mget_loc\u001B[49m\u001B[43m(\u001B[49m\u001B[43mkey\u001B[49m\u001B[43m)\u001B[49m\n\u001B[0;32m   4097\u001B[0m     \u001B[38;5;28;01mif\u001B[39;00m \u001B[38;5;28misinstance\u001B[39m(loc, np\u001B[38;5;241m.\u001B[39mndarray):\n\u001B[0;32m   4098\u001B[0m         \u001B[38;5;28;01mif\u001B[39;00m loc\u001B[38;5;241m.\u001B[39mdtype \u001B[38;5;241m==\u001B[39m np\u001B[38;5;241m.\u001B[39mbool_:\n",
      "File \u001B[1;32m~\\DataspellProjects\\OpenAI\\gpt-labs\\lib\\site-packages\\pandas\\core\\indexes\\base.py:3655\u001B[0m, in \u001B[0;36mIndex.get_loc\u001B[1;34m(self, key)\u001B[0m\n\u001B[0;32m   3653\u001B[0m     \u001B[38;5;28;01mreturn\u001B[39;00m \u001B[38;5;28mself\u001B[39m\u001B[38;5;241m.\u001B[39m_engine\u001B[38;5;241m.\u001B[39mget_loc(casted_key)\n\u001B[0;32m   3654\u001B[0m \u001B[38;5;28;01mexcept\u001B[39;00m \u001B[38;5;167;01mKeyError\u001B[39;00m \u001B[38;5;28;01mas\u001B[39;00m err:\n\u001B[1;32m-> 3655\u001B[0m     \u001B[38;5;28;01mraise\u001B[39;00m \u001B[38;5;167;01mKeyError\u001B[39;00m(key) \u001B[38;5;28;01mfrom\u001B[39;00m \u001B[38;5;21;01merr\u001B[39;00m\n\u001B[0;32m   3656\u001B[0m \u001B[38;5;28;01mexcept\u001B[39;00m \u001B[38;5;167;01mTypeError\u001B[39;00m:\n\u001B[0;32m   3657\u001B[0m     \u001B[38;5;66;03m# If we have a listlike key, _check_indexing_error will raise\u001B[39;00m\n\u001B[0;32m   3658\u001B[0m     \u001B[38;5;66;03m#  InvalidIndexError. Otherwise we fall through and re-raise\u001B[39;00m\n\u001B[0;32m   3659\u001B[0m     \u001B[38;5;66;03m#  the TypeError.\u001B[39;00m\n\u001B[0;32m   3660\u001B[0m     \u001B[38;5;28mself\u001B[39m\u001B[38;5;241m.\u001B[39m_check_indexing_error(key)\n",
      "\u001B[1;31mKeyError\u001B[0m: 'year'"
     ]
    }
   ],
   "source": [
    "temp.loc['year']"
   ],
   "metadata": {
    "collapsed": false,
    "ExecuteTime": {
     "end_time": "2024-03-31T10:41:29.178795Z",
     "start_time": "2024-03-31T10:41:29.061259Z"
    }
   },
   "id": "add6ec7bd7812a9c",
   "execution_count": 208
  },
  {
   "cell_type": "code",
   "outputs": [],
   "source": [
    "a = pd.Series([1, 2, 3, 4, 5], index=[1, 2, 2, 2, 3])"
   ],
   "metadata": {
    "collapsed": false,
    "ExecuteTime": {
     "end_time": "2024-03-31T10:46:19.457821Z",
     "start_time": "2024-03-31T10:46:19.440717Z"
    }
   },
   "id": "dff88993baef4be1",
   "execution_count": 216
  },
  {
   "cell_type": "code",
   "outputs": [
    {
     "data": {
      "text/plain": "2    2\n2    3\n2    4\ndtype: int64"
     },
     "execution_count": 217,
     "metadata": {},
     "output_type": "execute_result"
    }
   ],
   "source": [
    "a.loc[2:2]"
   ],
   "metadata": {
    "collapsed": false,
    "ExecuteTime": {
     "end_time": "2024-03-31T10:46:20.047878Z",
     "start_time": "2024-03-31T10:46:20.037274Z"
    }
   },
   "id": "943ad2d6bdab0909",
   "execution_count": 217
  },
  {
   "cell_type": "code",
   "outputs": [],
   "source": [
    "cont = df.sort_values(by=['population'], ascending=False)"
   ],
   "metadata": {
    "collapsed": false,
    "ExecuteTime": {
     "end_time": "2024-04-01T14:44:24.775242Z",
     "start_time": "2024-04-01T14:44:24.761960Z"
    }
   },
   "id": "c6d5541c55a4d028",
   "execution_count": 356
  },
  {
   "cell_type": "code",
   "outputs": [
    {
     "data": {
      "text/plain": "                    country  year  population continent  life_exp  \\\n1092            New Zealand  1952     1994794   Oceania    69.390   \n1548    Trinidad and Tobago  1952      662850  Americas    59.100   \n684                 Iceland  1952      147962    Europe    72.490   \n84                  Bahrain  1952      120447      Asia    50.939   \n1296  Sao Tome and Principe  1952       60011    Africa    46.471   \n\n           gdp_cap  total_continent  \n1092  10556.575660      21057045464  \n1548   3023.271928       2003795550  \n684    7267.688428       1075239854  \n84     9867.084765       1188450549  \n1296    879.583586         52749669  ",
      "text/html": "<div>\n<style scoped>\n    .dataframe tbody tr th:only-of-type {\n        vertical-align: middle;\n    }\n\n    .dataframe tbody tr th {\n        vertical-align: top;\n    }\n\n    .dataframe thead th {\n        text-align: right;\n    }\n</style>\n<table border=\"1\" class=\"dataframe\">\n  <thead>\n    <tr style=\"text-align: right;\">\n      <th></th>\n      <th>country</th>\n      <th>year</th>\n      <th>population</th>\n      <th>continent</th>\n      <th>life_exp</th>\n      <th>gdp_cap</th>\n      <th>total_continent</th>\n    </tr>\n  </thead>\n  <tbody>\n    <tr>\n      <th>1092</th>\n      <td>New Zealand</td>\n      <td>1952</td>\n      <td>1994794</td>\n      <td>Oceania</td>\n      <td>69.390</td>\n      <td>10556.575660</td>\n      <td>21057045464</td>\n    </tr>\n    <tr>\n      <th>1548</th>\n      <td>Trinidad and Tobago</td>\n      <td>1952</td>\n      <td>662850</td>\n      <td>Americas</td>\n      <td>59.100</td>\n      <td>3023.271928</td>\n      <td>2003795550</td>\n    </tr>\n    <tr>\n      <th>684</th>\n      <td>Iceland</td>\n      <td>1952</td>\n      <td>147962</td>\n      <td>Europe</td>\n      <td>72.490</td>\n      <td>7267.688428</td>\n      <td>1075239854</td>\n    </tr>\n    <tr>\n      <th>84</th>\n      <td>Bahrain</td>\n      <td>1952</td>\n      <td>120447</td>\n      <td>Asia</td>\n      <td>50.939</td>\n      <td>9867.084765</td>\n      <td>1188450549</td>\n    </tr>\n    <tr>\n      <th>1296</th>\n      <td>Sao Tome and Principe</td>\n      <td>1952</td>\n      <td>60011</td>\n      <td>Africa</td>\n      <td>46.471</td>\n      <td>879.583586</td>\n      <td>52749669</td>\n    </tr>\n  </tbody>\n</table>\n</div>"
     },
     "execution_count": 357,
     "metadata": {},
     "output_type": "execute_result"
    }
   ],
   "source": [
    "cont.drop_duplicates(['continent'], keep='last')"
   ],
   "metadata": {
    "collapsed": false,
    "ExecuteTime": {
     "end_time": "2024-04-01T14:44:25.207004Z",
     "start_time": "2024-04-01T14:44:25.193978Z"
    }
   },
   "id": "9b0ef53c6f3b9f38",
   "execution_count": 357
  },
  {
   "cell_type": "code",
   "outputs": [
    {
     "data": {
      "text/plain": "0       False\n1       False\n2       False\n3       False\n4       False\n        ...  \n1699    False\n1700    False\n1701    False\n1702    False\n1703    False\nName: continent, Length: 1704, dtype: bool"
     },
     "execution_count": 347,
     "metadata": {},
     "output_type": "execute_result"
    }
   ],
   "source": [
    "df['continent'] == '[continent_list]'"
   ],
   "metadata": {
    "collapsed": false,
    "ExecuteTime": {
     "end_time": "2024-04-01T13:59:10.524658Z",
     "start_time": "2024-04-01T13:59:10.515657Z"
    }
   },
   "id": "c47f27cadef5dfcf",
   "execution_count": 347
  },
  {
   "cell_type": "code",
   "outputs": [],
   "source": [
    "year_62 = df['year'] == 1962\n",
    "life_exp = df['life_exp'] > 60\n",
    "asia = df['continent'] == 'Asia'\n",
    "asia_life_exp_year_62 = year_62 & life_exp & asia\n",
    "numerator = df.query(\"'year'==1962\" and \"'life_exp' > 60\" and \"'continent' == 'Asia'\")\n",
    "denominator = df.query()"
   ],
   "metadata": {
    "collapsed": false,
    "ExecuteTime": {
     "end_time": "2024-04-01T14:57:52.892099Z",
     "start_time": "2024-04-01T14:57:52.883843Z"
    }
   },
   "id": "68b5163ec7896a83",
   "execution_count": 376
  },
  {
   "cell_type": "code",
   "outputs": [
    {
     "data": {
      "text/plain": "0.4694835680751174"
     },
     "execution_count": 377,
     "metadata": {},
     "output_type": "execute_result"
    }
   ],
   "source": [
    "(df[asia_life_exp_year_62].shape[0] / df.shape[0]) * 100"
   ],
   "metadata": {
    "collapsed": false,
    "ExecuteTime": {
     "end_time": "2024-04-01T14:58:03.476194Z",
     "start_time": "2024-04-01T14:58:03.458546Z"
    }
   },
   "id": "3d2364ab8ce16913",
   "execution_count": 377
  },
  {
   "cell_type": "code",
   "outputs": [
    {
     "data": {
      "text/plain": "               country  year  population continent  life_exp       gdp_cap  \\\n662   Hong Kong, China  1962     3305200      Asia    67.650   4692.648272   \n758             Israel  1962     2310904      Asia    69.390   7105.630706   \n794              Japan  1962    95831757      Asia    68.730   6576.649461   \n854             Kuwait  1962      358266      Asia    60.470  95458.111760   \n866            Lebanon  1962     1886848      Asia    62.094   5714.560611   \n1358         Singapore  1962     1750200      Asia    65.798   3674.735572   \n1430         Sri Lanka  1962    10421936      Asia    62.192   1074.471960   \n1502            Taiwan  1962    11918938      Asia    65.200   1822.879028   \n\n      total_continent  \n662       15507998400  \n758       16418972920  \n794      630189634032  \n854       34199355828  \n866       10781449472  \n1358       6430234800  \n1430      11193159264  \n1502      21716305036  ",
      "text/html": "<div>\n<style scoped>\n    .dataframe tbody tr th:only-of-type {\n        vertical-align: middle;\n    }\n\n    .dataframe tbody tr th {\n        vertical-align: top;\n    }\n\n    .dataframe thead th {\n        text-align: right;\n    }\n</style>\n<table border=\"1\" class=\"dataframe\">\n  <thead>\n    <tr style=\"text-align: right;\">\n      <th></th>\n      <th>country</th>\n      <th>year</th>\n      <th>population</th>\n      <th>continent</th>\n      <th>life_exp</th>\n      <th>gdp_cap</th>\n      <th>total_continent</th>\n    </tr>\n  </thead>\n  <tbody>\n    <tr>\n      <th>662</th>\n      <td>Hong Kong, China</td>\n      <td>1962</td>\n      <td>3305200</td>\n      <td>Asia</td>\n      <td>67.650</td>\n      <td>4692.648272</td>\n      <td>15507998400</td>\n    </tr>\n    <tr>\n      <th>758</th>\n      <td>Israel</td>\n      <td>1962</td>\n      <td>2310904</td>\n      <td>Asia</td>\n      <td>69.390</td>\n      <td>7105.630706</td>\n      <td>16418972920</td>\n    </tr>\n    <tr>\n      <th>794</th>\n      <td>Japan</td>\n      <td>1962</td>\n      <td>95831757</td>\n      <td>Asia</td>\n      <td>68.730</td>\n      <td>6576.649461</td>\n      <td>630189634032</td>\n    </tr>\n    <tr>\n      <th>854</th>\n      <td>Kuwait</td>\n      <td>1962</td>\n      <td>358266</td>\n      <td>Asia</td>\n      <td>60.470</td>\n      <td>95458.111760</td>\n      <td>34199355828</td>\n    </tr>\n    <tr>\n      <th>866</th>\n      <td>Lebanon</td>\n      <td>1962</td>\n      <td>1886848</td>\n      <td>Asia</td>\n      <td>62.094</td>\n      <td>5714.560611</td>\n      <td>10781449472</td>\n    </tr>\n    <tr>\n      <th>1358</th>\n      <td>Singapore</td>\n      <td>1962</td>\n      <td>1750200</td>\n      <td>Asia</td>\n      <td>65.798</td>\n      <td>3674.735572</td>\n      <td>6430234800</td>\n    </tr>\n    <tr>\n      <th>1430</th>\n      <td>Sri Lanka</td>\n      <td>1962</td>\n      <td>10421936</td>\n      <td>Asia</td>\n      <td>62.192</td>\n      <td>1074.471960</td>\n      <td>11193159264</td>\n    </tr>\n    <tr>\n      <th>1502</th>\n      <td>Taiwan</td>\n      <td>1962</td>\n      <td>11918938</td>\n      <td>Asia</td>\n      <td>65.200</td>\n      <td>1822.879028</td>\n      <td>21716305036</td>\n    </tr>\n  </tbody>\n</table>\n</div>"
     },
     "execution_count": 378,
     "metadata": {},
     "output_type": "execute_result"
    }
   ],
   "source": [
    "df[asia_life_exp_year_62]"
   ],
   "metadata": {
    "collapsed": false,
    "ExecuteTime": {
     "end_time": "2024-04-01T14:58:16.725061Z",
     "start_time": "2024-04-01T14:58:16.707017Z"
    }
   },
   "id": "b2761f45995125b1",
   "execution_count": 378
  },
  {
   "cell_type": "code",
   "outputs": [
    {
     "data": {
      "text/plain": "0.031103286384976527"
     },
     "execution_count": 375,
     "metadata": {},
     "output_type": "execute_result"
    }
   ],
   "source": [
    "53 / 1704"
   ],
   "metadata": {
    "collapsed": false,
    "ExecuteTime": {
     "end_time": "2024-04-01T14:55:27.625551Z",
     "start_time": "2024-04-01T14:55:27.610568Z"
    }
   },
   "id": "410c26ddd5ed749c",
   "execution_count": 375
  },
  {
   "cell_type": "code",
   "outputs": [
    {
     "data": {
      "text/plain": "array([['Afghanistan', 1952, 8425333, ..., 28.801, 779.4453145,\n        6563334407],\n       ['Afghanistan', 1957, 9240934, ..., 30.332, 820.8530296,\n        7577565880],\n       ['Afghanistan', 1962, 10267083, ..., 31.997, 853.10071,\n        8757821799],\n       ...,\n       ['Zimbabwe', 1997, 11404948, ..., 46.809, 792.4499603, 9032718816],\n       ['Zimbabwe', 2002, 11926563, ..., 39.989, 672.0386227, 8014650336],\n       ['Zimbabwe', 2007, 12311143, ..., 43.487, 469.7092981, 5773926067]],\n      dtype=object)"
     },
     "execution_count": 386,
     "metadata": {},
     "output_type": "execute_result"
    }
   ],
   "source": [
    "df.values"
   ],
   "metadata": {
    "collapsed": false,
    "ExecuteTime": {
     "end_time": "2024-04-01T18:49:12.181170Z",
     "start_time": "2024-04-01T18:49:12.165801Z"
    }
   },
   "id": "5cb228657e48bb7d",
   "execution_count": 386
  },
  {
   "cell_type": "code",
   "outputs": [
    {
     "data": {
      "text/plain": "          country  year  population continent  life_exp     gdp_cap  \\\n0     Afghanistan  1952     8425333      Asia    28.801  779.445314   \n1     Afghanistan  1957     9240934      Asia    30.332  820.853030   \n2     Afghanistan  1962    10267083      Asia    31.997  853.100710   \n3     Afghanistan  1967    11537966      Asia    34.020  836.197138   \n4     Afghanistan  1972    13079460      Asia    36.088  739.981106   \n...           ...   ...         ...       ...       ...         ...   \n1699     Zimbabwe  1987     9216418    Africa    62.351  706.157306   \n1700     Zimbabwe  1992    10704340    Africa    60.377  693.420786   \n1701     Zimbabwe  1997    11404948    Africa    46.809  792.449960   \n1702     Zimbabwe  2002    11926563    Africa    39.989  672.038623   \n1703     Zimbabwe  2007    12311143    Africa    43.487  469.709298   \n\n      total_continent  \n0          6563334407  \n1          7577565880  \n2          8757821799  \n3          9645739576  \n4          9665720940  \n...               ...  \n1699       6506791108  \n1700       7418107620  \n1701       9032718816  \n1702       8014650336  \n1703       5773926067  \n\n[1704 rows x 7 columns]",
      "text/html": "<div>\n<style scoped>\n    .dataframe tbody tr th:only-of-type {\n        vertical-align: middle;\n    }\n\n    .dataframe tbody tr th {\n        vertical-align: top;\n    }\n\n    .dataframe thead th {\n        text-align: right;\n    }\n</style>\n<table border=\"1\" class=\"dataframe\">\n  <thead>\n    <tr style=\"text-align: right;\">\n      <th></th>\n      <th>country</th>\n      <th>year</th>\n      <th>population</th>\n      <th>continent</th>\n      <th>life_exp</th>\n      <th>gdp_cap</th>\n      <th>total_continent</th>\n    </tr>\n  </thead>\n  <tbody>\n    <tr>\n      <th>0</th>\n      <td>Afghanistan</td>\n      <td>1952</td>\n      <td>8425333</td>\n      <td>Asia</td>\n      <td>28.801</td>\n      <td>779.445314</td>\n      <td>6563334407</td>\n    </tr>\n    <tr>\n      <th>1</th>\n      <td>Afghanistan</td>\n      <td>1957</td>\n      <td>9240934</td>\n      <td>Asia</td>\n      <td>30.332</td>\n      <td>820.853030</td>\n      <td>7577565880</td>\n    </tr>\n    <tr>\n      <th>2</th>\n      <td>Afghanistan</td>\n      <td>1962</td>\n      <td>10267083</td>\n      <td>Asia</td>\n      <td>31.997</td>\n      <td>853.100710</td>\n      <td>8757821799</td>\n    </tr>\n    <tr>\n      <th>3</th>\n      <td>Afghanistan</td>\n      <td>1967</td>\n      <td>11537966</td>\n      <td>Asia</td>\n      <td>34.020</td>\n      <td>836.197138</td>\n      <td>9645739576</td>\n    </tr>\n    <tr>\n      <th>4</th>\n      <td>Afghanistan</td>\n      <td>1972</td>\n      <td>13079460</td>\n      <td>Asia</td>\n      <td>36.088</td>\n      <td>739.981106</td>\n      <td>9665720940</td>\n    </tr>\n    <tr>\n      <th>...</th>\n      <td>...</td>\n      <td>...</td>\n      <td>...</td>\n      <td>...</td>\n      <td>...</td>\n      <td>...</td>\n      <td>...</td>\n    </tr>\n    <tr>\n      <th>1699</th>\n      <td>Zimbabwe</td>\n      <td>1987</td>\n      <td>9216418</td>\n      <td>Africa</td>\n      <td>62.351</td>\n      <td>706.157306</td>\n      <td>6506791108</td>\n    </tr>\n    <tr>\n      <th>1700</th>\n      <td>Zimbabwe</td>\n      <td>1992</td>\n      <td>10704340</td>\n      <td>Africa</td>\n      <td>60.377</td>\n      <td>693.420786</td>\n      <td>7418107620</td>\n    </tr>\n    <tr>\n      <th>1701</th>\n      <td>Zimbabwe</td>\n      <td>1997</td>\n      <td>11404948</td>\n      <td>Africa</td>\n      <td>46.809</td>\n      <td>792.449960</td>\n      <td>9032718816</td>\n    </tr>\n    <tr>\n      <th>1702</th>\n      <td>Zimbabwe</td>\n      <td>2002</td>\n      <td>11926563</td>\n      <td>Africa</td>\n      <td>39.989</td>\n      <td>672.038623</td>\n      <td>8014650336</td>\n    </tr>\n    <tr>\n      <th>1703</th>\n      <td>Zimbabwe</td>\n      <td>2007</td>\n      <td>12311143</td>\n      <td>Africa</td>\n      <td>43.487</td>\n      <td>469.709298</td>\n      <td>5773926067</td>\n    </tr>\n  </tbody>\n</table>\n<p>1704 rows × 7 columns</p>\n</div>"
     },
     "execution_count": 387,
     "metadata": {},
     "output_type": "execute_result"
    }
   ],
   "source": [
    "df"
   ],
   "metadata": {
    "collapsed": false,
    "ExecuteTime": {
     "end_time": "2024-04-01T18:49:28.487111Z",
     "start_time": "2024-04-01T18:49:28.466469Z"
    }
   },
   "id": "c28749ba527a1d91",
   "execution_count": 387
  },
  {
   "cell_type": "code",
   "outputs": [],
   "source": [
    "titanic = pd.read_csv('data/titanic.csv')"
   ],
   "metadata": {
    "collapsed": false,
    "ExecuteTime": {
     "end_time": "2024-04-02T06:43:43.760372Z",
     "start_time": "2024-04-02T06:43:43.672331Z"
    }
   },
   "id": "315d08bc5a325b81",
   "execution_count": 388
  },
  {
   "cell_type": "code",
   "outputs": [
    {
     "data": {
      "text/plain": "(10, 14)"
     },
     "execution_count": 389,
     "metadata": {},
     "output_type": "execute_result"
    }
   ],
   "source": [
    "titanic.shape"
   ],
   "metadata": {
    "collapsed": false,
    "ExecuteTime": {
     "end_time": "2024-04-02T06:44:35.192242Z",
     "start_time": "2024-04-02T06:44:35.179657Z"
    }
   },
   "id": "9e25d5bd2494a573",
   "execution_count": 389
  },
  {
   "cell_type": "code",
   "outputs": [
    {
     "data": {
      "text/plain": "Index(['survived', 'pclass', 'sex', 'age', 'sibsp', 'parch', 'fare',\n       'embarked', 'class', 'adult_male', 'embark_town'],\n      dtype='object')"
     },
     "execution_count": 399,
     "metadata": {},
     "output_type": "execute_result"
    }
   ],
   "source": [
    "titanic.T.drop_duplicates(keep=\"first\").index"
   ],
   "metadata": {
    "collapsed": false,
    "ExecuteTime": {
     "end_time": "2024-04-02T06:47:27.416352Z",
     "start_time": "2024-04-02T06:47:27.395174Z"
    }
   },
   "id": "7fae84a8082a8c52",
   "execution_count": 399
  },
  {
   "cell_type": "code",
   "outputs": [
    {
     "data": {
      "text/plain": "RangeIndex(start=0, stop=10, step=1)"
     },
     "execution_count": 395,
     "metadata": {},
     "output_type": "execute_result"
    }
   ],
   "source": [
    "titanic.T"
   ],
   "metadata": {
    "collapsed": false,
    "ExecuteTime": {
     "end_time": "2024-04-02T06:45:49.244821Z",
     "start_time": "2024-04-02T06:45:49.225033Z"
    }
   },
   "id": "4daeb30b10530239",
   "execution_count": 395
  },
  {
   "cell_type": "code",
   "outputs": [
    {
     "data": {
      "text/plain": "   survived  pclass     sex   age  sibsp  parch     fare embarked   class  \\\n0         1       3  female  26.0      0      0   7.9250        S   Third   \n1         1       1  female  38.0      1      0  71.2833        C   First   \n3         0       3    male   NaN      0      0   8.4583        Q   Third   \n4         1       2  female  14.0      1      0  30.0708        C  Second   \n6         0       1    male  54.0      0      0  51.8625        S   First   \n8         1       3  female  27.0      0      2  11.1333        S   Third   \n\n   adult_male  embark_town  pclass_1    price  gender  \n0       False  Southampton         3   7.9250  female  \n1       False    Cherbourg         1  71.2833  female  \n3        True   Queenstown         3   8.4583    male  \n4       False    Cherbourg         2  30.0708  female  \n6        True  Southampton         1  51.8625    male  \n8       False  Southampton         3  11.1333  female  ",
      "text/html": "<div>\n<style scoped>\n    .dataframe tbody tr th:only-of-type {\n        vertical-align: middle;\n    }\n\n    .dataframe tbody tr th {\n        vertical-align: top;\n    }\n\n    .dataframe thead th {\n        text-align: right;\n    }\n</style>\n<table border=\"1\" class=\"dataframe\">\n  <thead>\n    <tr style=\"text-align: right;\">\n      <th></th>\n      <th>survived</th>\n      <th>pclass</th>\n      <th>sex</th>\n      <th>age</th>\n      <th>sibsp</th>\n      <th>parch</th>\n      <th>fare</th>\n      <th>embarked</th>\n      <th>class</th>\n      <th>adult_male</th>\n      <th>embark_town</th>\n      <th>pclass_1</th>\n      <th>price</th>\n      <th>gender</th>\n    </tr>\n  </thead>\n  <tbody>\n    <tr>\n      <th>0</th>\n      <td>1</td>\n      <td>3</td>\n      <td>female</td>\n      <td>26.0</td>\n      <td>0</td>\n      <td>0</td>\n      <td>7.9250</td>\n      <td>S</td>\n      <td>Third</td>\n      <td>False</td>\n      <td>Southampton</td>\n      <td>3</td>\n      <td>7.9250</td>\n      <td>female</td>\n    </tr>\n    <tr>\n      <th>1</th>\n      <td>1</td>\n      <td>1</td>\n      <td>female</td>\n      <td>38.0</td>\n      <td>1</td>\n      <td>0</td>\n      <td>71.2833</td>\n      <td>C</td>\n      <td>First</td>\n      <td>False</td>\n      <td>Cherbourg</td>\n      <td>1</td>\n      <td>71.2833</td>\n      <td>female</td>\n    </tr>\n    <tr>\n      <th>3</th>\n      <td>0</td>\n      <td>3</td>\n      <td>male</td>\n      <td>NaN</td>\n      <td>0</td>\n      <td>0</td>\n      <td>8.4583</td>\n      <td>Q</td>\n      <td>Third</td>\n      <td>True</td>\n      <td>Queenstown</td>\n      <td>3</td>\n      <td>8.4583</td>\n      <td>male</td>\n    </tr>\n    <tr>\n      <th>4</th>\n      <td>1</td>\n      <td>2</td>\n      <td>female</td>\n      <td>14.0</td>\n      <td>1</td>\n      <td>0</td>\n      <td>30.0708</td>\n      <td>C</td>\n      <td>Second</td>\n      <td>False</td>\n      <td>Cherbourg</td>\n      <td>2</td>\n      <td>30.0708</td>\n      <td>female</td>\n    </tr>\n    <tr>\n      <th>6</th>\n      <td>0</td>\n      <td>1</td>\n      <td>male</td>\n      <td>54.0</td>\n      <td>0</td>\n      <td>0</td>\n      <td>51.8625</td>\n      <td>S</td>\n      <td>First</td>\n      <td>True</td>\n      <td>Southampton</td>\n      <td>1</td>\n      <td>51.8625</td>\n      <td>male</td>\n    </tr>\n    <tr>\n      <th>8</th>\n      <td>1</td>\n      <td>3</td>\n      <td>female</td>\n      <td>27.0</td>\n      <td>0</td>\n      <td>2</td>\n      <td>11.1333</td>\n      <td>S</td>\n      <td>Third</td>\n      <td>False</td>\n      <td>Southampton</td>\n      <td>3</td>\n      <td>11.1333</td>\n      <td>female</td>\n    </tr>\n  </tbody>\n</table>\n</div>"
     },
     "execution_count": 398,
     "metadata": {},
     "output_type": "execute_result"
    }
   ],
   "source": [
    "titanic.drop_duplicates(keep=\"first\")"
   ],
   "metadata": {
    "collapsed": false,
    "ExecuteTime": {
     "end_time": "2024-04-02T06:47:08.510464Z",
     "start_time": "2024-04-02T06:47:08.487322Z"
    }
   },
   "id": "ecc01282e721e3a3",
   "execution_count": 398
  },
  {
   "cell_type": "code",
   "outputs": [
    {
     "data": {
      "text/plain": "Index([2, 5, 6, 7, 8, 9], dtype='int64')"
     },
     "execution_count": 400,
     "metadata": {},
     "output_type": "execute_result"
    }
   ],
   "source": [
    "titanic.drop_duplicates(keep=\"last\").index"
   ],
   "metadata": {
    "collapsed": false,
    "ExecuteTime": {
     "end_time": "2024-04-02T06:47:42.519001Z",
     "start_time": "2024-04-02T06:47:42.500076Z"
    }
   },
   "id": "d976548d49804e35",
   "execution_count": 400
  },
  {
   "cell_type": "code",
   "outputs": [],
   "source": [
    "data = {\n",
    "    'city': ['Alaska', 'Texas', 'California', 'New York'],\n",
    "    'area': [1723337, 695662, 423967, 783000],\n",
    "    'population': [700000, 26448193, 38332521, 19651127]\n",
    "}\n",
    "\n",
    "df = pd.DataFrame(data)"
   ],
   "metadata": {
    "collapsed": false,
    "ExecuteTime": {
     "end_time": "2024-04-02T06:54:47.690814Z",
     "start_time": "2024-04-02T06:54:47.678225Z"
    }
   },
   "id": "4aa4b589f7773b10",
   "execution_count": 422
  },
  {
   "cell_type": "code",
   "outputs": [],
   "source": [
    "df['area'] = df['population'] / df['area']"
   ],
   "metadata": {
    "collapsed": false,
    "ExecuteTime": {
     "end_time": "2024-04-02T06:51:03.554413Z",
     "start_time": "2024-04-02T06:51:03.533006Z"
    }
   },
   "id": "1b91a1875d01ece3",
   "execution_count": 403
  },
  {
   "cell_type": "code",
   "outputs": [],
   "source": [
    "df.index = df['city']"
   ],
   "metadata": {
    "collapsed": false,
    "ExecuteTime": {
     "end_time": "2024-04-02T06:52:28.837850Z",
     "start_time": "2024-04-02T06:52:28.829042Z"
    }
   },
   "id": "240dfbf8ab80d0b9",
   "execution_count": 410
  },
  {
   "cell_type": "code",
   "outputs": [
    {
     "data": {
      "text/plain": "city\nAlaska         0.406189\nTexas         38.018740\nCalifornia    90.413926\nNew York      25.097225\nName: area, dtype: float64"
     },
     "execution_count": 412,
     "metadata": {},
     "output_type": "execute_result"
    }
   ],
   "source": [
    "df['area']"
   ],
   "metadata": {
    "collapsed": false,
    "ExecuteTime": {
     "end_time": "2024-04-02T06:52:33.383911Z",
     "start_time": "2024-04-02T06:52:33.366761Z"
    }
   },
   "id": "bbbbf27bb822b065",
   "execution_count": 412
  },
  {
   "cell_type": "code",
   "outputs": [],
   "source": [
    "pop_den = df['population'] / df['area']"
   ],
   "metadata": {
    "collapsed": false,
    "ExecuteTime": {
     "end_time": "2024-04-02T06:57:10.827887Z",
     "start_time": "2024-04-02T06:57:10.815321Z"
    }
   },
   "id": "56acf82643d713fd",
   "execution_count": 431
  },
  {
   "cell_type": "code",
   "outputs": [],
   "source": [
    "pop_den = pop_den.sort_values()"
   ],
   "metadata": {
    "collapsed": false,
    "ExecuteTime": {
     "end_time": "2024-04-02T07:01:27.655330Z",
     "start_time": "2024-04-02T07:01:27.648295Z"
    }
   },
   "id": "53fcbc18e6a3a07",
   "execution_count": 439
  },
  {
   "cell_type": "code",
   "outputs": [
    {
     "name": "stdout",
     "output_type": "stream",
     "text": [
      "city\n",
      "Alaska         0.406189\n",
      "New York      25.097225\n",
      "Texas         38.018740\n",
      "California    90.413926\n",
      "dtype: float64\n"
     ]
    }
   ],
   "source": [
    "print(pop_den)"
   ],
   "metadata": {
    "collapsed": false,
    "ExecuteTime": {
     "end_time": "2024-04-02T07:01:29.177705Z",
     "start_time": "2024-04-02T07:01:29.167631Z"
    }
   },
   "id": "e697369f29575fbd",
   "execution_count": 440
  },
  {
   "cell_type": "code",
   "outputs": [
    {
     "data": {
      "text/plain": "pandas.core.series.Series"
     },
     "execution_count": 435,
     "metadata": {},
     "output_type": "execute_result"
    }
   ],
   "source": [
    "type(pop_den)"
   ],
   "metadata": {
    "collapsed": false,
    "ExecuteTime": {
     "end_time": "2024-04-02T06:58:49.452111Z",
     "start_time": "2024-04-02T06:58:49.445055Z"
    }
   },
   "id": "21c0af4e723d741b",
   "execution_count": 435
  },
  {
   "cell_type": "code",
   "outputs": [
    {
     "ename": "AttributeError",
     "evalue": "'DataFrame' object has no attribute 'append'",
     "output_type": "error",
     "traceback": [
      "\u001B[1;31m---------------------------------------------------------------------------\u001B[0m",
      "\u001B[1;31mAttributeError\u001B[0m                            Traceback (most recent call last)",
      "\u001B[1;32m~\\AppData\\Local\\Temp\\ipykernel_11360\\238821861.py\u001B[0m in \u001B[0;36m?\u001B[1;34m()\u001B[0m\n\u001B[1;32m----> 1\u001B[1;33m \u001B[0mdf\u001B[0m\u001B[1;33m.\u001B[0m\u001B[0mappend\u001B[0m\u001B[1;33m(\u001B[0m\u001B[1;33m[\u001B[0m\u001B[1;33m{\u001B[0m\u001B[1;34m'city'\u001B[0m\u001B[1;33m:\u001B[0m \u001B[1;34m'Colorado'\u001B[0m\u001B[1;33m,\u001B[0m \u001B[1;34m'Denver'\u001B[0m\u001B[1;33m:\u001B[0m \u001B[1;36m7287282\u001B[0m\u001B[1;33m,\u001B[0m \u001B[1;34m'population'\u001B[0m\u001B[1;33m:\u001B[0m \u001B[1;36m38938983\u001B[0m\u001B[1;33m}\u001B[0m\u001B[1;33m]\u001B[0m\u001B[1;33m)\u001B[0m\u001B[1;33m\u001B[0m\u001B[1;33m\u001B[0m\u001B[0m\n\u001B[0m",
      "\u001B[1;32m~\\DataspellProjects\\OpenAI\\gpt-labs\\lib\\site-packages\\pandas\\core\\generic.py\u001B[0m in \u001B[0;36m?\u001B[1;34m(self, name)\u001B[0m\n\u001B[0;32m   5985\u001B[0m             \u001B[1;32mand\u001B[0m \u001B[0mname\u001B[0m \u001B[1;32mnot\u001B[0m \u001B[1;32min\u001B[0m \u001B[0mself\u001B[0m\u001B[1;33m.\u001B[0m\u001B[0m_accessors\u001B[0m\u001B[1;33m\u001B[0m\u001B[1;33m\u001B[0m\u001B[0m\n\u001B[0;32m   5986\u001B[0m             \u001B[1;32mand\u001B[0m \u001B[0mself\u001B[0m\u001B[1;33m.\u001B[0m\u001B[0m_info_axis\u001B[0m\u001B[1;33m.\u001B[0m\u001B[0m_can_hold_identifiers_and_holds_name\u001B[0m\u001B[1;33m(\u001B[0m\u001B[0mname\u001B[0m\u001B[1;33m)\u001B[0m\u001B[1;33m\u001B[0m\u001B[1;33m\u001B[0m\u001B[0m\n\u001B[0;32m   5987\u001B[0m         ):\n\u001B[0;32m   5988\u001B[0m             \u001B[1;32mreturn\u001B[0m \u001B[0mself\u001B[0m\u001B[1;33m[\u001B[0m\u001B[0mname\u001B[0m\u001B[1;33m]\u001B[0m\u001B[1;33m\u001B[0m\u001B[1;33m\u001B[0m\u001B[0m\n\u001B[1;32m-> 5989\u001B[1;33m         \u001B[1;32mreturn\u001B[0m \u001B[0mobject\u001B[0m\u001B[1;33m.\u001B[0m\u001B[0m__getattribute__\u001B[0m\u001B[1;33m(\u001B[0m\u001B[0mself\u001B[0m\u001B[1;33m,\u001B[0m \u001B[0mname\u001B[0m\u001B[1;33m)\u001B[0m\u001B[1;33m\u001B[0m\u001B[1;33m\u001B[0m\u001B[0m\n\u001B[0m",
      "\u001B[1;31mAttributeError\u001B[0m: 'DataFrame' object has no attribute 'append'"
     ]
    }
   ],
   "source": [
    "df.append([{'city': 'Colorado', 'Denver': 7287282, 'population': 38938983}])"
   ],
   "metadata": {
    "collapsed": false,
    "ExecuteTime": {
     "end_time": "2024-04-02T07:08:43.278854Z",
     "start_time": "2024-04-02T07:08:43.245228Z"
    }
   },
   "id": "9f17756b6c6045f9",
   "execution_count": 442
  },
  {
   "cell_type": "code",
   "outputs": [],
   "source": [
    "df2 = pd.DataFrame({'city': ['Colorado'], 'area': [7287282], 'population': [38938983]})\n"
   ],
   "metadata": {
    "collapsed": false,
    "ExecuteTime": {
     "end_time": "2024-04-02T07:12:43.443271Z",
     "start_time": "2024-04-02T07:12:43.424549Z"
    }
   },
   "id": "a2b0865727377edc",
   "execution_count": 446
  },
  {
   "cell_type": "code",
   "outputs": [
    {
     "data": {
      "text/plain": "                     city     area  population\n(Alaska,)          Alaska  1723337      700000\n(Texas,)            Texas   695662    26448193\n(California,)  California   423967    38332521\n(New York,)      New York   783000    19651127\n0                Colorado  7287282    38938983",
      "text/html": "<div>\n<style scoped>\n    .dataframe tbody tr th:only-of-type {\n        vertical-align: middle;\n    }\n\n    .dataframe tbody tr th {\n        vertical-align: top;\n    }\n\n    .dataframe thead th {\n        text-align: right;\n    }\n</style>\n<table border=\"1\" class=\"dataframe\">\n  <thead>\n    <tr style=\"text-align: right;\">\n      <th></th>\n      <th>city</th>\n      <th>area</th>\n      <th>population</th>\n    </tr>\n  </thead>\n  <tbody>\n    <tr>\n      <th>(Alaska,)</th>\n      <td>Alaska</td>\n      <td>1723337</td>\n      <td>700000</td>\n    </tr>\n    <tr>\n      <th>(Texas,)</th>\n      <td>Texas</td>\n      <td>695662</td>\n      <td>26448193</td>\n    </tr>\n    <tr>\n      <th>(California,)</th>\n      <td>California</td>\n      <td>423967</td>\n      <td>38332521</td>\n    </tr>\n    <tr>\n      <th>(New York,)</th>\n      <td>New York</td>\n      <td>783000</td>\n      <td>19651127</td>\n    </tr>\n    <tr>\n      <th>0</th>\n      <td>Colorado</td>\n      <td>7287282</td>\n      <td>38938983</td>\n    </tr>\n  </tbody>\n</table>\n</div>"
     },
     "execution_count": 448,
     "metadata": {},
     "output_type": "execute_result"
    }
   ],
   "source": [
    "pd.concat([df, df2])"
   ],
   "metadata": {
    "collapsed": false,
    "ExecuteTime": {
     "end_time": "2024-04-02T07:14:08.740301Z",
     "start_time": "2024-04-02T07:14:08.716220Z"
    }
   },
   "id": "904b62b45b3ce7d7",
   "execution_count": 448
  },
  {
   "cell_type": "code",
   "outputs": [
    {
     "data": {
      "text/plain": "                  city     area  population\ncity                                       \nAlaska          Alaska  1723337      700000\nTexas            Texas   695662    26448193\nCalifornia  California   423967    38332521\nNew York      New York   783000    19651127",
      "text/html": "<div>\n<style scoped>\n    .dataframe tbody tr th:only-of-type {\n        vertical-align: middle;\n    }\n\n    .dataframe tbody tr th {\n        vertical-align: top;\n    }\n\n    .dataframe thead th {\n        text-align: right;\n    }\n</style>\n<table border=\"1\" class=\"dataframe\">\n  <thead>\n    <tr style=\"text-align: right;\">\n      <th></th>\n      <th>city</th>\n      <th>area</th>\n      <th>population</th>\n    </tr>\n    <tr>\n      <th>city</th>\n      <th></th>\n      <th></th>\n      <th></th>\n    </tr>\n  </thead>\n  <tbody>\n    <tr>\n      <th>Alaska</th>\n      <td>Alaska</td>\n      <td>1723337</td>\n      <td>700000</td>\n    </tr>\n    <tr>\n      <th>Texas</th>\n      <td>Texas</td>\n      <td>695662</td>\n      <td>26448193</td>\n    </tr>\n    <tr>\n      <th>California</th>\n      <td>California</td>\n      <td>423967</td>\n      <td>38332521</td>\n    </tr>\n    <tr>\n      <th>New York</th>\n      <td>New York</td>\n      <td>783000</td>\n      <td>19651127</td>\n    </tr>\n  </tbody>\n</table>\n</div>"
     },
     "execution_count": 449,
     "metadata": {},
     "output_type": "execute_result"
    }
   ],
   "source": [
    "df"
   ],
   "metadata": {
    "collapsed": false,
    "ExecuteTime": {
     "end_time": "2024-04-02T07:14:17.238275Z",
     "start_time": "2024-04-02T07:14:17.227273Z"
    }
   },
   "id": "c5bc2a59bc5fb233",
   "execution_count": 449
  },
  {
   "cell_type": "code",
   "outputs": [],
   "source": [
    "df = pd.DataFrame([['a', 20], ['b', 21], ['c', 22]], columns=['name', 'age'])"
   ],
   "metadata": {
    "collapsed": false,
    "ExecuteTime": {
     "end_time": "2024-04-02T07:29:04.442587Z",
     "start_time": "2024-04-02T07:29:04.427123Z"
    }
   },
   "id": "a4135546555e3c19",
   "execution_count": 476
  },
  {
   "cell_type": "code",
   "outputs": [],
   "source": [
    "df2 = pd.DataFrame([['d', 20], ['e', 21], ['f', 22]], index=range(df.shape[0], df.shape[0] + len(data)),\n",
    "                   columns=['name', 'age'])"
   ],
   "metadata": {
    "collapsed": false,
    "ExecuteTime": {
     "end_time": "2024-04-02T07:29:04.858222Z",
     "start_time": "2024-04-02T07:29:04.836054Z"
    }
   },
   "id": "616c136824c12810",
   "execution_count": 477
  },
  {
   "cell_type": "code",
   "outputs": [
    {
     "data": {
      "text/plain": "  name  age\n0    a   20\n1    b   21\n2    c   22\n3    d   20\n4    e   21\n5    f   22",
      "text/html": "<div>\n<style scoped>\n    .dataframe tbody tr th:only-of-type {\n        vertical-align: middle;\n    }\n\n    .dataframe tbody tr th {\n        vertical-align: top;\n    }\n\n    .dataframe thead th {\n        text-align: right;\n    }\n</style>\n<table border=\"1\" class=\"dataframe\">\n  <thead>\n    <tr style=\"text-align: right;\">\n      <th></th>\n      <th>name</th>\n      <th>age</th>\n    </tr>\n  </thead>\n  <tbody>\n    <tr>\n      <th>0</th>\n      <td>a</td>\n      <td>20</td>\n    </tr>\n    <tr>\n      <th>1</th>\n      <td>b</td>\n      <td>21</td>\n    </tr>\n    <tr>\n      <th>2</th>\n      <td>c</td>\n      <td>22</td>\n    </tr>\n    <tr>\n      <th>3</th>\n      <td>d</td>\n      <td>20</td>\n    </tr>\n    <tr>\n      <th>4</th>\n      <td>e</td>\n      <td>21</td>\n    </tr>\n    <tr>\n      <th>5</th>\n      <td>f</td>\n      <td>22</td>\n    </tr>\n  </tbody>\n</table>\n</div>"
     },
     "execution_count": 484,
     "metadata": {},
     "output_type": "execute_result"
    }
   ],
   "source": [
    "pd.concat([df, df2], axis=0)"
   ],
   "metadata": {
    "collapsed": false,
    "ExecuteTime": {
     "end_time": "2024-04-02T07:34:43.088188Z",
     "start_time": "2024-04-02T07:34:43.071516Z"
    }
   },
   "id": "25f846d0206f0bb8",
   "execution_count": 484
  },
  {
   "cell_type": "code",
   "outputs": [],
   "source": [
    "df1 = pd.DataFrame({\n",
    "    'cust_id': [101, 102, 103, 104],\n",
    "    'name': ['rick', 'morty', 'pickle', 'jerry']})\n",
    "\n",
    "df2 = pd.DataFrame({\n",
    "    'order_id': ['OR1', 'OR3', 'OR23', 'OR42'],\n",
    "    'cust_id': [102, 105, 101, 102],\n",
    "    'amount': [1200, 650, 120, 989]})"
   ],
   "metadata": {
    "collapsed": false,
    "ExecuteTime": {
     "end_time": "2024-04-02T07:43:21.606213Z",
     "start_time": "2024-04-02T07:43:21.595183Z"
    }
   },
   "id": "bd5acdacc0515749",
   "execution_count": 490
  },
  {
   "cell_type": "code",
   "outputs": [
    {
     "data": {
      "text/plain": "   cust_id   name order_id  amount\n0      101   rick     OR23     120\n1      102  morty      OR1    1200\n2      102  morty     OR42     989",
      "text/html": "<div>\n<style scoped>\n    .dataframe tbody tr th:only-of-type {\n        vertical-align: middle;\n    }\n\n    .dataframe tbody tr th {\n        vertical-align: top;\n    }\n\n    .dataframe thead th {\n        text-align: right;\n    }\n</style>\n<table border=\"1\" class=\"dataframe\">\n  <thead>\n    <tr style=\"text-align: right;\">\n      <th></th>\n      <th>cust_id</th>\n      <th>name</th>\n      <th>order_id</th>\n      <th>amount</th>\n    </tr>\n  </thead>\n  <tbody>\n    <tr>\n      <th>0</th>\n      <td>101</td>\n      <td>rick</td>\n      <td>OR23</td>\n      <td>120</td>\n    </tr>\n    <tr>\n      <th>1</th>\n      <td>102</td>\n      <td>morty</td>\n      <td>OR1</td>\n      <td>1200</td>\n    </tr>\n    <tr>\n      <th>2</th>\n      <td>102</td>\n      <td>morty</td>\n      <td>OR42</td>\n      <td>989</td>\n    </tr>\n  </tbody>\n</table>\n</div>"
     },
     "execution_count": 491,
     "metadata": {},
     "output_type": "execute_result"
    }
   ],
   "source": [
    "df1.merge(df2)"
   ],
   "metadata": {
    "collapsed": false,
    "ExecuteTime": {
     "end_time": "2024-04-02T07:43:21.979110Z",
     "start_time": "2024-04-02T07:43:21.962992Z"
    }
   },
   "id": "a343528d10dc8ea2",
   "execution_count": 491
  },
  {
   "cell_type": "code",
   "outputs": [],
   "source": [
    "data = {\n",
    "    'name': ['Elon', 'Jeff', 'Bill', 'Falguni'],\n",
    "    'gender': ['M', 'F', 'M', 'F'],\n",
    "    'income': [53000, 28000, 25000, 44000]\n",
    "}\n",
    "\n",
    "df = pd.DataFrame(data)"
   ],
   "metadata": {
    "collapsed": false,
    "ExecuteTime": {
     "end_time": "2024-04-02T07:55:00.914210Z",
     "start_time": "2024-04-02T07:55:00.902191Z"
    }
   },
   "id": "69d5eb7706c5a1ef",
   "execution_count": 542
  },
  {
   "cell_type": "code",
   "outputs": [
    {
     "data": {
      "text/plain": "      name gender  income\n0     Elon      M   53000\n1     Jeff      F   28000\n2     Bill      M   25000\n3  Falguni      F   44000",
      "text/html": "<div>\n<style scoped>\n    .dataframe tbody tr th:only-of-type {\n        vertical-align: middle;\n    }\n\n    .dataframe tbody tr th {\n        vertical-align: top;\n    }\n\n    .dataframe thead th {\n        text-align: right;\n    }\n</style>\n<table border=\"1\" class=\"dataframe\">\n  <thead>\n    <tr style=\"text-align: right;\">\n      <th></th>\n      <th>name</th>\n      <th>gender</th>\n      <th>income</th>\n    </tr>\n  </thead>\n  <tbody>\n    <tr>\n      <th>0</th>\n      <td>Elon</td>\n      <td>M</td>\n      <td>53000</td>\n    </tr>\n    <tr>\n      <th>1</th>\n      <td>Jeff</td>\n      <td>F</td>\n      <td>28000</td>\n    </tr>\n    <tr>\n      <th>2</th>\n      <td>Bill</td>\n      <td>M</td>\n      <td>25000</td>\n    </tr>\n    <tr>\n      <th>3</th>\n      <td>Falguni</td>\n      <td>F</td>\n      <td>44000</td>\n    </tr>\n  </tbody>\n</table>\n</div>"
     },
     "execution_count": 543,
     "metadata": {},
     "output_type": "execute_result"
    }
   ],
   "source": [
    "df"
   ],
   "metadata": {
    "collapsed": false,
    "ExecuteTime": {
     "end_time": "2024-04-02T07:55:02.081245Z",
     "start_time": "2024-04-02T07:55:02.053153Z"
    }
   },
   "id": "88973c5c7b7ca99c",
   "execution_count": 543
  },
  {
   "cell_type": "code",
   "outputs": [
    {
     "data": {
      "text/plain": "'Elon'"
     },
     "execution_count": 544,
     "metadata": {},
     "output_type": "execute_result"
    }
   ],
   "source": [
    "df[df['income'] == df['income'].max()].iloc[0]['name']"
   ],
   "metadata": {
    "collapsed": false,
    "ExecuteTime": {
     "end_time": "2024-04-02T07:55:04.811751Z",
     "start_time": "2024-04-02T07:55:04.786226Z"
    }
   },
   "id": "ba2ada28e9f6a77e",
   "execution_count": 544
  },
  {
   "cell_type": "code",
   "outputs": [
    {
     "data": {
      "text/plain": "'Falguni'"
     },
     "execution_count": 539,
     "metadata": {},
     "output_type": "execute_result"
    }
   ],
   "source": [
    "sample.iloc[0]['name']"
   ],
   "metadata": {
    "collapsed": false,
    "ExecuteTime": {
     "end_time": "2024-04-02T07:54:22.080954Z",
     "start_time": "2024-04-02T07:54:22.069978Z"
    }
   },
   "id": "d85b35695be1ba18",
   "execution_count": 539
  },
  {
   "cell_type": "code",
   "outputs": [],
   "source": [
    "df1 = pd.DataFrame({'A': [1, 2, 3, 4],\n",
    "                    'B': [11, 22, 33, 44],\n",
    "                    'C': [111, 222, 333, 444]}, index=['first', 'second', 'third', 'fourth'])\n",
    "\n",
    "df2 = pd.DataFrame({'A': ['a', 'b', 'c', 'd'],\n",
    "                    'B': ['aa', 'bb', 'cc', 'dd'],\n",
    "                    'C': ['aaa', 'bbb', 'ccc', 'ddd']}, index=['first', 'second', 'third', 'fourth'])"
   ],
   "metadata": {
    "collapsed": false,
    "ExecuteTime": {
     "end_time": "2024-04-02T08:08:37.338085Z",
     "start_time": "2024-04-02T08:08:37.327008Z"
    }
   },
   "id": "6ca8e7152666f0d1",
   "execution_count": 565
  },
  {
   "cell_type": "code",
   "outputs": [
    {
     "data": {
      "text/plain": "        A   B    C\nfirst   a  aa  aaa\nsecond  b  bb  bbb\nthird   c  cc  ccc\nfourth  d  dd  ddd",
      "text/html": "<div>\n<style scoped>\n    .dataframe tbody tr th:only-of-type {\n        vertical-align: middle;\n    }\n\n    .dataframe tbody tr th {\n        vertical-align: top;\n    }\n\n    .dataframe thead th {\n        text-align: right;\n    }\n</style>\n<table border=\"1\" class=\"dataframe\">\n  <thead>\n    <tr style=\"text-align: right;\">\n      <th></th>\n      <th>A</th>\n      <th>B</th>\n      <th>C</th>\n    </tr>\n  </thead>\n  <tbody>\n    <tr>\n      <th>first</th>\n      <td>a</td>\n      <td>aa</td>\n      <td>aaa</td>\n    </tr>\n    <tr>\n      <th>second</th>\n      <td>b</td>\n      <td>bb</td>\n      <td>bbb</td>\n    </tr>\n    <tr>\n      <th>third</th>\n      <td>c</td>\n      <td>cc</td>\n      <td>ccc</td>\n    </tr>\n    <tr>\n      <th>fourth</th>\n      <td>d</td>\n      <td>dd</td>\n      <td>ddd</td>\n    </tr>\n  </tbody>\n</table>\n</div>"
     },
     "execution_count": 567,
     "metadata": {},
     "output_type": "execute_result"
    }
   ],
   "source": [
    "df2"
   ],
   "metadata": {
    "collapsed": false,
    "ExecuteTime": {
     "end_time": "2024-04-02T08:08:40.468624Z",
     "start_time": "2024-04-02T08:08:40.454887Z"
    }
   },
   "id": "bb178fdb34930",
   "execution_count": 567
  },
  {
   "cell_type": "code",
   "outputs": [],
   "source": [
    "df3=pd.concat([df1,df2])"
   ],
   "metadata": {
    "collapsed": false,
    "ExecuteTime": {
     "end_time": "2024-04-02T08:09:05.923153Z",
     "start_time": "2024-04-02T08:09:05.911075Z"
    }
   },
   "id": "b3c03afebcb50f79",
   "execution_count": 569
  },
  {
   "cell_type": "code",
   "outputs": [],
   "source": [
    "df4=df3.drop([\"fourth\"])"
   ],
   "metadata": {
    "collapsed": false,
    "ExecuteTime": {
     "end_time": "2024-04-02T08:09:38.222566Z",
     "start_time": "2024-04-02T08:09:38.210265Z"
    }
   },
   "id": "30a4f1512aba4260",
   "execution_count": 571
  },
  {
   "cell_type": "code",
   "outputs": [
    {
     "data": {
      "text/plain": "        A   B    C\nfirst   1  11  111\nsecond  2  22  222\nthird   3  33  333\nfirst   a  aa  aaa\nsecond  b  bb  bbb\nthird   c  cc  ccc",
      "text/html": "<div>\n<style scoped>\n    .dataframe tbody tr th:only-of-type {\n        vertical-align: middle;\n    }\n\n    .dataframe tbody tr th {\n        vertical-align: top;\n    }\n\n    .dataframe thead th {\n        text-align: right;\n    }\n</style>\n<table border=\"1\" class=\"dataframe\">\n  <thead>\n    <tr style=\"text-align: right;\">\n      <th></th>\n      <th>A</th>\n      <th>B</th>\n      <th>C</th>\n    </tr>\n  </thead>\n  <tbody>\n    <tr>\n      <th>first</th>\n      <td>1</td>\n      <td>11</td>\n      <td>111</td>\n    </tr>\n    <tr>\n      <th>second</th>\n      <td>2</td>\n      <td>22</td>\n      <td>222</td>\n    </tr>\n    <tr>\n      <th>third</th>\n      <td>3</td>\n      <td>33</td>\n      <td>333</td>\n    </tr>\n    <tr>\n      <th>first</th>\n      <td>a</td>\n      <td>aa</td>\n      <td>aaa</td>\n    </tr>\n    <tr>\n      <th>second</th>\n      <td>b</td>\n      <td>bb</td>\n      <td>bbb</td>\n    </tr>\n    <tr>\n      <th>third</th>\n      <td>c</td>\n      <td>cc</td>\n      <td>ccc</td>\n    </tr>\n  </tbody>\n</table>\n</div>"
     },
     "execution_count": 572,
     "metadata": {},
     "output_type": "execute_result"
    }
   ],
   "source": [
    "df4"
   ],
   "metadata": {
    "collapsed": false,
    "ExecuteTime": {
     "end_time": "2024-04-02T08:09:42.913360Z",
     "start_time": "2024-04-02T08:09:42.894480Z"
    }
   },
   "id": "f1bd6803aff1eb82",
   "execution_count": 572
  },
  {
   "cell_type": "code",
   "outputs": [
    {
     "data": {
      "text/plain": "pandas.core.series.Series"
     },
     "execution_count": 574,
     "metadata": {},
     "output_type": "execute_result"
    }
   ],
   "source": [
    "type(df3.loc['fourth','A']*2)"
   ],
   "metadata": {
    "collapsed": false,
    "ExecuteTime": {
     "end_time": "2024-04-02T08:10:22.962316Z",
     "start_time": "2024-04-02T08:10:22.947146Z"
    }
   },
   "id": "96aeb8a56a85a2",
   "execution_count": 574
  },
  {
   "cell_type": "code",
   "outputs": [],
   "source": [
    "df4 = df3.reset_index().drop_duplicates(subset='index', keep='last')\n",
    "df4 = df4.set_index('index').sort_index()"
   ],
   "metadata": {
    "collapsed": false,
    "ExecuteTime": {
     "end_time": "2024-04-02T08:10:44.995169Z",
     "start_time": "2024-04-02T08:10:44.977264Z"
    }
   },
   "id": "d08382b3d0365f00",
   "execution_count": 575
  },
  {
   "cell_type": "code",
   "outputs": [
    {
     "data": {
      "text/plain": "        A   B    C\nindex             \nfirst   a  aa  aaa\nfourth  d  dd  ddd\nsecond  b  bb  bbb\nthird   c  cc  ccc",
      "text/html": "<div>\n<style scoped>\n    .dataframe tbody tr th:only-of-type {\n        vertical-align: middle;\n    }\n\n    .dataframe tbody tr th {\n        vertical-align: top;\n    }\n\n    .dataframe thead th {\n        text-align: right;\n    }\n</style>\n<table border=\"1\" class=\"dataframe\">\n  <thead>\n    <tr style=\"text-align: right;\">\n      <th></th>\n      <th>A</th>\n      <th>B</th>\n      <th>C</th>\n    </tr>\n    <tr>\n      <th>index</th>\n      <th></th>\n      <th></th>\n      <th></th>\n    </tr>\n  </thead>\n  <tbody>\n    <tr>\n      <th>first</th>\n      <td>a</td>\n      <td>aa</td>\n      <td>aaa</td>\n    </tr>\n    <tr>\n      <th>fourth</th>\n      <td>d</td>\n      <td>dd</td>\n      <td>ddd</td>\n    </tr>\n    <tr>\n      <th>second</th>\n      <td>b</td>\n      <td>bb</td>\n      <td>bbb</td>\n    </tr>\n    <tr>\n      <th>third</th>\n      <td>c</td>\n      <td>cc</td>\n      <td>ccc</td>\n    </tr>\n  </tbody>\n</table>\n</div>"
     },
     "execution_count": 576,
     "metadata": {},
     "output_type": "execute_result"
    }
   ],
   "source": [
    "df4"
   ],
   "metadata": {
    "collapsed": false,
    "ExecuteTime": {
     "end_time": "2024-04-02T08:10:50.304869Z",
     "start_time": "2024-04-02T08:10:50.283570Z"
    }
   },
   "id": "2dfc61c547e29fe7",
   "execution_count": 576
  },
  {
   "cell_type": "code",
   "outputs": [],
   "source": [
    "data = {\n",
    "    'name': ['Mark', 'Ramilla', 'Deb', 'Laxman'],\n",
    "    'profession': ['dev', 'mle', 'mle', 'hr'],\n",
    "    'gender': ['male', 'female', 'male', 'male'],\n",
    "    'age': [21, 20, 30, 27],\n",
    "    'review': ['need improvement', 'Can be improved', 'Scope of improvement', 'Great'],\n",
    "    'rating': [10, 5, 7, 9]\n",
    "}\n",
    "\n",
    "df = pd.DataFrame(data)"
   ],
   "metadata": {
    "collapsed": false,
    "ExecuteTime": {
     "end_time": "2024-04-02T14:27:14.519896Z",
     "start_time": "2024-04-02T14:27:14.500074Z"
    }
   },
   "id": "54a955b689958a8c",
   "execution_count": 592
  },
  {
   "cell_type": "code",
   "outputs": [],
   "source": [
    "males = df.query(\"age >= 23 & age <= 30 & gender == 'male'\").reset_index()"
   ],
   "metadata": {
    "collapsed": false,
    "ExecuteTime": {
     "end_time": "2024-04-02T14:35:17.201952Z",
     "start_time": "2024-04-02T14:35:17.191956Z"
    }
   },
   "id": "79f18754c28d063a",
   "execution_count": 615
  },
  {
   "cell_type": "code",
   "outputs": [
    {
     "data": {
      "text/plain": "   index    name profession gender  age                review  rating\n0      2     Deb        mle   male   30  Scope of improvement       7\n1      3  Laxman         hr   male   27                 Great       9",
      "text/html": "<div>\n<style scoped>\n    .dataframe tbody tr th:only-of-type {\n        vertical-align: middle;\n    }\n\n    .dataframe tbody tr th {\n        vertical-align: top;\n    }\n\n    .dataframe thead th {\n        text-align: right;\n    }\n</style>\n<table border=\"1\" class=\"dataframe\">\n  <thead>\n    <tr style=\"text-align: right;\">\n      <th></th>\n      <th>index</th>\n      <th>name</th>\n      <th>profession</th>\n      <th>gender</th>\n      <th>age</th>\n      <th>review</th>\n      <th>rating</th>\n    </tr>\n  </thead>\n  <tbody>\n    <tr>\n      <th>0</th>\n      <td>2</td>\n      <td>Deb</td>\n      <td>mle</td>\n      <td>male</td>\n      <td>30</td>\n      <td>Scope of improvement</td>\n      <td>7</td>\n    </tr>\n    <tr>\n      <th>1</th>\n      <td>3</td>\n      <td>Laxman</td>\n      <td>hr</td>\n      <td>male</td>\n      <td>27</td>\n      <td>Great</td>\n      <td>9</td>\n    </tr>\n  </tbody>\n</table>\n</div>"
     },
     "execution_count": 616,
     "metadata": {},
     "output_type": "execute_result"
    }
   ],
   "source": [
    "males"
   ],
   "metadata": {
    "collapsed": false,
    "ExecuteTime": {
     "end_time": "2024-04-02T14:35:19.742561Z",
     "start_time": "2024-04-02T14:35:19.719077Z"
    }
   },
   "id": "f15d620022aeb331",
   "execution_count": 616
  },
  {
   "cell_type": "code",
   "outputs": [
    {
     "data": {
      "text/plain": "2       Deb\n3    Laxman\nName: name, dtype: object"
     },
     "execution_count": 612,
     "metadata": {},
     "output_type": "execute_result"
    }
   ],
   "source": [
    "males_s"
   ],
   "metadata": {
    "collapsed": false,
    "ExecuteTime": {
     "end_time": "2024-04-02T14:34:43.103028Z",
     "start_time": "2024-04-02T14:34:43.084583Z"
    }
   },
   "id": "1d2b181488bf9968",
   "execution_count": 612
  },
  {
   "cell_type": "code",
   "outputs": [
    {
     "data": {
      "text/plain": "      name profession  gender  age                review  rating\n0     Mark        dev    male   21      need improvement      10\n1  Ramilla        mle  female   20       Can be improved       5\n2      Deb        mle    male   30  Scope of improvement       7\n3   Laxman         hr    male   27                 Great       9",
      "text/html": "<div>\n<style scoped>\n    .dataframe tbody tr th:only-of-type {\n        vertical-align: middle;\n    }\n\n    .dataframe tbody tr th {\n        vertical-align: top;\n    }\n\n    .dataframe thead th {\n        text-align: right;\n    }\n</style>\n<table border=\"1\" class=\"dataframe\">\n  <thead>\n    <tr style=\"text-align: right;\">\n      <th></th>\n      <th>name</th>\n      <th>profession</th>\n      <th>gender</th>\n      <th>age</th>\n      <th>review</th>\n      <th>rating</th>\n    </tr>\n  </thead>\n  <tbody>\n    <tr>\n      <th>0</th>\n      <td>Mark</td>\n      <td>dev</td>\n      <td>male</td>\n      <td>21</td>\n      <td>need improvement</td>\n      <td>10</td>\n    </tr>\n    <tr>\n      <th>1</th>\n      <td>Ramilla</td>\n      <td>mle</td>\n      <td>female</td>\n      <td>20</td>\n      <td>Can be improved</td>\n      <td>5</td>\n    </tr>\n    <tr>\n      <th>2</th>\n      <td>Deb</td>\n      <td>mle</td>\n      <td>male</td>\n      <td>30</td>\n      <td>Scope of improvement</td>\n      <td>7</td>\n    </tr>\n    <tr>\n      <th>3</th>\n      <td>Laxman</td>\n      <td>hr</td>\n      <td>male</td>\n      <td>27</td>\n      <td>Great</td>\n      <td>9</td>\n    </tr>\n  </tbody>\n</table>\n</div>"
     },
     "execution_count": 617,
     "metadata": {},
     "output_type": "execute_result"
    }
   ],
   "source": [
    "df"
   ],
   "metadata": {
    "collapsed": false,
    "ExecuteTime": {
     "end_time": "2024-04-03T02:35:00.141041Z",
     "start_time": "2024-04-03T02:35:00.056301Z"
    }
   },
   "id": "886842530f6f3b16",
   "execution_count": 617
  },
  {
   "cell_type": "code",
   "outputs": [],
   "source": [
    "df.rename({0: 'hi'}, inplace=True)"
   ],
   "metadata": {
    "collapsed": false,
    "ExecuteTime": {
     "end_time": "2024-04-03T02:36:10.554327Z",
     "start_time": "2024-04-03T02:36:10.536999Z"
    }
   },
   "id": "eb3c0f65dd130f80",
   "execution_count": 623
  },
  {
   "cell_type": "code",
   "outputs": [
    {
     "data": {
      "text/plain": "       name profession  gender  age                review  rating\nhi     Mark        dev    male   21      need improvement      10\n1   Ramilla        mle  female   20       Can be improved       5\n2       Deb        mle    male   30  Scope of improvement       7\n3    Laxman         hr    male   27                 Great       9",
      "text/html": "<div>\n<style scoped>\n    .dataframe tbody tr th:only-of-type {\n        vertical-align: middle;\n    }\n\n    .dataframe tbody tr th {\n        vertical-align: top;\n    }\n\n    .dataframe thead th {\n        text-align: right;\n    }\n</style>\n<table border=\"1\" class=\"dataframe\">\n  <thead>\n    <tr style=\"text-align: right;\">\n      <th></th>\n      <th>name</th>\n      <th>profession</th>\n      <th>gender</th>\n      <th>age</th>\n      <th>review</th>\n      <th>rating</th>\n    </tr>\n  </thead>\n  <tbody>\n    <tr>\n      <th>hi</th>\n      <td>Mark</td>\n      <td>dev</td>\n      <td>male</td>\n      <td>21</td>\n      <td>need improvement</td>\n      <td>10</td>\n    </tr>\n    <tr>\n      <th>1</th>\n      <td>Ramilla</td>\n      <td>mle</td>\n      <td>female</td>\n      <td>20</td>\n      <td>Can be improved</td>\n      <td>5</td>\n    </tr>\n    <tr>\n      <th>2</th>\n      <td>Deb</td>\n      <td>mle</td>\n      <td>male</td>\n      <td>30</td>\n      <td>Scope of improvement</td>\n      <td>7</td>\n    </tr>\n    <tr>\n      <th>3</th>\n      <td>Laxman</td>\n      <td>hr</td>\n      <td>male</td>\n      <td>27</td>\n      <td>Great</td>\n      <td>9</td>\n    </tr>\n  </tbody>\n</table>\n</div>"
     },
     "execution_count": 624,
     "metadata": {},
     "output_type": "execute_result"
    }
   ],
   "source": [
    "df"
   ],
   "metadata": {
    "collapsed": false,
    "ExecuteTime": {
     "end_time": "2024-04-03T02:36:11.451575Z",
     "start_time": "2024-04-03T02:36:11.424764Z"
    }
   },
   "id": "8756bf68bf63bc0f",
   "execution_count": 624
  },
  {
   "cell_type": "code",
   "outputs": [],
   "source": [],
   "metadata": {
    "collapsed": false
   },
   "id": "ac3c8bd365ecfc69"
  }
 ],
 "metadata": {
  "kernelspec": {
   "display_name": "Python 3",
   "language": "python",
   "name": "python3"
  },
  "language_info": {
   "codemirror_mode": {
    "name": "ipython",
    "version": 2
   },
   "file_extension": ".py",
   "mimetype": "text/x-python",
   "name": "python",
   "nbconvert_exporter": "python",
   "pygments_lexer": "ipython2",
   "version": "2.7.6"
  }
 },
 "nbformat": 4,
 "nbformat_minor": 5
}
